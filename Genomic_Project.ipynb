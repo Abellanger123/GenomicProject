{
 "cells": [
  {
   "cell_type": "markdown",
   "id": "18545932-a2c6-4d25-96ba-920c7a59bb89",
   "metadata": {},
   "source": [
    "# Q1 : Explore clinical variables"
   ]
  },
  {
   "cell_type": "markdown",
   "id": "0f1e0610-0e68-4884-a51c-5f781ca6422f",
   "metadata": {},
   "source": [
    "## 1.1 Import and explore the clinical data"
   ]
  },
  {
   "cell_type": "code",
   "execution_count": 61,
   "id": "4d550b00-0c70-4f9c-9581-b5f2e277798b",
   "metadata": {},
   "outputs": [],
   "source": [
    "# Import TSV file into data frame\n",
    "clinical_data <- read.table(\"Aorta/clinical_data.tsv\", \n",
    "                           sep = \"\\t\", header=TRUE)"
   ]
  },
  {
   "cell_type": "code",
   "execution_count": 2,
   "id": "957e8aca-05d4-408e-8692-43082bdb8174",
   "metadata": {},
   "outputs": [
    {
     "data": {
      "text/html": [
       "<table class=\"dataframe\">\n",
       "<caption>A tibble: 3 × 14</caption>\n",
       "<thead>\n",
       "\t<tr><th scope=col>SMPLID</th><th scope=col>SUBJID</th><th scope=col>COHORT</th><th scope=col>SEX</th><th scope=col>AGE</th><th scope=col>HGHT</th><th scope=col>WGHT</th><th scope=col>BMI</th><th scope=col>SMPTHNTS</th><th scope=col>TRISCHD</th><th scope=col>DTHVNT</th><th scope=col>DTHHRDY</th><th scope=col>SMPLID.1</th><th scope=col>IMGURL</th></tr>\n",
       "\t<tr><th scope=col>&lt;chr&gt;</th><th scope=col>&lt;chr&gt;</th><th scope=col>&lt;chr&gt;</th><th scope=col>&lt;dbl&gt;</th><th scope=col>&lt;dbl&gt;</th><th scope=col>&lt;dbl&gt;</th><th scope=col>&lt;dbl&gt;</th><th scope=col>&lt;dbl&gt;</th><th scope=col>&lt;chr&gt;</th><th scope=col>&lt;dbl&gt;</th><th scope=col>&lt;dbl&gt;</th><th scope=col>&lt;dbl&gt;</th><th scope=col>&lt;chr&gt;</th><th scope=col>&lt;chr&gt;</th></tr>\n",
       "</thead>\n",
       "<tbody>\n",
       "\t<tr><td>GTEX.111YS.0526</td><td>GTEX.111YS</td><td>Organ Donor (OPO)</td><td>1</td><td>62</td><td>72</td><td>227</td><td>30.78</td><td>NO_REPORT</td><td> 74</td><td>1</td><td>0</td><td>GTEX-111YS-0525</td><td>https://brd.nci.nih.gov/brd/specimen/GTEX-111YS-0526</td></tr>\n",
       "\t<tr><td>GTEX.1122O.1126</td><td>GTEX.1122O</td><td>Organ Donor (OPO)</td><td>2</td><td>64</td><td>66</td><td>203</td><td>32.76</td><td>NO_REPORT</td><td> 35</td><td>1</td><td>0</td><td>GTEX-1122O-1125</td><td>https://brd.nci.nih.gov/brd/specimen/GTEX-1122O-1126</td></tr>\n",
       "\t<tr><td>GTEX.1128S.0326</td><td>GTEX.1128S</td><td>Postmortem       </td><td>2</td><td>66</td><td>66</td><td>160</td><td>25.82</td><td>NO_REPORT</td><td>816</td><td>0</td><td>2</td><td>GTEX-1128S-0325</td><td>https://brd.nci.nih.gov/brd/specimen/GTEX-1128S-0326</td></tr>\n",
       "</tbody>\n",
       "</table>\n"
      ],
      "text/latex": [
       "A tibble: 3 × 14\n",
       "\\begin{tabular}{llllllllllllll}\n",
       " SMPLID & SUBJID & COHORT & SEX & AGE & HGHT & WGHT & BMI & SMPTHNTS & TRISCHD & DTHVNT & DTHHRDY & SMPLID.1 & IMGURL\\\\\n",
       " <chr> & <chr> & <chr> & <dbl> & <dbl> & <dbl> & <dbl> & <dbl> & <chr> & <dbl> & <dbl> & <dbl> & <chr> & <chr>\\\\\n",
       "\\hline\n",
       "\t GTEX.111YS.0526 & GTEX.111YS & Organ Donor (OPO) & 1 & 62 & 72 & 227 & 30.78 & NO\\_REPORT &  74 & 1 & 0 & GTEX-111YS-0525 & https://brd.nci.nih.gov/brd/specimen/GTEX-111YS-0526\\\\\n",
       "\t GTEX.1122O.1126 & GTEX.1122O & Organ Donor (OPO) & 2 & 64 & 66 & 203 & 32.76 & NO\\_REPORT &  35 & 1 & 0 & GTEX-1122O-1125 & https://brd.nci.nih.gov/brd/specimen/GTEX-1122O-1126\\\\\n",
       "\t GTEX.1128S.0326 & GTEX.1128S & Postmortem        & 2 & 66 & 66 & 160 & 25.82 & NO\\_REPORT & 816 & 0 & 2 & GTEX-1128S-0325 & https://brd.nci.nih.gov/brd/specimen/GTEX-1128S-0326\\\\\n",
       "\\end{tabular}\n"
      ],
      "text/markdown": [
       "\n",
       "A tibble: 3 × 14\n",
       "\n",
       "| SMPLID &lt;chr&gt; | SUBJID &lt;chr&gt; | COHORT &lt;chr&gt; | SEX &lt;dbl&gt; | AGE &lt;dbl&gt; | HGHT &lt;dbl&gt; | WGHT &lt;dbl&gt; | BMI &lt;dbl&gt; | SMPTHNTS &lt;chr&gt; | TRISCHD &lt;dbl&gt; | DTHVNT &lt;dbl&gt; | DTHHRDY &lt;dbl&gt; | SMPLID.1 &lt;chr&gt; | IMGURL &lt;chr&gt; |\n",
       "|---|---|---|---|---|---|---|---|---|---|---|---|---|---|\n",
       "| GTEX.111YS.0526 | GTEX.111YS | Organ Donor (OPO) | 1 | 62 | 72 | 227 | 30.78 | NO_REPORT |  74 | 1 | 0 | GTEX-111YS-0525 | https://brd.nci.nih.gov/brd/specimen/GTEX-111YS-0526 |\n",
       "| GTEX.1122O.1126 | GTEX.1122O | Organ Donor (OPO) | 2 | 64 | 66 | 203 | 32.76 | NO_REPORT |  35 | 1 | 0 | GTEX-1122O-1125 | https://brd.nci.nih.gov/brd/specimen/GTEX-1122O-1126 |\n",
       "| GTEX.1128S.0326 | GTEX.1128S | Postmortem        | 2 | 66 | 66 | 160 | 25.82 | NO_REPORT | 816 | 0 | 2 | GTEX-1128S-0325 | https://brd.nci.nih.gov/brd/specimen/GTEX-1128S-0326 |\n",
       "\n"
      ],
      "text/plain": [
       "  SMPLID          SUBJID     COHORT            SEX AGE HGHT WGHT BMI  \n",
       "1 GTEX.111YS.0526 GTEX.111YS Organ Donor (OPO) 1   62  72   227  30.78\n",
       "2 GTEX.1122O.1126 GTEX.1122O Organ Donor (OPO) 2   64  66   203  32.76\n",
       "3 GTEX.1128S.0326 GTEX.1128S Postmortem        2   66  66   160  25.82\n",
       "  SMPTHNTS  TRISCHD DTHVNT DTHHRDY SMPLID.1       \n",
       "1 NO_REPORT  74     1      0       GTEX-111YS-0525\n",
       "2 NO_REPORT  35     1      0       GTEX-1122O-1125\n",
       "3 NO_REPORT 816     0      2       GTEX-1128S-0325\n",
       "  IMGURL                                              \n",
       "1 https://brd.nci.nih.gov/brd/specimen/GTEX-111YS-0526\n",
       "2 https://brd.nci.nih.gov/brd/specimen/GTEX-1122O-1126\n",
       "3 https://brd.nci.nih.gov/brd/specimen/GTEX-1128S-0326"
      ]
     },
     "metadata": {},
     "output_type": "display_data"
    }
   ],
   "source": [
    "head(clinical_data, 3)"
   ]
  },
  {
   "cell_type": "code",
   "execution_count": 62,
   "id": "09ca3813-5333-4f12-a55a-8c7f91ae3ba5",
   "metadata": {
    "scrolled": true
   },
   "outputs": [
    {
     "data": {
      "text/plain": [
       "    SMPLID             SUBJID             COHORT               SEX       \n",
       " Length:280         Length:280         Length:280         Min.   :1.000  \n",
       " Class :character   Class :character   Class :character   1st Qu.:1.000  \n",
       " Mode  :character   Mode  :character   Mode  :character   Median :1.000  \n",
       "                                                          Mean   :1.357  \n",
       "                                                          3rd Qu.:2.000  \n",
       "                                                          Max.   :2.000  \n",
       "      AGE             HGHT            WGHT            BMI       \n",
       " Min.   :21.00   Min.   :58.00   Min.   : 92.0   Min.   :18.58  \n",
       " 1st Qu.:48.00   1st Qu.:65.00   1st Qu.:155.8   1st Qu.:24.33  \n",
       " Median :56.00   Median :68.00   Median :176.4   Median :27.29  \n",
       " Mean   :53.64   Mean   :67.85   Mean   :179.7   Mean   :27.35  \n",
       " 3rd Qu.:64.00   3rd Qu.:71.00   3rd Qu.:202.9   3rd Qu.:30.67  \n",
       " Max.   :70.00   Max.   :77.00   Max.   :273.8   Max.   :34.99  \n",
       "   SMPTHNTS            TRISCHD            DTHVNT          DTHHRDY     \n",
       " Length:280         Min.   :  18.00   Min.   : 0.000   Min.   :0.000  \n",
       " Class :character   1st Qu.:  97.25   1st Qu.: 0.000   1st Qu.:0.000  \n",
       " Mode  :character   Median : 442.00   Median : 1.000   Median :0.000  \n",
       "                    Mean   : 476.48   Mean   : 1.286   Mean   :1.089  \n",
       "                    3rd Qu.: 762.50   3rd Qu.: 1.000   3rd Qu.:2.000  \n",
       "                    Max.   :1641.00   Max.   :99.000   Max.   :4.000  \n",
       "   SMPLID.1            IMGURL         \n",
       " Length:280         Length:280        \n",
       " Class :character   Class :character  \n",
       " Mode  :character   Mode  :character  \n",
       "                                      \n",
       "                                      \n",
       "                                      "
      ]
     },
     "metadata": {},
     "output_type": "display_data"
    }
   ],
   "source": [
    "summary(clinical_data)"
   ]
  },
  {
   "cell_type": "code",
   "execution_count": null,
   "id": "d8dde74f-730a-436a-84b5-edb64730d98d",
   "metadata": {},
   "outputs": [],
   "source": [
    "library(dplyr)"
   ]
  },
  {
   "cell_type": "markdown",
   "id": "15bfaa04-75ea-4f29-8343-5fc2b8bac677",
   "metadata": {},
   "source": [
    "We want to convert the character variables into factors"
   ]
  },
  {
   "cell_type": "code",
   "execution_count": 3,
   "id": "35b9e433-10cc-47e4-a882-739b73658e7f",
   "metadata": {},
   "outputs": [],
   "source": [
    "# Convert character columns to factors using dplyr\n",
    "clinical_data <- clinical_data %>%\n",
    "  mutate_if(is.character, as.factor)"
   ]
  },
  {
   "cell_type": "markdown",
   "id": "6b69bb1c-51bf-4043-844e-777086b33f82",
   "metadata": {},
   "source": [
    "The problem is that some categorical variables are still considered as double (SEX, DTHHRDY and DTHVNT)"
   ]
  },
  {
   "cell_type": "code",
   "execution_count": 4,
   "id": "5c01974b-bda7-4882-b8f0-eff550294b51",
   "metadata": {},
   "outputs": [],
   "source": [
    "# Convert SEX, DTHHRDY and DTHVNT to factors\n",
    "clinical_data$SEX <- as.factor(clinical_data$SEX)\n",
    "clinical_data$DTHHRDY <- as.factor(clinical_data$DTHHRDY)\n",
    "clinical_data$DTHVNT <- as.factor(clinical_data$DTHVNT)"
   ]
  },
  {
   "cell_type": "code",
   "execution_count": 6,
   "id": "92f75117-87a3-4484-8248-4e9ccc7a9717",
   "metadata": {
    "scrolled": true
   },
   "outputs": [
    {
     "data": {
      "text/plain": [
       "             SMPLID           SUBJID                  COHORT    SEX    \n",
       " GTEX.111YS.0526:  1   GTEX.111YS:  1   Organ Donor (OPO):143   1:180  \n",
       " GTEX.1122O.1126:  1   GTEX.1122O:  1   Postmortem       :137   2:100  \n",
       " GTEX.1128S.0326:  1   GTEX.1128S:  1                                  \n",
       " GTEX.117XS.0426:  1   GTEX.117XS:  1                                  \n",
       " GTEX.117YW.0226:  1   GTEX.117YW:  1                                  \n",
       " GTEX.11DXX.0426:  1   GTEX.11DXX:  1                                  \n",
       " (Other)        :274   (Other)   :274                                  \n",
       "      AGE             HGHT            WGHT            BMI       \n",
       " Min.   :21.00   Min.   :58.00   Min.   : 92.0   Min.   :18.58  \n",
       " 1st Qu.:48.00   1st Qu.:65.00   1st Qu.:155.8   1st Qu.:24.33  \n",
       " Median :56.00   Median :68.00   Median :176.4   Median :27.29  \n",
       " Mean   :53.64   Mean   :67.85   Mean   :179.7   Mean   :27.35  \n",
       " 3rd Qu.:64.00   3rd Qu.:71.00   3rd Qu.:202.9   3rd Qu.:30.67  \n",
       " Max.   :70.00   Max.   :77.00   Max.   :273.8   Max.   :34.99  \n",
       "                                                                \n",
       "      SMPTHNTS      TRISCHD        DTHVNT   DTHHRDY            SMPLID.1  \n",
       " NO_REPORT:280   Min.   :  18.00   0 :116   0:156   GTEX-111YS-0525:  1  \n",
       "                 1st Qu.:  97.25   1 :162   1:  8   GTEX-1122O-1125:  1  \n",
       "                 Median : 442.00   99:  2   2: 77   GTEX-1128S-0325:  1  \n",
       "                 Mean   : 476.48            3: 13   GTEX-117XS-0425:  1  \n",
       "                 3rd Qu.: 762.50            4: 26   GTEX-117YW-0225:  1  \n",
       "                 Max.   :1641.00                    GTEX-11DXX-0425:  1  \n",
       "                                                    (Other)        :274  \n",
       "                                                  IMGURL   \n",
       " https://brd.nci.nih.gov/brd/specimen/GTEX-111YS-0526:  1  \n",
       " https://brd.nci.nih.gov/brd/specimen/GTEX-1122O-1126:  1  \n",
       " https://brd.nci.nih.gov/brd/specimen/GTEX-1128S-0326:  1  \n",
       " https://brd.nci.nih.gov/brd/specimen/GTEX-117XS-0426:  1  \n",
       " https://brd.nci.nih.gov/brd/specimen/GTEX-117YW-0226:  1  \n",
       " https://brd.nci.nih.gov/brd/specimen/GTEX-11DXX-0426:  1  \n",
       " (Other)                                             :274  "
      ]
     },
     "metadata": {},
     "output_type": "display_data"
    }
   ],
   "source": [
    "summary(clinical_data)"
   ]
  },
  {
   "cell_type": "markdown",
   "id": "398ec5f0-7f94-4393-a206-40f7e9e432c4",
   "metadata": {},
   "source": [
    "Everything looks fine with the clinical dataset. We can also see that we have only \"NO_REPORT\" for the SMPTHNTS variable. We can remove it from the dataset to have a bit more clarity."
   ]
  },
  {
   "cell_type": "code",
   "execution_count": 5,
   "id": "44b44339-84f9-4085-9e16-af4cec46d7f4",
   "metadata": {},
   "outputs": [],
   "source": [
    "# Remove the SMPTHNTS column\n",
    "clinical_data$SMPTHNTS <- NULL"
   ]
  },
  {
   "cell_type": "markdown",
   "id": "276c63e4-5d9b-4627-ab36-40737e0c8403",
   "metadata": {},
   "source": [
    "We are good to go !"
   ]
  },
  {
   "cell_type": "markdown",
   "id": "e7e4266a-5397-4b4d-89f6-0d512c38c0b4",
   "metadata": {},
   "source": [
    "## 1.2 How are clinical variables distributed ?"
   ]
  },
  {
   "cell_type": "markdown",
   "id": "1ae05311-62a5-4dbe-b78a-7d90dddbc6f9",
   "metadata": {},
   "source": [
    "### 1.2.1 Distribution of numerical variables "
   ]
  },
  {
   "cell_type": "markdown",
   "id": "9f43d97c-47d2-4fc9-a8d0-f9ef02f7475d",
   "metadata": {},
   "source": [
    "There are 5 numerical variables : AGE, HGHT, WGHT, BMI and TRISCHD"
   ]
  },
  {
   "cell_type": "code",
   "execution_count": 11,
   "id": "58fe712c-4f9b-47d3-9419-5466e78fdffd",
   "metadata": {},
   "outputs": [
    {
     "data": {
      "image/png": "[encoded data removed]",
      "text/plain": [
       "Plot with title \"Histogram of Age\""
      ]
     },
     "metadata": {
      "image/png": {
       "height": 420,
       "width": 420
      }
     },
     "output_type": "display_data"
    }
   ],
   "source": [
    "# Histograms for numerical variables\n",
    "hist(clinical_data$AGE, main=\"Histogram of Age\", xlab=\"Age\", col=\"lightblue\")"
   ]
  },
  {
   "cell_type": "markdown",
   "id": "3e76307f-a584-42e5-9915-aad7a364b327",
   "metadata": {},
   "source": [
    "The dataset is represented by a bigger proportion of old person in GTEx as discussed during the theoritical course. "
   ]
  },
  {
   "cell_type": "code",
   "execution_count": 52,
   "id": "68edfa8f-e7f7-44c0-b3e9-dc08c5e8e75d",
   "metadata": {},
   "outputs": [
    {
     "data": {
      "image/png": "[encoded data removed]",
      "text/plain": [
       "Plot with title \"Histogram of height\""
      ]
     },
     "metadata": {
      "image/png": {
       "height": 420,
       "width": 420
      }
     },
     "output_type": "display_data"
    }
   ],
   "source": [
    "# Histograms for numerical variables\n",
    "hist(clinical_data$HGHT, main=\"Histogram of height\", xlab=\"height\", col=\"lightyellow\")"
   ]
  },
  {
   "cell_type": "markdown",
   "id": "94df982f-569d-4f6e-8804-041231e079f9",
   "metadata": {},
   "source": [
    "We see that the distribution of the height is not completly normal because we have 180 men and 100 women in the dataset which shifts the distribution to the right as men are in average taller than women."
   ]
  },
  {
   "cell_type": "code",
   "execution_count": 55,
   "id": "9c498f8c-1001-4626-bbb7-e1a15be94fb0",
   "metadata": {},
   "outputs": [
    {
     "data": {
      "image/png": "[encoded data removed]",
      "text/plain": [
       "Plot with title \"Histogram of weight\""
      ]
     },
     "metadata": {
      "image/png": {
       "height": 420,
       "width": 420
      }
     },
     "output_type": "display_data"
    }
   ],
   "source": [
    "# Histograms for numerical variables\n",
    "hist(clinical_data$WGHT, main=\"Histogram of weight\", xlab=\"weight\", col=\"gray\")"
   ]
  },
  {
   "cell_type": "markdown",
   "id": "242578a1-ceb9-4ae6-a906-4497de2d973e",
   "metadata": {},
   "source": [
    "Again, the distribution is a little bit shifted to right as we have more men than women. "
   ]
  },
  {
   "cell_type": "code",
   "execution_count": 54,
   "id": "96cb503b-bdd8-4b62-ade7-7f799ea231c8",
   "metadata": {},
   "outputs": [
    {
     "data": {
      "image/png": "[encoded data removed]",
      "text/plain": [
       "Plot with title \"Histogram of BMI\""
      ]
     },
     "metadata": {
      "image/png": {
       "height": 420,
       "width": 420
      }
     },
     "output_type": "display_data"
    }
   ],
   "source": [
    "hist(clinical_data$BMI, main=\"Histogram of BMI\", xlab=\"BMI\", col=\"lightgreen\")"
   ]
  },
  {
   "cell_type": "markdown",
   "id": "7a84377c-6f55-4ad6-a552-969a1ec9edee",
   "metadata": {},
   "source": [
    "We also have a normal distribution of the BMI."
   ]
  },
  {
   "cell_type": "code",
   "execution_count": 58,
   "id": "b5293642-166f-4eee-96c0-2fad5f814d03",
   "metadata": {},
   "outputs": [
    {
     "data": {
      "image/png": "[encoded data removed]",
      "text/plain": [
       "Plot with title \"Histogram of ischemic time\""
      ]
     },
     "metadata": {
      "image/png": {
       "height": 420,
       "width": 420
      }
     },
     "output_type": "display_data"
    }
   ],
   "source": [
    "hist(clinical_data$TRISCHD, main=\"Histogram of ischemic time\", xlab=\"ischemic time\", col=\"lightblue\")"
   ]
  },
  {
   "cell_type": "markdown",
   "id": "33503396-d32a-4913-9fc7-e199d583ce58",
   "metadata": {},
   "source": [
    "We can see that we have a large number of people with very small ischemic time. We can explain that by looking at the variable COHORT. We have a quite equal repartition of organ donor and post mortem patients (143 vs 137). The 143 organ donors will have a low ischemic time (often less than 1 hour) which leads to a large proportion of people with an ischemic time between 0 and 60 minutes. However, the ischemic time of post portem patients will be way more disparate as we can see on the histogram. "
   ]
  },
  {
   "cell_type": "code",
   "execution_count": 66,
   "id": "6f694b06-8db2-4b16-95e1-156e94b2ab81",
   "metadata": {},
   "outputs": [
    {
     "data": {
      "image/png": "[encoded data removed]",
      "text/plain": [
       "plot without title"
      ]
     },
     "metadata": {
      "image/png": {
       "height": 360,
       "width": 360
      }
     },
     "output_type": "display_data"
    }
   ],
   "source": [
    "library(ggplot2)\n",
    "ggplot(clinical_data, aes(x = TRISCHD, fill = COHORT)) +\n",
    "  geom_histogram(binwidth = 10, alpha = 0.7, position = \"identity\") +\n",
    "  facet_wrap(~ COHORT, scales = \"free_y\") +\n",
    "  labs(title = \"Histogram of Ishemic Time by Cohort\",\n",
    "       x = \"Ishemic Time\",\n",
    "       y = \"Frequency\") +\n",
    "  theme_minimal(base_size = 15)"
   ]
  },
  {
   "cell_type": "markdown",
   "id": "9a2c718a-a625-4835-a0f2-5e27ae21a2fc",
   "metadata": {},
   "source": [
    "We can see that indeed, the organ donor group has the propensity to have lower ischemic time compared to the Postmortem group and that the distribution has less variation and is more skewed to the left. "
   ]
  },
  {
   "cell_type": "markdown",
   "id": "06c75f32-3442-4535-8b5c-233596364e70",
   "metadata": {},
   "source": [
    "### 1.2.2 Distribution of categorical variables "
   ]
  },
  {
   "cell_type": "markdown",
   "id": "e0f019e0-62c5-4c78-987e-aac67367fb5b",
   "metadata": {},
   "source": [
    "They are 4 categorical variables : SEX, COHORT, DTHHRDY and DTHVNT."
   ]
  },
  {
   "cell_type": "code",
   "execution_count": 98,
   "id": "1464242a-35eb-4d9e-afe9-ad4988c0a42d",
   "metadata": {},
   "outputs": [
    {
     "data": {
      "text/plain": [
       "\n",
       "  1   2 \n",
       "180 100 "
      ]
     },
     "metadata": {},
     "output_type": "display_data"
    },
    {
     "data": {
      "image/png": "[encoded data removed]",
      "text/plain": [
       "Plot with title \"Barplot of Sex\""
      ]
     },
     "metadata": {
      "image/png": {
       "height": 420,
       "width": 420
      }
     },
     "output_type": "display_data"
    }
   ],
   "source": [
    "# Frequency table and barplot for SEX\n",
    "table(clinical_data$SEX)\n",
    "barplot(table(clinical_data$SEX), main=\"Barplot of Sex\", xlab=\"Sex\", ylab=\"Frequency\", col=\"lightcoral\")"
   ]
  },
  {
   "cell_type": "markdown",
   "id": "93020ddf-db0a-465b-9c55-a836e3db8167",
   "metadata": {},
   "source": [
    "We can see that we have 180 males (1) and 100 females (2) in our dataset of 280 samples which is almost twice more males than females. "
   ]
  },
  {
   "cell_type": "code",
   "execution_count": 100,
   "id": "871121a9-de76-4c62-9ec4-a49033e53371",
   "metadata": {},
   "outputs": [
    {
     "data": {
      "text/plain": [
       "\n",
       "Organ Donor (OPO)        Postmortem \n",
       "              143               137 "
      ]
     },
     "metadata": {},
     "output_type": "display_data"
    },
    {
     "data": {
      "image/png": "[encoded data removed]",
      "text/plain": [
       "Plot with title \"Barplot of Cohort\""
      ]
     },
     "metadata": {
      "image/png": {
       "height": 420,
       "width": 420
      }
     },
     "output_type": "display_data"
    }
   ],
   "source": [
    "# Frequency table and barplot for COHORT\n",
    "table(clinical_data$COHORT)\n",
    "barplot(table(clinical_data$COHORT), main=\"Barplot of Cohort\", xlab=\"Cohort\", ylab=\"Count\", col=\"lightcyan\")"
   ]
  },
  {
   "cell_type": "markdown",
   "id": "44712817-b388-487f-b86d-a9b05eae5b97",
   "metadata": {},
   "source": [
    "We almost have an equal repartition of Organ donor (OPO) and Post mortem patients. "
   ]
  },
  {
   "cell_type": "code",
   "execution_count": 107,
   "id": "86511f5a-f1e0-4d74-9865-df9aaf9bbc9f",
   "metadata": {},
   "outputs": [
    {
     "data": {
      "text/plain": [
       "\n",
       "  0   1   2   3   4 \n",
       "156   8  77  13  26 "
      ]
     },
     "metadata": {},
     "output_type": "display_data"
    },
    {
     "data": {
      "image/png": "[encoded data removed]",
      "text/plain": [
       "Plot with title \"Barplot of hardy scale\""
      ]
     },
     "metadata": {
      "image/png": {
       "height": 420,
       "width": 420
      }
     },
     "output_type": "display_data"
    }
   ],
   "source": [
    "# Frequency table and barplot for DTHHRDY\n",
    "table(clinical_data$DTHHRDY)\n",
    "barplot(table(clinical_data$DTHHRDY), main=\"Barplot of hardy scale\", xlab=\"Hardy scale\", ylab=\"Frequency\", col=\"lightcoral\")"
   ]
  },
  {
   "cell_type": "markdown",
   "id": "5f22b1fb-5dce-4e5c-a2d0-d44950507f97",
   "metadata": {},
   "source": [
    "DTHHRDY variable corresponds to the hardy scale i.e. the circumstances of death which is summarized by a factor from 0 to 4 where 0 = Ventilator case, 1 = Violent and fast death, 2 = Fast death of natural causes, 3 = Intermediate death and 4 = slow death. "
   ]
  },
  {
   "cell_type": "markdown",
   "id": "445b6bec-93d9-418f-b21c-628d0abcd77e",
   "metadata": {},
   "source": [
    "The highest circumstances frequency of death is from ventilator case (156) followed by fast death of natural causes (77), then by slow death (26), then by intermediate death (13) and finally by violent and fast death (8)"
   ]
  },
  {
   "cell_type": "code",
   "execution_count": 105,
   "id": "e97fa38a-dee1-4a9a-b51b-26a7d6a9eaeb",
   "metadata": {},
   "outputs": [
    {
     "data": {
      "text/plain": [
       "\n",
       "  0   1  99 \n",
       "116 162   2 "
      ]
     },
     "metadata": {},
     "output_type": "display_data"
    },
    {
     "data": {
      "image/png": "[encoded data removed]",
      "text/plain": [
       "Plot with title \"Barplot of Donor ventilator\""
      ]
     },
     "metadata": {
      "image/png": {
       "height": 420,
       "width": 420
      }
     },
     "output_type": "display_data"
    }
   ],
   "source": [
    "# Frequency table and barplot for DTHVNT\n",
    "table(clinical_data$DTHVNT)\n",
    "barplot(table(clinical_data$DTHVNT), main=\"Barplot of Donor ventilator\", xlab=\"DTHVNT\", ylab=\"frequency\", col=\"lightcyan\")"
   ]
  },
  {
   "cell_type": "markdown",
   "id": "5d740ad8-f014-418d-aeb2-4c5111f64d76",
   "metadata": {},
   "source": [
    "DTHVNT variable gives the information if the donor was on a ventilator (medical device) immediatly prior to death which is summarized by four differents factors : 0 = No, 1 = Yes, 98 = Not reported and 99 = Unknown. "
   ]
  },
  {
   "cell_type": "markdown",
   "id": "cde890ec-7964-4a7f-b94b-26ed816f5944",
   "metadata": {},
   "source": [
    "We can see that we have 162 patients that have been under a ventilator before death, 116 which were not and 2 that are unknown. "
   ]
  },
  {
   "cell_type": "markdown",
   "id": "13fcaf26-6ac5-4a26-97ae-41e1c6fe1828",
   "metadata": {},
   "source": [
    "## 1.3 How are clinical variables correlated ?"
   ]
  },
  {
   "cell_type": "markdown",
   "id": "3b5f07db-87a5-451f-86cb-c6b594f84261",
   "metadata": {},
   "source": [
    "### 1.3.1 Correlations between numerical variables"
   ]
  },
  {
   "cell_type": "markdown",
   "id": "237ea02c-f97e-471d-99ac-1673373eb90b",
   "metadata": {},
   "source": [
    "We can start by exploring the correlation between the 5 numerical variables. "
   ]
  },
  {
   "cell_type": "code",
   "execution_count": 111,
   "id": "646ef8b2-1416-439c-b011-000419e827f3",
   "metadata": {},
   "outputs": [
    {
     "data": {
      "text/html": [
       "<table class=\"dataframe\">\n",
       "<caption>A tibble: 6 × 5</caption>\n",
       "<thead>\n",
       "\t<tr><th scope=col>AGE</th><th scope=col>HGHT</th><th scope=col>WGHT</th><th scope=col>BMI</th><th scope=col>TRISCHD</th></tr>\n",
       "\t<tr><th scope=col>&lt;dbl&gt;</th><th scope=col>&lt;dbl&gt;</th><th scope=col>&lt;dbl&gt;</th><th scope=col>&lt;dbl&gt;</th><th scope=col>&lt;dbl&gt;</th></tr>\n",
       "</thead>\n",
       "<tbody>\n",
       "\t<tr><td>62</td><td>72.0</td><td>227</td><td>30.78</td><td> 74</td></tr>\n",
       "\t<tr><td>64</td><td>66.0</td><td>203</td><td>32.76</td><td> 35</td></tr>\n",
       "\t<tr><td>66</td><td>66.0</td><td>160</td><td>25.82</td><td>816</td></tr>\n",
       "\t<tr><td>64</td><td>71.0</td><td>220</td><td>30.68</td><td>848</td></tr>\n",
       "\t<tr><td>58</td><td>72.0</td><td>220</td><td>29.83</td><td>785</td></tr>\n",
       "\t<tr><td>66</td><td>64.5</td><td>128</td><td>21.63</td><td> 56</td></tr>\n",
       "</tbody>\n",
       "</table>\n"
      ],
      "text/latex": [
       "A tibble: 6 × 5\n",
       "\\begin{tabular}{lllll}\n",
       " AGE & HGHT & WGHT & BMI & TRISCHD\\\\\n",
       " <dbl> & <dbl> & <dbl> & <dbl> & <dbl>\\\\\n",
       "\\hline\n",
       "\t 62 & 72.0 & 227 & 30.78 &  74\\\\\n",
       "\t 64 & 66.0 & 203 & 32.76 &  35\\\\\n",
       "\t 66 & 66.0 & 160 & 25.82 & 816\\\\\n",
       "\t 64 & 71.0 & 220 & 30.68 & 848\\\\\n",
       "\t 58 & 72.0 & 220 & 29.83 & 785\\\\\n",
       "\t 66 & 64.5 & 128 & 21.63 &  56\\\\\n",
       "\\end{tabular}\n"
      ],
      "text/markdown": [
       "\n",
       "A tibble: 6 × 5\n",
       "\n",
       "| AGE &lt;dbl&gt; | HGHT &lt;dbl&gt; | WGHT &lt;dbl&gt; | BMI &lt;dbl&gt; | TRISCHD &lt;dbl&gt; |\n",
       "|---|---|---|---|---|\n",
       "| 62 | 72.0 | 227 | 30.78 |  74 |\n",
       "| 64 | 66.0 | 203 | 32.76 |  35 |\n",
       "| 66 | 66.0 | 160 | 25.82 | 816 |\n",
       "| 64 | 71.0 | 220 | 30.68 | 848 |\n",
       "| 58 | 72.0 | 220 | 29.83 | 785 |\n",
       "| 66 | 64.5 | 128 | 21.63 |  56 |\n",
       "\n"
      ],
      "text/plain": [
       "  AGE HGHT WGHT BMI   TRISCHD\n",
       "1 62  72.0 227  30.78  74    \n",
       "2 64  66.0 203  32.76  35    \n",
       "3 66  66.0 160  25.82 816    \n",
       "4 64  71.0 220  30.68 848    \n",
       "5 58  72.0 220  29.83 785    \n",
       "6 66  64.5 128  21.63  56    "
      ]
     },
     "metadata": {},
     "output_type": "display_data"
    }
   ],
   "source": [
    "# The variables from the 5th column to 9th column are the 5 numerical variables\n",
    "numerical_clinical_data<-clinical_data[c(5:9)]\n",
    "head(numerical_clinical_data)"
   ]
  },
  {
   "cell_type": "code",
   "execution_count": 115,
   "id": "0877a073-4938-4a50-8307-c596cab3c98a",
   "metadata": {},
   "outputs": [
    {
     "data": {
      "text/html": [
       "<table class=\"dataframe\">\n",
       "<caption>A matrix: 5 × 5 of type dbl</caption>\n",
       "<thead>\n",
       "\t<tr><th></th><th scope=col>AGE</th><th scope=col>HGHT</th><th scope=col>WGHT</th><th scope=col>BMI</th><th scope=col>TRISCHD</th></tr>\n",
       "</thead>\n",
       "<tbody>\n",
       "\t<tr><th scope=row>AGE</th><td>1.00000000</td><td> 0.064089264</td><td>0.0973484</td><td> 0.071131909</td><td>0.22927245</td></tr>\n",
       "\t<tr><th scope=row>HGHT</th><td>0.06408926</td><td> 1.000000000</td><td>0.6121418</td><td>-0.006819023</td><td>0.14390524</td></tr>\n",
       "\t<tr><th scope=row>WGHT</th><td>0.09734840</td><td> 0.612141786</td><td>1.0000000</td><td> 0.780945124</td><td>0.11913930</td></tr>\n",
       "\t<tr><th scope=row>BMI</th><td>0.07113191</td><td>-0.006819023</td><td>0.7809451</td><td> 1.000000000</td><td>0.03324977</td></tr>\n",
       "\t<tr><th scope=row>TRISCHD</th><td>0.22927245</td><td> 0.143905243</td><td>0.1191393</td><td> 0.033249770</td><td>1.00000000</td></tr>\n",
       "</tbody>\n",
       "</table>\n"
      ],
      "text/latex": [
       "A matrix: 5 × 5 of type dbl\n",
       "\\begin{tabular}{r|lllll}\n",
       "  & AGE & HGHT & WGHT & BMI & TRISCHD\\\\\n",
       "\\hline\n",
       "\tAGE & 1.00000000 &  0.064089264 & 0.0973484 &  0.071131909 & 0.22927245\\\\\n",
       "\tHGHT & 0.06408926 &  1.000000000 & 0.6121418 & -0.006819023 & 0.14390524\\\\\n",
       "\tWGHT & 0.09734840 &  0.612141786 & 1.0000000 &  0.780945124 & 0.11913930\\\\\n",
       "\tBMI & 0.07113191 & -0.006819023 & 0.7809451 &  1.000000000 & 0.03324977\\\\\n",
       "\tTRISCHD & 0.22927245 &  0.143905243 & 0.1191393 &  0.033249770 & 1.00000000\\\\\n",
       "\\end{tabular}\n"
      ],
      "text/markdown": [
       "\n",
       "A matrix: 5 × 5 of type dbl\n",
       "\n",
       "| <!--/--> | AGE | HGHT | WGHT | BMI | TRISCHD |\n",
       "|---|---|---|---|---|---|\n",
       "| AGE | 1.00000000 |  0.064089264 | 0.0973484 |  0.071131909 | 0.22927245 |\n",
       "| HGHT | 0.06408926 |  1.000000000 | 0.6121418 | -0.006819023 | 0.14390524 |\n",
       "| WGHT | 0.09734840 |  0.612141786 | 1.0000000 |  0.780945124 | 0.11913930 |\n",
       "| BMI | 0.07113191 | -0.006819023 | 0.7809451 |  1.000000000 | 0.03324977 |\n",
       "| TRISCHD | 0.22927245 |  0.143905243 | 0.1191393 |  0.033249770 | 1.00000000 |\n",
       "\n"
      ],
      "text/plain": [
       "        AGE        HGHT         WGHT      BMI          TRISCHD   \n",
       "AGE     1.00000000  0.064089264 0.0973484  0.071131909 0.22927245\n",
       "HGHT    0.06408926  1.000000000 0.6121418 -0.006819023 0.14390524\n",
       "WGHT    0.09734840  0.612141786 1.0000000  0.780945124 0.11913930\n",
       "BMI     0.07113191 -0.006819023 0.7809451  1.000000000 0.03324977\n",
       "TRISCHD 0.22927245  0.143905243 0.1191393  0.033249770 1.00000000"
      ]
     },
     "metadata": {},
     "output_type": "display_data"
    },
    {
     "data": {
      "image/png": "[encoded data removed]",
      "text/plain": [
       "plot without title"
      ]
     },
     "metadata": {
      "image/png": {
       "height": 420,
       "width": 420
      }
     },
     "output_type": "display_data"
    }
   ],
   "source": [
    "pairs(numerical_clinical_data)\n",
    "cor(numerical_clinical_data)"
   ]
  },
  {
   "cell_type": "markdown",
   "id": "9e54bf6c-9122-4cad-84ae-8862bc1d2340",
   "metadata": {},
   "source": [
    "AGE looks to be a little bit positively correlated to TRISCHD."
   ]
  },
  {
   "cell_type": "markdown",
   "id": "0d4b59ce-5342-47b6-a064-3fae2b626453",
   "metadata": {},
   "source": [
    "HGHT is highly positively correlated to WGHT which was expected as taller people have a higher tendency to be heavier. HGHT seems also to be a bit positively correlated to TRISCHD."
   ]
  },
  {
   "cell_type": "markdown",
   "id": "b04f6b8c-1a50-4a00-9209-5f7e9f21fad1",
   "metadata": {},
   "source": [
    "WGHT is highly positively correlated to HGHT (logical as HGHT is highly correlated to WGHT) and to BMI which is expected as heavier people tend to have a higher BMI. WGHT seems also to be a bit positively correlated to TRISCHD."
   ]
  },
  {
   "cell_type": "markdown",
   "id": "a4f32fbd-ae9b-4ed0-b1fc-3fc411584e87",
   "metadata": {},
   "source": [
    "BMI is highly positively correlated to WGHT but not at all to TRISCHD."
   ]
  },
  {
   "cell_type": "markdown",
   "id": "5c2c4ac7-a9f3-4dea-9ee1-b34eaf822b89",
   "metadata": {},
   "source": [
    "As said above, TRISCHD is a little bit positively correlated to AGE, HGHT and WGHT. It suggests that older, taller and heavier people will tend to have an ischemic time a little bit higher than normal."
   ]
  },
  {
   "cell_type": "markdown",
   "id": "70df1a55-1f83-4cf1-afbf-2abfef55a6c4",
   "metadata": {},
   "source": [
    "### 1.3.2 Correlations between numerical and categorical variables"
   ]
  },
  {
   "cell_type": "markdown",
   "id": "a673f549-3f05-4dd3-b748-fead8e30f32b",
   "metadata": {},
   "source": [
    "We want to see if the value of the numerical variables depends somehow on the levels of the categorical variables."
   ]
  },
  {
   "cell_type": "markdown",
   "id": "afbc3c56-ade0-448f-b5f9-b70ff46bf498",
   "metadata": {},
   "source": [
    "As reminder the 5 numerical variables are AGE, HGHT, WGHT, BMI and TRISCHD and the 4 categorical variables are SEX, COHORT, DTHHRDY and DTHVNT."
   ]
  },
  {
   "cell_type": "markdown",
   "id": "dea31118-9994-414e-81be-fc6f6b34be0d",
   "metadata": {},
   "source": [
    "Let's start by the AGE variable in fuction of the 4 categorical variables. "
   ]
  },
  {
   "cell_type": "markdown",
   "id": "50c5e29a-bce4-4d77-a65c-208f29c28469",
   "metadata": {},
   "source": [
    "We used the non parametric Kruskal-Wallis test to assess the \"correlation\" between the numerical variables and categorical variables. We did not used ANOVA for this purpose because ANOVA requires some conditions of applications (homoscedasticity and normality of the residues) that were not respected. Indeed, the Shapiro-Wilk test, that assesses the normality of the residuals, always returned a pvalue below the alpha treshold of 5% which indicates to reject the null hypothesis of normality. "
   ]
  },
  {
   "cell_type": "markdown",
   "id": "f9786370-9568-4df1-80fa-743f5d0e2961",
   "metadata": {},
   "source": [
    "#### 1.3.2.1 AGE"
   ]
  },
  {
   "cell_type": "code",
   "execution_count": 9,
   "id": "6f3ae39e-3e0d-468d-b25d-38cc0c6ad597",
   "metadata": {},
   "outputs": [
    {
     "data": {
      "text/plain": [
       "\n",
       "\tKruskal-Wallis rank sum test\n",
       "\n",
       "data:  AGE by SEX\n",
       "Kruskal-Wallis chi-squared = 1.9821, df = 1, p-value = 0.1592\n"
      ]
     },
     "metadata": {},
     "output_type": "display_data"
    },
    {
     "data": {
      "image/png": "[encoded data removed]",
      "text/plain": [
       "plot without title"
      ]
     },
     "metadata": {
      "image/png": {
       "height": 420,
       "width": 420
      }
     },
     "output_type": "display_data"
    }
   ],
   "source": [
    "kruskal.test(AGE ~ SEX, data=clinical_data)\n",
    "boxplot(AGE ~ SEX, data=clinical_data)"
   ]
  },
  {
   "cell_type": "markdown",
   "id": "79cd4567-03ac-489e-805b-62460ee8fb6b",
   "metadata": {},
   "source": [
    "The Pvalue of the Kruskal-Wallis test is 0.159  which is under the treshold of alpha = 5%. It means that the AGE is not significantly different between the two sexes. "
   ]
  },
  {
   "cell_type": "code",
   "execution_count": 10,
   "id": "90de105b-cd43-4fa9-bdb6-a1fdfbc1de58",
   "metadata": {},
   "outputs": [
    {
     "data": {
      "text/plain": [
       "\n",
       "\tKruskal-Wallis rank sum test\n",
       "\n",
       "data:  AGE by COHORT\n",
       "Kruskal-Wallis chi-squared = 42.838, df = 1, p-value = 5.947e-11\n"
      ]
     },
     "metadata": {},
     "output_type": "display_data"
    },
    {
     "data": {
      "image/png": "[encoded data removed]",
      "text/plain": [
       "plot without title"
      ]
     },
     "metadata": {
      "image/png": {
       "height": 420,
       "width": 420
      }
     },
     "output_type": "display_data"
    }
   ],
   "source": [
    "kruskal.test(AGE ~ COHORT, data=clinical_data)\n",
    "boxplot(AGE ~ COHORT, data=clinical_data)"
   ]
  },
  {
   "cell_type": "code",
   "execution_count": 11,
   "id": "e3826d6a-6d4e-46f0-8e03-986b76415355",
   "metadata": {},
   "outputs": [
    {
     "data": {
      "text/plain": [
       "\n",
       "\tKruskal-Wallis rank sum test\n",
       "\n",
       "data:  AGE by DTHHRDY\n",
       "Kruskal-Wallis chi-squared = 53.759, df = 4, p-value = 5.912e-11\n"
      ]
     },
     "metadata": {},
     "output_type": "display_data"
    },
    {
     "data": {
      "image/png": "[encoded data removed]",
      "text/plain": [
       "plot without title"
      ]
     },
     "metadata": {
      "image/png": {
       "height": 420,
       "width": 420
      }
     },
     "output_type": "display_data"
    }
   ],
   "source": [
    "kruskal.test(AGE ~ DTHHRDY, data=clinical_data)\n",
    "boxplot(AGE ~ DTHHRDY, data=clinical_data)"
   ]
  },
  {
   "cell_type": "code",
   "execution_count": 12,
   "id": "7a8aeecc-0661-4d43-b4f1-3f830298bda9",
   "metadata": {},
   "outputs": [
    {
     "data": {
      "text/plain": [
       "\n",
       "\tKruskal-Wallis rank sum test\n",
       "\n",
       "data:  AGE by DTHVNT\n",
       "Kruskal-Wallis chi-squared = 40.537, df = 2, p-value = 1.576e-09\n"
      ]
     },
     "metadata": {},
     "output_type": "display_data"
    },
    {
     "data": {
      "image/png": "[encoded data removed]",
      "text/plain": [
       "plot without title"
      ]
     },
     "metadata": {
      "image/png": {
       "height": 420,
       "width": 420
      }
     },
     "output_type": "display_data"
    }
   ],
   "source": [
    "kruskal.test(AGE ~ DTHVNT, data=clinical_data)\n",
    "boxplot(AGE ~ DTHVNT, data=clinical_data)"
   ]
  },
  {
   "cell_type": "markdown",
   "id": "e17b66b5-698f-4f18-abc6-0875de4a0645",
   "metadata": {},
   "source": [
    "#### 1.3.2.2 HGHT"
   ]
  },
  {
   "cell_type": "code",
   "execution_count": 20,
   "id": "b641c937-de98-43f6-bbaf-575a7a2bc810",
   "metadata": {},
   "outputs": [
    {
     "data": {
      "text/plain": [
       "\n",
       "\tKruskal-Wallis rank sum test\n",
       "\n",
       "data:  HGHT by SEX\n",
       "Kruskal-Wallis chi-squared = 147.65, df = 1, p-value < 2.2e-16\n"
      ]
     },
     "metadata": {},
     "output_type": "display_data"
    },
    {
     "data": {
      "image/png": "[encoded data removed]",
      "text/plain": [
       "plot without title"
      ]
     },
     "metadata": {
      "image/png": {
       "height": 420,
       "width": 420
      }
     },
     "output_type": "display_data"
    }
   ],
   "source": [
    "kruskal.test(HGHT ~ SEX, data=clinical_data)\n",
    "boxplot(HGHT ~ SEX, data=clinical_data)"
   ]
  },
  {
   "cell_type": "code",
   "execution_count": 21,
   "id": "02dd8bd9-6aa4-4e3f-bbbb-a2e9c6f85d7f",
   "metadata": {},
   "outputs": [
    {
     "data": {
      "text/plain": [
       "\n",
       "\tKruskal-Wallis rank sum test\n",
       "\n",
       "data:  HGHT by COHORT\n",
       "Kruskal-Wallis chi-squared = 4.7196, df = 1, p-value = 0.02982\n"
      ]
     },
     "metadata": {},
     "output_type": "display_data"
    },
    {
     "data": {
      "image/png": "[encoded data removed]",
      "text/plain": [
       "plot without title"
      ]
     },
     "metadata": {
      "image/png": {
       "height": 420,
       "width": 420
      }
     },
     "output_type": "display_data"
    }
   ],
   "source": [
    "kruskal.test(HGHT ~ COHORT, data=clinical_data)\n",
    "boxplot(HGHT ~ COHORT, data=clinical_data)"
   ]
  },
  {
   "cell_type": "code",
   "execution_count": 22,
   "id": "92ebd9c8-5cbd-4039-a562-7ffaa9f03f0d",
   "metadata": {},
   "outputs": [
    {
     "data": {
      "text/plain": [
       "\n",
       "\tKruskal-Wallis rank sum test\n",
       "\n",
       "data:  HGHT by DTHHRDY\n",
       "Kruskal-Wallis chi-squared = 12.113, df = 4, p-value = 0.01653\n"
      ]
     },
     "metadata": {},
     "output_type": "display_data"
    },
    {
     "data": {
      "image/png": "[encoded data removed]",
      "text/plain": [
       "plot without title"
      ]
     },
     "metadata": {
      "image/png": {
       "height": 420,
       "width": 420
      }
     },
     "output_type": "display_data"
    }
   ],
   "source": [
    "kruskal.test(HGHT ~ DTHHRDY, data=clinical_data)\n",
    "boxplot(HGHT ~ DTHHRDY, data=clinical_data)"
   ]
  },
  {
   "cell_type": "code",
   "execution_count": 23,
   "id": "cc766dc0-a925-4176-b8ea-a6b6ae208ddd",
   "metadata": {},
   "outputs": [
    {
     "data": {
      "text/plain": [
       "\n",
       "\tKruskal-Wallis rank sum test\n",
       "\n",
       "data:  HGHT by DTHVNT\n",
       "Kruskal-Wallis chi-squared = 4.0813, df = 2, p-value = 0.1299\n"
      ]
     },
     "metadata": {},
     "output_type": "display_data"
    },
    {
     "data": {
      "image/png": "[encoded data removed]",
      "text/plain": [
       "plot without title"
      ]
     },
     "metadata": {
      "image/png": {
       "height": 420,
       "width": 420
      }
     },
     "output_type": "display_data"
    }
   ],
   "source": [
    "kruskal.test(HGHT ~ DTHVNT, data=clinical_data)\n",
    "boxplot(HGHT ~ DTHVNT, data=clinical_data)"
   ]
  },
  {
   "cell_type": "markdown",
   "id": "89aea579-5894-451e-9aad-3afa1732cdff",
   "metadata": {},
   "source": [
    "#### 1.3.2.2 WGHT"
   ]
  },
  {
   "cell_type": "code",
   "execution_count": 26,
   "id": "a1f79a49-b3b6-43c4-af6c-d773bba0d4ed",
   "metadata": {},
   "outputs": [
    {
     "data": {
      "text/plain": [
       "\n",
       "\tKruskal-Wallis rank sum test\n",
       "\n",
       "data:  WGHT by SEX\n",
       "Kruskal-Wallis chi-squared = 65.369, df = 1, p-value = 6.21e-16\n"
      ]
     },
     "metadata": {},
     "output_type": "display_data"
    },
    {
     "data": {
      "image/png": "[encoded data removed]",
      "text/plain": [
       "plot without title"
      ]
     },
     "metadata": {
      "image/png": {
       "height": 420,
       "width": 420
      }
     },
     "output_type": "display_data"
    }
   ],
   "source": [
    "kruskal.test(WGHT ~ SEX, data=clinical_data)\n",
    "boxplot(WGHT ~ SEX, data=clinical_data)"
   ]
  },
  {
   "cell_type": "code",
   "execution_count": 27,
   "id": "4105e6a7-9ab8-4b24-97c1-385b585f32c4",
   "metadata": {},
   "outputs": [
    {
     "data": {
      "text/plain": [
       "\n",
       "\tKruskal-Wallis rank sum test\n",
       "\n",
       "data:  WGHT by COHORT\n",
       "Kruskal-Wallis chi-squared = 4.1733, df = 1, p-value = 0.04107\n"
      ]
     },
     "metadata": {},
     "output_type": "display_data"
    },
    {
     "data": {
      "image/png": "[encoded data removed]",
      "text/plain": [
       "plot without title"
      ]
     },
     "metadata": {
      "image/png": {
       "height": 420,
       "width": 420
      }
     },
     "output_type": "display_data"
    }
   ],
   "source": [
    "kruskal.test(WGHT ~ COHORT, data=clinical_data)\n",
    "boxplot(WGHT ~ COHORT, data=clinical_data)"
   ]
  },
  {
   "cell_type": "code",
   "execution_count": 28,
   "id": "599ce24f-17af-4075-9a0e-b19c5bb9b1ef",
   "metadata": {},
   "outputs": [
    {
     "data": {
      "text/plain": [
       "\n",
       "\tKruskal-Wallis rank sum test\n",
       "\n",
       "data:  WGHT by DTHHRDY\n",
       "Kruskal-Wallis chi-squared = 6.6293, df = 4, p-value = 0.1568\n"
      ]
     },
     "metadata": {},
     "output_type": "display_data"
    },
    {
     "data": {
      "image/png": "[encoded data removed]",
      "text/plain": [
       "plot without title"
      ]
     },
     "metadata": {
      "image/png": {
       "height": 420,
       "width": 420
      }
     },
     "output_type": "display_data"
    }
   ],
   "source": [
    "kruskal.test(WGHT ~ DTHHRDY, data=clinical_data)\n",
    "boxplot(WGHT ~ DTHHRDY, data=clinical_data)"
   ]
  },
  {
   "cell_type": "markdown",
   "id": "2586e073-36e5-42e8-9a9c-7e3b34ce7b91",
   "metadata": {},
   "source": [
    "### 1.3.2.3 BMI"
   ]
  },
  {
   "cell_type": "code",
   "execution_count": 29,
   "id": "39ce2b56-09d4-45e4-bd9d-76476d5b745d",
   "metadata": {},
   "outputs": [
    {
     "data": {
      "text/plain": [
       "\n",
       "\tKruskal-Wallis rank sum test\n",
       "\n",
       "data:  BMI by SEX\n",
       "Kruskal-Wallis chi-squared = 1.089, df = 1, p-value = 0.2967\n"
      ]
     },
     "metadata": {},
     "output_type": "display_data"
    },
    {
     "data": {
      "image/png": "[encoded data removed]",
      "text/plain": [
       "plot without title"
      ]
     },
     "metadata": {
      "image/png": {
       "height": 420,
       "width": 420
      }
     },
     "output_type": "display_data"
    }
   ],
   "source": [
    "kruskal.test(BMI ~ SEX, data=clinical_data)\n",
    "boxplot(BMI ~ SEX, data=clinical_data)"
   ]
  },
  {
   "cell_type": "code",
   "execution_count": 30,
   "id": "32c0c5a9-a167-4998-b16f-00f12552e2bf",
   "metadata": {},
   "outputs": [
    {
     "data": {
      "text/plain": [
       "\n",
       "\tKruskal-Wallis rank sum test\n",
       "\n",
       "data:  BMI by COHORT\n",
       "Kruskal-Wallis chi-squared = 0.30004, df = 1, p-value = 0.5839\n"
      ]
     },
     "metadata": {},
     "output_type": "display_data"
    },
    {
     "data": {
      "image/png": "[encoded data removed]",
      "text/plain": [
       "plot without title"
      ]
     },
     "metadata": {
      "image/png": {
       "height": 420,
       "width": 420
      }
     },
     "output_type": "display_data"
    }
   ],
   "source": [
    "kruskal.test(BMI ~ COHORT, data=clinical_data)\n",
    "boxplot(BMI ~ COHORT, data=clinical_data)"
   ]
  },
  {
   "cell_type": "code",
   "execution_count": 31,
   "id": "d9067154-2d8a-462f-b60e-00ac547bbb54",
   "metadata": {},
   "outputs": [
    {
     "data": {
      "text/plain": [
       "\n",
       "\tKruskal-Wallis rank sum test\n",
       "\n",
       "data:  BMI by DTHHRDY\n",
       "Kruskal-Wallis chi-squared = 0.085412, df = 4, p-value = 0.9991\n"
      ]
     },
     "metadata": {},
     "output_type": "display_data"
    },
    {
     "data": {
      "image/png": "[encoded data removed]",
      "text/plain": [
       "plot without title"
      ]
     },
     "metadata": {
      "image/png": {
       "height": 420,
       "width": 420
      }
     },
     "output_type": "display_data"
    }
   ],
   "source": [
    "kruskal.test(BMI ~ DTHHRDY, data=clinical_data)\n",
    "boxplot(BMI ~ DTHHRDY, data=clinical_data)"
   ]
  },
  {
   "cell_type": "markdown",
   "id": "c483bbb4-fa78-49c0-8e8a-eed308766311",
   "metadata": {},
   "source": [
    "#### 1.3.2.3 TRISCHD"
   ]
  },
  {
   "cell_type": "code",
   "execution_count": 33,
   "id": "7fe070dd-2e0d-4b84-900d-df4f6c33db0d",
   "metadata": {},
   "outputs": [
    {
     "data": {
      "text/plain": [
       "\n",
       "\tKruskal-Wallis rank sum test\n",
       "\n",
       "data:  TRISCHD by SEX\n",
       "Kruskal-Wallis chi-squared = 2.5489, df = 1, p-value = 0.1104\n"
      ]
     },
     "metadata": {},
     "output_type": "display_data"
    },
    {
     "data": {
      "image/png": "[encoded data removed]",
      "text/plain": [
       "plot without title"
      ]
     },
     "metadata": {
      "image/png": {
       "height": 420,
       "width": 420
      }
     },
     "output_type": "display_data"
    }
   ],
   "source": [
    "kruskal.test(TRISCHD ~ SEX, data=clinical_data)\n",
    "boxplot(TRISCHD ~ SEX, data=clinical_data)"
   ]
  },
  {
   "cell_type": "code",
   "execution_count": 34,
   "id": "4a8aa277-1168-4564-9360-7f003f4ad2ca",
   "metadata": {},
   "outputs": [
    {
     "data": {
      "text/plain": [
       "\n",
       "\tKruskal-Wallis rank sum test\n",
       "\n",
       "data:  TRISCHD by COHORT\n",
       "Kruskal-Wallis chi-squared = 173.68, df = 1, p-value < 2.2e-16\n"
      ]
     },
     "metadata": {},
     "output_type": "display_data"
    },
    {
     "data": {
      "image/png": "[encoded data removed]",
      "text/plain": [
       "plot without title"
      ]
     },
     "metadata": {
      "image/png": {
       "height": 420,
       "width": 420
      }
     },
     "output_type": "display_data"
    }
   ],
   "source": [
    "kruskal.test(TRISCHD ~ COHORT, data=clinical_data)\n",
    "boxplot(TRISCHD ~ COHORT, data=clinical_data)"
   ]
  },
  {
   "cell_type": "code",
   "execution_count": 35,
   "id": "66776fcf-c71a-4bd9-b867-53c307fb2769",
   "metadata": {},
   "outputs": [
    {
     "data": {
      "text/plain": [
       "\n",
       "\tKruskal-Wallis rank sum test\n",
       "\n",
       "data:  TRISCHD by DTHHRDY\n",
       "Kruskal-Wallis chi-squared = 176.5, df = 4, p-value < 2.2e-16\n"
      ]
     },
     "metadata": {},
     "output_type": "display_data"
    },
    {
     "data": {
      "image/png": "[encoded data removed]",
      "text/plain": [
       "plot without title"
      ]
     },
     "metadata": {
      "image/png": {
       "height": 420,
       "width": 420
      }
     },
     "output_type": "display_data"
    }
   ],
   "source": [
    "kruskal.test(TRISCHD ~ DTHHRDY, data=clinical_data)\n",
    "boxplot(TRISCHD ~ DTHHRDY, data=clinical_data)"
   ]
  },
  {
   "cell_type": "markdown",
   "id": "83966460-5ad2-44b6-ab00-7f76c061b62c",
   "metadata": {},
   "source": [
    "## 1.3.3 Correlations between categorical variables"
   ]
  },
  {
   "cell_type": "markdown",
   "id": "7f380dc3-2c03-4b61-b061-3938da6a59c4",
   "metadata": {},
   "source": [
    "4 categorical variables are SEX, COHORT, DTHHRDY and DTHVNT."
   ]
  },
  {
   "cell_type": "markdown",
   "id": "11d3dafb-8c1d-490c-ae63-2ba772b17c24",
   "metadata": {},
   "source": [
    "The idea is to perform a chi-squared test to see if two categorical variables are independant i.e they are \"correlated to each other\". They are 3 + 2 + 1 = 7 possible combinations to compare the categorical variables."
   ]
  },
  {
   "cell_type": "markdown",
   "id": "16895e65-21d0-42bd-8cf4-496aa07a5ddc",
   "metadata": {},
   "source": [
    "### 1.3.3.1 SEX"
   ]
  },
  {
   "cell_type": "code",
   "execution_count": 201,
   "id": "c4a3c2e4-eb8a-47cc-ae6e-99cf542360b1",
   "metadata": {},
   "outputs": [
    {
     "data": {
      "text/plain": [
       "   \n",
       "    Organ Donor (OPO) Postmortem\n",
       "  1                88         92\n",
       "  2                55         45"
      ]
     },
     "metadata": {},
     "output_type": "display_data"
    },
    {
     "data": {
      "text/plain": [
       "\n",
       "\tPearson's Chi-squared test with Yates' continuity correction\n",
       "\n",
       "data:  cont_table\n",
       "X-squared = 0.73176, df = 1, p-value = 0.3923\n"
      ]
     },
     "metadata": {},
     "output_type": "display_data"
    }
   ],
   "source": [
    "# Contingency table\n",
    "cont_table <- table(clinical_data$SEX, clinical_data$COHORT)\n",
    "cont_table\n",
    "# Chi-squared test\n",
    "chisq.test(cont_table)"
   ]
  },
  {
   "cell_type": "code",
   "execution_count": 202,
   "id": "e68bc5e7-3324-4c0d-9bed-228d0dc4ce0b",
   "metadata": {},
   "outputs": [
    {
     "data": {
      "text/plain": [
       "   \n",
       "     0  1  2  3  4\n",
       "  1 96  3 60  9 12\n",
       "  2 60  5 17  4 14"
      ]
     },
     "metadata": {},
     "output_type": "display_data"
    },
    {
     "name": "stderr",
     "output_type": "stream",
     "text": [
      "Warning message in chisq.test(cont_table):\n",
      "\"L’approximation du Chi-2 est peut-être incorrecte\"\n"
     ]
    },
    {
     "data": {
      "text/plain": [
       "\n",
       "\tPearson's Chi-squared test\n",
       "\n",
       "data:  cont_table\n",
       "X-squared = 13.111, df = 4, p-value = 0.01075\n"
      ]
     },
     "metadata": {},
     "output_type": "display_data"
    }
   ],
   "source": [
    "# Contingency table\n",
    "cont_table <- table(clinical_data$SEX, clinical_data$DTHHRDY)\n",
    "cont_table\n",
    "# Chi-squared test\n",
    "chisq.test(cont_table)"
   ]
  },
  {
   "cell_type": "code",
   "execution_count": 203,
   "id": "f1a9fdcb-6c12-4c7b-ba14-e4c4dffad12c",
   "metadata": {},
   "outputs": [
    {
     "data": {
      "text/plain": [
       "   \n",
       "      0   1  99\n",
       "  1  77 101   2\n",
       "  2  39  61   0"
      ]
     },
     "metadata": {},
     "output_type": "display_data"
    },
    {
     "name": "stderr",
     "output_type": "stream",
     "text": [
      "Warning message in chisq.test(cont_table):\n",
      "\"L’approximation du Chi-2 est peut-être incorrecte\"\n"
     ]
    },
    {
     "data": {
      "text/plain": [
       "\n",
       "\tPearson's Chi-squared test\n",
       "\n",
       "data:  cont_table\n",
       "X-squared = 1.5981, df = 2, p-value = 0.4497\n"
      ]
     },
     "metadata": {},
     "output_type": "display_data"
    }
   ],
   "source": [
    "# Contingency table\n",
    "cont_table <- table(clinical_data$SEX, clinical_data$DTHVNT)\n",
    "cont_table\n",
    "# Chi-squared test\n",
    "chisq.test(cont_table)"
   ]
  },
  {
   "cell_type": "markdown",
   "id": "e4fc5787-d0e2-46db-9cbe-887aa91355fa",
   "metadata": {},
   "source": [
    "### 1.3.3.2 COHORT"
   ]
  },
  {
   "cell_type": "code",
   "execution_count": 207,
   "id": "60a21a28-11d4-46e9-97fc-cd74f8794128",
   "metadata": {},
   "outputs": [
    {
     "data": {
      "text/plain": [
       "                   \n",
       "                      0   1   2   3   4\n",
       "  Organ Donor (OPO) 142   1   0   0   0\n",
       "  Postmortem         14   7  77  13  26"
      ]
     },
     "metadata": {},
     "output_type": "display_data"
    },
    {
     "name": "stderr",
     "output_type": "stream",
     "text": [
      "Warning message in chisq.test(cont_table):\n",
      "\"L’approximation du Chi-2 est peut-être incorrecte\"\n"
     ]
    },
    {
     "data": {
      "text/plain": [
       "\n",
       "\tPearson's Chi-squared test\n",
       "\n",
       "data:  cont_table\n",
       "X-squared = 225.5, df = 4, p-value < 2.2e-16\n"
      ]
     },
     "metadata": {},
     "output_type": "display_data"
    }
   ],
   "source": [
    "# Contingency table\n",
    "cont_table <- table(clinical_data$COHORT, clinical_data$DTHHRDY)\n",
    "cont_table\n",
    "# Chi-squared test\n",
    "chisq.test(cont_table)"
   ]
  },
  {
   "cell_type": "code",
   "execution_count": 209,
   "id": "c9d2937a-374f-47e2-a755-060428adbc12",
   "metadata": {},
   "outputs": [
    {
     "data": {
      "text/plain": [
       "                   \n",
       "                      0   1  99\n",
       "  Organ Donor (OPO)   0 143   0\n",
       "  Postmortem        116  19   2"
      ]
     },
     "metadata": {},
     "output_type": "display_data"
    },
    {
     "name": "stderr",
     "output_type": "stream",
     "text": [
      "Warning message in chisq.test(cont_table):\n",
      "\"L’approximation du Chi-2 est peut-être incorrecte\"\n"
     ]
    },
    {
     "data": {
      "text/plain": [
       "\n",
       "\tPearson's Chi-squared test\n",
       "\n",
       "data:  cont_table\n",
       "X-squared = 212.88, df = 2, p-value < 2.2e-16\n"
      ]
     },
     "metadata": {},
     "output_type": "display_data"
    }
   ],
   "source": [
    "# Contingency table\n",
    "cont_table <- table(clinical_data$COHORT, clinical_data$DTHVNT)\n",
    "cont_table\n",
    "# Chi-squared test\n",
    "chisq.test(cont_table)"
   ]
  },
  {
   "cell_type": "markdown",
   "id": "756a8b9b-6088-4e8a-a720-33d5bfbeb37c",
   "metadata": {},
   "source": [
    "### 1.3.3.3 DTHHRDY"
   ]
  },
  {
   "cell_type": "code",
   "execution_count": 211,
   "id": "057e5d8c-c0ff-4b30-a12a-a1dea95c9a67",
   "metadata": {},
   "outputs": [
    {
     "data": {
      "text/plain": [
       "   \n",
       "      0   1  99\n",
       "  0   0 156   0\n",
       "  1   7   1   0\n",
       "  2  73   3   1\n",
       "  3  11   2   0\n",
       "  4  25   0   1"
      ]
     },
     "metadata": {},
     "output_type": "display_data"
    },
    {
     "name": "stderr",
     "output_type": "stream",
     "text": [
      "Warning message in chisq.test(cont_table):\n",
      "\"L’approximation du Chi-2 est peut-être incorrecte\"\n"
     ]
    },
    {
     "data": {
      "text/plain": [
       "\n",
       "\tPearson's Chi-squared test\n",
       "\n",
       "data:  cont_table\n",
       "X-squared = 260.11, df = 8, p-value < 2.2e-16\n"
      ]
     },
     "metadata": {},
     "output_type": "display_data"
    }
   ],
   "source": [
    "# Contingency table\n",
    "cont_table <- table(clinical_data$DTHHRDY, clinical_data$DTHVNT)\n",
    "cont_table\n",
    "# Chi-squared test\n",
    "chisq.test(cont_table)"
   ]
  },
  {
   "cell_type": "markdown",
   "id": "ff07cbf5-7e09-4ac1-9278-ba8189419012",
   "metadata": {},
   "source": [
    "# 1.4 Are there technical variables cofounding demographic/health variables ?"
   ]
  },
  {
   "cell_type": "code",
   "execution_count": 15,
   "id": "533b159f-0565-4192-bd2d-7b3f344aec59",
   "metadata": {},
   "outputs": [],
   "source": [
    "library(ggplot2)"
   ]
  },
  {
   "cell_type": "code",
   "execution_count": 223,
   "id": "95f45648-31b9-44d3-8fb0-0f0b791aa643",
   "metadata": {},
   "outputs": [
    {
     "data": {
      "image/png": "[encoded data removed]",
      "text/plain": [
       "plot without title"
      ]
     },
     "metadata": {
      "image/png": {
       "height": 420,
       "width": 420
      }
     },
     "output_type": "display_data"
    }
   ],
   "source": [
    "# Create the plot\n",
    "ggplot(clinical_data, aes(x = TRISCHD, y = AGE, color = COHORT)) +\n",
    "  geom_point(size = 3) +\n",
    "  labs(title = \"Scatter Plot of AGE vs TRISCHD colored by COHORT\",\n",
    "       x = \"TRISCHD\",\n",
    "       y = \"AGE\",\n",
    "       color = \"COHORT\") +\n",
    "  theme_minimal(15)"
   ]
  },
  {
   "cell_type": "code",
   "execution_count": 15,
   "id": "cd45377e-3dfb-40c1-8a1f-6ae03ef12a70",
   "metadata": {},
   "outputs": [
    {
     "data": {
      "image/png": "[encoded data removed]",
      "text/plain": [
       "plot without title"
      ]
     },
     "metadata": {
      "image/png": {
       "height": 420,
       "width": 420
      }
     },
     "output_type": "display_data"
    }
   ],
   "source": [
    "# Create the plot\n",
    "ggplot(clinical_data, aes(x = TRISCHD, y = AGE, color = SEX)) +\n",
    "  geom_point(size = 3) +\n",
    "  labs(title = \"Scatter Plot of AGE vs TRISCHD colored by SEX\",\n",
    "       x = \"TRISCHD\",\n",
    "       y = \"AGE\",\n",
    "       color = \"SEX\") +\n",
    "  theme_minimal(15)"
   ]
  },
  {
   "cell_type": "code",
   "execution_count": 16,
   "id": "3a2da768-561b-4856-971f-c5935db1b530",
   "metadata": {},
   "outputs": [
    {
     "data": {
      "image/png": "[encoded data removed]",
      "text/plain": [
       "plot without title"
      ]
     },
     "metadata": {
      "image/png": {
       "height": 420,
       "width": 420
      }
     },
     "output_type": "display_data"
    }
   ],
   "source": [
    "# Create the plot\n",
    "ggplot(clinical_data, aes(x = TRISCHD, y = AGE, color = DTHHRDY)) +\n",
    "  geom_point(size = 3) +\n",
    "  labs(title = \"Scatter Plot of AGE vs TRISCHD colored by DTHHRDY\",\n",
    "       x = \"TRISCHD\",\n",
    "       y = \"AGE\",\n",
    "       color = \"DTHHRDY\") +\n",
    "  theme_minimal(15)"
   ]
  },
  {
   "cell_type": "code",
   "execution_count": 18,
   "id": "8da45772-6326-419d-be58-e19154187785",
   "metadata": {},
   "outputs": [
    {
     "data": {
      "image/png": "[encoded data removed]",
      "text/plain": [
       "plot without title"
      ]
     },
     "metadata": {
      "image/png": {
       "height": 420,
       "width": 420
      }
     },
     "output_type": "display_data"
    }
   ],
   "source": [
    "# Create the plot\n",
    "ggplot(clinical_data, aes(x = WGHT, y = HGHT, color = COHORT)) +\n",
    "  geom_point(size = 3) +\n",
    "  labs(title = \"Scatter Plot of HGHT vs WGHT colored by COHORT\",\n",
    "       x = \"WGHT\",\n",
    "       y = \"HGHT\",\n",
    "       color = \"COHORT\") +\n",
    "  theme_minimal(15)"
   ]
  },
  {
   "cell_type": "code",
   "execution_count": 19,
   "id": "e84e18f9-1ec0-48f5-bc03-d5da63c908e9",
   "metadata": {},
   "outputs": [
    {
     "data": {
      "image/png": "[encoded data removed]",
      "text/plain": [
       "plot without title"
      ]
     },
     "metadata": {
      "image/png": {
       "height": 420,
       "width": 420
      }
     },
     "output_type": "display_data"
    }
   ],
   "source": [
    "# Create the plot\n",
    "ggplot(clinical_data, aes(x = WGHT, y = HGHT, color = SEX)) +\n",
    "  geom_point(size = 3) +\n",
    "  labs(title = \"Scatter Plot of HGHT vs WGHT colored by SEX\",\n",
    "       x = \"WGHT\",\n",
    "       y = \"HGHT\",\n",
    "       color = \"SEX\") +\n",
    "  theme_minimal(15)"
   ]
  },
  {
   "cell_type": "code",
   "execution_count": 25,
   "id": "ae695fad-aa23-4f9d-bb0c-b7e766088ef9",
   "metadata": {},
   "outputs": [
    {
     "data": {
      "image/png": "[encoded data removed]",
      "text/plain": [
       "plot without title"
      ]
     },
     "metadata": {
      "image/png": {
       "height": 420,
       "width": 420
      }
     },
     "output_type": "display_data"
    }
   ],
   "source": [
    "# Create the plot\n",
    "ggplot(clinical_data, aes(x = WGHT, y = HGHT, color = DTHHRDY)) +\n",
    "  geom_point(size = 3) +\n",
    "  labs(title = \"Scatter Plot of HGHT vs WGHT colored by DTHHRDY \",\n",
    "       x = \"WGHT\",\n",
    "       y = \"HGHT\",\n",
    "       color = \"DTHHRDY \") +\n",
    "  theme_minimal(15)"
   ]
  },
  {
   "cell_type": "code",
   "execution_count": 36,
   "id": "ff8ca34b-f7c4-41eb-97be-522cbb17f8d6",
   "metadata": {},
   "outputs": [
    {
     "data": {
      "image/png": "[encoded data removed]",
      "text/plain": [
       "plot without title"
      ]
     },
     "metadata": {
      "image/png": {
       "height": 420,
       "width": 420
      }
     },
     "output_type": "display_data"
    }
   ],
   "source": [
    "# Create the plot\n",
    "ggplot(clinical_data, aes(x = WGHT, y = BMI, color = SEX)) +\n",
    "  geom_point(size = 3) +\n",
    "  labs(title = \"Scatter Plot of WGHT vs BMI colored by SEX \",\n",
    "       x = \"WGHT\",\n",
    "       y = \"BMI\",\n",
    "       color = \"SEX \") +\n",
    "  theme_minimal(15)"
   ]
  },
  {
   "cell_type": "code",
   "execution_count": 37,
   "id": "c332d032-c547-4c2c-a296-a430cb7c2d32",
   "metadata": {},
   "outputs": [
    {
     "data": {
      "image/png": "[encoded data removed]",
      "text/plain": [
       "plot without title"
      ]
     },
     "metadata": {
      "image/png": {
       "height": 420,
       "width": 420
      }
     },
     "output_type": "display_data"
    }
   ],
   "source": [
    "# Create the plot\n",
    "ggplot(clinical_data, aes(x = WGHT, y = BMI, color = COHORT)) +\n",
    "  geom_point(size = 3) +\n",
    "  labs(title = \"Scatter Plot of WGHT vs BMI colored by COHORT \",\n",
    "       x = \"WGHT\",\n",
    "       y = \"BMI\",\n",
    "       color = \"COHORT \") +\n",
    "  theme_minimal(15)"
   ]
  },
  {
   "cell_type": "code",
   "execution_count": null,
   "id": "4d318c75-a51b-40a8-a7e2-2c917f34e690",
   "metadata": {},
   "outputs": [],
   "source": [
    "# Create the plot\n",
    "ggplot(clinical_data, aes(x = WGHT, y = BMI, color = COHORT)) +\n",
    "  geom_point(size = 3) +\n",
    "  labs(title = \"Scatter Plot of WGHT vs BMI colored by COHORT \",\n",
    "       x = \"WGHT\",\n",
    "       y = \"BMI\",\n",
    "       color = \"COHORT \") +\n",
    "  theme_minimal(15)"
   ]
  },
  {
   "cell_type": "markdown",
   "id": "6103b11f-ebd0-481a-aadc-7f84cdff361c",
   "metadata": {},
   "source": [
    "# Q2 Clinical Data vs Morphology"
   ]
  },
  {
   "cell_type": "markdown",
   "id": "4fa69774-6dab-4e1a-a557-08a79e859d60",
   "metadata": {},
   "source": [
    "## 2.1 Associations between clinical variables and morphological cluster counts"
   ]
  },
  {
   "cell_type": "markdown",
   "id": "df3338d4-4d9c-4bf3-9e5b-0670aa68cae7",
   "metadata": {},
   "source": [
    "### 2.1.1 Import the morphological dataset"
   ]
  },
  {
   "cell_type": "code",
   "execution_count": 11,
   "id": "951cc259-83f0-42e2-b1b3-d2bcb59a3792",
   "metadata": {
    "scrolled": true
   },
   "outputs": [
    {
     "data": {
      "text/html": [
       "<table class=\"dataframe\">\n",
       "<caption>A data.frame: 3 × 32</caption>\n",
       "<thead>\n",
       "\t<tr><th></th><th scope=col>Mophological.cluster.G4_0</th><th scope=col>Mophological.cluster.G4_1</th><th scope=col>Mophological.cluster.G4_2</th><th scope=col>Mophological.cluster.G4_3</th><th scope=col>Mophological.cluster.G4_4</th><th scope=col>Mophological.cluster.G4_5</th><th scope=col>Mophological.cluster.G4_6</th><th scope=col>Mophological.cluster.G4_7</th><th scope=col>Mophological.cluster.G4_8</th><th scope=col>Mophological.cluster.G4_9</th><th scope=col>⋯</th><th scope=col>Mophological.cluster.G4_22</th><th scope=col>Mophological.cluster.G4_23</th><th scope=col>Mophological.cluster.G4_24</th><th scope=col>Mophological.cluster.G4_25</th><th scope=col>Mophological.cluster.G4_26</th><th scope=col>Mophological.cluster.G4_27</th><th scope=col>Mophological.cluster.G4_28</th><th scope=col>Mophological.cluster.G4_29</th><th scope=col>Mophological.cluster.G4_30</th><th scope=col>Mophological.cluster.G4_31</th></tr>\n",
       "\t<tr><th></th><th scope=col>&lt;int&gt;</th><th scope=col>&lt;int&gt;</th><th scope=col>&lt;int&gt;</th><th scope=col>&lt;int&gt;</th><th scope=col>&lt;int&gt;</th><th scope=col>&lt;int&gt;</th><th scope=col>&lt;int&gt;</th><th scope=col>&lt;int&gt;</th><th scope=col>&lt;int&gt;</th><th scope=col>&lt;int&gt;</th><th scope=col>⋯</th><th scope=col>&lt;int&gt;</th><th scope=col>&lt;int&gt;</th><th scope=col>&lt;int&gt;</th><th scope=col>&lt;int&gt;</th><th scope=col>&lt;int&gt;</th><th scope=col>&lt;int&gt;</th><th scope=col>&lt;int&gt;</th><th scope=col>&lt;int&gt;</th><th scope=col>&lt;int&gt;</th><th scope=col>&lt;int&gt;</th></tr>\n",
       "</thead>\n",
       "<tbody>\n",
       "\t<tr><th scope=row>GTEX.111YS.0526</th><td>137</td><td> 88</td><td>417</td><td>   1</td><td>  1</td><td> 32</td><td>  1</td><td> 1</td><td>  1</td><td>167</td><td>⋯</td><td> 262</td><td>233</td><td> 31</td><td>417</td><td> 80</td><td>144</td><td>250</td><td>664</td><td> 20</td><td>0</td></tr>\n",
       "\t<tr><th scope=row>GTEX.1122O.1126</th><td> 96</td><td>880</td><td>236</td><td> 393</td><td> 21</td><td>214</td><td>  1</td><td>47</td><td> 39</td><td>291</td><td>⋯</td><td>3350</td><td> 99</td><td>190</td><td>495</td><td>278</td><td>774</td><td>694</td><td>268</td><td>145</td><td>0</td></tr>\n",
       "\t<tr><th scope=row>GTEX.1128S.0326</th><td>  2</td><td>552</td><td>211</td><td>1031</td><td>174</td><td>216</td><td>289</td><td> 0</td><td>493</td><td>663</td><td>⋯</td><td> 831</td><td>135</td><td>250</td><td>161</td><td> 82</td><td>120</td><td>377</td><td>  2</td><td>500</td><td>0</td></tr>\n",
       "</tbody>\n",
       "</table>\n"
      ],
      "text/latex": [
       "A data.frame: 3 × 32\n",
       "\\begin{tabular}{r|lllllllllllllllllllll}\n",
       "  & Mophological.cluster.G4\\_0 & Mophological.cluster.G4\\_1 & Mophological.cluster.G4\\_2 & Mophological.cluster.G4\\_3 & Mophological.cluster.G4\\_4 & Mophological.cluster.G4\\_5 & Mophological.cluster.G4\\_6 & Mophological.cluster.G4\\_7 & Mophological.cluster.G4\\_8 & Mophological.cluster.G4\\_9 & ⋯ & Mophological.cluster.G4\\_22 & Mophological.cluster.G4\\_23 & Mophological.cluster.G4\\_24 & Mophological.cluster.G4\\_25 & Mophological.cluster.G4\\_26 & Mophological.cluster.G4\\_27 & Mophological.cluster.G4\\_28 & Mophological.cluster.G4\\_29 & Mophological.cluster.G4\\_30 & Mophological.cluster.G4\\_31\\\\\n",
       "  & <int> & <int> & <int> & <int> & <int> & <int> & <int> & <int> & <int> & <int> & ⋯ & <int> & <int> & <int> & <int> & <int> & <int> & <int> & <int> & <int> & <int>\\\\\n",
       "\\hline\n",
       "\tGTEX.111YS.0526 & 137 &  88 & 417 &    1 &   1 &  32 &   1 &  1 &   1 & 167 & ⋯ &  262 & 233 &  31 & 417 &  80 & 144 & 250 & 664 &  20 & 0\\\\\n",
       "\tGTEX.1122O.1126 &  96 & 880 & 236 &  393 &  21 & 214 &   1 & 47 &  39 & 291 & ⋯ & 3350 &  99 & 190 & 495 & 278 & 774 & 694 & 268 & 145 & 0\\\\\n",
       "\tGTEX.1128S.0326 &   2 & 552 & 211 & 1031 & 174 & 216 & 289 &  0 & 493 & 663 & ⋯ &  831 & 135 & 250 & 161 &  82 & 120 & 377 &   2 & 500 & 0\\\\\n",
       "\\end{tabular}\n"
      ],
      "text/markdown": [
       "\n",
       "A data.frame: 3 × 32\n",
       "\n",
       "| <!--/--> | Mophological.cluster.G4_0 &lt;int&gt; | Mophological.cluster.G4_1 &lt;int&gt; | Mophological.cluster.G4_2 &lt;int&gt; | Mophological.cluster.G4_3 &lt;int&gt; | Mophological.cluster.G4_4 &lt;int&gt; | Mophological.cluster.G4_5 &lt;int&gt; | Mophological.cluster.G4_6 &lt;int&gt; | Mophological.cluster.G4_7 &lt;int&gt; | Mophological.cluster.G4_8 &lt;int&gt; | Mophological.cluster.G4_9 &lt;int&gt; | ⋯ ⋯ | Mophological.cluster.G4_22 &lt;int&gt; | Mophological.cluster.G4_23 &lt;int&gt; | Mophological.cluster.G4_24 &lt;int&gt; | Mophological.cluster.G4_25 &lt;int&gt; | Mophological.cluster.G4_26 &lt;int&gt; | Mophological.cluster.G4_27 &lt;int&gt; | Mophological.cluster.G4_28 &lt;int&gt; | Mophological.cluster.G4_29 &lt;int&gt; | Mophological.cluster.G4_30 &lt;int&gt; | Mophological.cluster.G4_31 &lt;int&gt; |\n",
       "|---|---|---|---|---|---|---|---|---|---|---|---|---|---|---|---|---|---|---|---|---|---|\n",
       "| GTEX.111YS.0526 | 137 |  88 | 417 |    1 |   1 |  32 |   1 |  1 |   1 | 167 | ⋯ |  262 | 233 |  31 | 417 |  80 | 144 | 250 | 664 |  20 | 0 |\n",
       "| GTEX.1122O.1126 |  96 | 880 | 236 |  393 |  21 | 214 |   1 | 47 |  39 | 291 | ⋯ | 3350 |  99 | 190 | 495 | 278 | 774 | 694 | 268 | 145 | 0 |\n",
       "| GTEX.1128S.0326 |   2 | 552 | 211 | 1031 | 174 | 216 | 289 |  0 | 493 | 663 | ⋯ |  831 | 135 | 250 | 161 |  82 | 120 | 377 |   2 | 500 | 0 |\n",
       "\n"
      ],
      "text/plain": [
       "                Mophological.cluster.G4_0 Mophological.cluster.G4_1\n",
       "GTEX.111YS.0526 137                        88                      \n",
       "GTEX.1122O.1126  96                       880                      \n",
       "GTEX.1128S.0326   2                       552                      \n",
       "                Mophological.cluster.G4_2 Mophological.cluster.G4_3\n",
       "GTEX.111YS.0526 417                          1                     \n",
       "GTEX.1122O.1126 236                        393                     \n",
       "GTEX.1128S.0326 211                       1031                     \n",
       "                Mophological.cluster.G4_4 Mophological.cluster.G4_5\n",
       "GTEX.111YS.0526   1                        32                      \n",
       "GTEX.1122O.1126  21                       214                      \n",
       "GTEX.1128S.0326 174                       216                      \n",
       "                Mophological.cluster.G4_6 Mophological.cluster.G4_7\n",
       "GTEX.111YS.0526   1                        1                       \n",
       "GTEX.1122O.1126   1                       47                       \n",
       "GTEX.1128S.0326 289                        0                       \n",
       "                Mophological.cluster.G4_8 Mophological.cluster.G4_9 ⋯\n",
       "GTEX.111YS.0526   1                       167                       ⋯\n",
       "GTEX.1122O.1126  39                       291                       ⋯\n",
       "GTEX.1128S.0326 493                       663                       ⋯\n",
       "                Mophological.cluster.G4_22 Mophological.cluster.G4_23\n",
       "GTEX.111YS.0526  262                       233                       \n",
       "GTEX.1122O.1126 3350                        99                       \n",
       "GTEX.1128S.0326  831                       135                       \n",
       "                Mophological.cluster.G4_24 Mophological.cluster.G4_25\n",
       "GTEX.111YS.0526  31                        417                       \n",
       "GTEX.1122O.1126 190                        495                       \n",
       "GTEX.1128S.0326 250                        161                       \n",
       "                Mophological.cluster.G4_26 Mophological.cluster.G4_27\n",
       "GTEX.111YS.0526  80                        144                       \n",
       "GTEX.1122O.1126 278                        774                       \n",
       "GTEX.1128S.0326  82                        120                       \n",
       "                Mophological.cluster.G4_28 Mophological.cluster.G4_29\n",
       "GTEX.111YS.0526 250                        664                       \n",
       "GTEX.1122O.1126 694                        268                       \n",
       "GTEX.1128S.0326 377                          2                       \n",
       "                Mophological.cluster.G4_30 Mophological.cluster.G4_31\n",
       "GTEX.111YS.0526  20                        0                         \n",
       "GTEX.1122O.1126 145                        0                         \n",
       "GTEX.1128S.0326 500                        0                         "
      ]
     },
     "metadata": {},
     "output_type": "display_data"
    }
   ],
   "source": [
    "#load and format the morphological counts data\n",
    "\n",
    "morpho_counts <- read.table(\"Aorta/morphological_counts_lunit_dino.tsv\", \n",
    "                           sep = \"\\t\", header=TRUE)\n",
    "\n",
    "row.names(morpho_counts) <- morpho_counts$SMPLID\n",
    "morpho_counts <- morpho_counts[-1]\n",
    "head(morpho_counts,3)"
   ]
  },
  {
   "cell_type": "code",
   "execution_count": 12,
   "id": "fe8a11f5-557a-48cc-9189-c2ca64ccba0a",
   "metadata": {
    "scrolled": true
   },
   "outputs": [
    {
     "data": {
      "text/html": [
       "<table class=\"dataframe\">\n",
       "<caption>A matrix: 3 × 280 of type int</caption>\n",
       "<thead>\n",
       "\t<tr><th></th><th scope=col>GTEX.111YS.0526</th><th scope=col>GTEX.1122O.1126</th><th scope=col>GTEX.1128S.0326</th><th scope=col>GTEX.117XS.0426</th><th scope=col>GTEX.117YW.0226</th><th scope=col>GTEX.11DXX.0426</th><th scope=col>GTEX.11DXZ.0426</th><th scope=col>GTEX.11DYG.1226</th><th scope=col>GTEX.11EM3.0226</th><th scope=col>GTEX.11EMC.0926</th><th scope=col>⋯</th><th scope=col>GTEX.1R9K5.1426</th><th scope=col>GTEX.1R9PM.0326</th><th scope=col>GTEX.1R9PN.0226</th><th scope=col>GTEX.1R9PO.0226</th><th scope=col>GTEX.1RAZA.1126</th><th scope=col>GTEX.1RAZR.0626</th><th scope=col>GTEX.1RNTQ.0726</th><th scope=col>GTEX.1RQED.1126</th><th scope=col>GTEX.1S3DN.0626</th><th scope=col>GTEX.1S5ZA.1126</th></tr>\n",
       "</thead>\n",
       "<tbody>\n",
       "\t<tr><th scope=row>Mophological.cluster.G4_0</th><td>137</td><td> 96</td><td>  2</td><td>339</td><td>171</td><td>  2</td><td>  1</td><td>392</td><td> 40</td><td>260</td><td>⋯</td><td>  2</td><td> 39</td><td>  0</td><td> 77</td><td>  6</td><td>32</td><td> 5</td><td> 94</td><td>460</td><td>  1</td></tr>\n",
       "\t<tr><th scope=row>Mophological.cluster.G4_1</th><td> 88</td><td>880</td><td>552</td><td>  1</td><td>  0</td><td> 10</td><td>239</td><td> 18</td><td>424</td><td>235</td><td>⋯</td><td>286</td><td> 34</td><td>277</td><td>271</td><td>537</td><td> 7</td><td>18</td><td>228</td><td>314</td><td>308</td></tr>\n",
       "\t<tr><th scope=row>Mophological.cluster.G4_2</th><td>417</td><td>236</td><td>211</td><td>151</td><td> 36</td><td>258</td><td>850</td><td> 14</td><td>605</td><td>164</td><td>⋯</td><td>541</td><td>634</td><td>333</td><td>193</td><td>208</td><td> 2</td><td>26</td><td> 79</td><td> 43</td><td>102</td></tr>\n",
       "</tbody>\n",
       "</table>\n"
      ],
      "text/latex": [
       "A matrix: 3 × 280 of type int\n",
       "\\begin{tabular}{r|lllllllllllllllllllll}\n",
       "  & GTEX.111YS.0526 & GTEX.1122O.1126 & GTEX.1128S.0326 & GTEX.117XS.0426 & GTEX.117YW.0226 & GTEX.11DXX.0426 & GTEX.11DXZ.0426 & GTEX.11DYG.1226 & GTEX.11EM3.0226 & GTEX.11EMC.0926 & ⋯ & GTEX.1R9K5.1426 & GTEX.1R9PM.0326 & GTEX.1R9PN.0226 & GTEX.1R9PO.0226 & GTEX.1RAZA.1126 & GTEX.1RAZR.0626 & GTEX.1RNTQ.0726 & GTEX.1RQED.1126 & GTEX.1S3DN.0626 & GTEX.1S5ZA.1126\\\\\n",
       "\\hline\n",
       "\tMophological.cluster.G4\\_0 & 137 &  96 &   2 & 339 & 171 &   2 &   1 & 392 &  40 & 260 & ⋯ &   2 &  39 &   0 &  77 &   6 & 32 &  5 &  94 & 460 &   1\\\\\n",
       "\tMophological.cluster.G4\\_1 &  88 & 880 & 552 &   1 &   0 &  10 & 239 &  18 & 424 & 235 & ⋯ & 286 &  34 & 277 & 271 & 537 &  7 & 18 & 228 & 314 & 308\\\\\n",
       "\tMophological.cluster.G4\\_2 & 417 & 236 & 211 & 151 &  36 & 258 & 850 &  14 & 605 & 164 & ⋯ & 541 & 634 & 333 & 193 & 208 &  2 & 26 &  79 &  43 & 102\\\\\n",
       "\\end{tabular}\n"
      ],
      "text/markdown": [
       "\n",
       "A matrix: 3 × 280 of type int\n",
       "\n",
       "| <!--/--> | GTEX.111YS.0526 | GTEX.1122O.1126 | GTEX.1128S.0326 | GTEX.117XS.0426 | GTEX.117YW.0226 | GTEX.11DXX.0426 | GTEX.11DXZ.0426 | GTEX.11DYG.1226 | GTEX.11EM3.0226 | GTEX.11EMC.0926 | ⋯ | GTEX.1R9K5.1426 | GTEX.1R9PM.0326 | GTEX.1R9PN.0226 | GTEX.1R9PO.0226 | GTEX.1RAZA.1126 | GTEX.1RAZR.0626 | GTEX.1RNTQ.0726 | GTEX.1RQED.1126 | GTEX.1S3DN.0626 | GTEX.1S5ZA.1126 |\n",
       "|---|---|---|---|---|---|---|---|---|---|---|---|---|---|---|---|---|---|---|---|---|---|\n",
       "| Mophological.cluster.G4_0 | 137 |  96 |   2 | 339 | 171 |   2 |   1 | 392 |  40 | 260 | ⋯ |   2 |  39 |   0 |  77 |   6 | 32 |  5 |  94 | 460 |   1 |\n",
       "| Mophological.cluster.G4_1 |  88 | 880 | 552 |   1 |   0 |  10 | 239 |  18 | 424 | 235 | ⋯ | 286 |  34 | 277 | 271 | 537 |  7 | 18 | 228 | 314 | 308 |\n",
       "| Mophological.cluster.G4_2 | 417 | 236 | 211 | 151 |  36 | 258 | 850 |  14 | 605 | 164 | ⋯ | 541 | 634 | 333 | 193 | 208 |  2 | 26 |  79 |  43 | 102 |\n",
       "\n"
      ],
      "text/plain": [
       "                          GTEX.111YS.0526 GTEX.1122O.1126 GTEX.1128S.0326\n",
       "Mophological.cluster.G4_0 137              96               2            \n",
       "Mophological.cluster.G4_1  88             880             552            \n",
       "Mophological.cluster.G4_2 417             236             211            \n",
       "                          GTEX.117XS.0426 GTEX.117YW.0226 GTEX.11DXX.0426\n",
       "Mophological.cluster.G4_0 339             171               2            \n",
       "Mophological.cluster.G4_1   1               0              10            \n",
       "Mophological.cluster.G4_2 151              36             258            \n",
       "                          GTEX.11DXZ.0426 GTEX.11DYG.1226 GTEX.11EM3.0226\n",
       "Mophological.cluster.G4_0   1             392              40            \n",
       "Mophological.cluster.G4_1 239              18             424            \n",
       "Mophological.cluster.G4_2 850              14             605            \n",
       "                          GTEX.11EMC.0926 ⋯ GTEX.1R9K5.1426 GTEX.1R9PM.0326\n",
       "Mophological.cluster.G4_0 260             ⋯   2              39            \n",
       "Mophological.cluster.G4_1 235             ⋯ 286              34            \n",
       "Mophological.cluster.G4_2 164             ⋯ 541             634            \n",
       "                          GTEX.1R9PN.0226 GTEX.1R9PO.0226 GTEX.1RAZA.1126\n",
       "Mophological.cluster.G4_0   0              77               6            \n",
       "Mophological.cluster.G4_1 277             271             537            \n",
       "Mophological.cluster.G4_2 333             193             208            \n",
       "                          GTEX.1RAZR.0626 GTEX.1RNTQ.0726 GTEX.1RQED.1126\n",
       "Mophological.cluster.G4_0 32               5               94            \n",
       "Mophological.cluster.G4_1  7              18              228            \n",
       "Mophological.cluster.G4_2  2              26               79            \n",
       "                          GTEX.1S3DN.0626 GTEX.1S5ZA.1126\n",
       "Mophological.cluster.G4_0 460               1            \n",
       "Mophological.cluster.G4_1 314             308            \n",
       "Mophological.cluster.G4_2  43             102            "
      ]
     },
     "metadata": {},
     "output_type": "display_data"
    },
    {
     "data": {
      "text/html": [
       "<style>\n",
       ".list-inline {list-style: none; margin:0; padding: 0}\n",
       ".list-inline>li {display: inline-block}\n",
       ".list-inline>li:not(:last-child)::after {content: \"\\00b7\"; padding: 0 .5ex}\n",
       "</style>\n",
       "<ol class=list-inline><li>32</li><li>280</li></ol>\n"
      ],
      "text/latex": [
       "\\begin{enumerate*}\n",
       "\\item 32\n",
       "\\item 280\n",
       "\\end{enumerate*}\n"
      ],
      "text/markdown": [
       "1. 32\n",
       "2. 280\n",
       "\n",
       "\n"
      ],
      "text/plain": [
       "[1]  32 280"
      ]
     },
     "metadata": {},
     "output_type": "display_data"
    }
   ],
   "source": [
    "#transpose the morpholigical counts (samples as columns, clusters as rows) to have the compatible count format for DGE\n",
    "morpho_counts2 <- t(morpho_counts)\n",
    "head(morpho_counts2, 3)\n",
    "dim(morpho_counts2)"
   ]
  },
  {
   "cell_type": "markdown",
   "id": "99cff2fb-6cfb-4cd5-8bf6-839ef54219f2",
   "metadata": {},
   "source": [
    "### 2.1.2 Compute the associations between clinical health variables and morphological cluster counts"
   ]
  },
  {
   "cell_type": "markdown",
   "id": "b6960932-c963-42ac-8ffb-844351ba6864",
   "metadata": {},
   "source": [
    "The 5 demographics/health variables are AGE, SEX, HGHT, WGHT and BMI. The 3 technical variables are COHORT, TRISCHD, DTHHRDY.\n",
    "\n",
    "\n",
    "We will treat the 5 demographic/health variables in this part and the 3 technicals variables in the next section."
   ]
  },
  {
   "cell_type": "markdown",
   "id": "72fada1c-5792-4077-8a8d-bd195bf82cdb",
   "metadata": {},
   "source": [
    "The goal of this section is to compare the magnitude of the associations of the different clinical variables with morphology. For that, we will perform differential morphological cluster expression with DESeq2 and edgeR."
   ]
  },
  {
   "cell_type": "markdown",
   "id": "d2b98255-13a0-4496-8041-39d6b29d00e7",
   "metadata": {},
   "source": [
    "To use differential expression package like edgeR and deseq2, we need to have at least 2 conditions. We decided to take arbitrarly the median of the quantiative variables so that we can separate it into 2 groups."
   ]
  },
  {
   "cell_type": "code",
   "execution_count": 13,
   "id": "8b563c2f-f152-48c0-8dd3-c09e0126e906",
   "metadata": {
    "scrolled": true
   },
   "outputs": [],
   "source": [
    "# Create the different groups for differential expression with the medians.\n",
    "age_group <- factor(ifelse(clinical_data$AGE < median(clinical_data$AGE), \"young\", \"old\"))\n",
    "height_group <- factor(ifelse(clinical_data$HGHT < median(clinical_data$HGHT), \"tall\", \"short\"))\n",
    "weight_group <- factor(ifelse(clinical_data$WGHT < median(clinical_data$WGHT), \"skinny\", \"heavy\"))\n",
    "BMI_group <- factor(ifelse(clinical_data$BMI < median(clinical_data$BMI), \"low_BMI\", \"high_BMI\"))"
   ]
  },
  {
   "cell_type": "markdown",
   "id": "7f30ad14-3808-4684-95f7-0ef60d966f9a",
   "metadata": {},
   "source": [
    "#### 2.1.2.1 DGE for AGE "
   ]
  },
  {
   "cell_type": "code",
   "execution_count": 236,
   "id": "43d10687-8f8f-4349-bd96-44af9617b82c",
   "metadata": {
    "scrolled": true
   },
   "outputs": [
    {
     "data": {
      "text/html": [
       "<dl>\n",
       "\t<dt>$table</dt>\n",
       "\t\t<dd><table class=\"dataframe\">\n",
       "<caption>A data.frame: 10 × 5</caption>\n",
       "<thead>\n",
       "\t<tr><th></th><th scope=col>logFC</th><th scope=col>logCPM</th><th scope=col>F</th><th scope=col>PValue</th><th scope=col>FDR</th></tr>\n",
       "\t<tr><th></th><th scope=col>&lt;dbl&gt;</th><th scope=col>&lt;dbl&gt;</th><th scope=col>&lt;dbl&gt;</th><th scope=col>&lt;dbl&gt;</th><th scope=col>&lt;dbl&gt;</th></tr>\n",
       "</thead>\n",
       "<tbody>\n",
       "\t<tr><th scope=row>Mophological.cluster.G4_26</th><td> 1.1130848</td><td>15.76839</td><td>27.143933</td><td>3.699227e-07</td><td>1.109768e-05</td></tr>\n",
       "\t<tr><th scope=row>Mophological.cluster.G4_15</th><td> 0.7282146</td><td>15.21104</td><td>17.648582</td><td>3.589578e-05</td><td>5.384367e-04</td></tr>\n",
       "\t<tr><th scope=row>Mophological.cluster.G4_11</th><td> 1.1751396</td><td>15.25212</td><td>14.940323</td><td>1.383788e-04</td><td>1.383788e-03</td></tr>\n",
       "\t<tr><th scope=row>Mophological.cluster.G4_29</th><td>-1.0655988</td><td>14.66163</td><td>13.212679</td><td>3.315520e-04</td><td>2.486640e-03</td></tr>\n",
       "\t<tr><th scope=row>Mophological.cluster.G4_12</th><td>-1.3023593</td><td>14.09729</td><td>12.381258</td><td>5.069361e-04</td><td>3.041617e-03</td></tr>\n",
       "\t<tr><th scope=row>Mophological.cluster.G4_27</th><td>-0.7713467</td><td>15.31012</td><td>10.383706</td><td>1.423640e-03</td><td>7.118201e-03</td></tr>\n",
       "\t<tr><th scope=row>Mophological.cluster.G4_8</th><td>-0.8275362</td><td>15.52733</td><td> 9.395551</td><td>2.390415e-03</td><td>1.024464e-02</td></tr>\n",
       "\t<tr><th scope=row>Mophological.cluster.G4_14</th><td> 0.7239539</td><td>15.24767</td><td> 5.788229</td><td>1.679111e-02</td><td>6.296667e-02</td></tr>\n",
       "\t<tr><th scope=row>Mophological.cluster.G4_22</th><td>-0.5806257</td><td>15.54334</td><td> 5.132796</td><td>2.425218e-02</td><td>8.084059e-02</td></tr>\n",
       "\t<tr><th scope=row>Mophological.cluster.G4_20</th><td> 0.5325559</td><td>15.31746</td><td> 4.800377</td><td>2.928896e-02</td><td>8.245529e-02</td></tr>\n",
       "</tbody>\n",
       "</table>\n",
       "</dd>\n",
       "\t<dt>$adjust.method</dt>\n",
       "\t\t<dd>'BH'</dd>\n",
       "\t<dt>$comparison</dt>\n",
       "\t\t<dd>'age_groupyoung'</dd>\n",
       "\t<dt>$test</dt>\n",
       "\t\t<dd>'glm'</dd>\n",
       "</dl>\n"
      ],
      "text/latex": [
       "\\begin{description}\n",
       "\\item[\\$table] A data.frame: 10 × 5\n",
       "\\begin{tabular}{r|lllll}\n",
       "  & logFC & logCPM & F & PValue & FDR\\\\\n",
       "  & <dbl> & <dbl> & <dbl> & <dbl> & <dbl>\\\\\n",
       "\\hline\n",
       "\tMophological.cluster.G4\\_26 &  1.1130848 & 15.76839 & 27.143933 & 3.699227e-07 & 1.109768e-05\\\\\n",
       "\tMophological.cluster.G4\\_15 &  0.7282146 & 15.21104 & 17.648582 & 3.589578e-05 & 5.384367e-04\\\\\n",
       "\tMophological.cluster.G4\\_11 &  1.1751396 & 15.25212 & 14.940323 & 1.383788e-04 & 1.383788e-03\\\\\n",
       "\tMophological.cluster.G4\\_29 & -1.0655988 & 14.66163 & 13.212679 & 3.315520e-04 & 2.486640e-03\\\\\n",
       "\tMophological.cluster.G4\\_12 & -1.3023593 & 14.09729 & 12.381258 & 5.069361e-04 & 3.041617e-03\\\\\n",
       "\tMophological.cluster.G4\\_27 & -0.7713467 & 15.31012 & 10.383706 & 1.423640e-03 & 7.118201e-03\\\\\n",
       "\tMophological.cluster.G4\\_8 & -0.8275362 & 15.52733 &  9.395551 & 2.390415e-03 & 1.024464e-02\\\\\n",
       "\tMophological.cluster.G4\\_14 &  0.7239539 & 15.24767 &  5.788229 & 1.679111e-02 & 6.296667e-02\\\\\n",
       "\tMophological.cluster.G4\\_22 & -0.5806257 & 15.54334 &  5.132796 & 2.425218e-02 & 8.084059e-02\\\\\n",
       "\tMophological.cluster.G4\\_20 &  0.5325559 & 15.31746 &  4.800377 & 2.928896e-02 & 8.245529e-02\\\\\n",
       "\\end{tabular}\n",
       "\n",
       "\\item[\\$adjust.method] 'BH'\n",
       "\\item[\\$comparison] 'age\\_groupyoung'\n",
       "\\item[\\$test] 'glm'\n",
       "\\end{description}\n"
      ],
      "text/markdown": [
       "$table\n",
       ":   \n",
       "A data.frame: 10 × 5\n",
       "\n",
       "| <!--/--> | logFC &lt;dbl&gt; | logCPM &lt;dbl&gt; | F &lt;dbl&gt; | PValue &lt;dbl&gt; | FDR &lt;dbl&gt; |\n",
       "|---|---|---|---|---|---|\n",
       "| Mophological.cluster.G4_26 |  1.1130848 | 15.76839 | 27.143933 | 3.699227e-07 | 1.109768e-05 |\n",
       "| Mophological.cluster.G4_15 |  0.7282146 | 15.21104 | 17.648582 | 3.589578e-05 | 5.384367e-04 |\n",
       "| Mophological.cluster.G4_11 |  1.1751396 | 15.25212 | 14.940323 | 1.383788e-04 | 1.383788e-03 |\n",
       "| Mophological.cluster.G4_29 | -1.0655988 | 14.66163 | 13.212679 | 3.315520e-04 | 2.486640e-03 |\n",
       "| Mophological.cluster.G4_12 | -1.3023593 | 14.09729 | 12.381258 | 5.069361e-04 | 3.041617e-03 |\n",
       "| Mophological.cluster.G4_27 | -0.7713467 | 15.31012 | 10.383706 | 1.423640e-03 | 7.118201e-03 |\n",
       "| Mophological.cluster.G4_8 | -0.8275362 | 15.52733 |  9.395551 | 2.390415e-03 | 1.024464e-02 |\n",
       "| Mophological.cluster.G4_14 |  0.7239539 | 15.24767 |  5.788229 | 1.679111e-02 | 6.296667e-02 |\n",
       "| Mophological.cluster.G4_22 | -0.5806257 | 15.54334 |  5.132796 | 2.425218e-02 | 8.084059e-02 |\n",
       "| Mophological.cluster.G4_20 |  0.5325559 | 15.31746 |  4.800377 | 2.928896e-02 | 8.245529e-02 |\n",
       "\n",
       "\n",
       "$adjust.method\n",
       ":   'BH'\n",
       "$comparison\n",
       ":   'age_groupyoung'\n",
       "$test\n",
       ":   'glm'\n",
       "\n",
       "\n"
      ],
      "text/plain": [
       "Coefficient:  age_groupyoung \n",
       "                                logFC   logCPM         F       PValue\n",
       "Mophological.cluster.G4_26  1.1130848 15.76839 27.143933 3.699227e-07\n",
       "Mophological.cluster.G4_15  0.7282146 15.21104 17.648582 3.589578e-05\n",
       "Mophological.cluster.G4_11  1.1751396 15.25212 14.940323 1.383788e-04\n",
       "Mophological.cluster.G4_29 -1.0655988 14.66163 13.212679 3.315520e-04\n",
       "Mophological.cluster.G4_12 -1.3023593 14.09729 12.381258 5.069361e-04\n",
       "Mophological.cluster.G4_27 -0.7713467 15.31012 10.383706 1.423640e-03\n",
       "Mophological.cluster.G4_8  -0.8275362 15.52733  9.395551 2.390415e-03\n",
       "Mophological.cluster.G4_14  0.7239539 15.24767  5.788229 1.679111e-02\n",
       "Mophological.cluster.G4_22 -0.5806257 15.54334  5.132796 2.425218e-02\n",
       "Mophological.cluster.G4_20  0.5325559 15.31746  4.800377 2.928896e-02\n",
       "                                    FDR\n",
       "Mophological.cluster.G4_26 1.109768e-05\n",
       "Mophological.cluster.G4_15 5.384367e-04\n",
       "Mophological.cluster.G4_11 1.383788e-03\n",
       "Mophological.cluster.G4_29 2.486640e-03\n",
       "Mophological.cluster.G4_12 3.041617e-03\n",
       "Mophological.cluster.G4_27 7.118201e-03\n",
       "Mophological.cluster.G4_8  1.024464e-02\n",
       "Mophological.cluster.G4_14 6.296667e-02\n",
       "Mophological.cluster.G4_22 8.084059e-02\n",
       "Mophological.cluster.G4_20 8.245529e-02"
      ]
     },
     "metadata": {},
     "output_type": "display_data"
    }
   ],
   "source": [
    "# create the differential expression data structure used by edgeR (DGElist)\n",
    "DGE_list <- DGEList(morpho_counts2, group = age_group)\n",
    "keep <- filterByExpr(DGE_list)\n",
    "DGE_list <- DGE_list[keep, , keep.lib.sizes=FALSE]\n",
    "\n",
    "# normalize the data\n",
    "DGE_list <- calcNormFactors(DGE_list)\n",
    "DGE_list <- normLibSizes(DGE_list)\n",
    "\n",
    "# create a design matrix\n",
    "design <- model.matrix(~age_group + clinical_data$COHORT + clinical_data$DTHHRDY + clinical_data$TRISCHD)\n",
    "\n",
    "# estimate the dispersion\n",
    "DGE_list <- estimateDisp(DGE_list, design)\n",
    "\n",
    "# fit the model and test for differential expression\n",
    "fit <- glmQLFit(DGE_list,design)\n",
    "qlf <- glmQLFTest(fit,coef=2)\n",
    "\n",
    "# get the differential expression table\n",
    "topTags(qlf,n = 10)"
   ]
  },
  {
   "cell_type": "code",
   "execution_count": 237,
   "id": "8b5a915f-302a-49f1-a07c-e77b8bdbd29c",
   "metadata": {},
   "outputs": [
    {
     "name": "stderr",
     "output_type": "stream",
     "text": [
      "Warning message:\n",
      "\"\u001b[1m\u001b[22mRemoved 15 rows containing missing values or values outside the scale range (`geom_text_repel()`).\"\n"
     ]
    },
    {
     "data": {
      "image/png": "[encoded data removed]",
      "text/plain": [
       "plot without title"
      ]
     },
     "metadata": {
      "image/png": {
       "height": 720,
       "width": 720
      }
     },
     "output_type": "display_data"
    }
   ],
   "source": [
    "##### AGE volcanoplot\n",
    "d_topTags <- topTags(qlf, n = 32)[[\"table\"]]\n",
    "# Biostatsquid theme\n",
    "theme_set(theme_classic(base_size = 20) +\n",
    "            theme(\n",
    "              axis.title.y = element_text(face = \"bold\", margin = margin(0,20,0,0), size = rel(1.1), color = 'black'),\n",
    "              axis.title.x = element_text(hjust = 0.5, face = \"bold\", margin = margin(20,0,0,0), size = rel(1.1), color = 'black'),\n",
    "              plot.title = element_text(hjust = 0.5)\n",
    "            ))\n",
    "# Add a column to the data frame to specify if they are UP- or DOWN- regulated \n",
    "d_topTags$diffexpressed <- \"NO\"  # add a column diffexpressed with only NO  \n",
    "# if log2Foldchange > 1 and FDR < 0.05, set as \"UP\"  \n",
    "d_topTags$diffexpressed[d_topTags$logFC > 1 & d_topTags$FDR < 0.05] <- \"UP\"\n",
    "# if log2Foldchange < -1 and FDR < 0.05, set as \"DOWN\"\n",
    "d_topTags$diffexpressed[d_topTags$logFC < -1 & d_topTags$FDR < 0.05] <- \"DOWN\"\n",
    "\n",
    "# Create a new column \"delabel\" to de, that will contain the name of the top 15 differentially expressed genes (NA in case they are not)\n",
    "data_test<- d_topTags\n",
    "names <- rownames(d_topTags)\n",
    "d_topTags <- cbind(names,d_topTags)\n",
    "d_topTags$delabel <- ifelse(d_topTags$names %in% head(d_topTags[order(d_topTags$FDR), \"names\"], 15), d_topTags$names, NA)\n",
    "\n",
    "# Set plot size: width and height in inches\n",
    "options(repr.plot.width = 12, repr.plot.height = 12)\n",
    "\n",
    "ggplot(data = d_topTags, aes(x = logFC, y = -log10(FDR), col = diffexpressed, label = delabel)) +\n",
    "  geom_vline(xintercept = c(-1, 1), col = \"gray\", linetype = 'dashed') +\n",
    "  geom_hline(yintercept = -log10(0.05), col = \"gray\", linetype = 'dashed') + \n",
    "  geom_point(size = 2) + \n",
    "  scale_color_manual(values = c(\"#00AFBB\", \"grey\", \"#bb0c00\"), # to set the colours of our variable  \n",
    "                     labels = c(\"Downregulated\", \"Not significant\", \"Upregulated\")) + \n",
    "  coord_cartesian(ylim = c(0, 6), xlim = c(-2, 2)) + # set the limits of the axes\n",
    "  labs(color = 'Regulation', #legend_title, \n",
    "       x = expression(\"log\"[2]*\"FC\"), y = expression(\"-log\"[10]*\"FDR\")) + \n",
    "  scale_x_continuous(breaks = seq(-10, 10, 2)) + # to customise the breaks in the x axis\n",
    "  ggtitle('AGE differential morphological cluster expression (Aorta)') +\n",
    "  geom_text_repel(max.overlaps = Inf) # To show all labels"
   ]
  },
  {
   "cell_type": "markdown",
   "id": "11400440-c1f7-48cd-a384-fe75eff2b373",
   "metadata": {},
   "source": [
    "#### 2.1.2.2 DGE for SEX "
   ]
  },
  {
   "cell_type": "code",
   "execution_count": 251,
   "id": "146a20be-9b06-406c-90ab-3714a6aa0139",
   "metadata": {
    "scrolled": true
   },
   "outputs": [
    {
     "data": {
      "text/html": [
       "<dl>\n",
       "\t<dt>$table</dt>\n",
       "\t\t<dd><table class=\"dataframe\">\n",
       "<caption>A data.frame: 31 × 5</caption>\n",
       "<thead>\n",
       "\t<tr><th></th><th scope=col>logFC</th><th scope=col>logCPM</th><th scope=col>F</th><th scope=col>PValue</th><th scope=col>FDR</th></tr>\n",
       "\t<tr><th></th><th scope=col>&lt;dbl&gt;</th><th scope=col>&lt;dbl&gt;</th><th scope=col>&lt;dbl&gt;</th><th scope=col>&lt;dbl&gt;</th><th scope=col>&lt;dbl&gt;</th></tr>\n",
       "</thead>\n",
       "<tbody>\n",
       "\t<tr><th scope=row>Mophological.cluster.G4_3</th><td> 1.144356672</td><td>15.49945</td><td>17.794822627</td><td>3.319319e-05</td><td>0.001028989</td></tr>\n",
       "\t<tr><th scope=row>Mophological.cluster.G4_4</th><td>-0.922847547</td><td>15.03353</td><td> 8.034045729</td><td>4.922344e-03</td><td>0.076296324</td></tr>\n",
       "\t<tr><th scope=row>Mophological.cluster.G4_7</th><td>-0.906175728</td><td>12.45333</td><td> 5.095458734</td><td>2.475352e-02</td><td>0.255786405</td></tr>\n",
       "\t<tr><th scope=row>Mophological.cluster.G4_26</th><td> 0.385493058</td><td>15.73628</td><td> 3.852083978</td><td>5.066701e-02</td><td>0.386477907</td></tr>\n",
       "\t<tr><th scope=row>Mophological.cluster.G4_29</th><td>-0.555900545</td><td>14.70323</td><td> 3.216683890</td><td>7.396234e-02</td><td>0.386477907</td></tr>\n",
       "\t<tr><th scope=row>Mophological.cluster.G4_9</th><td> 0.244218901</td><td>15.02450</td><td> 3.073770001</td><td>8.065111e-02</td><td>0.386477907</td></tr>\n",
       "\t<tr><th scope=row>Mophological.cluster.G4_21</th><td>-0.355697068</td><td>12.35601</td><td> 2.944485787</td><td>8.726920e-02</td><td>0.386477907</td></tr>\n",
       "\t<tr><th scope=row>Mophological.cluster.G4_12</th><td>-0.577080636</td><td>14.26207</td><td> 2.254055499</td><td>1.343834e-01</td><td>0.520735699</td></tr>\n",
       "\t<tr><th scope=row>Mophological.cluster.G4_13</th><td>-0.422683836</td><td>15.18659</td><td> 1.720421420</td><td>1.907055e-01</td><td>0.601609520</td></tr>\n",
       "\t<tr><th scope=row>Mophological.cluster.G4_0</th><td>-0.403691797</td><td>14.64831</td><td> 1.694526115</td><td>1.940676e-01</td><td>0.601609520</td></tr>\n",
       "\t<tr><th scope=row>Mophological.cluster.G4_28</th><td>-0.101987869</td><td>15.45268</td><td> 1.175201545</td><td>2.792608e-01</td><td>0.675944084</td></tr>\n",
       "\t<tr><th scope=row>Mophological.cluster.G4_8</th><td>-0.274932326</td><td>15.52699</td><td> 1.047854433</td><td>3.068789e-01</td><td>0.675944084</td></tr>\n",
       "\t<tr><th scope=row>Mophological.cluster.G4_5</th><td> 0.193337272</td><td>15.22492</td><td> 0.984864914</td><td>3.218513e-01</td><td>0.675944084</td></tr>\n",
       "\t<tr><th scope=row>Mophological.cluster.G4_10</th><td>-0.273949282</td><td>13.70643</td><td> 0.973120190</td><td>3.247487e-01</td><td>0.675944084</td></tr>\n",
       "\t<tr><th scope=row>Mophological.cluster.G4_18</th><td>-0.312241116</td><td>14.59537</td><td> 0.963811855</td><td>3.270697e-01</td><td>0.675944084</td></tr>\n",
       "\t<tr><th scope=row>Mophological.cluster.G4_24</th><td>-0.205802766</td><td>15.77025</td><td> 0.783319096</td><td>3.768819e-01</td><td>0.685964594</td></tr>\n",
       "\t<tr><th scope=row>Mophological.cluster.G4_22</th><td>-0.201041046</td><td>15.52465</td><td> 0.688503537</td><td>4.073756e-01</td><td>0.685964594</td></tr>\n",
       "\t<tr><th scope=row>Mophological.cluster.G4_19</th><td>-0.097657103</td><td>14.85316</td><td> 0.684063822</td><td>4.088900e-01</td><td>0.685964594</td></tr>\n",
       "\t<tr><th scope=row>Mophological.cluster.G4_15</th><td> 0.129467033</td><td>15.19245</td><td> 0.651014897</td><td>4.204299e-01</td><td>0.685964594</td></tr>\n",
       "\t<tr><th scope=row>Mophological.cluster.G4_6</th><td> 0.293987962</td><td>13.90345</td><td> 0.560432993</td><td>4.547097e-01</td><td>0.704799975</td></tr>\n",
       "\t<tr><th scope=row>Mophological.cluster.G4_27</th><td>-0.155842209</td><td>15.34751</td><td> 0.427606845</td><td>5.136984e-01</td><td>0.727225646</td></tr>\n",
       "\t<tr><th scope=row>Mophological.cluster.G4_17</th><td>-0.229756382</td><td>12.56523</td><td> 0.385809700</td><td>5.350119e-01</td><td>0.727225646</td></tr>\n",
       "\t<tr><th scope=row>Mophological.cluster.G4_30</th><td>-0.107112161</td><td>14.52135</td><td> 0.329628802</td><td>5.663353e-01</td><td>0.727225646</td></tr>\n",
       "\t<tr><th scope=row>Mophological.cluster.G4_23</th><td>-0.081997022</td><td>14.60482</td><td> 0.300674636</td><td>5.838935e-01</td><td>0.727225646</td></tr>\n",
       "\t<tr><th scope=row>Mophological.cluster.G4_14</th><td>-0.146271026</td><td>15.29679</td><td> 0.261896135</td><td>6.092209e-01</td><td>0.727225646</td></tr>\n",
       "\t<tr><th scope=row>Mophological.cluster.G4_2</th><td>-0.115362748</td><td>15.00127</td><td> 0.260857483</td><td>6.099312e-01</td><td>0.727225646</td></tr>\n",
       "\t<tr><th scope=row>Mophological.cluster.G4_11</th><td> 0.117703955</td><td>15.23525</td><td> 0.201998817</td><td>6.534575e-01</td><td>0.750265966</td></tr>\n",
       "\t<tr><th scope=row>Mophological.cluster.G4_20</th><td> 0.084827972</td><td>15.27135</td><td> 0.149857955</td><td>6.989631e-01</td><td>0.754613963</td></tr>\n",
       "\t<tr><th scope=row>Mophological.cluster.G4_1</th><td> 0.103004729</td><td>15.50760</td><td> 0.142665789</td><td>7.059292e-01</td><td>0.754613963</td></tr>\n",
       "\t<tr><th scope=row>Mophological.cluster.G4_25</th><td>-0.099047549</td><td>15.74792</td><td> 0.083563403</td><td>7.727376e-01</td><td>0.798495525</td></tr>\n",
       "\t<tr><th scope=row>Mophological.cluster.G4_16</th><td>-0.005825285</td><td>15.31607</td><td> 0.006437329</td><td>9.361089e-01</td><td>0.936108869</td></tr>\n",
       "</tbody>\n",
       "</table>\n",
       "</dd>\n",
       "\t<dt>$adjust.method</dt>\n",
       "\t\t<dd>'BH'</dd>\n",
       "\t<dt>$comparison</dt>\n",
       "\t\t<dd>'clinical_data$SEX2'</dd>\n",
       "\t<dt>$test</dt>\n",
       "\t\t<dd>'glm'</dd>\n",
       "</dl>\n"
      ],
      "text/latex": [
       "\\begin{description}\n",
       "\\item[\\$table] A data.frame: 31 × 5\n",
       "\\begin{tabular}{r|lllll}\n",
       "  & logFC & logCPM & F & PValue & FDR\\\\\n",
       "  & <dbl> & <dbl> & <dbl> & <dbl> & <dbl>\\\\\n",
       "\\hline\n",
       "\tMophological.cluster.G4\\_3 &  1.144356672 & 15.49945 & 17.794822627 & 3.319319e-05 & 0.001028989\\\\\n",
       "\tMophological.cluster.G4\\_4 & -0.922847547 & 15.03353 &  8.034045729 & 4.922344e-03 & 0.076296324\\\\\n",
       "\tMophological.cluster.G4\\_7 & -0.906175728 & 12.45333 &  5.095458734 & 2.475352e-02 & 0.255786405\\\\\n",
       "\tMophological.cluster.G4\\_26 &  0.385493058 & 15.73628 &  3.852083978 & 5.066701e-02 & 0.386477907\\\\\n",
       "\tMophological.cluster.G4\\_29 & -0.555900545 & 14.70323 &  3.216683890 & 7.396234e-02 & 0.386477907\\\\\n",
       "\tMophological.cluster.G4\\_9 &  0.244218901 & 15.02450 &  3.073770001 & 8.065111e-02 & 0.386477907\\\\\n",
       "\tMophological.cluster.G4\\_21 & -0.355697068 & 12.35601 &  2.944485787 & 8.726920e-02 & 0.386477907\\\\\n",
       "\tMophological.cluster.G4\\_12 & -0.577080636 & 14.26207 &  2.254055499 & 1.343834e-01 & 0.520735699\\\\\n",
       "\tMophological.cluster.G4\\_13 & -0.422683836 & 15.18659 &  1.720421420 & 1.907055e-01 & 0.601609520\\\\\n",
       "\tMophological.cluster.G4\\_0 & -0.403691797 & 14.64831 &  1.694526115 & 1.940676e-01 & 0.601609520\\\\\n",
       "\tMophological.cluster.G4\\_28 & -0.101987869 & 15.45268 &  1.175201545 & 2.792608e-01 & 0.675944084\\\\\n",
       "\tMophological.cluster.G4\\_8 & -0.274932326 & 15.52699 &  1.047854433 & 3.068789e-01 & 0.675944084\\\\\n",
       "\tMophological.cluster.G4\\_5 &  0.193337272 & 15.22492 &  0.984864914 & 3.218513e-01 & 0.675944084\\\\\n",
       "\tMophological.cluster.G4\\_10 & -0.273949282 & 13.70643 &  0.973120190 & 3.247487e-01 & 0.675944084\\\\\n",
       "\tMophological.cluster.G4\\_18 & -0.312241116 & 14.59537 &  0.963811855 & 3.270697e-01 & 0.675944084\\\\\n",
       "\tMophological.cluster.G4\\_24 & -0.205802766 & 15.77025 &  0.783319096 & 3.768819e-01 & 0.685964594\\\\\n",
       "\tMophological.cluster.G4\\_22 & -0.201041046 & 15.52465 &  0.688503537 & 4.073756e-01 & 0.685964594\\\\\n",
       "\tMophological.cluster.G4\\_19 & -0.097657103 & 14.85316 &  0.684063822 & 4.088900e-01 & 0.685964594\\\\\n",
       "\tMophological.cluster.G4\\_15 &  0.129467033 & 15.19245 &  0.651014897 & 4.204299e-01 & 0.685964594\\\\\n",
       "\tMophological.cluster.G4\\_6 &  0.293987962 & 13.90345 &  0.560432993 & 4.547097e-01 & 0.704799975\\\\\n",
       "\tMophological.cluster.G4\\_27 & -0.155842209 & 15.34751 &  0.427606845 & 5.136984e-01 & 0.727225646\\\\\n",
       "\tMophological.cluster.G4\\_17 & -0.229756382 & 12.56523 &  0.385809700 & 5.350119e-01 & 0.727225646\\\\\n",
       "\tMophological.cluster.G4\\_30 & -0.107112161 & 14.52135 &  0.329628802 & 5.663353e-01 & 0.727225646\\\\\n",
       "\tMophological.cluster.G4\\_23 & -0.081997022 & 14.60482 &  0.300674636 & 5.838935e-01 & 0.727225646\\\\\n",
       "\tMophological.cluster.G4\\_14 & -0.146271026 & 15.29679 &  0.261896135 & 6.092209e-01 & 0.727225646\\\\\n",
       "\tMophological.cluster.G4\\_2 & -0.115362748 & 15.00127 &  0.260857483 & 6.099312e-01 & 0.727225646\\\\\n",
       "\tMophological.cluster.G4\\_11 &  0.117703955 & 15.23525 &  0.201998817 & 6.534575e-01 & 0.750265966\\\\\n",
       "\tMophological.cluster.G4\\_20 &  0.084827972 & 15.27135 &  0.149857955 & 6.989631e-01 & 0.754613963\\\\\n",
       "\tMophological.cluster.G4\\_1 &  0.103004729 & 15.50760 &  0.142665789 & 7.059292e-01 & 0.754613963\\\\\n",
       "\tMophological.cluster.G4\\_25 & -0.099047549 & 15.74792 &  0.083563403 & 7.727376e-01 & 0.798495525\\\\\n",
       "\tMophological.cluster.G4\\_16 & -0.005825285 & 15.31607 &  0.006437329 & 9.361089e-01 & 0.936108869\\\\\n",
       "\\end{tabular}\n",
       "\n",
       "\\item[\\$adjust.method] 'BH'\n",
       "\\item[\\$comparison] 'clinical\\_data\\$SEX2'\n",
       "\\item[\\$test] 'glm'\n",
       "\\end{description}\n"
      ],
      "text/markdown": [
       "$table\n",
       ":   \n",
       "A data.frame: 31 × 5\n",
       "\n",
       "| <!--/--> | logFC &lt;dbl&gt; | logCPM &lt;dbl&gt; | F &lt;dbl&gt; | PValue &lt;dbl&gt; | FDR &lt;dbl&gt; |\n",
       "|---|---|---|---|---|---|\n",
       "| Mophological.cluster.G4_3 |  1.144356672 | 15.49945 | 17.794822627 | 3.319319e-05 | 0.001028989 |\n",
       "| Mophological.cluster.G4_4 | -0.922847547 | 15.03353 |  8.034045729 | 4.922344e-03 | 0.076296324 |\n",
       "| Mophological.cluster.G4_7 | -0.906175728 | 12.45333 |  5.095458734 | 2.475352e-02 | 0.255786405 |\n",
       "| Mophological.cluster.G4_26 |  0.385493058 | 15.73628 |  3.852083978 | 5.066701e-02 | 0.386477907 |\n",
       "| Mophological.cluster.G4_29 | -0.555900545 | 14.70323 |  3.216683890 | 7.396234e-02 | 0.386477907 |\n",
       "| Mophological.cluster.G4_9 |  0.244218901 | 15.02450 |  3.073770001 | 8.065111e-02 | 0.386477907 |\n",
       "| Mophological.cluster.G4_21 | -0.355697068 | 12.35601 |  2.944485787 | 8.726920e-02 | 0.386477907 |\n",
       "| Mophological.cluster.G4_12 | -0.577080636 | 14.26207 |  2.254055499 | 1.343834e-01 | 0.520735699 |\n",
       "| Mophological.cluster.G4_13 | -0.422683836 | 15.18659 |  1.720421420 | 1.907055e-01 | 0.601609520 |\n",
       "| Mophological.cluster.G4_0 | -0.403691797 | 14.64831 |  1.694526115 | 1.940676e-01 | 0.601609520 |\n",
       "| Mophological.cluster.G4_28 | -0.101987869 | 15.45268 |  1.175201545 | 2.792608e-01 | 0.675944084 |\n",
       "| Mophological.cluster.G4_8 | -0.274932326 | 15.52699 |  1.047854433 | 3.068789e-01 | 0.675944084 |\n",
       "| Mophological.cluster.G4_5 |  0.193337272 | 15.22492 |  0.984864914 | 3.218513e-01 | 0.675944084 |\n",
       "| Mophological.cluster.G4_10 | -0.273949282 | 13.70643 |  0.973120190 | 3.247487e-01 | 0.675944084 |\n",
       "| Mophological.cluster.G4_18 | -0.312241116 | 14.59537 |  0.963811855 | 3.270697e-01 | 0.675944084 |\n",
       "| Mophological.cluster.G4_24 | -0.205802766 | 15.77025 |  0.783319096 | 3.768819e-01 | 0.685964594 |\n",
       "| Mophological.cluster.G4_22 | -0.201041046 | 15.52465 |  0.688503537 | 4.073756e-01 | 0.685964594 |\n",
       "| Mophological.cluster.G4_19 | -0.097657103 | 14.85316 |  0.684063822 | 4.088900e-01 | 0.685964594 |\n",
       "| Mophological.cluster.G4_15 |  0.129467033 | 15.19245 |  0.651014897 | 4.204299e-01 | 0.685964594 |\n",
       "| Mophological.cluster.G4_6 |  0.293987962 | 13.90345 |  0.560432993 | 4.547097e-01 | 0.704799975 |\n",
       "| Mophological.cluster.G4_27 | -0.155842209 | 15.34751 |  0.427606845 | 5.136984e-01 | 0.727225646 |\n",
       "| Mophological.cluster.G4_17 | -0.229756382 | 12.56523 |  0.385809700 | 5.350119e-01 | 0.727225646 |\n",
       "| Mophological.cluster.G4_30 | -0.107112161 | 14.52135 |  0.329628802 | 5.663353e-01 | 0.727225646 |\n",
       "| Mophological.cluster.G4_23 | -0.081997022 | 14.60482 |  0.300674636 | 5.838935e-01 | 0.727225646 |\n",
       "| Mophological.cluster.G4_14 | -0.146271026 | 15.29679 |  0.261896135 | 6.092209e-01 | 0.727225646 |\n",
       "| Mophological.cluster.G4_2 | -0.115362748 | 15.00127 |  0.260857483 | 6.099312e-01 | 0.727225646 |\n",
       "| Mophological.cluster.G4_11 |  0.117703955 | 15.23525 |  0.201998817 | 6.534575e-01 | 0.750265966 |\n",
       "| Mophological.cluster.G4_20 |  0.084827972 | 15.27135 |  0.149857955 | 6.989631e-01 | 0.754613963 |\n",
       "| Mophological.cluster.G4_1 |  0.103004729 | 15.50760 |  0.142665789 | 7.059292e-01 | 0.754613963 |\n",
       "| Mophological.cluster.G4_25 | -0.099047549 | 15.74792 |  0.083563403 | 7.727376e-01 | 0.798495525 |\n",
       "| Mophological.cluster.G4_16 | -0.005825285 | 15.31607 |  0.006437329 | 9.361089e-01 | 0.936108869 |\n",
       "\n",
       "\n",
       "$adjust.method\n",
       ":   'BH'\n",
       "$comparison\n",
       ":   'clinical_data$SEX2'\n",
       "$test\n",
       ":   'glm'\n",
       "\n",
       "\n"
      ],
      "text/plain": [
       "Coefficient:  clinical_data$SEX2 \n",
       "                                  logFC   logCPM            F       PValue\n",
       "Mophological.cluster.G4_3   1.144356672 15.49945 17.794822627 3.319319e-05\n",
       "Mophological.cluster.G4_4  -0.922847547 15.03353  8.034045729 4.922344e-03\n",
       "Mophological.cluster.G4_7  -0.906175728 12.45333  5.095458734 2.475352e-02\n",
       "Mophological.cluster.G4_26  0.385493058 15.73628  3.852083978 5.066701e-02\n",
       "Mophological.cluster.G4_29 -0.555900545 14.70323  3.216683890 7.396234e-02\n",
       "Mophological.cluster.G4_9   0.244218901 15.02450  3.073770001 8.065111e-02\n",
       "Mophological.cluster.G4_21 -0.355697068 12.35601  2.944485787 8.726920e-02\n",
       "Mophological.cluster.G4_12 -0.577080636 14.26207  2.254055499 1.343834e-01\n",
       "Mophological.cluster.G4_13 -0.422683836 15.18659  1.720421420 1.907055e-01\n",
       "Mophological.cluster.G4_0  -0.403691797 14.64831  1.694526115 1.940676e-01\n",
       "Mophological.cluster.G4_28 -0.101987869 15.45268  1.175201545 2.792608e-01\n",
       "Mophological.cluster.G4_8  -0.274932326 15.52699  1.047854433 3.068789e-01\n",
       "Mophological.cluster.G4_5   0.193337272 15.22492  0.984864914 3.218513e-01\n",
       "Mophological.cluster.G4_10 -0.273949282 13.70643  0.973120190 3.247487e-01\n",
       "Mophological.cluster.G4_18 -0.312241116 14.59537  0.963811855 3.270697e-01\n",
       "Mophological.cluster.G4_24 -0.205802766 15.77025  0.783319096 3.768819e-01\n",
       "Mophological.cluster.G4_22 -0.201041046 15.52465  0.688503537 4.073756e-01\n",
       "Mophological.cluster.G4_19 -0.097657103 14.85316  0.684063822 4.088900e-01\n",
       "Mophological.cluster.G4_15  0.129467033 15.19245  0.651014897 4.204299e-01\n",
       "Mophological.cluster.G4_6   0.293987962 13.90345  0.560432993 4.547097e-01\n",
       "Mophological.cluster.G4_27 -0.155842209 15.34751  0.427606845 5.136984e-01\n",
       "Mophological.cluster.G4_17 -0.229756382 12.56523  0.385809700 5.350119e-01\n",
       "Mophological.cluster.G4_30 -0.107112161 14.52135  0.329628802 5.663353e-01\n",
       "Mophological.cluster.G4_23 -0.081997022 14.60482  0.300674636 5.838935e-01\n",
       "Mophological.cluster.G4_14 -0.146271026 15.29679  0.261896135 6.092209e-01\n",
       "Mophological.cluster.G4_2  -0.115362748 15.00127  0.260857483 6.099312e-01\n",
       "Mophological.cluster.G4_11  0.117703955 15.23525  0.201998817 6.534575e-01\n",
       "Mophological.cluster.G4_20  0.084827972 15.27135  0.149857955 6.989631e-01\n",
       "Mophological.cluster.G4_1   0.103004729 15.50760  0.142665789 7.059292e-01\n",
       "Mophological.cluster.G4_25 -0.099047549 15.74792  0.083563403 7.727376e-01\n",
       "Mophological.cluster.G4_16 -0.005825285 15.31607  0.006437329 9.361089e-01\n",
       "                                   FDR\n",
       "Mophological.cluster.G4_3  0.001028989\n",
       "Mophological.cluster.G4_4  0.076296324\n",
       "Mophological.cluster.G4_7  0.255786405\n",
       "Mophological.cluster.G4_26 0.386477907\n",
       "Mophological.cluster.G4_29 0.386477907\n",
       "Mophological.cluster.G4_9  0.386477907\n",
       "Mophological.cluster.G4_21 0.386477907\n",
       "Mophological.cluster.G4_12 0.520735699\n",
       "Mophological.cluster.G4_13 0.601609520\n",
       "Mophological.cluster.G4_0  0.601609520\n",
       "Mophological.cluster.G4_28 0.675944084\n",
       "Mophological.cluster.G4_8  0.675944084\n",
       "Mophological.cluster.G4_5  0.675944084\n",
       "Mophological.cluster.G4_10 0.675944084\n",
       "Mophological.cluster.G4_18 0.675944084\n",
       "Mophological.cluster.G4_24 0.685964594\n",
       "Mophological.cluster.G4_22 0.685964594\n",
       "Mophological.cluster.G4_19 0.685964594\n",
       "Mophological.cluster.G4_15 0.685964594\n",
       "Mophological.cluster.G4_6  0.704799975\n",
       "Mophological.cluster.G4_27 0.727225646\n",
       "Mophological.cluster.G4_17 0.727225646\n",
       "Mophological.cluster.G4_30 0.727225646\n",
       "Mophological.cluster.G4_23 0.727225646\n",
       "Mophological.cluster.G4_14 0.727225646\n",
       "Mophological.cluster.G4_2  0.727225646\n",
       "Mophological.cluster.G4_11 0.750265966\n",
       "Mophological.cluster.G4_20 0.754613963\n",
       "Mophological.cluster.G4_1  0.754613963\n",
       "Mophological.cluster.G4_25 0.798495525\n",
       "Mophological.cluster.G4_16 0.936108869"
      ]
     },
     "metadata": {},
     "output_type": "display_data"
    }
   ],
   "source": [
    "# create the differential expression data structure used by edgeR (DGElist)\n",
    "DGE_list <- DGEList(morpho_counts2, group = clinical_data$SEX)\n",
    "keep <- filterByExpr(DGE_list)\n",
    "DGE_list <- DGE_list[keep, , keep.lib.sizes=FALSE]\n",
    "\n",
    "# normalize the data\n",
    "DGE_list <- calcNormFactors(DGE_list)\n",
    "DGE_list <- normLibSizes(DGE_list)\n",
    "\n",
    "# create a design matrix\n",
    "design <- model.matrix(~clinical_data$SEX)\n",
    "# estimate the dispersion\n",
    "DGE_list <- estimateDisp(DGE_list, design)\n",
    "\n",
    "# fit the model and test for differential expression\n",
    "fit <- glmQLFit(DGE_list,design)\n",
    "qlf <- glmQLFTest(fit,coef=2)\n",
    "\n",
    "# get the differential expression table\n",
    "topTags(qlf,n = 32)"
   ]
  },
  {
   "cell_type": "code",
   "execution_count": 253,
   "id": "056e4d06-a461-49ec-b60d-2928e71b66e0",
   "metadata": {},
   "outputs": [
    {
     "name": "stderr",
     "output_type": "stream",
     "text": [
      "Warning message:\n",
      "\"\u001b[1m\u001b[22mRemoved 16 rows containing missing values or values outside the scale range (`geom_text_repel()`).\"\n"
     ]
    },
    {
     "data": {
      "image/png": "[encoded data removed]",
      "text/plain": [
       "plot without title"
      ]
     },
     "metadata": {
      "image/png": {
       "height": 720,
       "width": 720
      }
     },
     "output_type": "display_data"
    }
   ],
   "source": [
    "##### SEX volcanoplot\n",
    "d_topTags <- topTags(qlf, n = 32)[[\"table\"]]\n",
    "# Biostatsquid theme\n",
    "theme_set(theme_classic(base_size = 20) +\n",
    "            theme(\n",
    "              axis.title.y = element_text(face = \"bold\", margin = margin(0,20,0,0), size = rel(1.1), color = 'black'),\n",
    "              axis.title.x = element_text(hjust = 0.5, face = \"bold\", margin = margin(20,0,0,0), size = rel(1.1), color = 'black'),\n",
    "              plot.title = element_text(hjust = 0.5)\n",
    "            ))\n",
    "# Add a column to the data frame to specify if they are UP- or DOWN- regulated \n",
    "d_topTags$diffexpressed <- \"NO\"  # add a column diffexpressed with only NO  \n",
    "# if log2Foldchange > 1 and FDR < 0.05, set as \"UP\"  \n",
    "d_topTags$diffexpressed[d_topTags$logFC > 1 & d_topTags$FDR < 0.05] <- \"UP\"\n",
    "# if log2Foldchange < -1 and FDR < 0.05, set as \"DOWN\"\n",
    "d_topTags$diffexpressed[d_topTags$logFC < -1 & d_topTags$FDR < 0.05] <- \"DOWN\"\n",
    "\n",
    "# Create a new column \"delabel\" to de, that will contain the name of the top 15 differentially expressed genes (NA in case they are not)\n",
    "data_test<- d_topTags\n",
    "names <- rownames(d_topTags)\n",
    "d_topTags <- cbind(names,d_topTags)\n",
    "d_topTags$delabel <- ifelse(d_topTags$names %in% head(d_topTags[order(d_topTags$FDR), \"names\"], 15), d_topTags$names, NA)\n",
    "# Set plot size: width and height in inches\n",
    "options(repr.plot.width = 12, repr.plot.height = 12)\n",
    "\n",
    "ggplot(data = d_topTags, aes(x = logFC, y = -log10(FDR), col = diffexpressed, label = delabel)) +\n",
    "  geom_vline(xintercept = c(-1, 1), col = \"gray\", linetype = 'dashed') +\n",
    "  geom_hline(yintercept = -log10(0.05), col = \"gray\", linetype = 'dashed') + \n",
    "  geom_point(size = 2) + \n",
    "  scale_color_manual(values = c(\"#00AFBB\", \"grey\", \"#bb0c00\"), # to set the colours of our variable  \n",
    "                     labels = c(\"Downregulated\", \"Not significant\", \"Upregulated\")) + \n",
    "  coord_cartesian(ylim = c(0, 6), xlim = c(-2, 2)) + # set the limits of the axes\n",
    "  labs(color = 'Regulation', #legend_title, \n",
    "       x = expression(\"log\"[2]*\"FC\"), y = expression(\"-log\"[10]*\"FDR\")) + \n",
    "  scale_x_continuous(breaks = seq(-10, 10, 2)) + # to customise the breaks in the x axis\n",
    "  ggtitle('AGE differential morphological cluster expression (Aorta)') +\n",
    "  geom_text_repel(max.overlaps = Inf) # To show all labels"
   ]
  },
  {
   "cell_type": "code",
   "execution_count": 199,
   "id": "b265e446-313b-4e58-bb37-e45cfa7c7503",
   "metadata": {},
   "outputs": [],
   "source": [
    "TRISCHD_group <- factor(ifelse(clinical_data$TRISCHD < median(clinical_data$TRISCHD), \"low_TRISCHD\", \"high_TRISCHD\"))"
   ]
  },
  {
   "cell_type": "markdown",
   "id": "de0cb6b8-d7da-40bf-9d86-0d85bacb9a04",
   "metadata": {},
   "source": [
    "#### 2.1.2.3 DGE for HGHT "
   ]
  },
  {
   "cell_type": "code",
   "execution_count": 245,
   "id": "a09f2e1a-6905-4625-aeb1-c43833c08a1e",
   "metadata": {},
   "outputs": [
    {
     "data": {
      "text/html": [
       "<dl>\n",
       "\t<dt>$table</dt>\n",
       "\t\t<dd><table class=\"dataframe\">\n",
       "<caption>A data.frame: 10 × 5</caption>\n",
       "<thead>\n",
       "\t<tr><th></th><th scope=col>logFC</th><th scope=col>logCPM</th><th scope=col>F</th><th scope=col>PValue</th><th scope=col>FDR</th></tr>\n",
       "\t<tr><th></th><th scope=col>&lt;dbl&gt;</th><th scope=col>&lt;dbl&gt;</th><th scope=col>&lt;dbl&gt;</th><th scope=col>&lt;dbl&gt;</th><th scope=col>&lt;dbl&gt;</th></tr>\n",
       "</thead>\n",
       "<tbody>\n",
       "\t<tr><th scope=row>Mophological.cluster.G4_5</th><td> 0.5563470</td><td>15.22492</td><td>3.3820012</td><td>0.06698977</td><td>0.9649157</td></tr>\n",
       "\t<tr><th scope=row>Mophological.cluster.G4_20</th><td> 0.3897738</td><td>15.27135</td><td>1.4839912</td><td>0.22419492</td><td>0.9649157</td></tr>\n",
       "\t<tr><th scope=row>Mophological.cluster.G4_26</th><td> 0.3264946</td><td>15.73628</td><td>1.4278867</td><td>0.23313889</td><td>0.9649157</td></tr>\n",
       "\t<tr><th scope=row>Mophological.cluster.G4_29</th><td>-0.5470664</td><td>14.70322</td><td>1.3973980</td><td>0.23818057</td><td>0.9649157</td></tr>\n",
       "\t<tr><th scope=row>Mophological.cluster.G4_7</th><td>-0.7993153</td><td>12.45336</td><td>1.3329585</td><td>0.24928159</td><td>0.9649157</td></tr>\n",
       "\t<tr><th scope=row>Mophological.cluster.G4_8</th><td>-0.4273356</td><td>15.52698</td><td>0.9957156</td><td>0.31922640</td><td>0.9649157</td></tr>\n",
       "\t<tr><th scope=row>Mophological.cluster.G4_28</th><td>-0.1206014</td><td>15.45268</td><td>0.8492426</td><td>0.35757423</td><td>0.9649157</td></tr>\n",
       "\t<tr><th scope=row>Mophological.cluster.G4_17</th><td>-0.5243392</td><td>12.56524</td><td>0.7187340</td><td>0.39729655</td><td>0.9649157</td></tr>\n",
       "\t<tr><th scope=row>Mophological.cluster.G4_2</th><td>-0.2763373</td><td>15.00128</td><td>0.6387608</td><td>0.42484946</td><td>0.9649157</td></tr>\n",
       "\t<tr><th scope=row>Mophological.cluster.G4_22</th><td> 0.2642253</td><td>15.52465</td><td>0.5644399</td><td>0.45311910</td><td>0.9649157</td></tr>\n",
       "</tbody>\n",
       "</table>\n",
       "</dd>\n",
       "\t<dt>$adjust.method</dt>\n",
       "\t\t<dd>'BH'</dd>\n",
       "\t<dt>$comparison</dt>\n",
       "\t\t<dd>'height_grouptall'</dd>\n",
       "\t<dt>$test</dt>\n",
       "\t\t<dd>'glm'</dd>\n",
       "</dl>\n"
      ],
      "text/latex": [
       "\\begin{description}\n",
       "\\item[\\$table] A data.frame: 10 × 5\n",
       "\\begin{tabular}{r|lllll}\n",
       "  & logFC & logCPM & F & PValue & FDR\\\\\n",
       "  & <dbl> & <dbl> & <dbl> & <dbl> & <dbl>\\\\\n",
       "\\hline\n",
       "\tMophological.cluster.G4\\_5 &  0.5563470 & 15.22492 & 3.3820012 & 0.06698977 & 0.9649157\\\\\n",
       "\tMophological.cluster.G4\\_20 &  0.3897738 & 15.27135 & 1.4839912 & 0.22419492 & 0.9649157\\\\\n",
       "\tMophological.cluster.G4\\_26 &  0.3264946 & 15.73628 & 1.4278867 & 0.23313889 & 0.9649157\\\\\n",
       "\tMophological.cluster.G4\\_29 & -0.5470664 & 14.70322 & 1.3973980 & 0.23818057 & 0.9649157\\\\\n",
       "\tMophological.cluster.G4\\_7 & -0.7993153 & 12.45336 & 1.3329585 & 0.24928159 & 0.9649157\\\\\n",
       "\tMophological.cluster.G4\\_8 & -0.4273356 & 15.52698 & 0.9957156 & 0.31922640 & 0.9649157\\\\\n",
       "\tMophological.cluster.G4\\_28 & -0.1206014 & 15.45268 & 0.8492426 & 0.35757423 & 0.9649157\\\\\n",
       "\tMophological.cluster.G4\\_17 & -0.5243392 & 12.56524 & 0.7187340 & 0.39729655 & 0.9649157\\\\\n",
       "\tMophological.cluster.G4\\_2 & -0.2763373 & 15.00128 & 0.6387608 & 0.42484946 & 0.9649157\\\\\n",
       "\tMophological.cluster.G4\\_22 &  0.2642253 & 15.52465 & 0.5644399 & 0.45311910 & 0.9649157\\\\\n",
       "\\end{tabular}\n",
       "\n",
       "\\item[\\$adjust.method] 'BH'\n",
       "\\item[\\$comparison] 'height\\_grouptall'\n",
       "\\item[\\$test] 'glm'\n",
       "\\end{description}\n"
      ],
      "text/markdown": [
       "$table\n",
       ":   \n",
       "A data.frame: 10 × 5\n",
       "\n",
       "| <!--/--> | logFC &lt;dbl&gt; | logCPM &lt;dbl&gt; | F &lt;dbl&gt; | PValue &lt;dbl&gt; | FDR &lt;dbl&gt; |\n",
       "|---|---|---|---|---|---|\n",
       "| Mophological.cluster.G4_5 |  0.5563470 | 15.22492 | 3.3820012 | 0.06698977 | 0.9649157 |\n",
       "| Mophological.cluster.G4_20 |  0.3897738 | 15.27135 | 1.4839912 | 0.22419492 | 0.9649157 |\n",
       "| Mophological.cluster.G4_26 |  0.3264946 | 15.73628 | 1.4278867 | 0.23313889 | 0.9649157 |\n",
       "| Mophological.cluster.G4_29 | -0.5470664 | 14.70322 | 1.3973980 | 0.23818057 | 0.9649157 |\n",
       "| Mophological.cluster.G4_7 | -0.7993153 | 12.45336 | 1.3329585 | 0.24928159 | 0.9649157 |\n",
       "| Mophological.cluster.G4_8 | -0.4273356 | 15.52698 | 0.9957156 | 0.31922640 | 0.9649157 |\n",
       "| Mophological.cluster.G4_28 | -0.1206014 | 15.45268 | 0.8492426 | 0.35757423 | 0.9649157 |\n",
       "| Mophological.cluster.G4_17 | -0.5243392 | 12.56524 | 0.7187340 | 0.39729655 | 0.9649157 |\n",
       "| Mophological.cluster.G4_2 | -0.2763373 | 15.00128 | 0.6387608 | 0.42484946 | 0.9649157 |\n",
       "| Mophological.cluster.G4_22 |  0.2642253 | 15.52465 | 0.5644399 | 0.45311910 | 0.9649157 |\n",
       "\n",
       "\n",
       "$adjust.method\n",
       ":   'BH'\n",
       "$comparison\n",
       ":   'height_grouptall'\n",
       "$test\n",
       ":   'glm'\n",
       "\n",
       "\n"
      ],
      "text/plain": [
       "Coefficient:  height_grouptall \n",
       "                                logFC   logCPM         F     PValue       FDR\n",
       "Mophological.cluster.G4_5   0.5563470 15.22492 3.3820012 0.06698977 0.9649157\n",
       "Mophological.cluster.G4_20  0.3897738 15.27135 1.4839912 0.22419492 0.9649157\n",
       "Mophological.cluster.G4_26  0.3264946 15.73628 1.4278867 0.23313889 0.9649157\n",
       "Mophological.cluster.G4_29 -0.5470664 14.70322 1.3973980 0.23818057 0.9649157\n",
       "Mophological.cluster.G4_7  -0.7993153 12.45336 1.3329585 0.24928159 0.9649157\n",
       "Mophological.cluster.G4_8  -0.4273356 15.52698 0.9957156 0.31922640 0.9649157\n",
       "Mophological.cluster.G4_28 -0.1206014 15.45268 0.8492426 0.35757423 0.9649157\n",
       "Mophological.cluster.G4_17 -0.5243392 12.56524 0.7187340 0.39729655 0.9649157\n",
       "Mophological.cluster.G4_2  -0.2763373 15.00128 0.6387608 0.42484946 0.9649157\n",
       "Mophological.cluster.G4_22  0.2642253 15.52465 0.5644399 0.45311910 0.9649157"
      ]
     },
     "metadata": {},
     "output_type": "display_data"
    }
   ],
   "source": [
    "# create the differential expression data structure used by edgeR (DGElist)\n",
    "DGE_list <- DGEList(morpho_counts2, group = height_group)\n",
    "keep <- filterByExpr(DGE_list)\n",
    "DGE_list <- DGE_list[keep, , keep.lib.sizes=FALSE]\n",
    "\n",
    "# normalize the data\n",
    "DGE_list <- calcNormFactors(DGE_list)\n",
    "DGE_list <- normLibSizes(DGE_list)\n",
    "\n",
    "# create a design matrix\n",
    "design <- model.matrix(~height_group + clinical_data$WGHT + clinical_data$TRISCHD + clinical_data$SEX + clinical_data$TRISCHD + clinical_data$DTHHRDY)\n",
    "\n",
    "# estimate the dispersion\n",
    "DGE_list <- estimateDisp(DGE_list, design)\n",
    "\n",
    "# fit the model and test for differential expression\n",
    "fit <- glmQLFit(DGE_list,design)\n",
    "qlf <- glmQLFTest(fit,coef=2)\n",
    "\n",
    "# get the differential expression table\n",
    "topTags(qlf,n = 10)"
   ]
  },
  {
   "cell_type": "markdown",
   "id": "a57d6afc-99cd-49b9-8302-bfa578d2d403",
   "metadata": {},
   "source": [
    "#### 2.1.2.4 DGE for WGHT "
   ]
  },
  {
   "cell_type": "code",
   "execution_count": 247,
   "id": "073a2e0c-2782-4b22-8f75-ebb4ff102862",
   "metadata": {},
   "outputs": [
    {
     "data": {
      "text/html": [
       "<dl>\n",
       "\t<dt>$table</dt>\n",
       "\t\t<dd><table class=\"dataframe\">\n",
       "<caption>A data.frame: 10 × 5</caption>\n",
       "<thead>\n",
       "\t<tr><th></th><th scope=col>logFC</th><th scope=col>logCPM</th><th scope=col>F</th><th scope=col>PValue</th><th scope=col>FDR</th></tr>\n",
       "\t<tr><th></th><th scope=col>&lt;dbl&gt;</th><th scope=col>&lt;dbl&gt;</th><th scope=col>&lt;dbl&gt;</th><th scope=col>&lt;dbl&gt;</th><th scope=col>&lt;dbl&gt;</th></tr>\n",
       "</thead>\n",
       "<tbody>\n",
       "\t<tr><th scope=row>Mophological.cluster.G4_11</th><td>-1.5971664</td><td>15.25212</td><td>13.0630610</td><td>0.0003575939</td><td>0.01072782</td></tr>\n",
       "\t<tr><th scope=row>Mophological.cluster.G4_30</th><td> 0.5433053</td><td>14.42957</td><td> 3.8338489</td><td>0.0512303878</td><td>0.74778029</td></tr>\n",
       "\t<tr><th scope=row>Mophological.cluster.G4_17</th><td> 0.9745157</td><td>12.68445</td><td> 2.2094953</td><td>0.1382999996</td><td>0.74778029</td></tr>\n",
       "\t<tr><th scope=row>Mophological.cluster.G4_12</th><td> 0.9022298</td><td>14.09728</td><td> 1.8839479</td><td>0.1709955936</td><td>0.74778029</td></tr>\n",
       "\t<tr><th scope=row>Mophological.cluster.G4_9</th><td> 0.3123816</td><td>15.07935</td><td> 1.7548835</td><td>0.1863550002</td><td>0.74778029</td></tr>\n",
       "\t<tr><th scope=row>Mophological.cluster.G4_16</th><td>-0.1365022</td><td>15.31748</td><td> 1.2954203</td><td>0.2560341808</td><td>0.74778029</td></tr>\n",
       "\t<tr><th scope=row>Mophological.cluster.G4_24</th><td>-0.4237073</td><td>15.82863</td><td> 1.2155810</td><td>0.2711859105</td><td>0.74778029</td></tr>\n",
       "\t<tr><th scope=row>Mophological.cluster.G4_23</th><td> 0.2743157</td><td>14.63494</td><td> 1.1797811</td><td>0.2783441778</td><td>0.74778029</td></tr>\n",
       "\t<tr><th scope=row>Mophological.cluster.G4_26</th><td>-0.3453408</td><td>15.76839</td><td> 1.1056608</td><td>0.2939429187</td><td>0.74778029</td></tr>\n",
       "\t<tr><th scope=row>Mophological.cluster.G4_5</th><td> 0.3276603</td><td>15.23060</td><td> 0.9429144</td><td>0.3323759850</td><td>0.74778029</td></tr>\n",
       "</tbody>\n",
       "</table>\n",
       "</dd>\n",
       "\t<dt>$adjust.method</dt>\n",
       "\t\t<dd>'BH'</dd>\n",
       "\t<dt>$comparison</dt>\n",
       "\t\t<dd>'weight_groupskinny'</dd>\n",
       "\t<dt>$test</dt>\n",
       "\t\t<dd>'glm'</dd>\n",
       "</dl>\n"
      ],
      "text/latex": [
       "\\begin{description}\n",
       "\\item[\\$table] A data.frame: 10 × 5\n",
       "\\begin{tabular}{r|lllll}\n",
       "  & logFC & logCPM & F & PValue & FDR\\\\\n",
       "  & <dbl> & <dbl> & <dbl> & <dbl> & <dbl>\\\\\n",
       "\\hline\n",
       "\tMophological.cluster.G4\\_11 & -1.5971664 & 15.25212 & 13.0630610 & 0.0003575939 & 0.01072782\\\\\n",
       "\tMophological.cluster.G4\\_30 &  0.5433053 & 14.42957 &  3.8338489 & 0.0512303878 & 0.74778029\\\\\n",
       "\tMophological.cluster.G4\\_17 &  0.9745157 & 12.68445 &  2.2094953 & 0.1382999996 & 0.74778029\\\\\n",
       "\tMophological.cluster.G4\\_12 &  0.9022298 & 14.09728 &  1.8839479 & 0.1709955936 & 0.74778029\\\\\n",
       "\tMophological.cluster.G4\\_9 &  0.3123816 & 15.07935 &  1.7548835 & 0.1863550002 & 0.74778029\\\\\n",
       "\tMophological.cluster.G4\\_16 & -0.1365022 & 15.31748 &  1.2954203 & 0.2560341808 & 0.74778029\\\\\n",
       "\tMophological.cluster.G4\\_24 & -0.4237073 & 15.82863 &  1.2155810 & 0.2711859105 & 0.74778029\\\\\n",
       "\tMophological.cluster.G4\\_23 &  0.2743157 & 14.63494 &  1.1797811 & 0.2783441778 & 0.74778029\\\\\n",
       "\tMophological.cluster.G4\\_26 & -0.3453408 & 15.76839 &  1.1056608 & 0.2939429187 & 0.74778029\\\\\n",
       "\tMophological.cluster.G4\\_5 &  0.3276603 & 15.23060 &  0.9429144 & 0.3323759850 & 0.74778029\\\\\n",
       "\\end{tabular}\n",
       "\n",
       "\\item[\\$adjust.method] 'BH'\n",
       "\\item[\\$comparison] 'weight\\_groupskinny'\n",
       "\\item[\\$test] 'glm'\n",
       "\\end{description}\n"
      ],
      "text/markdown": [
       "$table\n",
       ":   \n",
       "A data.frame: 10 × 5\n",
       "\n",
       "| <!--/--> | logFC &lt;dbl&gt; | logCPM &lt;dbl&gt; | F &lt;dbl&gt; | PValue &lt;dbl&gt; | FDR &lt;dbl&gt; |\n",
       "|---|---|---|---|---|---|\n",
       "| Mophological.cluster.G4_11 | -1.5971664 | 15.25212 | 13.0630610 | 0.0003575939 | 0.01072782 |\n",
       "| Mophological.cluster.G4_30 |  0.5433053 | 14.42957 |  3.8338489 | 0.0512303878 | 0.74778029 |\n",
       "| Mophological.cluster.G4_17 |  0.9745157 | 12.68445 |  2.2094953 | 0.1382999996 | 0.74778029 |\n",
       "| Mophological.cluster.G4_12 |  0.9022298 | 14.09728 |  1.8839479 | 0.1709955936 | 0.74778029 |\n",
       "| Mophological.cluster.G4_9 |  0.3123816 | 15.07935 |  1.7548835 | 0.1863550002 | 0.74778029 |\n",
       "| Mophological.cluster.G4_16 | -0.1365022 | 15.31748 |  1.2954203 | 0.2560341808 | 0.74778029 |\n",
       "| Mophological.cluster.G4_24 | -0.4237073 | 15.82863 |  1.2155810 | 0.2711859105 | 0.74778029 |\n",
       "| Mophological.cluster.G4_23 |  0.2743157 | 14.63494 |  1.1797811 | 0.2783441778 | 0.74778029 |\n",
       "| Mophological.cluster.G4_26 | -0.3453408 | 15.76839 |  1.1056608 | 0.2939429187 | 0.74778029 |\n",
       "| Mophological.cluster.G4_5 |  0.3276603 | 15.23060 |  0.9429144 | 0.3323759850 | 0.74778029 |\n",
       "\n",
       "\n",
       "$adjust.method\n",
       ":   'BH'\n",
       "$comparison\n",
       ":   'weight_groupskinny'\n",
       "$test\n",
       ":   'glm'\n",
       "\n",
       "\n"
      ],
      "text/plain": [
       "Coefficient:  weight_groupskinny \n",
       "                                logFC   logCPM          F       PValue\n",
       "Mophological.cluster.G4_11 -1.5971664 15.25212 13.0630610 0.0003575939\n",
       "Mophological.cluster.G4_30  0.5433053 14.42957  3.8338489 0.0512303878\n",
       "Mophological.cluster.G4_17  0.9745157 12.68445  2.2094953 0.1382999996\n",
       "Mophological.cluster.G4_12  0.9022298 14.09728  1.8839479 0.1709955936\n",
       "Mophological.cluster.G4_9   0.3123816 15.07935  1.7548835 0.1863550002\n",
       "Mophological.cluster.G4_16 -0.1365022 15.31748  1.2954203 0.2560341808\n",
       "Mophological.cluster.G4_24 -0.4237073 15.82863  1.2155810 0.2711859105\n",
       "Mophological.cluster.G4_23  0.2743157 14.63494  1.1797811 0.2783441778\n",
       "Mophological.cluster.G4_26 -0.3453408 15.76839  1.1056608 0.2939429187\n",
       "Mophological.cluster.G4_5   0.3276603 15.23060  0.9429144 0.3323759850\n",
       "                                  FDR\n",
       "Mophological.cluster.G4_11 0.01072782\n",
       "Mophological.cluster.G4_30 0.74778029\n",
       "Mophological.cluster.G4_17 0.74778029\n",
       "Mophological.cluster.G4_12 0.74778029\n",
       "Mophological.cluster.G4_9  0.74778029\n",
       "Mophological.cluster.G4_16 0.74778029\n",
       "Mophological.cluster.G4_24 0.74778029\n",
       "Mophological.cluster.G4_23 0.74778029\n",
       "Mophological.cluster.G4_26 0.74778029\n",
       "Mophological.cluster.G4_5  0.74778029"
      ]
     },
     "metadata": {},
     "output_type": "display_data"
    }
   ],
   "source": [
    "# create the differential expression data structure used by edgeR (DGElist)\n",
    "DGE_list <- DGEList(morpho_counts2, group = weight_group)\n",
    "keep <- filterByExpr(DGE_list)\n",
    "DGE_list <- DGE_list[keep, , keep.lib.sizes=FALSE]\n",
    "\n",
    "# normalize the data\n",
    "DGE_list <- calcNormFactors(DGE_list)\n",
    "DGE_list <- normLibSizes(DGE_list)\n",
    "\n",
    "# create a design matrix\n",
    "design <- model.matrix(~weight_group + clinical_data$HGHT + clinical_data$BMI + clinical_data$TRISCHD + clinical_data$SEX + clinical_data$COHORT)\n",
    "\n",
    "# estimate the dispersion\n",
    "DGE_list <- estimateDisp(DGE_list, design)\n",
    "\n",
    "# fit the model and test for differential expression\n",
    "fit <- glmQLFit(DGE_list,design)\n",
    "qlf <- glmQLFTest(fit,coef=2)\n",
    "\n",
    "# get the differential expression table\n",
    "topTags(qlf,n = 10)"
   ]
  },
  {
   "cell_type": "markdown",
   "id": "4f1bb972-a6ee-4e47-bfde-22307806d091",
   "metadata": {},
   "source": [
    "#### 2.1.2.5 DGE for BMI "
   ]
  },
  {
   "cell_type": "code",
   "execution_count": 248,
   "id": "adc43858-0a17-4b98-9f33-03363e8316df",
   "metadata": {},
   "outputs": [
    {
     "data": {
      "text/html": [
       "<dl>\n",
       "\t<dt>$table</dt>\n",
       "\t\t<dd><table class=\"dataframe\">\n",
       "<caption>A data.frame: 10 × 5</caption>\n",
       "<thead>\n",
       "\t<tr><th></th><th scope=col>logFC</th><th scope=col>logCPM</th><th scope=col>F</th><th scope=col>PValue</th><th scope=col>FDR</th></tr>\n",
       "\t<tr><th></th><th scope=col>&lt;dbl&gt;</th><th scope=col>&lt;dbl&gt;</th><th scope=col>&lt;dbl&gt;</th><th scope=col>&lt;dbl&gt;</th><th scope=col>&lt;dbl&gt;</th></tr>\n",
       "</thead>\n",
       "<tbody>\n",
       "\t<tr><th scope=row>Mophological.cluster.G4_17</th><td> 1.1864354</td><td>12.68453</td><td>6.7386138</td><td>0.009930498</td><td>0.2979149</td></tr>\n",
       "\t<tr><th scope=row>Mophological.cluster.G4_18</th><td> 0.9425745</td><td>14.50864</td><td>4.8569601</td><td>0.028345288</td><td>0.4251793</td></tr>\n",
       "\t<tr><th scope=row>Mophological.cluster.G4_2</th><td> 0.4880227</td><td>15.08498</td><td>2.8578490</td><td>0.092037255</td><td>0.8709126</td></tr>\n",
       "\t<tr><th scope=row>Mophological.cluster.G4_29</th><td> 0.5866119</td><td>14.66163</td><td>2.1007729</td><td>0.148339136</td><td>0.8709126</td></tr>\n",
       "\t<tr><th scope=row>Mophological.cluster.G4_26</th><td>-0.3291641</td><td>15.76840</td><td>1.7497994</td><td>0.186976800</td><td>0.8709126</td></tr>\n",
       "\t<tr><th scope=row>Mophological.cluster.G4_6</th><td>-0.5545880</td><td>13.76983</td><td>1.3514199</td><td>0.246015811</td><td>0.8709126</td></tr>\n",
       "\t<tr><th scope=row>Mophological.cluster.G4_23</th><td> 0.2075737</td><td>14.63494</td><td>1.2162612</td><td>0.271038691</td><td>0.8709126</td></tr>\n",
       "\t<tr><th scope=row>Mophological.cluster.G4_20</th><td>-0.2637851</td><td>15.31747</td><td>0.9133371</td><td>0.340051508</td><td>0.8709126</td></tr>\n",
       "\t<tr><th scope=row>Mophological.cluster.G4_5</th><td>-0.2364804</td><td>15.23060</td><td>0.8800154</td><td>0.349002597</td><td>0.8709126</td></tr>\n",
       "\t<tr><th scope=row>Mophological.cluster.G4_21</th><td> 0.2333008</td><td>12.30647</td><td>0.8438257</td><td>0.359092261</td><td>0.8709126</td></tr>\n",
       "</tbody>\n",
       "</table>\n",
       "</dd>\n",
       "\t<dt>$adjust.method</dt>\n",
       "\t\t<dd>'BH'</dd>\n",
       "\t<dt>$comparison</dt>\n",
       "\t\t<dd>'BMI_grouplow_BMI'</dd>\n",
       "\t<dt>$test</dt>\n",
       "\t\t<dd>'glm'</dd>\n",
       "</dl>\n"
      ],
      "text/latex": [
       "\\begin{description}\n",
       "\\item[\\$table] A data.frame: 10 × 5\n",
       "\\begin{tabular}{r|lllll}\n",
       "  & logFC & logCPM & F & PValue & FDR\\\\\n",
       "  & <dbl> & <dbl> & <dbl> & <dbl> & <dbl>\\\\\n",
       "\\hline\n",
       "\tMophological.cluster.G4\\_17 &  1.1864354 & 12.68453 & 6.7386138 & 0.009930498 & 0.2979149\\\\\n",
       "\tMophological.cluster.G4\\_18 &  0.9425745 & 14.50864 & 4.8569601 & 0.028345288 & 0.4251793\\\\\n",
       "\tMophological.cluster.G4\\_2 &  0.4880227 & 15.08498 & 2.8578490 & 0.092037255 & 0.8709126\\\\\n",
       "\tMophological.cluster.G4\\_29 &  0.5866119 & 14.66163 & 2.1007729 & 0.148339136 & 0.8709126\\\\\n",
       "\tMophological.cluster.G4\\_26 & -0.3291641 & 15.76840 & 1.7497994 & 0.186976800 & 0.8709126\\\\\n",
       "\tMophological.cluster.G4\\_6 & -0.5545880 & 13.76983 & 1.3514199 & 0.246015811 & 0.8709126\\\\\n",
       "\tMophological.cluster.G4\\_23 &  0.2075737 & 14.63494 & 1.2162612 & 0.271038691 & 0.8709126\\\\\n",
       "\tMophological.cluster.G4\\_20 & -0.2637851 & 15.31747 & 0.9133371 & 0.340051508 & 0.8709126\\\\\n",
       "\tMophological.cluster.G4\\_5 & -0.2364804 & 15.23060 & 0.8800154 & 0.349002597 & 0.8709126\\\\\n",
       "\tMophological.cluster.G4\\_21 &  0.2333008 & 12.30647 & 0.8438257 & 0.359092261 & 0.8709126\\\\\n",
       "\\end{tabular}\n",
       "\n",
       "\\item[\\$adjust.method] 'BH'\n",
       "\\item[\\$comparison] 'BMI\\_grouplow\\_BMI'\n",
       "\\item[\\$test] 'glm'\n",
       "\\end{description}\n"
      ],
      "text/markdown": [
       "$table\n",
       ":   \n",
       "A data.frame: 10 × 5\n",
       "\n",
       "| <!--/--> | logFC &lt;dbl&gt; | logCPM &lt;dbl&gt; | F &lt;dbl&gt; | PValue &lt;dbl&gt; | FDR &lt;dbl&gt; |\n",
       "|---|---|---|---|---|---|\n",
       "| Mophological.cluster.G4_17 |  1.1864354 | 12.68453 | 6.7386138 | 0.009930498 | 0.2979149 |\n",
       "| Mophological.cluster.G4_18 |  0.9425745 | 14.50864 | 4.8569601 | 0.028345288 | 0.4251793 |\n",
       "| Mophological.cluster.G4_2 |  0.4880227 | 15.08498 | 2.8578490 | 0.092037255 | 0.8709126 |\n",
       "| Mophological.cluster.G4_29 |  0.5866119 | 14.66163 | 2.1007729 | 0.148339136 | 0.8709126 |\n",
       "| Mophological.cluster.G4_26 | -0.3291641 | 15.76840 | 1.7497994 | 0.186976800 | 0.8709126 |\n",
       "| Mophological.cluster.G4_6 | -0.5545880 | 13.76983 | 1.3514199 | 0.246015811 | 0.8709126 |\n",
       "| Mophological.cluster.G4_23 |  0.2075737 | 14.63494 | 1.2162612 | 0.271038691 | 0.8709126 |\n",
       "| Mophological.cluster.G4_20 | -0.2637851 | 15.31747 | 0.9133371 | 0.340051508 | 0.8709126 |\n",
       "| Mophological.cluster.G4_5 | -0.2364804 | 15.23060 | 0.8800154 | 0.349002597 | 0.8709126 |\n",
       "| Mophological.cluster.G4_21 |  0.2333008 | 12.30647 | 0.8438257 | 0.359092261 | 0.8709126 |\n",
       "\n",
       "\n",
       "$adjust.method\n",
       ":   'BH'\n",
       "$comparison\n",
       ":   'BMI_grouplow_BMI'\n",
       "$test\n",
       ":   'glm'\n",
       "\n",
       "\n"
      ],
      "text/plain": [
       "Coefficient:  BMI_grouplow_BMI \n",
       "                                logFC   logCPM         F      PValue       FDR\n",
       "Mophological.cluster.G4_17  1.1864354 12.68453 6.7386138 0.009930498 0.2979149\n",
       "Mophological.cluster.G4_18  0.9425745 14.50864 4.8569601 0.028345288 0.4251793\n",
       "Mophological.cluster.G4_2   0.4880227 15.08498 2.8578490 0.092037255 0.8709126\n",
       "Mophological.cluster.G4_29  0.5866119 14.66163 2.1007729 0.148339136 0.8709126\n",
       "Mophological.cluster.G4_26 -0.3291641 15.76840 1.7497994 0.186976800 0.8709126\n",
       "Mophological.cluster.G4_6  -0.5545880 13.76983 1.3514199 0.246015811 0.8709126\n",
       "Mophological.cluster.G4_23  0.2075737 14.63494 1.2162612 0.271038691 0.8709126\n",
       "Mophological.cluster.G4_20 -0.2637851 15.31747 0.9133371 0.340051508 0.8709126\n",
       "Mophological.cluster.G4_5  -0.2364804 15.23060 0.8800154 0.349002597 0.8709126\n",
       "Mophological.cluster.G4_21  0.2333008 12.30647 0.8438257 0.359092261 0.8709126"
      ]
     },
     "metadata": {},
     "output_type": "display_data"
    }
   ],
   "source": [
    "# create the differential expression data structure used by edgeR (DGElist)\n",
    "DGE_list <- DGEList(morpho_counts2, group = BMI_group)\n",
    "keep <- filterByExpr(DGE_list)\n",
    "DGE_list <- DGE_list[keep, , keep.lib.sizes=FALSE]\n",
    "\n",
    "# normalize the data\n",
    "DGE_list <- calcNormFactors(DGE_list)\n",
    "DGE_list <- normLibSizes(DGE_list)\n",
    "\n",
    "# create a design matrix\n",
    "design <- model.matrix(~BMI_group + clinical_data$WGHT)\n",
    "\n",
    "# estimate the dispersion\n",
    "DGE_list <- estimateDisp(DGE_list, design)\n",
    "\n",
    "# fit the model and test for differential expression\n",
    "fit <- glmQLFit(DGE_list,design)\n",
    "qlf <- glmQLFTest(fit,coef=2)\n",
    "\n",
    "# get the differential expression table\n",
    "topTags(qlf,n = 10)"
   ]
  },
  {
   "cell_type": "markdown",
   "id": "c4bfcde8-cc6b-4d39-985c-61fb39df325f",
   "metadata": {},
   "source": [
    "### 2.1.3 Compute the associations between technical variables and morphological cluster counts"
   ]
  },
  {
   "cell_type": "code",
   "execution_count": 257,
   "id": "3b7e7f63-4823-435a-8962-f7ac5a71603c",
   "metadata": {
    "scrolled": true
   },
   "outputs": [
    {
     "data": {
      "text/html": [
       "<dl>\n",
       "\t<dt>$table</dt>\n",
       "\t\t<dd><table class=\"dataframe\">\n",
       "<caption>A data.frame: 30 × 5</caption>\n",
       "<thead>\n",
       "\t<tr><th></th><th scope=col>logFC</th><th scope=col>logCPM</th><th scope=col>F</th><th scope=col>PValue</th><th scope=col>FDR</th></tr>\n",
       "\t<tr><th></th><th scope=col>&lt;dbl&gt;</th><th scope=col>&lt;dbl&gt;</th><th scope=col>&lt;dbl&gt;</th><th scope=col>&lt;dbl&gt;</th><th scope=col>&lt;dbl&gt;</th></tr>\n",
       "</thead>\n",
       "<tbody>\n",
       "\t<tr><th scope=row>Mophological.cluster.G4_28</th><td>-0.530987049</td><td>15.48876</td><td>3.379524e+01</td><td>1.653581e-08</td><td>2.618369e-07</td></tr>\n",
       "\t<tr><th scope=row>Mophological.cluster.G4_18</th><td> 1.654992542</td><td>14.50864</td><td>3.367730e+01</td><td>1.745579e-08</td><td>2.618369e-07</td></tr>\n",
       "\t<tr><th scope=row>Mophological.cluster.G4_14</th><td> 1.431838659</td><td>15.24767</td><td>3.062862e+01</td><td>7.138854e-08</td><td>7.138854e-07</td></tr>\n",
       "\t<tr><th scope=row>Mophological.cluster.G4_1</th><td>-1.390385322</td><td>15.60145</td><td>2.819617e+01</td><td>2.224324e-07</td><td>1.668243e-06</td></tr>\n",
       "\t<tr><th scope=row>Mophological.cluster.G4_30</th><td> 0.811222003</td><td>14.42957</td><td>2.573890e+01</td><td>7.096961e-07</td><td>4.258177e-06</td></tr>\n",
       "\t<tr><th scope=row>Mophological.cluster.G4_2</th><td>-1.073094984</td><td>15.08498</td><td>2.461767e+01</td><td>1.210140e-06</td><td>6.050701e-06</td></tr>\n",
       "\t<tr><th scope=row>Mophological.cluster.G4_0</th><td> 1.315591065</td><td>14.52264</td><td>2.257304e+01</td><td>3.225597e-06</td><td>1.382399e-05</td></tr>\n",
       "\t<tr><th scope=row>Mophological.cluster.G4_9</th><td>-0.628016370</td><td>15.07935</td><td>2.080725e+01</td><td>7.581662e-06</td><td>2.843123e-05</td></tr>\n",
       "\t<tr><th scope=row>Mophological.cluster.G4_4</th><td> 1.314871452</td><td>14.96917</td><td>2.008645e+01</td><td>1.077061e-05</td><td>3.590202e-05</td></tr>\n",
       "\t<tr><th scope=row>Mophological.cluster.G4_12</th><td> 1.530715841</td><td>14.09728</td><td>1.957411e+01</td><td>1.383483e-05</td><td>4.150450e-05</td></tr>\n",
       "\t<tr><th scope=row>Mophological.cluster.G4_6</th><td> 1.601564628</td><td>13.76986</td><td>1.911839e+01</td><td>1.729588e-05</td><td>4.717058e-05</td></tr>\n",
       "\t<tr><th scope=row>Mophological.cluster.G4_25</th><td>-1.377063047</td><td>15.84229</td><td>1.747729e+01</td><td>3.883362e-05</td><td>9.708406e-05</td></tr>\n",
       "\t<tr><th scope=row>Mophological.cluster.G4_29</th><td> 1.154658496</td><td>14.66163</td><td>1.659491e+01</td><td>6.018327e-05</td><td>1.388845e-04</td></tr>\n",
       "\t<tr><th scope=row>Mophological.cluster.G4_13</th><td> 1.104948561</td><td>15.16583</td><td>1.372975e+01</td><td>2.539742e-04</td><td>5.442304e-04</td></tr>\n",
       "\t<tr><th scope=row>Mophological.cluster.G4_24</th><td>-0.786399351</td><td>15.82863</td><td>1.242025e+01</td><td>4.953081e-04</td><td>9.906162e-04</td></tr>\n",
       "\t<tr><th scope=row>Mophological.cluster.G4_3</th><td>-0.933681924</td><td>15.56721</td><td>1.139183e+01</td><td>8.411351e-04</td><td>1.577128e-03</td></tr>\n",
       "\t<tr><th scope=row>Mophological.cluster.G4_20</th><td>-0.697400178</td><td>15.31746</td><td>1.087003e+01</td><td>1.102450e-03</td><td>1.945500e-03</td></tr>\n",
       "\t<tr><th scope=row>Mophological.cluster.G4_26</th><td>-0.587334587</td><td>15.76839</td><td>9.354439e+00</td><td>2.438078e-03</td><td>4.063464e-03</td></tr>\n",
       "\t<tr><th scope=row>Mophological.cluster.G4_17</th><td>-0.959238977</td><td>12.68447</td><td>7.312465e+00</td><td>7.263698e-03</td><td>1.146900e-02</td></tr>\n",
       "\t<tr><th scope=row>Mophological.cluster.G4_23</th><td>-0.371563559</td><td>14.63494</td><td>6.603512e+00</td><td>1.069142e-02</td><td>1.603712e-02</td></tr>\n",
       "\t<tr><th scope=row>Mophological.cluster.G4_16</th><td>-0.162934135</td><td>15.31749</td><td>5.935862e+00</td><td>1.545439e-02</td><td>2.207770e-02</td></tr>\n",
       "\t<tr><th scope=row>Mophological.cluster.G4_15</th><td>-0.361584132</td><td>15.21105</td><td>5.465216e+00</td><td>2.009756e-02</td><td>2.740576e-02</td></tr>\n",
       "\t<tr><th scope=row>Mophological.cluster.G4_21</th><td> 0.426018526</td><td>12.30651</td><td>5.140689e+00</td><td>2.412781e-02</td><td>3.147105e-02</td></tr>\n",
       "\t<tr><th scope=row>Mophological.cluster.G4_10</th><td>-0.576903371</td><td>13.74020</td><td>4.768691e+00</td><td>2.980529e-02</td><td>3.725661e-02</td></tr>\n",
       "\t<tr><th scope=row>Mophological.cluster.G4_27</th><td> 0.334971318</td><td>15.31012</td><td>2.273115e+00</td><td>1.327538e-01</td><td>1.593045e-01</td></tr>\n",
       "\t<tr><th scope=row>Mophological.cluster.G4_19</th><td>-0.065355666</td><td>14.87193</td><td>3.238759e-01</td><td>5.697403e-01</td><td>6.573927e-01</td></tr>\n",
       "\t<tr><th scope=row>Mophological.cluster.G4_22</th><td> 0.049856843</td><td>15.54334</td><td>4.633391e-02</td><td>8.297255e-01</td><td>9.153000e-01</td></tr>\n",
       "\t<tr><th scope=row>Mophological.cluster.G4_5</th><td>-0.034268689</td><td>15.23060</td><td>3.330240e-02</td><td>8.553297e-01</td><td>9.153000e-01</td></tr>\n",
       "\t<tr><th scope=row>Mophological.cluster.G4_11</th><td>-0.036620263</td><td>15.25212</td><td>2.103397e-02</td><td>8.847900e-01</td><td>9.153000e-01</td></tr>\n",
       "\t<tr><th scope=row>Mophological.cluster.G4_8</th><td>-0.003022929</td><td>15.52733</td><td>1.412251e-04</td><td>9.905267e-01</td><td>9.905267e-01</td></tr>\n",
       "</tbody>\n",
       "</table>\n",
       "</dd>\n",
       "\t<dt>$adjust.method</dt>\n",
       "\t\t<dd>'BH'</dd>\n",
       "\t<dt>$comparison</dt>\n",
       "\t\t<dd>'clinical_data$COHORTPostmortem'</dd>\n",
       "\t<dt>$test</dt>\n",
       "\t\t<dd>'glm'</dd>\n",
       "</dl>\n"
      ],
      "text/latex": [
       "\\begin{description}\n",
       "\\item[\\$table] A data.frame: 30 × 5\n",
       "\\begin{tabular}{r|lllll}\n",
       "  & logFC & logCPM & F & PValue & FDR\\\\\n",
       "  & <dbl> & <dbl> & <dbl> & <dbl> & <dbl>\\\\\n",
       "\\hline\n",
       "\tMophological.cluster.G4\\_28 & -0.530987049 & 15.48876 & 3.379524e+01 & 1.653581e-08 & 2.618369e-07\\\\\n",
       "\tMophological.cluster.G4\\_18 &  1.654992542 & 14.50864 & 3.367730e+01 & 1.745579e-08 & 2.618369e-07\\\\\n",
       "\tMophological.cluster.G4\\_14 &  1.431838659 & 15.24767 & 3.062862e+01 & 7.138854e-08 & 7.138854e-07\\\\\n",
       "\tMophological.cluster.G4\\_1 & -1.390385322 & 15.60145 & 2.819617e+01 & 2.224324e-07 & 1.668243e-06\\\\\n",
       "\tMophological.cluster.G4\\_30 &  0.811222003 & 14.42957 & 2.573890e+01 & 7.096961e-07 & 4.258177e-06\\\\\n",
       "\tMophological.cluster.G4\\_2 & -1.073094984 & 15.08498 & 2.461767e+01 & 1.210140e-06 & 6.050701e-06\\\\\n",
       "\tMophological.cluster.G4\\_0 &  1.315591065 & 14.52264 & 2.257304e+01 & 3.225597e-06 & 1.382399e-05\\\\\n",
       "\tMophological.cluster.G4\\_9 & -0.628016370 & 15.07935 & 2.080725e+01 & 7.581662e-06 & 2.843123e-05\\\\\n",
       "\tMophological.cluster.G4\\_4 &  1.314871452 & 14.96917 & 2.008645e+01 & 1.077061e-05 & 3.590202e-05\\\\\n",
       "\tMophological.cluster.G4\\_12 &  1.530715841 & 14.09728 & 1.957411e+01 & 1.383483e-05 & 4.150450e-05\\\\\n",
       "\tMophological.cluster.G4\\_6 &  1.601564628 & 13.76986 & 1.911839e+01 & 1.729588e-05 & 4.717058e-05\\\\\n",
       "\tMophological.cluster.G4\\_25 & -1.377063047 & 15.84229 & 1.747729e+01 & 3.883362e-05 & 9.708406e-05\\\\\n",
       "\tMophological.cluster.G4\\_29 &  1.154658496 & 14.66163 & 1.659491e+01 & 6.018327e-05 & 1.388845e-04\\\\\n",
       "\tMophological.cluster.G4\\_13 &  1.104948561 & 15.16583 & 1.372975e+01 & 2.539742e-04 & 5.442304e-04\\\\\n",
       "\tMophological.cluster.G4\\_24 & -0.786399351 & 15.82863 & 1.242025e+01 & 4.953081e-04 & 9.906162e-04\\\\\n",
       "\tMophological.cluster.G4\\_3 & -0.933681924 & 15.56721 & 1.139183e+01 & 8.411351e-04 & 1.577128e-03\\\\\n",
       "\tMophological.cluster.G4\\_20 & -0.697400178 & 15.31746 & 1.087003e+01 & 1.102450e-03 & 1.945500e-03\\\\\n",
       "\tMophological.cluster.G4\\_26 & -0.587334587 & 15.76839 & 9.354439e+00 & 2.438078e-03 & 4.063464e-03\\\\\n",
       "\tMophological.cluster.G4\\_17 & -0.959238977 & 12.68447 & 7.312465e+00 & 7.263698e-03 & 1.146900e-02\\\\\n",
       "\tMophological.cluster.G4\\_23 & -0.371563559 & 14.63494 & 6.603512e+00 & 1.069142e-02 & 1.603712e-02\\\\\n",
       "\tMophological.cluster.G4\\_16 & -0.162934135 & 15.31749 & 5.935862e+00 & 1.545439e-02 & 2.207770e-02\\\\\n",
       "\tMophological.cluster.G4\\_15 & -0.361584132 & 15.21105 & 5.465216e+00 & 2.009756e-02 & 2.740576e-02\\\\\n",
       "\tMophological.cluster.G4\\_21 &  0.426018526 & 12.30651 & 5.140689e+00 & 2.412781e-02 & 3.147105e-02\\\\\n",
       "\tMophological.cluster.G4\\_10 & -0.576903371 & 13.74020 & 4.768691e+00 & 2.980529e-02 & 3.725661e-02\\\\\n",
       "\tMophological.cluster.G4\\_27 &  0.334971318 & 15.31012 & 2.273115e+00 & 1.327538e-01 & 1.593045e-01\\\\\n",
       "\tMophological.cluster.G4\\_19 & -0.065355666 & 14.87193 & 3.238759e-01 & 5.697403e-01 & 6.573927e-01\\\\\n",
       "\tMophological.cluster.G4\\_22 &  0.049856843 & 15.54334 & 4.633391e-02 & 8.297255e-01 & 9.153000e-01\\\\\n",
       "\tMophological.cluster.G4\\_5 & -0.034268689 & 15.23060 & 3.330240e-02 & 8.553297e-01 & 9.153000e-01\\\\\n",
       "\tMophological.cluster.G4\\_11 & -0.036620263 & 15.25212 & 2.103397e-02 & 8.847900e-01 & 9.153000e-01\\\\\n",
       "\tMophological.cluster.G4\\_8 & -0.003022929 & 15.52733 & 1.412251e-04 & 9.905267e-01 & 9.905267e-01\\\\\n",
       "\\end{tabular}\n",
       "\n",
       "\\item[\\$adjust.method] 'BH'\n",
       "\\item[\\$comparison] 'clinical\\_data\\$COHORTPostmortem'\n",
       "\\item[\\$test] 'glm'\n",
       "\\end{description}\n"
      ],
      "text/markdown": [
       "$table\n",
       ":   \n",
       "A data.frame: 30 × 5\n",
       "\n",
       "| <!--/--> | logFC &lt;dbl&gt; | logCPM &lt;dbl&gt; | F &lt;dbl&gt; | PValue &lt;dbl&gt; | FDR &lt;dbl&gt; |\n",
       "|---|---|---|---|---|---|\n",
       "| Mophological.cluster.G4_28 | -0.530987049 | 15.48876 | 3.379524e+01 | 1.653581e-08 | 2.618369e-07 |\n",
       "| Mophological.cluster.G4_18 |  1.654992542 | 14.50864 | 3.367730e+01 | 1.745579e-08 | 2.618369e-07 |\n",
       "| Mophological.cluster.G4_14 |  1.431838659 | 15.24767 | 3.062862e+01 | 7.138854e-08 | 7.138854e-07 |\n",
       "| Mophological.cluster.G4_1 | -1.390385322 | 15.60145 | 2.819617e+01 | 2.224324e-07 | 1.668243e-06 |\n",
       "| Mophological.cluster.G4_30 |  0.811222003 | 14.42957 | 2.573890e+01 | 7.096961e-07 | 4.258177e-06 |\n",
       "| Mophological.cluster.G4_2 | -1.073094984 | 15.08498 | 2.461767e+01 | 1.210140e-06 | 6.050701e-06 |\n",
       "| Mophological.cluster.G4_0 |  1.315591065 | 14.52264 | 2.257304e+01 | 3.225597e-06 | 1.382399e-05 |\n",
       "| Mophological.cluster.G4_9 | -0.628016370 | 15.07935 | 2.080725e+01 | 7.581662e-06 | 2.843123e-05 |\n",
       "| Mophological.cluster.G4_4 |  1.314871452 | 14.96917 | 2.008645e+01 | 1.077061e-05 | 3.590202e-05 |\n",
       "| Mophological.cluster.G4_12 |  1.530715841 | 14.09728 | 1.957411e+01 | 1.383483e-05 | 4.150450e-05 |\n",
       "| Mophological.cluster.G4_6 |  1.601564628 | 13.76986 | 1.911839e+01 | 1.729588e-05 | 4.717058e-05 |\n",
       "| Mophological.cluster.G4_25 | -1.377063047 | 15.84229 | 1.747729e+01 | 3.883362e-05 | 9.708406e-05 |\n",
       "| Mophological.cluster.G4_29 |  1.154658496 | 14.66163 | 1.659491e+01 | 6.018327e-05 | 1.388845e-04 |\n",
       "| Mophological.cluster.G4_13 |  1.104948561 | 15.16583 | 1.372975e+01 | 2.539742e-04 | 5.442304e-04 |\n",
       "| Mophological.cluster.G4_24 | -0.786399351 | 15.82863 | 1.242025e+01 | 4.953081e-04 | 9.906162e-04 |\n",
       "| Mophological.cluster.G4_3 | -0.933681924 | 15.56721 | 1.139183e+01 | 8.411351e-04 | 1.577128e-03 |\n",
       "| Mophological.cluster.G4_20 | -0.697400178 | 15.31746 | 1.087003e+01 | 1.102450e-03 | 1.945500e-03 |\n",
       "| Mophological.cluster.G4_26 | -0.587334587 | 15.76839 | 9.354439e+00 | 2.438078e-03 | 4.063464e-03 |\n",
       "| Mophological.cluster.G4_17 | -0.959238977 | 12.68447 | 7.312465e+00 | 7.263698e-03 | 1.146900e-02 |\n",
       "| Mophological.cluster.G4_23 | -0.371563559 | 14.63494 | 6.603512e+00 | 1.069142e-02 | 1.603712e-02 |\n",
       "| Mophological.cluster.G4_16 | -0.162934135 | 15.31749 | 5.935862e+00 | 1.545439e-02 | 2.207770e-02 |\n",
       "| Mophological.cluster.G4_15 | -0.361584132 | 15.21105 | 5.465216e+00 | 2.009756e-02 | 2.740576e-02 |\n",
       "| Mophological.cluster.G4_21 |  0.426018526 | 12.30651 | 5.140689e+00 | 2.412781e-02 | 3.147105e-02 |\n",
       "| Mophological.cluster.G4_10 | -0.576903371 | 13.74020 | 4.768691e+00 | 2.980529e-02 | 3.725661e-02 |\n",
       "| Mophological.cluster.G4_27 |  0.334971318 | 15.31012 | 2.273115e+00 | 1.327538e-01 | 1.593045e-01 |\n",
       "| Mophological.cluster.G4_19 | -0.065355666 | 14.87193 | 3.238759e-01 | 5.697403e-01 | 6.573927e-01 |\n",
       "| Mophological.cluster.G4_22 |  0.049856843 | 15.54334 | 4.633391e-02 | 8.297255e-01 | 9.153000e-01 |\n",
       "| Mophological.cluster.G4_5 | -0.034268689 | 15.23060 | 3.330240e-02 | 8.553297e-01 | 9.153000e-01 |\n",
       "| Mophological.cluster.G4_11 | -0.036620263 | 15.25212 | 2.103397e-02 | 8.847900e-01 | 9.153000e-01 |\n",
       "| Mophological.cluster.G4_8 | -0.003022929 | 15.52733 | 1.412251e-04 | 9.905267e-01 | 9.905267e-01 |\n",
       "\n",
       "\n",
       "$adjust.method\n",
       ":   'BH'\n",
       "$comparison\n",
       ":   'clinical_data$COHORTPostmortem'\n",
       "$test\n",
       ":   'glm'\n",
       "\n",
       "\n"
      ],
      "text/plain": [
       "Coefficient:  clinical_data$COHORTPostmortem \n",
       "                                  logFC   logCPM            F       PValue\n",
       "Mophological.cluster.G4_28 -0.530987049 15.48876 3.379524e+01 1.653581e-08\n",
       "Mophological.cluster.G4_18  1.654992542 14.50864 3.367730e+01 1.745579e-08\n",
       "Mophological.cluster.G4_14  1.431838659 15.24767 3.062862e+01 7.138854e-08\n",
       "Mophological.cluster.G4_1  -1.390385322 15.60145 2.819617e+01 2.224324e-07\n",
       "Mophological.cluster.G4_30  0.811222003 14.42957 2.573890e+01 7.096961e-07\n",
       "Mophological.cluster.G4_2  -1.073094984 15.08498 2.461767e+01 1.210140e-06\n",
       "Mophological.cluster.G4_0   1.315591065 14.52264 2.257304e+01 3.225597e-06\n",
       "Mophological.cluster.G4_9  -0.628016370 15.07935 2.080725e+01 7.581662e-06\n",
       "Mophological.cluster.G4_4   1.314871452 14.96917 2.008645e+01 1.077061e-05\n",
       "Mophological.cluster.G4_12  1.530715841 14.09728 1.957411e+01 1.383483e-05\n",
       "Mophological.cluster.G4_6   1.601564628 13.76986 1.911839e+01 1.729588e-05\n",
       "Mophological.cluster.G4_25 -1.377063047 15.84229 1.747729e+01 3.883362e-05\n",
       "Mophological.cluster.G4_29  1.154658496 14.66163 1.659491e+01 6.018327e-05\n",
       "Mophological.cluster.G4_13  1.104948561 15.16583 1.372975e+01 2.539742e-04\n",
       "Mophological.cluster.G4_24 -0.786399351 15.82863 1.242025e+01 4.953081e-04\n",
       "Mophological.cluster.G4_3  -0.933681924 15.56721 1.139183e+01 8.411351e-04\n",
       "Mophological.cluster.G4_20 -0.697400178 15.31746 1.087003e+01 1.102450e-03\n",
       "Mophological.cluster.G4_26 -0.587334587 15.76839 9.354439e+00 2.438078e-03\n",
       "Mophological.cluster.G4_17 -0.959238977 12.68447 7.312465e+00 7.263698e-03\n",
       "Mophological.cluster.G4_23 -0.371563559 14.63494 6.603512e+00 1.069142e-02\n",
       "Mophological.cluster.G4_16 -0.162934135 15.31749 5.935862e+00 1.545439e-02\n",
       "Mophological.cluster.G4_15 -0.361584132 15.21105 5.465216e+00 2.009756e-02\n",
       "Mophological.cluster.G4_21  0.426018526 12.30651 5.140689e+00 2.412781e-02\n",
       "Mophological.cluster.G4_10 -0.576903371 13.74020 4.768691e+00 2.980529e-02\n",
       "Mophological.cluster.G4_27  0.334971318 15.31012 2.273115e+00 1.327538e-01\n",
       "Mophological.cluster.G4_19 -0.065355666 14.87193 3.238759e-01 5.697403e-01\n",
       "Mophological.cluster.G4_22  0.049856843 15.54334 4.633391e-02 8.297255e-01\n",
       "Mophological.cluster.G4_5  -0.034268689 15.23060 3.330240e-02 8.553297e-01\n",
       "Mophological.cluster.G4_11 -0.036620263 15.25212 2.103397e-02 8.847900e-01\n",
       "Mophological.cluster.G4_8  -0.003022929 15.52733 1.412251e-04 9.905267e-01\n",
       "                                    FDR\n",
       "Mophological.cluster.G4_28 2.618369e-07\n",
       "Mophological.cluster.G4_18 2.618369e-07\n",
       "Mophological.cluster.G4_14 7.138854e-07\n",
       "Mophological.cluster.G4_1  1.668243e-06\n",
       "Mophological.cluster.G4_30 4.258177e-06\n",
       "Mophological.cluster.G4_2  6.050701e-06\n",
       "Mophological.cluster.G4_0  1.382399e-05\n",
       "Mophological.cluster.G4_9  2.843123e-05\n",
       "Mophological.cluster.G4_4  3.590202e-05\n",
       "Mophological.cluster.G4_12 4.150450e-05\n",
       "Mophological.cluster.G4_6  4.717058e-05\n",
       "Mophological.cluster.G4_25 9.708406e-05\n",
       "Mophological.cluster.G4_29 1.388845e-04\n",
       "Mophological.cluster.G4_13 5.442304e-04\n",
       "Mophological.cluster.G4_24 9.906162e-04\n",
       "Mophological.cluster.G4_3  1.577128e-03\n",
       "Mophological.cluster.G4_20 1.945500e-03\n",
       "Mophological.cluster.G4_26 4.063464e-03\n",
       "Mophological.cluster.G4_17 1.146900e-02\n",
       "Mophological.cluster.G4_23 1.603712e-02\n",
       "Mophological.cluster.G4_16 2.207770e-02\n",
       "Mophological.cluster.G4_15 2.740576e-02\n",
       "Mophological.cluster.G4_21 3.147105e-02\n",
       "Mophological.cluster.G4_10 3.725661e-02\n",
       "Mophological.cluster.G4_27 1.593045e-01\n",
       "Mophological.cluster.G4_19 6.573927e-01\n",
       "Mophological.cluster.G4_22 9.153000e-01\n",
       "Mophological.cluster.G4_5  9.153000e-01\n",
       "Mophological.cluster.G4_11 9.153000e-01\n",
       "Mophological.cluster.G4_8  9.905267e-01"
      ]
     },
     "metadata": {},
     "output_type": "display_data"
    }
   ],
   "source": [
    "# create the differential expression data structure used by edgeR (DGElist)\n",
    "DGE_list <- DGEList(morpho_counts2, group = clinical_data$COHORT)\n",
    "keep <- filterByExpr(DGE_list)\n",
    "DGE_list <- DGE_list[keep, , keep.lib.sizes=FALSE]\n",
    "\n",
    "# normalize the data\n",
    "DGE_list <- calcNormFactors(DGE_list)\n",
    "DGE_list <- normLibSizes(DGE_list)\n",
    "\n",
    "# create a design matrix\n",
    "design <- model.matrix(~clinical_data$COHORT)\n",
    "\n",
    "# estimate the dispersion\n",
    "DGE_list <- estimateDisp(DGE_list, design)\n",
    "\n",
    "# fit the model and test for differential expression\n",
    "fit <- glmQLFit(DGE_list,design)\n",
    "qlf <- glmQLFTest(fit,coef=2)\n",
    "\n",
    "# get the differential expression table\n",
    "topTags(qlf,n = 32)"
   ]
  },
  {
   "cell_type": "code",
   "execution_count": 263,
   "id": "a0b0526f-d232-4c0c-96fa-2d533bd36692",
   "metadata": {},
   "outputs": [
    {
     "name": "stderr",
     "output_type": "stream",
     "text": [
      "Warning message:\n",
      "\"\u001b[1m\u001b[22mRemoved 15 rows containing missing values or values outside the scale range (`geom_text_repel()`).\"\n"
     ]
    },
    {
     "data": {
      "image/png": "[encoded data removed]",
      "text/plain": [
       "plot without title"
      ]
     },
     "metadata": {
      "image/png": {
       "height": 720,
       "width": 720
      }
     },
     "output_type": "display_data"
    }
   ],
   "source": [
    "##### COHORT volcanoplot\n",
    "d_topTags <- topTags(qlf, n = 32)[[\"table\"]]\n",
    "# Biostatsquid theme\n",
    "theme_set(theme_classic(base_size = 20) +\n",
    "            theme(\n",
    "              axis.title.y = element_text(face = \"bold\", margin = margin(0,20,0,0), size = rel(1.1), color = 'black'),\n",
    "              axis.title.x = element_text(hjust = 0.5, face = \"bold\", margin = margin(20,0,0,0), size = rel(1.1), color = 'black'),\n",
    "              plot.title = element_text(hjust = 0.5)\n",
    "            ))\n",
    "# Add a column to the data frame to specify if they are UP- or DOWN- regulated \n",
    "d_topTags$diffexpressed <- \"NO\"  # add a column diffexpressed with only NO  \n",
    "# if log2Foldchange > 1 and FDR < 0.05, set as \"UP\"  \n",
    "d_topTags$diffexpressed[d_topTags$logFC > 1 & d_topTags$FDR < 0.05] <- \"UP\"\n",
    "# if log2Foldchange < -1 and FDR < 0.05, set as \"DOWN\"\n",
    "d_topTags$diffexpressed[d_topTags$logFC < -1 & d_topTags$FDR < 0.05] <- \"DOWN\"\n",
    "\n",
    "# Create a new column \"delabel\" to de, that will contain the name of the top 15 differentially expressed genes (NA in case they are not)\n",
    "data_test<- d_topTags\n",
    "names <- rownames(d_topTags)\n",
    "d_topTags <- cbind(names,d_topTags)\n",
    "d_topTags$delabel <- ifelse(d_topTags$names %in% head(d_topTags[order(d_topTags$FDR), \"names\"], 15), d_topTags$names, NA)\n",
    "\n",
    "# Set plot size: width and height in inches\n",
    "options(repr.plot.width = 12, repr.plot.height = 12)\n",
    "\n",
    "ggplot(data = d_topTags, aes(x = logFC, y = -log10(FDR), col = diffexpressed, label = delabel)) +\n",
    "  geom_vline(xintercept = c(-1, 1), col = \"gray\", linetype = 'dashed') +\n",
    "  geom_hline(yintercept = -log10(0.05), col = \"gray\", linetype = 'dashed') + \n",
    "  geom_point(size = 2) + \n",
    "  scale_color_manual(values = c(\"#00AFBB\", \"grey\", \"#bb0c00\"), # to set the colours of our variable  \n",
    "                     labels = c(\"Downregulated\", \"Not significant\", \"Upregulated\")) + \n",
    "  coord_cartesian(ylim = c(0, 7), xlim = c(-2, 2)) + # set the limits of the axes\n",
    "  labs(color = 'Regulation', #legend_title, \n",
    "       x = expression(\"log\"[2]*\"FC\"), y = expression(\"-log\"[10]*\"FDR\")) + \n",
    "  scale_x_continuous(breaks = seq(-10, 10, 2)) + # to customise the breaks in the x axis\n",
    "  ggtitle('COHORT differential morphological cluster expression (Aorta)') +\n",
    "  geom_text_repel(max.overlaps = Inf) # To show all labels"
   ]
  },
  {
   "cell_type": "markdown",
   "id": "cdfabf31-ef31-4637-9f07-5a2a645a4d55",
   "metadata": {},
   "source": [
    "# Q3 Morphology vs gene expression"
   ]
  },
  {
   "cell_type": "markdown",
   "id": "1c3499f5-a6c4-4244-a4d4-4ea9aee4a4e8",
   "metadata": {},
   "source": [
    "## 3.1 Import and explore the gene expression dataset"
   ]
  },
  {
   "cell_type": "code",
   "execution_count": 7,
   "id": "d0d0e16a-3849-4ada-8f56-7b088d300152",
   "metadata": {},
   "outputs": [
    {
     "data": {
      "text/html": [
       "<style>\n",
       ".list-inline {list-style: none; margin:0; padding: 0}\n",
       ".list-inline>li {display: inline-block}\n",
       ".list-inline>li:not(:last-child)::after {content: \"\\00b7\"; padding: 0 .5ex}\n",
       "</style>\n",
       "<ol class=list-inline><li>56200</li><li>282</li></ol>\n"
      ],
      "text/latex": [
       "\\begin{enumerate*}\n",
       "\\item 56200\n",
       "\\item 282\n",
       "\\end{enumerate*}\n"
      ],
      "text/markdown": [
       "1. 56200\n",
       "2. 282\n",
       "\n",
       "\n"
      ],
      "text/plain": [
       "[1] 56200   282"
      ]
     },
     "metadata": {},
     "output_type": "display_data"
    },
    {
     "data": {
      "text/html": [
       "<table class=\"dataframe\">\n",
       "<caption>A data.frame: 6 × 282</caption>\n",
       "<thead>\n",
       "\t<tr><th></th><th scope=col>Name</th><th scope=col>Description</th><th scope=col>GTEX.111YS.0526</th><th scope=col>GTEX.1122O.1126</th><th scope=col>GTEX.1128S.0326</th><th scope=col>GTEX.117XS.0426</th><th scope=col>GTEX.117YW.0226</th><th scope=col>GTEX.11DXX.0426</th><th scope=col>GTEX.11DXZ.0426</th><th scope=col>GTEX.11DYG.1226</th><th scope=col>⋯</th><th scope=col>GTEX.1R9K5.1426</th><th scope=col>GTEX.1R9PM.0326</th><th scope=col>GTEX.1R9PN.0226</th><th scope=col>GTEX.1R9PO.0226</th><th scope=col>GTEX.1RAZA.1126</th><th scope=col>GTEX.1RAZR.0626</th><th scope=col>GTEX.1RNTQ.0726</th><th scope=col>GTEX.1RQED.1126</th><th scope=col>GTEX.1S3DN.0626</th><th scope=col>GTEX.1S5ZA.1126</th></tr>\n",
       "\t<tr><th></th><th scope=col>&lt;chr&gt;</th><th scope=col>&lt;chr&gt;</th><th scope=col>&lt;int&gt;</th><th scope=col>&lt;int&gt;</th><th scope=col>&lt;int&gt;</th><th scope=col>&lt;int&gt;</th><th scope=col>&lt;int&gt;</th><th scope=col>&lt;int&gt;</th><th scope=col>&lt;int&gt;</th><th scope=col>&lt;int&gt;</th><th scope=col>⋯</th><th scope=col>&lt;int&gt;</th><th scope=col>&lt;int&gt;</th><th scope=col>&lt;int&gt;</th><th scope=col>&lt;int&gt;</th><th scope=col>&lt;int&gt;</th><th scope=col>&lt;int&gt;</th><th scope=col>&lt;int&gt;</th><th scope=col>&lt;int&gt;</th><th scope=col>&lt;int&gt;</th><th scope=col>&lt;int&gt;</th></tr>\n",
       "</thead>\n",
       "<tbody>\n",
       "\t<tr><th scope=row>1</th><td>ENSG00000223972.5</td><td>DDX11L1    </td><td> 0</td><td> 0</td><td>  0</td><td> 0</td><td>  0</td><td> 5</td><td>  0</td><td>  0</td><td>⋯</td><td>  1</td><td>  0</td><td>  0</td><td> 3</td><td>  0</td><td> 0</td><td>  0</td><td>  0</td><td> 0</td><td> 1</td></tr>\n",
       "\t<tr><th scope=row>2</th><td>ENSG00000227232.5</td><td>WASH7P     </td><td>78</td><td>70</td><td>180</td><td>78</td><td>152</td><td>76</td><td>132</td><td>143</td><td>⋯</td><td>134</td><td>142</td><td>140</td><td>69</td><td>183</td><td>61</td><td>157</td><td>103</td><td>57</td><td>70</td></tr>\n",
       "\t<tr><th scope=row>3</th><td>ENSG00000278267.1</td><td>MIR6859-1  </td><td> 0</td><td> 0</td><td>  0</td><td> 0</td><td>  0</td><td> 1</td><td>  0</td><td>  0</td><td>⋯</td><td>  0</td><td>  0</td><td>  0</td><td> 0</td><td>  0</td><td> 0</td><td>  1</td><td>  0</td><td> 0</td><td> 0</td></tr>\n",
       "\t<tr><th scope=row>4</th><td>ENSG00000243485.5</td><td>MIR1302-2HG</td><td> 0</td><td> 0</td><td>  1</td><td> 0</td><td>  0</td><td> 0</td><td>  0</td><td>  0</td><td>⋯</td><td>  0</td><td>  0</td><td>  0</td><td> 1</td><td>  0</td><td> 0</td><td>  1</td><td>  0</td><td> 0</td><td> 0</td></tr>\n",
       "\t<tr><th scope=row>5</th><td>ENSG00000237613.2</td><td>FAM138A    </td><td> 1</td><td> 0</td><td>  0</td><td> 1</td><td>  0</td><td> 0</td><td>  0</td><td>  0</td><td>⋯</td><td>  0</td><td>  0</td><td>  0</td><td> 0</td><td>  1</td><td> 0</td><td>  0</td><td>  0</td><td> 0</td><td> 0</td></tr>\n",
       "\t<tr><th scope=row>6</th><td>ENSG00000268020.3</td><td>OR4G4P     </td><td> 1</td><td> 0</td><td>  0</td><td> 1</td><td>  0</td><td> 0</td><td>  2</td><td>  0</td><td>⋯</td><td>  0</td><td>  0</td><td>  0</td><td> 0</td><td>  0</td><td> 0</td><td>  0</td><td>  0</td><td> 0</td><td> 0</td></tr>\n",
       "</tbody>\n",
       "</table>\n"
      ],
      "text/latex": [
       "A data.frame: 6 × 282\n",
       "\\begin{tabular}{r|lllllllllllllllllllll}\n",
       "  & Name & Description & GTEX.111YS.0526 & GTEX.1122O.1126 & GTEX.1128S.0326 & GTEX.117XS.0426 & GTEX.117YW.0226 & GTEX.11DXX.0426 & GTEX.11DXZ.0426 & GTEX.11DYG.1226 & ⋯ & GTEX.1R9K5.1426 & GTEX.1R9PM.0326 & GTEX.1R9PN.0226 & GTEX.1R9PO.0226 & GTEX.1RAZA.1126 & GTEX.1RAZR.0626 & GTEX.1RNTQ.0726 & GTEX.1RQED.1126 & GTEX.1S3DN.0626 & GTEX.1S5ZA.1126\\\\\n",
       "  & <chr> & <chr> & <int> & <int> & <int> & <int> & <int> & <int> & <int> & <int> & ⋯ & <int> & <int> & <int> & <int> & <int> & <int> & <int> & <int> & <int> & <int>\\\\\n",
       "\\hline\n",
       "\t1 & ENSG00000223972.5 & DDX11L1     &  0 &  0 &   0 &  0 &   0 &  5 &   0 &   0 & ⋯ &   1 &   0 &   0 &  3 &   0 &  0 &   0 &   0 &  0 &  1\\\\\n",
       "\t2 & ENSG00000227232.5 & WASH7P      & 78 & 70 & 180 & 78 & 152 & 76 & 132 & 143 & ⋯ & 134 & 142 & 140 & 69 & 183 & 61 & 157 & 103 & 57 & 70\\\\\n",
       "\t3 & ENSG00000278267.1 & MIR6859-1   &  0 &  0 &   0 &  0 &   0 &  1 &   0 &   0 & ⋯ &   0 &   0 &   0 &  0 &   0 &  0 &   1 &   0 &  0 &  0\\\\\n",
       "\t4 & ENSG00000243485.5 & MIR1302-2HG &  0 &  0 &   1 &  0 &   0 &  0 &   0 &   0 & ⋯ &   0 &   0 &   0 &  1 &   0 &  0 &   1 &   0 &  0 &  0\\\\\n",
       "\t5 & ENSG00000237613.2 & FAM138A     &  1 &  0 &   0 &  1 &   0 &  0 &   0 &   0 & ⋯ &   0 &   0 &   0 &  0 &   1 &  0 &   0 &   0 &  0 &  0\\\\\n",
       "\t6 & ENSG00000268020.3 & OR4G4P      &  1 &  0 &   0 &  1 &   0 &  0 &   2 &   0 & ⋯ &   0 &   0 &   0 &  0 &   0 &  0 &   0 &   0 &  0 &  0\\\\\n",
       "\\end{tabular}\n"
      ],
      "text/markdown": [
       "\n",
       "A data.frame: 6 × 282\n",
       "\n",
       "| <!--/--> | Name &lt;chr&gt; | Description &lt;chr&gt; | GTEX.111YS.0526 &lt;int&gt; | GTEX.1122O.1126 &lt;int&gt; | GTEX.1128S.0326 &lt;int&gt; | GTEX.117XS.0426 &lt;int&gt; | GTEX.117YW.0226 &lt;int&gt; | GTEX.11DXX.0426 &lt;int&gt; | GTEX.11DXZ.0426 &lt;int&gt; | GTEX.11DYG.1226 &lt;int&gt; | ⋯ ⋯ | GTEX.1R9K5.1426 &lt;int&gt; | GTEX.1R9PM.0326 &lt;int&gt; | GTEX.1R9PN.0226 &lt;int&gt; | GTEX.1R9PO.0226 &lt;int&gt; | GTEX.1RAZA.1126 &lt;int&gt; | GTEX.1RAZR.0626 &lt;int&gt; | GTEX.1RNTQ.0726 &lt;int&gt; | GTEX.1RQED.1126 &lt;int&gt; | GTEX.1S3DN.0626 &lt;int&gt; | GTEX.1S5ZA.1126 &lt;int&gt; |\n",
       "|---|---|---|---|---|---|---|---|---|---|---|---|---|---|---|---|---|---|---|---|---|---|\n",
       "| 1 | ENSG00000223972.5 | DDX11L1     |  0 |  0 |   0 |  0 |   0 |  5 |   0 |   0 | ⋯ |   1 |   0 |   0 |  3 |   0 |  0 |   0 |   0 |  0 |  1 |\n",
       "| 2 | ENSG00000227232.5 | WASH7P      | 78 | 70 | 180 | 78 | 152 | 76 | 132 | 143 | ⋯ | 134 | 142 | 140 | 69 | 183 | 61 | 157 | 103 | 57 | 70 |\n",
       "| 3 | ENSG00000278267.1 | MIR6859-1   |  0 |  0 |   0 |  0 |   0 |  1 |   0 |   0 | ⋯ |   0 |   0 |   0 |  0 |   0 |  0 |   1 |   0 |  0 |  0 |\n",
       "| 4 | ENSG00000243485.5 | MIR1302-2HG |  0 |  0 |   1 |  0 |   0 |  0 |   0 |   0 | ⋯ |   0 |   0 |   0 |  1 |   0 |  0 |   1 |   0 |  0 |  0 |\n",
       "| 5 | ENSG00000237613.2 | FAM138A     |  1 |  0 |   0 |  1 |   0 |  0 |   0 |   0 | ⋯ |   0 |   0 |   0 |  0 |   1 |  0 |   0 |   0 |  0 |  0 |\n",
       "| 6 | ENSG00000268020.3 | OR4G4P      |  1 |  0 |   0 |  1 |   0 |  0 |   2 |   0 | ⋯ |   0 |   0 |   0 |  0 |   0 |  0 |   0 |   0 |  0 |  0 |\n",
       "\n"
      ],
      "text/plain": [
       "  Name              Description GTEX.111YS.0526 GTEX.1122O.1126 GTEX.1128S.0326\n",
       "1 ENSG00000223972.5 DDX11L1      0               0                0            \n",
       "2 ENSG00000227232.5 WASH7P      78              70              180            \n",
       "3 ENSG00000278267.1 MIR6859-1    0               0                0            \n",
       "4 ENSG00000243485.5 MIR1302-2HG  0               0                1            \n",
       "5 ENSG00000237613.2 FAM138A      1               0                0            \n",
       "6 ENSG00000268020.3 OR4G4P       1               0                0            \n",
       "  GTEX.117XS.0426 GTEX.117YW.0226 GTEX.11DXX.0426 GTEX.11DXZ.0426\n",
       "1  0                0              5                0            \n",
       "2 78              152             76              132            \n",
       "3  0                0              1                0            \n",
       "4  0                0              0                0            \n",
       "5  1                0              0                0            \n",
       "6  1                0              0                2            \n",
       "  GTEX.11DYG.1226 ⋯ GTEX.1R9K5.1426 GTEX.1R9PM.0326 GTEX.1R9PN.0226\n",
       "1   0             ⋯   1               0               0            \n",
       "2 143             ⋯ 134             142             140            \n",
       "3   0             ⋯   0               0               0            \n",
       "4   0             ⋯   0               0               0            \n",
       "5   0             ⋯   0               0               0            \n",
       "6   0             ⋯   0               0               0            \n",
       "  GTEX.1R9PO.0226 GTEX.1RAZA.1126 GTEX.1RAZR.0626 GTEX.1RNTQ.0726\n",
       "1  3                0              0                0            \n",
       "2 69              183             61              157            \n",
       "3  0                0              0                1            \n",
       "4  1                0              0                1            \n",
       "5  0                1              0                0            \n",
       "6  0                0              0                0            \n",
       "  GTEX.1RQED.1126 GTEX.1S3DN.0626 GTEX.1S5ZA.1126\n",
       "1   0              0               1             \n",
       "2 103             57              70             \n",
       "3   0              0               0             \n",
       "4   0              0               0             \n",
       "5   0              0               0             \n",
       "6   0              0               0             "
      ]
     },
     "metadata": {},
     "output_type": "display_data"
    }
   ],
   "source": [
    "# Read the TSV file into a data frame\n",
    "RNA_read_counts_init <- read.table(\"Aorta/RNA_read_counts.tsv\", header = TRUE, sep = \"\\t\")\n",
    "\n",
    "# Display the first few rows of the data frame to verify it was read correctly\n",
    "#head(RNA_read_counts)\n",
    "dim(RNA_read_counts_init)\n",
    "head(RNA_read_counts_init)"
   ]
  },
  {
   "cell_type": "code",
   "execution_count": 8,
   "id": "fdbe0db4-59fa-4aa0-b17e-7edd8aaae136",
   "metadata": {},
   "outputs": [
    {
     "data": {
      "text/html": [
       "<table class=\"dataframe\">\n",
       "<caption>A matrix: 6 × 280 of type int</caption>\n",
       "<thead>\n",
       "\t<tr><th></th><th scope=col>GTEX.111YS.0526</th><th scope=col>GTEX.1122O.1126</th><th scope=col>GTEX.1128S.0326</th><th scope=col>GTEX.117XS.0426</th><th scope=col>GTEX.117YW.0226</th><th scope=col>GTEX.11DXX.0426</th><th scope=col>GTEX.11DXZ.0426</th><th scope=col>GTEX.11DYG.1226</th><th scope=col>GTEX.11EM3.0226</th><th scope=col>GTEX.11EMC.0926</th><th scope=col>⋯</th><th scope=col>GTEX.1R9K5.1426</th><th scope=col>GTEX.1R9PM.0326</th><th scope=col>GTEX.1R9PN.0226</th><th scope=col>GTEX.1R9PO.0226</th><th scope=col>GTEX.1RAZA.1126</th><th scope=col>GTEX.1RAZR.0626</th><th scope=col>GTEX.1RNTQ.0726</th><th scope=col>GTEX.1RQED.1126</th><th scope=col>GTEX.1S3DN.0626</th><th scope=col>GTEX.1S5ZA.1126</th></tr>\n",
       "</thead>\n",
       "<tbody>\n",
       "\t<tr><th scope=row>ENSG00000223972.5</th><td> 0</td><td> 0</td><td>  0</td><td> 0</td><td>  0</td><td> 5</td><td>  0</td><td>  0</td><td> 0</td><td>  0</td><td>⋯</td><td>  1</td><td>  0</td><td>  0</td><td> 3</td><td>  0</td><td> 0</td><td>  0</td><td>  0</td><td> 0</td><td> 1</td></tr>\n",
       "\t<tr><th scope=row>ENSG00000227232.5</th><td>78</td><td>70</td><td>180</td><td>78</td><td>152</td><td>76</td><td>132</td><td>143</td><td>88</td><td>143</td><td>⋯</td><td>134</td><td>142</td><td>140</td><td>69</td><td>183</td><td>61</td><td>157</td><td>103</td><td>57</td><td>70</td></tr>\n",
       "\t<tr><th scope=row>ENSG00000278267.1</th><td> 0</td><td> 0</td><td>  0</td><td> 0</td><td>  0</td><td> 1</td><td>  0</td><td>  0</td><td> 0</td><td>  1</td><td>⋯</td><td>  0</td><td>  0</td><td>  0</td><td> 0</td><td>  0</td><td> 0</td><td>  1</td><td>  0</td><td> 0</td><td> 0</td></tr>\n",
       "\t<tr><th scope=row>ENSG00000243485.5</th><td> 0</td><td> 0</td><td>  1</td><td> 0</td><td>  0</td><td> 0</td><td>  0</td><td>  0</td><td> 0</td><td>  0</td><td>⋯</td><td>  0</td><td>  0</td><td>  0</td><td> 1</td><td>  0</td><td> 0</td><td>  1</td><td>  0</td><td> 0</td><td> 0</td></tr>\n",
       "\t<tr><th scope=row>ENSG00000237613.2</th><td> 1</td><td> 0</td><td>  0</td><td> 1</td><td>  0</td><td> 0</td><td>  0</td><td>  0</td><td> 0</td><td>  0</td><td>⋯</td><td>  0</td><td>  0</td><td>  0</td><td> 0</td><td>  1</td><td> 0</td><td>  0</td><td>  0</td><td> 0</td><td> 0</td></tr>\n",
       "\t<tr><th scope=row>ENSG00000268020.3</th><td> 1</td><td> 0</td><td>  0</td><td> 1</td><td>  0</td><td> 0</td><td>  2</td><td>  0</td><td> 4</td><td>  1</td><td>⋯</td><td>  0</td><td>  0</td><td>  0</td><td> 0</td><td>  0</td><td> 0</td><td>  0</td><td>  0</td><td> 0</td><td> 0</td></tr>\n",
       "</tbody>\n",
       "</table>\n"
      ],
      "text/latex": [
       "A matrix: 6 × 280 of type int\n",
       "\\begin{tabular}{r|lllllllllllllllllllll}\n",
       "  & GTEX.111YS.0526 & GTEX.1122O.1126 & GTEX.1128S.0326 & GTEX.117XS.0426 & GTEX.117YW.0226 & GTEX.11DXX.0426 & GTEX.11DXZ.0426 & GTEX.11DYG.1226 & GTEX.11EM3.0226 & GTEX.11EMC.0926 & ⋯ & GTEX.1R9K5.1426 & GTEX.1R9PM.0326 & GTEX.1R9PN.0226 & GTEX.1R9PO.0226 & GTEX.1RAZA.1126 & GTEX.1RAZR.0626 & GTEX.1RNTQ.0726 & GTEX.1RQED.1126 & GTEX.1S3DN.0626 & GTEX.1S5ZA.1126\\\\\n",
       "\\hline\n",
       "\tENSG00000223972.5 &  0 &  0 &   0 &  0 &   0 &  5 &   0 &   0 &  0 &   0 & ⋯ &   1 &   0 &   0 &  3 &   0 &  0 &   0 &   0 &  0 &  1\\\\\n",
       "\tENSG00000227232.5 & 78 & 70 & 180 & 78 & 152 & 76 & 132 & 143 & 88 & 143 & ⋯ & 134 & 142 & 140 & 69 & 183 & 61 & 157 & 103 & 57 & 70\\\\\n",
       "\tENSG00000278267.1 &  0 &  0 &   0 &  0 &   0 &  1 &   0 &   0 &  0 &   1 & ⋯ &   0 &   0 &   0 &  0 &   0 &  0 &   1 &   0 &  0 &  0\\\\\n",
       "\tENSG00000243485.5 &  0 &  0 &   1 &  0 &   0 &  0 &   0 &   0 &  0 &   0 & ⋯ &   0 &   0 &   0 &  1 &   0 &  0 &   1 &   0 &  0 &  0\\\\\n",
       "\tENSG00000237613.2 &  1 &  0 &   0 &  1 &   0 &  0 &   0 &   0 &  0 &   0 & ⋯ &   0 &   0 &   0 &  0 &   1 &  0 &   0 &   0 &  0 &  0\\\\\n",
       "\tENSG00000268020.3 &  1 &  0 &   0 &  1 &   0 &  0 &   2 &   0 &  4 &   1 & ⋯ &   0 &   0 &   0 &  0 &   0 &  0 &   0 &   0 &  0 &  0\\\\\n",
       "\\end{tabular}\n"
      ],
      "text/markdown": [
       "\n",
       "A matrix: 6 × 280 of type int\n",
       "\n",
       "| <!--/--> | GTEX.111YS.0526 | GTEX.1122O.1126 | GTEX.1128S.0326 | GTEX.117XS.0426 | GTEX.117YW.0226 | GTEX.11DXX.0426 | GTEX.11DXZ.0426 | GTEX.11DYG.1226 | GTEX.11EM3.0226 | GTEX.11EMC.0926 | ⋯ | GTEX.1R9K5.1426 | GTEX.1R9PM.0326 | GTEX.1R9PN.0226 | GTEX.1R9PO.0226 | GTEX.1RAZA.1126 | GTEX.1RAZR.0626 | GTEX.1RNTQ.0726 | GTEX.1RQED.1126 | GTEX.1S3DN.0626 | GTEX.1S5ZA.1126 |\n",
       "|---|---|---|---|---|---|---|---|---|---|---|---|---|---|---|---|---|---|---|---|---|---|\n",
       "| ENSG00000223972.5 |  0 |  0 |   0 |  0 |   0 |  5 |   0 |   0 |  0 |   0 | ⋯ |   1 |   0 |   0 |  3 |   0 |  0 |   0 |   0 |  0 |  1 |\n",
       "| ENSG00000227232.5 | 78 | 70 | 180 | 78 | 152 | 76 | 132 | 143 | 88 | 143 | ⋯ | 134 | 142 | 140 | 69 | 183 | 61 | 157 | 103 | 57 | 70 |\n",
       "| ENSG00000278267.1 |  0 |  0 |   0 |  0 |   0 |  1 |   0 |   0 |  0 |   1 | ⋯ |   0 |   0 |   0 |  0 |   0 |  0 |   1 |   0 |  0 |  0 |\n",
       "| ENSG00000243485.5 |  0 |  0 |   1 |  0 |   0 |  0 |   0 |   0 |  0 |   0 | ⋯ |   0 |   0 |   0 |  1 |   0 |  0 |   1 |   0 |  0 |  0 |\n",
       "| ENSG00000237613.2 |  1 |  0 |   0 |  1 |   0 |  0 |   0 |   0 |  0 |   0 | ⋯ |   0 |   0 |   0 |  0 |   1 |  0 |   0 |   0 |  0 |  0 |\n",
       "| ENSG00000268020.3 |  1 |  0 |   0 |  1 |   0 |  0 |   2 |   0 |  4 |   1 | ⋯ |   0 |   0 |   0 |  0 |   0 |  0 |   0 |   0 |  0 |  0 |\n",
       "\n"
      ],
      "text/plain": [
       "                  GTEX.111YS.0526 GTEX.1122O.1126 GTEX.1128S.0326\n",
       "ENSG00000223972.5  0               0                0            \n",
       "ENSG00000227232.5 78              70              180            \n",
       "ENSG00000278267.1  0               0                0            \n",
       "ENSG00000243485.5  0               0                1            \n",
       "ENSG00000237613.2  1               0                0            \n",
       "ENSG00000268020.3  1               0                0            \n",
       "                  GTEX.117XS.0426 GTEX.117YW.0226 GTEX.11DXX.0426\n",
       "ENSG00000223972.5  0                0              5             \n",
       "ENSG00000227232.5 78              152             76             \n",
       "ENSG00000278267.1  0                0              1             \n",
       "ENSG00000243485.5  0                0              0             \n",
       "ENSG00000237613.2  1                0              0             \n",
       "ENSG00000268020.3  1                0              0             \n",
       "                  GTEX.11DXZ.0426 GTEX.11DYG.1226 GTEX.11EM3.0226\n",
       "ENSG00000223972.5   0               0              0             \n",
       "ENSG00000227232.5 132             143             88             \n",
       "ENSG00000278267.1   0               0              0             \n",
       "ENSG00000243485.5   0               0              0             \n",
       "ENSG00000237613.2   0               0              0             \n",
       "ENSG00000268020.3   2               0              4             \n",
       "                  GTEX.11EMC.0926 ⋯ GTEX.1R9K5.1426 GTEX.1R9PM.0326\n",
       "ENSG00000223972.5   0             ⋯   1               0            \n",
       "ENSG00000227232.5 143             ⋯ 134             142            \n",
       "ENSG00000278267.1   1             ⋯   0               0            \n",
       "ENSG00000243485.5   0             ⋯   0               0            \n",
       "ENSG00000237613.2   0             ⋯   0               0            \n",
       "ENSG00000268020.3   1             ⋯   0               0            \n",
       "                  GTEX.1R9PN.0226 GTEX.1R9PO.0226 GTEX.1RAZA.1126\n",
       "ENSG00000223972.5   0              3                0            \n",
       "ENSG00000227232.5 140             69              183            \n",
       "ENSG00000278267.1   0              0                0            \n",
       "ENSG00000243485.5   0              1                0            \n",
       "ENSG00000237613.2   0              0                1            \n",
       "ENSG00000268020.3   0              0                0            \n",
       "                  GTEX.1RAZR.0626 GTEX.1RNTQ.0726 GTEX.1RQED.1126\n",
       "ENSG00000223972.5  0                0               0            \n",
       "ENSG00000227232.5 61              157             103            \n",
       "ENSG00000278267.1  0                1               0            \n",
       "ENSG00000243485.5  0                1               0            \n",
       "ENSG00000237613.2  0                0               0            \n",
       "ENSG00000268020.3  0                0               0            \n",
       "                  GTEX.1S3DN.0626 GTEX.1S5ZA.1126\n",
       "ENSG00000223972.5  0               1             \n",
       "ENSG00000227232.5 57              70             \n",
       "ENSG00000278267.1  0               0             \n",
       "ENSG00000243485.5  0               0             \n",
       "ENSG00000237613.2  0               0             \n",
       "ENSG00000268020.3  0               0             "
      ]
     },
     "metadata": {},
     "output_type": "display_data"
    }
   ],
   "source": [
    "rownames(RNA_read_counts_init)<-RNA_read_counts_init$Name\n",
    "RNA_read_counts<-as.matrix(RNA_read_counts_init[,-c(1,2)])\n",
    "head(RNA_read_counts)"
   ]
  },
  {
   "cell_type": "code",
   "execution_count": 9,
   "id": "1c194fc7-4b28-4747-a17b-f22fb16131af",
   "metadata": {},
   "outputs": [
    {
     "data": {
      "text/html": [
       "28095"
      ],
      "text/latex": [
       "28095"
      ],
      "text/markdown": [
       "28095"
      ],
      "text/plain": [
       "[1] 28095"
      ]
     },
     "metadata": {},
     "output_type": "display_data"
    }
   ],
   "source": [
    "MAD<-numeric(nrow(RNA_read_counts))\n",
    "for (i in 1:nrow(RNA_read_counts)){\n",
    "    MAD[i]<-mad(RNA_read_counts[i,])\n",
    "}\n",
    "#Get the indices of the transcripts which are extremely little expressed\n",
    "rows_to_remove<-which(MAD==0)\n",
    "length(rows_to_remove)"
   ]
  },
  {
   "cell_type": "markdown",
   "id": "c5d27e24-e75d-41ab-ab2e-22da55f4d5ce",
   "metadata": {},
   "source": [
    "We have 28095 transcripts to remove out of the 56200 from our dataset i.e. almost half of it. "
   ]
  },
  {
   "cell_type": "code",
   "execution_count": 10,
   "id": "026c4de9-c070-453d-98ba-48aafe3853c6",
   "metadata": {},
   "outputs": [
    {
     "data": {
      "text/html": [
       "<style>\n",
       ".list-inline {list-style: none; margin:0; padding: 0}\n",
       ".list-inline>li {display: inline-block}\n",
       ".list-inline>li:not(:last-child)::after {content: \"\\00b7\"; padding: 0 .5ex}\n",
       "</style>\n",
       "<ol class=list-inline><li>28105</li><li>280</li></ol>\n"
      ],
      "text/latex": [
       "\\begin{enumerate*}\n",
       "\\item 28105\n",
       "\\item 280\n",
       "\\end{enumerate*}\n"
      ],
      "text/markdown": [
       "1. 28105\n",
       "2. 280\n",
       "\n",
       "\n"
      ],
      "text/plain": [
       "[1] 28105   280"
      ]
     },
     "metadata": {},
     "output_type": "display_data"
    }
   ],
   "source": [
    "# Remove the low expressed transcripts\n",
    "RNA_read_counts <- RNA_read_counts[-rows_to_remove,]\n",
    "dim(RNA_read_counts)"
   ]
  },
  {
   "cell_type": "code",
   "execution_count": 16,
   "id": "e034b75c-4680-4c33-936d-712a9f3b6b50",
   "metadata": {},
   "outputs": [
    {
     "data": {
      "text/html": [
       "<table class=\"dataframe\">\n",
       "<caption>A data.frame: 6 × 32</caption>\n",
       "<thead>\n",
       "\t<tr><th></th><th scope=col>Mophological.cluster.G4_0</th><th scope=col>Mophological.cluster.G4_1</th><th scope=col>Mophological.cluster.G4_2</th><th scope=col>Mophological.cluster.G4_3</th><th scope=col>Mophological.cluster.G4_4</th><th scope=col>Mophological.cluster.G4_5</th><th scope=col>Mophological.cluster.G4_6</th><th scope=col>Mophological.cluster.G4_7</th><th scope=col>Mophological.cluster.G4_8</th><th scope=col>Mophological.cluster.G4_9</th><th scope=col>⋯</th><th scope=col>Mophological.cluster.G4_22</th><th scope=col>Mophological.cluster.G4_23</th><th scope=col>Mophological.cluster.G4_24</th><th scope=col>Mophological.cluster.G4_25</th><th scope=col>Mophological.cluster.G4_26</th><th scope=col>Mophological.cluster.G4_27</th><th scope=col>Mophological.cluster.G4_28</th><th scope=col>Mophological.cluster.G4_29</th><th scope=col>Mophological.cluster.G4_30</th><th scope=col>Mophological.cluster.G4_31</th></tr>\n",
       "\t<tr><th></th><th scope=col>&lt;int&gt;</th><th scope=col>&lt;int&gt;</th><th scope=col>&lt;int&gt;</th><th scope=col>&lt;int&gt;</th><th scope=col>&lt;int&gt;</th><th scope=col>&lt;int&gt;</th><th scope=col>&lt;int&gt;</th><th scope=col>&lt;int&gt;</th><th scope=col>&lt;int&gt;</th><th scope=col>&lt;int&gt;</th><th scope=col>⋯</th><th scope=col>&lt;int&gt;</th><th scope=col>&lt;int&gt;</th><th scope=col>&lt;int&gt;</th><th scope=col>&lt;int&gt;</th><th scope=col>&lt;int&gt;</th><th scope=col>&lt;int&gt;</th><th scope=col>&lt;int&gt;</th><th scope=col>&lt;int&gt;</th><th scope=col>&lt;int&gt;</th><th scope=col>&lt;int&gt;</th></tr>\n",
       "</thead>\n",
       "<tbody>\n",
       "\t<tr><th scope=row>GTEX.111YS.0526</th><td>137</td><td> 88</td><td>417</td><td>   1</td><td>   1</td><td> 32</td><td>  1</td><td> 1</td><td>   1</td><td>167</td><td>⋯</td><td> 262</td><td>233</td><td> 31</td><td>417</td><td> 80</td><td>144</td><td>250</td><td>664</td><td> 20</td><td>0</td></tr>\n",
       "\t<tr><th scope=row>GTEX.1122O.1126</th><td> 96</td><td>880</td><td>236</td><td> 393</td><td>  21</td><td>214</td><td>  1</td><td>47</td><td>  39</td><td>291</td><td>⋯</td><td>3350</td><td> 99</td><td>190</td><td>495</td><td>278</td><td>774</td><td>694</td><td>268</td><td>145</td><td>0</td></tr>\n",
       "\t<tr><th scope=row>GTEX.1128S.0326</th><td>  2</td><td>552</td><td>211</td><td>1031</td><td> 174</td><td>216</td><td>289</td><td> 0</td><td> 493</td><td>663</td><td>⋯</td><td> 831</td><td>135</td><td>250</td><td>161</td><td> 82</td><td>120</td><td>377</td><td>  2</td><td>500</td><td>0</td></tr>\n",
       "\t<tr><th scope=row>GTEX.117XS.0426</th><td>339</td><td>  1</td><td>151</td><td> 637</td><td>1844</td><td>473</td><td>260</td><td> 3</td><td> 440</td><td>153</td><td>⋯</td><td> 148</td><td>166</td><td> 43</td><td> 49</td><td>158</td><td>211</td><td>184</td><td>142</td><td>277</td><td>3</td></tr>\n",
       "\t<tr><th scope=row>GTEX.117YW.0226</th><td>171</td><td>  0</td><td> 36</td><td> 791</td><td>1011</td><td>234</td><td>162</td><td> 0</td><td>  54</td><td>129</td><td>⋯</td><td> 106</td><td> 68</td><td>  1</td><td>  0</td><td> 76</td><td>489</td><td> 68</td><td>281</td><td>254</td><td>6</td></tr>\n",
       "\t<tr><th scope=row>GTEX.11DXX.0426</th><td>  2</td><td> 10</td><td>258</td><td>1558</td><td> 850</td><td> 48</td><td>  0</td><td>11</td><td>2491</td><td>325</td><td>⋯</td><td>   8</td><td> 89</td><td>952</td><td>  0</td><td> 26</td><td>197</td><td>323</td><td>  5</td><td> 70</td><td>0</td></tr>\n",
       "</tbody>\n",
       "</table>\n"
      ],
      "text/latex": [
       "A data.frame: 6 × 32\n",
       "\\begin{tabular}{r|lllllllllllllllllllll}\n",
       "  & Mophological.cluster.G4\\_0 & Mophological.cluster.G4\\_1 & Mophological.cluster.G4\\_2 & Mophological.cluster.G4\\_3 & Mophological.cluster.G4\\_4 & Mophological.cluster.G4\\_5 & Mophological.cluster.G4\\_6 & Mophological.cluster.G4\\_7 & Mophological.cluster.G4\\_8 & Mophological.cluster.G4\\_9 & ⋯ & Mophological.cluster.G4\\_22 & Mophological.cluster.G4\\_23 & Mophological.cluster.G4\\_24 & Mophological.cluster.G4\\_25 & Mophological.cluster.G4\\_26 & Mophological.cluster.G4\\_27 & Mophological.cluster.G4\\_28 & Mophological.cluster.G4\\_29 & Mophological.cluster.G4\\_30 & Mophological.cluster.G4\\_31\\\\\n",
       "  & <int> & <int> & <int> & <int> & <int> & <int> & <int> & <int> & <int> & <int> & ⋯ & <int> & <int> & <int> & <int> & <int> & <int> & <int> & <int> & <int> & <int>\\\\\n",
       "\\hline\n",
       "\tGTEX.111YS.0526 & 137 &  88 & 417 &    1 &    1 &  32 &   1 &  1 &    1 & 167 & ⋯ &  262 & 233 &  31 & 417 &  80 & 144 & 250 & 664 &  20 & 0\\\\\n",
       "\tGTEX.1122O.1126 &  96 & 880 & 236 &  393 &   21 & 214 &   1 & 47 &   39 & 291 & ⋯ & 3350 &  99 & 190 & 495 & 278 & 774 & 694 & 268 & 145 & 0\\\\\n",
       "\tGTEX.1128S.0326 &   2 & 552 & 211 & 1031 &  174 & 216 & 289 &  0 &  493 & 663 & ⋯ &  831 & 135 & 250 & 161 &  82 & 120 & 377 &   2 & 500 & 0\\\\\n",
       "\tGTEX.117XS.0426 & 339 &   1 & 151 &  637 & 1844 & 473 & 260 &  3 &  440 & 153 & ⋯ &  148 & 166 &  43 &  49 & 158 & 211 & 184 & 142 & 277 & 3\\\\\n",
       "\tGTEX.117YW.0226 & 171 &   0 &  36 &  791 & 1011 & 234 & 162 &  0 &   54 & 129 & ⋯ &  106 &  68 &   1 &   0 &  76 & 489 &  68 & 281 & 254 & 6\\\\\n",
       "\tGTEX.11DXX.0426 &   2 &  10 & 258 & 1558 &  850 &  48 &   0 & 11 & 2491 & 325 & ⋯ &    8 &  89 & 952 &   0 &  26 & 197 & 323 &   5 &  70 & 0\\\\\n",
       "\\end{tabular}\n"
      ],
      "text/markdown": [
       "\n",
       "A data.frame: 6 × 32\n",
       "\n",
       "| <!--/--> | Mophological.cluster.G4_0 &lt;int&gt; | Mophological.cluster.G4_1 &lt;int&gt; | Mophological.cluster.G4_2 &lt;int&gt; | Mophological.cluster.G4_3 &lt;int&gt; | Mophological.cluster.G4_4 &lt;int&gt; | Mophological.cluster.G4_5 &lt;int&gt; | Mophological.cluster.G4_6 &lt;int&gt; | Mophological.cluster.G4_7 &lt;int&gt; | Mophological.cluster.G4_8 &lt;int&gt; | Mophological.cluster.G4_9 &lt;int&gt; | ⋯ ⋯ | Mophological.cluster.G4_22 &lt;int&gt; | Mophological.cluster.G4_23 &lt;int&gt; | Mophological.cluster.G4_24 &lt;int&gt; | Mophological.cluster.G4_25 &lt;int&gt; | Mophological.cluster.G4_26 &lt;int&gt; | Mophological.cluster.G4_27 &lt;int&gt; | Mophological.cluster.G4_28 &lt;int&gt; | Mophological.cluster.G4_29 &lt;int&gt; | Mophological.cluster.G4_30 &lt;int&gt; | Mophological.cluster.G4_31 &lt;int&gt; |\n",
       "|---|---|---|---|---|---|---|---|---|---|---|---|---|---|---|---|---|---|---|---|---|---|\n",
       "| GTEX.111YS.0526 | 137 |  88 | 417 |    1 |    1 |  32 |   1 |  1 |    1 | 167 | ⋯ |  262 | 233 |  31 | 417 |  80 | 144 | 250 | 664 |  20 | 0 |\n",
       "| GTEX.1122O.1126 |  96 | 880 | 236 |  393 |   21 | 214 |   1 | 47 |   39 | 291 | ⋯ | 3350 |  99 | 190 | 495 | 278 | 774 | 694 | 268 | 145 | 0 |\n",
       "| GTEX.1128S.0326 |   2 | 552 | 211 | 1031 |  174 | 216 | 289 |  0 |  493 | 663 | ⋯ |  831 | 135 | 250 | 161 |  82 | 120 | 377 |   2 | 500 | 0 |\n",
       "| GTEX.117XS.0426 | 339 |   1 | 151 |  637 | 1844 | 473 | 260 |  3 |  440 | 153 | ⋯ |  148 | 166 |  43 |  49 | 158 | 211 | 184 | 142 | 277 | 3 |\n",
       "| GTEX.117YW.0226 | 171 |   0 |  36 |  791 | 1011 | 234 | 162 |  0 |   54 | 129 | ⋯ |  106 |  68 |   1 |   0 |  76 | 489 |  68 | 281 | 254 | 6 |\n",
       "| GTEX.11DXX.0426 |   2 |  10 | 258 | 1558 |  850 |  48 |   0 | 11 | 2491 | 325 | ⋯ |    8 |  89 | 952 |   0 |  26 | 197 | 323 |   5 |  70 | 0 |\n",
       "\n"
      ],
      "text/plain": [
       "                Mophological.cluster.G4_0 Mophological.cluster.G4_1\n",
       "GTEX.111YS.0526 137                        88                      \n",
       "GTEX.1122O.1126  96                       880                      \n",
       "GTEX.1128S.0326   2                       552                      \n",
       "GTEX.117XS.0426 339                         1                      \n",
       "GTEX.117YW.0226 171                         0                      \n",
       "GTEX.11DXX.0426   2                        10                      \n",
       "                Mophological.cluster.G4_2 Mophological.cluster.G4_3\n",
       "GTEX.111YS.0526 417                          1                     \n",
       "GTEX.1122O.1126 236                        393                     \n",
       "GTEX.1128S.0326 211                       1031                     \n",
       "GTEX.117XS.0426 151                        637                     \n",
       "GTEX.117YW.0226  36                        791                     \n",
       "GTEX.11DXX.0426 258                       1558                     \n",
       "                Mophological.cluster.G4_4 Mophological.cluster.G4_5\n",
       "GTEX.111YS.0526    1                       32                      \n",
       "GTEX.1122O.1126   21                      214                      \n",
       "GTEX.1128S.0326  174                      216                      \n",
       "GTEX.117XS.0426 1844                      473                      \n",
       "GTEX.117YW.0226 1011                      234                      \n",
       "GTEX.11DXX.0426  850                       48                      \n",
       "                Mophological.cluster.G4_6 Mophological.cluster.G4_7\n",
       "GTEX.111YS.0526   1                        1                       \n",
       "GTEX.1122O.1126   1                       47                       \n",
       "GTEX.1128S.0326 289                        0                       \n",
       "GTEX.117XS.0426 260                        3                       \n",
       "GTEX.117YW.0226 162                        0                       \n",
       "GTEX.11DXX.0426   0                       11                       \n",
       "                Mophological.cluster.G4_8 Mophological.cluster.G4_9 ⋯\n",
       "GTEX.111YS.0526    1                      167                       ⋯\n",
       "GTEX.1122O.1126   39                      291                       ⋯\n",
       "GTEX.1128S.0326  493                      663                       ⋯\n",
       "GTEX.117XS.0426  440                      153                       ⋯\n",
       "GTEX.117YW.0226   54                      129                       ⋯\n",
       "GTEX.11DXX.0426 2491                      325                       ⋯\n",
       "                Mophological.cluster.G4_22 Mophological.cluster.G4_23\n",
       "GTEX.111YS.0526  262                       233                       \n",
       "GTEX.1122O.1126 3350                        99                       \n",
       "GTEX.1128S.0326  831                       135                       \n",
       "GTEX.117XS.0426  148                       166                       \n",
       "GTEX.117YW.0226  106                        68                       \n",
       "GTEX.11DXX.0426    8                        89                       \n",
       "                Mophological.cluster.G4_24 Mophological.cluster.G4_25\n",
       "GTEX.111YS.0526  31                        417                       \n",
       "GTEX.1122O.1126 190                        495                       \n",
       "GTEX.1128S.0326 250                        161                       \n",
       "GTEX.117XS.0426  43                         49                       \n",
       "GTEX.117YW.0226   1                          0                       \n",
       "GTEX.11DXX.0426 952                          0                       \n",
       "                Mophological.cluster.G4_26 Mophological.cluster.G4_27\n",
       "GTEX.111YS.0526  80                        144                       \n",
       "GTEX.1122O.1126 278                        774                       \n",
       "GTEX.1128S.0326  82                        120                       \n",
       "GTEX.117XS.0426 158                        211                       \n",
       "GTEX.117YW.0226  76                        489                       \n",
       "GTEX.11DXX.0426  26                        197                       \n",
       "                Mophological.cluster.G4_28 Mophological.cluster.G4_29\n",
       "GTEX.111YS.0526 250                        664                       \n",
       "GTEX.1122O.1126 694                        268                       \n",
       "GTEX.1128S.0326 377                          2                       \n",
       "GTEX.117XS.0426 184                        142                       \n",
       "GTEX.117YW.0226  68                        281                       \n",
       "GTEX.11DXX.0426 323                          5                       \n",
       "                Mophological.cluster.G4_30 Mophological.cluster.G4_31\n",
       "GTEX.111YS.0526  20                        0                         \n",
       "GTEX.1122O.1126 145                        0                         \n",
       "GTEX.1128S.0326 500                        0                         \n",
       "GTEX.117XS.0426 277                        3                         \n",
       "GTEX.117YW.0226 254                        6                         \n",
       "GTEX.11DXX.0426  70                        0                         "
      ]
     },
     "metadata": {},
     "output_type": "display_data"
    }
   ],
   "source": [
    "head(morpho_counts)"
   ]
  },
  {
   "cell_type": "code",
   "execution_count": 57,
   "id": "e4b4b26c-ad63-4899-8b75-a3c65877af97",
   "metadata": {},
   "outputs": [],
   "source": [
    "# Create the different groups for differential expression with the medians.\n",
    "morphoG4_0_group <- factor(ifelse(morpho_counts$Mophological.cluster.G4_0 < median(morpho_counts$Mophological.cluster.G4_0), \"lowG4_0\", \"highG4_0\"))"
   ]
  },
  {
   "cell_type": "code",
   "execution_count": 58,
   "id": "4c61442e-1fe9-425c-95b6-2e01f8e2b09e",
   "metadata": {},
   "outputs": [
    {
     "data": {
      "text/html": [
       "<dl>\n",
       "\t<dt>$table</dt>\n",
       "\t\t<dd><table class=\"dataframe\">\n",
       "<caption>A data.frame: 10 × 5</caption>\n",
       "<thead>\n",
       "\t<tr><th></th><th scope=col>logFC</th><th scope=col>logCPM</th><th scope=col>F</th><th scope=col>PValue</th><th scope=col>FDR</th></tr>\n",
       "\t<tr><th></th><th scope=col>&lt;dbl&gt;</th><th scope=col>&lt;dbl&gt;</th><th scope=col>&lt;dbl&gt;</th><th scope=col>&lt;dbl&gt;</th><th scope=col>&lt;dbl&gt;</th></tr>\n",
       "</thead>\n",
       "<tbody>\n",
       "\t<tr><th scope=row>ENSG00000197616.11</th><td> 4.180809</td><td> 3.8937305</td><td>116.65597</td><td>5.549155e-23</td><td>1.136023e-18</td></tr>\n",
       "\t<tr><th scope=row>ENSG00000198336.9</th><td> 2.974091</td><td> 1.3133505</td><td> 97.64612</td><td>5.788050e-20</td><td>5.924648e-16</td></tr>\n",
       "\t<tr><th scope=row>ENSG00000175206.10</th><td> 3.051153</td><td> 2.6593821</td><td> 95.33490</td><td>1.380789e-19</td><td>9.422503e-16</td></tr>\n",
       "\t<tr><th scope=row>ENSG00000106631.8</th><td> 2.765707</td><td> 2.1025360</td><td> 94.27671</td><td>2.059734e-19</td><td>1.054172e-15</td></tr>\n",
       "\t<tr><th scope=row>ENSG00000014257.15</th><td>-3.252222</td><td> 1.2847019</td><td> 91.65475</td><td>5.576527e-19</td><td>2.283253e-15</td></tr>\n",
       "\t<tr><th scope=row>ENSG00000118194.18</th><td> 2.938951</td><td> 1.8051242</td><td> 86.77277</td><td>3.632999e-18</td><td>1.239579e-14</td></tr>\n",
       "\t<tr><th scope=row>ENSG00000134571.10</th><td> 2.614086</td><td> 1.3878590</td><td> 84.94444</td><td>7.378688e-18</td><td>2.157950e-14</td></tr>\n",
       "\t<tr><th scope=row>ENSG00000129991.12</th><td> 2.835500</td><td> 0.4929914</td><td> 81.74587</td><td>2.571578e-17</td><td>6.580668e-14</td></tr>\n",
       "\t<tr><th scope=row>ENSG00000148795.6</th><td> 2.079141</td><td> 1.8669781</td><td> 79.67685</td><td>5.802522e-17</td><td>1.319880e-13</td></tr>\n",
       "\t<tr><th scope=row>ENSG00000133742.13</th><td>-2.319104</td><td>-1.1143731</td><td> 70.51892</td><td>2.259526e-15</td><td>4.625702e-12</td></tr>\n",
       "</tbody>\n",
       "</table>\n",
       "</dd>\n",
       "\t<dt>$adjust.method</dt>\n",
       "\t\t<dd>'BH'</dd>\n",
       "\t<dt>$comparison</dt>\n",
       "\t\t<dd>'morphoG4_0_grouplowG4_0'</dd>\n",
       "\t<dt>$test</dt>\n",
       "\t\t<dd>'glm'</dd>\n",
       "</dl>\n"
      ],
      "text/latex": [
       "\\begin{description}\n",
       "\\item[\\$table] A data.frame: 10 × 5\n",
       "\\begin{tabular}{r|lllll}\n",
       "  & logFC & logCPM & F & PValue & FDR\\\\\n",
       "  & <dbl> & <dbl> & <dbl> & <dbl> & <dbl>\\\\\n",
       "\\hline\n",
       "\tENSG00000197616.11 &  4.180809 &  3.8937305 & 116.65597 & 5.549155e-23 & 1.136023e-18\\\\\n",
       "\tENSG00000198336.9 &  2.974091 &  1.3133505 &  97.64612 & 5.788050e-20 & 5.924648e-16\\\\\n",
       "\tENSG00000175206.10 &  3.051153 &  2.6593821 &  95.33490 & 1.380789e-19 & 9.422503e-16\\\\\n",
       "\tENSG00000106631.8 &  2.765707 &  2.1025360 &  94.27671 & 2.059734e-19 & 1.054172e-15\\\\\n",
       "\tENSG00000014257.15 & -3.252222 &  1.2847019 &  91.65475 & 5.576527e-19 & 2.283253e-15\\\\\n",
       "\tENSG00000118194.18 &  2.938951 &  1.8051242 &  86.77277 & 3.632999e-18 & 1.239579e-14\\\\\n",
       "\tENSG00000134571.10 &  2.614086 &  1.3878590 &  84.94444 & 7.378688e-18 & 2.157950e-14\\\\\n",
       "\tENSG00000129991.12 &  2.835500 &  0.4929914 &  81.74587 & 2.571578e-17 & 6.580668e-14\\\\\n",
       "\tENSG00000148795.6 &  2.079141 &  1.8669781 &  79.67685 & 5.802522e-17 & 1.319880e-13\\\\\n",
       "\tENSG00000133742.13 & -2.319104 & -1.1143731 &  70.51892 & 2.259526e-15 & 4.625702e-12\\\\\n",
       "\\end{tabular}\n",
       "\n",
       "\\item[\\$adjust.method] 'BH'\n",
       "\\item[\\$comparison] 'morphoG4\\_0\\_grouplowG4\\_0'\n",
       "\\item[\\$test] 'glm'\n",
       "\\end{description}\n"
      ],
      "text/markdown": [
       "$table\n",
       ":   \n",
       "A data.frame: 10 × 5\n",
       "\n",
       "| <!--/--> | logFC &lt;dbl&gt; | logCPM &lt;dbl&gt; | F &lt;dbl&gt; | PValue &lt;dbl&gt; | FDR &lt;dbl&gt; |\n",
       "|---|---|---|---|---|---|\n",
       "| ENSG00000197616.11 |  4.180809 |  3.8937305 | 116.65597 | 5.549155e-23 | 1.136023e-18 |\n",
       "| ENSG00000198336.9 |  2.974091 |  1.3133505 |  97.64612 | 5.788050e-20 | 5.924648e-16 |\n",
       "| ENSG00000175206.10 |  3.051153 |  2.6593821 |  95.33490 | 1.380789e-19 | 9.422503e-16 |\n",
       "| ENSG00000106631.8 |  2.765707 |  2.1025360 |  94.27671 | 2.059734e-19 | 1.054172e-15 |\n",
       "| ENSG00000014257.15 | -3.252222 |  1.2847019 |  91.65475 | 5.576527e-19 | 2.283253e-15 |\n",
       "| ENSG00000118194.18 |  2.938951 |  1.8051242 |  86.77277 | 3.632999e-18 | 1.239579e-14 |\n",
       "| ENSG00000134571.10 |  2.614086 |  1.3878590 |  84.94444 | 7.378688e-18 | 2.157950e-14 |\n",
       "| ENSG00000129991.12 |  2.835500 |  0.4929914 |  81.74587 | 2.571578e-17 | 6.580668e-14 |\n",
       "| ENSG00000148795.6 |  2.079141 |  1.8669781 |  79.67685 | 5.802522e-17 | 1.319880e-13 |\n",
       "| ENSG00000133742.13 | -2.319104 | -1.1143731 |  70.51892 | 2.259526e-15 | 4.625702e-12 |\n",
       "\n",
       "\n",
       "$adjust.method\n",
       ":   'BH'\n",
       "$comparison\n",
       ":   'morphoG4_0_grouplowG4_0'\n",
       "$test\n",
       ":   'glm'\n",
       "\n",
       "\n"
      ],
      "text/plain": [
       "Coefficient:  morphoG4_0_grouplowG4_0 \n",
       "                       logFC     logCPM         F       PValue          FDR\n",
       "ENSG00000197616.11  4.180809  3.8937305 116.65597 5.549155e-23 1.136023e-18\n",
       "ENSG00000198336.9   2.974091  1.3133505  97.64612 5.788050e-20 5.924648e-16\n",
       "ENSG00000175206.10  3.051153  2.6593821  95.33490 1.380789e-19 9.422503e-16\n",
       "ENSG00000106631.8   2.765707  2.1025360  94.27671 2.059734e-19 1.054172e-15\n",
       "ENSG00000014257.15 -3.252222  1.2847019  91.65475 5.576527e-19 2.283253e-15\n",
       "ENSG00000118194.18  2.938951  1.8051242  86.77277 3.632999e-18 1.239579e-14\n",
       "ENSG00000134571.10  2.614086  1.3878590  84.94444 7.378688e-18 2.157950e-14\n",
       "ENSG00000129991.12  2.835500  0.4929914  81.74587 2.571578e-17 6.580668e-14\n",
       "ENSG00000148795.6   2.079141  1.8669781  79.67685 5.802522e-17 1.319880e-13\n",
       "ENSG00000133742.13 -2.319104 -1.1143731  70.51892 2.259526e-15 4.625702e-12"
      ]
     },
     "metadata": {},
     "output_type": "display_data"
    }
   ],
   "source": [
    "library(edgeR)\n",
    "# create the differential expression data structure used by edgeR (DGElist)\n",
    "DGE_list <- DGEList(RNA_read_counts, group = morphoG4_0_group)\n",
    "keep <- filterByExpr(DGE_list)\n",
    "DGE_list <- DGE_list[keep, , keep.lib.sizes=FALSE]\n",
    "\n",
    "# normalize the data\n",
    "DGE_list <- calcNormFactors(DGE_list)\n",
    "DGE_list <- normLibSizes(DGE_list)\n",
    "\n",
    "# create a design matrix\n",
    "design <- model.matrix(~morphoG4_0_group)\n",
    "\n",
    "# estimate the dispersion\n",
    "DGE_list <- estimateDisp(DGE_list, design)\n",
    "\n",
    "# fit the model and test for differential expression\n",
    "fit <- glmQLFit(DGE_list,design)\n",
    "qlf <- glmQLFTest(fit,coef=2)\n",
    "\n",
    "# get the differential expression table\n",
    "topTags(qlf,n = 10)"
   ]
  },
  {
   "cell_type": "code",
   "execution_count": 59,
   "id": "d58f2afe-5140-4e84-bee4-3209bc95bac1",
   "metadata": {},
   "outputs": [
    {
     "data": {
      "text/html": [
       "<style>\n",
       ".list-inline {list-style: none; margin:0; padding: 0}\n",
       ".list-inline>li {display: inline-block}\n",
       ".list-inline>li:not(:last-child)::after {content: \"\\00b7\"; padding: 0 .5ex}\n",
       "</style>\n",
       "<ol class=list-inline><li>20472</li><li>8</li></ol>\n"
      ],
      "text/latex": [
       "\\begin{enumerate*}\n",
       "\\item 20472\n",
       "\\item 8\n",
       "\\end{enumerate*}\n"
      ],
      "text/markdown": [
       "1. 20472\n",
       "2. 8\n",
       "\n",
       "\n"
      ],
      "text/plain": [
       "[1] 20472     8"
      ]
     },
     "metadata": {},
     "output_type": "display_data"
    },
    {
     "data": {
      "text/html": [
       "47"
      ],
      "text/latex": [
       "47"
      ],
      "text/markdown": [
       "47"
      ],
      "text/plain": [
       "[1] 47"
      ]
     },
     "metadata": {},
     "output_type": "display_data"
    },
    {
     "data": {
      "text/html": [
       "76"
      ],
      "text/latex": [
       "76"
      ],
      "text/markdown": [
       "76"
      ],
      "text/plain": [
       "[1] 76"
      ]
     },
     "metadata": {},
     "output_type": "display_data"
    },
    {
     "name": "stderr",
     "output_type": "stream",
     "text": [
      "Warning message:\n",
      "\"\u001b[1m\u001b[22mRemoved 20457 rows containing missing values or values outside the scale range (`geom_text_repel()`).\"\n"
     ]
    },
    {
     "data": {
      "image/png": "[encoded data removed]",
      "text/plain": [
       "plot without title"
      ]
     },
     "metadata": {
      "image/png": {
       "height": 720,
       "width": 720
      }
     },
     "output_type": "display_data"
    }
   ],
   "source": [
    "library(tidyverse) # includes ggplot2, for data visualisation. dplyr, for data manipulation.\n",
    "library(RColorBrewer) # for a colourful plot\n",
    "library(ggrepel) # for nice annotations\n",
    "##### COHORT volcanoplot\n",
    "d_topTags <- topTags(qlf, n = 28105)[[\"table\"]]\n",
    "# Biostatsquid theme\n",
    "theme_set(theme_classic(base_size = 20) +\n",
    "            theme(\n",
    "              axis.title.y = element_text(face = \"bold\", margin = margin(0,20,0,0), size = rel(1.1), color = 'black'),\n",
    "              axis.title.x = element_text(hjust = 0.5, face = \"bold\", margin = margin(20,0,0,0), size = rel(1.1), color = 'black'),\n",
    "              plot.title = element_text(hjust = 0.5)\n",
    "            ))\n",
    "# Add a column to the data frame to specify if they are UP- or DOWN- regulated \n",
    "d_topTags$diffexpressed <- \"NO\"  # add a column diffexpressed with only NO  \n",
    "# if log2Foldchange > 1 and FDR < 0.05, set as \"UP\"  \n",
    "d_topTags$diffexpressed[d_topTags$logFC > 1 & d_topTags$FDR < 0.05] <- \"UP\"\n",
    "# if log2Foldchange < -1 and FDR < 0.05, set as \"DOWN\"\n",
    "d_topTags$diffexpressed[d_topTags$logFC < -1 & d_topTags$FDR < 0.05] <- \"DOWN\"\n",
    "\n",
    "# Create a new column \"delabel\" to de, that will contain the name of the top 15 differentially expressed genes (NA in case they are not)\n",
    "data_test<- d_topTags\n",
    "names <- rownames(d_topTags)\n",
    "d_topTags <- cbind(names,d_topTags)\n",
    "d_topTags$delabel <- ifelse(d_topTags$names %in% head(d_topTags[order(d_topTags$FDR), \"names\"], 15), d_topTags$names, NA)\n",
    "dim(d_topTags)\n",
    "sum(d_topTags$diffexpressed == \"UP\")\n",
    "sum(d_topTags$diffexpressed == \"DOWN\")\n",
    "# Set plot size: width and height in inches\n",
    "options(repr.plot.width = 12, repr.plot.height = 12)\n",
    "\n",
    "ggplot(data = d_topTags, aes(x = logFC, y = -log10(FDR), col = diffexpressed, label = delabel)) +\n",
    "  geom_vline(xintercept = c(-1, 1), col = \"gray\", linetype = 'dashed') +\n",
    "  geom_hline(yintercept = -log10(0.05), col = \"gray\", linetype = 'dashed') + \n",
    "  geom_point(size = 2) + \n",
    "  scale_color_manual(values = c(\"#00AFBB\", \"grey\", \"#bb0c00\"), # to set the colours of our variable  \n",
    "                     labels = c(\"Downregulated\", \"Not significant\", \"Upregulated\")) + \n",
    "  coord_cartesian(ylim = c(0, 20), xlim = c(-6, 6)) + # set the limits of the axes\n",
    "  labs(color = 'Regulation', #legend_title, \n",
    "       x = expression(\"log\"[2]*\"FC\"), y = expression(\"-log\"[10]*\"FDR\")) + \n",
    "  scale_x_continuous(breaks = seq(-10, 10, 2)) + # to customise the breaks in the x axis\n",
    "  ggtitle('COHORT differential morphological cluster expression (Aorta)') +\n",
    "  geom_text_repel(max.overlaps = Inf) # To show all labels"
   ]
  }
 ],
 "metadata": {
  "kernelspec": {
   "display_name": "R",
   "language": "R",
   "name": "ir"
  },
  "language_info": {
   "codemirror_mode": "r",
   "file_extension": ".r",
   "mimetype": "text/x-r-source",
   "name": "R",
   "pygments_lexer": "r",
   "version": "4.3.3"
  }
 },
 "nbformat": 4,
 "nbformat_minor": 5
}
