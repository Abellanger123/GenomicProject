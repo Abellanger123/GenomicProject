{
 "cells": [
  {
   "cell_type": "markdown",
   "id": "18545932-a2c6-4d25-96ba-920c7a59bb89",
   "metadata": {},
   "source": [
    "# Q1 : Explore clinical variables"
   ]
  },
  {
   "cell_type": "markdown",
   "id": "0f1e0610-0e68-4884-a51c-5f781ca6422f",
   "metadata": {},
   "source": [
    "## 1.1 Import and explore the clinical data"
   ]
  },
  {
   "cell_type": "code",
   "execution_count": 1,
   "id": "c3c3e172-aef6-444f-aa3d-24b1c8218539",
   "metadata": {},
   "outputs": [],
   "source": [
    "library(readr)"
   ]
  },
  {
   "cell_type": "code",
   "execution_count": 3,
   "id": "318e4642-1918-41c5-aad9-f18495dbc500",
   "metadata": {},
   "outputs": [
    {
     "name": "stderr",
     "output_type": "stream",
     "text": [
      "\u001b[1mRows: \u001b[22m\u001b[34m280\u001b[39m \u001b[1mColumns: \u001b[22m\u001b[34m14\u001b[39m\n",
      "\u001b[36m──\u001b[39m \u001b[1mColumn specification\u001b[22m \u001b[36m────────────────────────────────────────────────────────────────────────────────────────────────\u001b[39m\n",
      "\u001b[1mDelimiter:\u001b[22m \"\\t\"\n",
      "\u001b[31mchr\u001b[39m (6): SMPLID, SUBJID, COHORT, SMPTHNTS, SMPLID.1, IMGURL\n",
      "\u001b[32mdbl\u001b[39m (8): SEX, AGE, HGHT, WGHT, BMI, TRISCHD, DTHVNT, DTHHRDY\n",
      "\n",
      "\u001b[36mℹ\u001b[39m Use `spec()` to retrieve the full column specification for this data.\n",
      "\u001b[36mℹ\u001b[39m Specify the column types or set `show_col_types = FALSE` to quiet this message.\n"
     ]
    }
   ],
   "source": [
    "#import TSV file into data frame\n",
    "clinical_data <- read_tsv('Aorta/clinical_data.tsv')"
   ]
  },
  {
   "cell_type": "code",
   "execution_count": 35,
   "id": "957e8aca-05d4-408e-8692-43082bdb8174",
   "metadata": {},
   "outputs": [
    {
     "data": {
      "text/html": [
       "<table class=\"dataframe\">\n",
       "<caption>A tibble: 3 × 13</caption>\n",
       "<thead>\n",
       "\t<tr><th scope=col>SMPLID</th><th scope=col>SUBJID</th><th scope=col>COHORT</th><th scope=col>SEX</th><th scope=col>AGE</th><th scope=col>HGHT</th><th scope=col>WGHT</th><th scope=col>BMI</th><th scope=col>TRISCHD</th><th scope=col>DTHVNT</th><th scope=col>DTHHRDY</th><th scope=col>SMPLID.1</th><th scope=col>IMGURL</th></tr>\n",
       "\t<tr><th scope=col>&lt;fct&gt;</th><th scope=col>&lt;fct&gt;</th><th scope=col>&lt;fct&gt;</th><th scope=col>&lt;fct&gt;</th><th scope=col>&lt;dbl&gt;</th><th scope=col>&lt;dbl&gt;</th><th scope=col>&lt;dbl&gt;</th><th scope=col>&lt;dbl&gt;</th><th scope=col>&lt;dbl&gt;</th><th scope=col>&lt;dbl&gt;</th><th scope=col>&lt;fct&gt;</th><th scope=col>&lt;fct&gt;</th><th scope=col>&lt;fct&gt;</th></tr>\n",
       "</thead>\n",
       "<tbody>\n",
       "\t<tr><td>GTEX.111YS.0526</td><td>GTEX.111YS</td><td>Organ Donor (OPO)</td><td>1</td><td>62</td><td>72</td><td>227</td><td>30.78</td><td> 74</td><td>1</td><td>0</td><td>GTEX-111YS-0525</td><td>https://brd.nci.nih.gov/brd/specimen/GTEX-111YS-0526</td></tr>\n",
       "\t<tr><td>GTEX.1122O.1126</td><td>GTEX.1122O</td><td>Organ Donor (OPO)</td><td>2</td><td>64</td><td>66</td><td>203</td><td>32.76</td><td> 35</td><td>1</td><td>0</td><td>GTEX-1122O-1125</td><td>https://brd.nci.nih.gov/brd/specimen/GTEX-1122O-1126</td></tr>\n",
       "\t<tr><td>GTEX.1128S.0326</td><td>GTEX.1128S</td><td>Postmortem       </td><td>2</td><td>66</td><td>66</td><td>160</td><td>25.82</td><td>816</td><td>0</td><td>2</td><td>GTEX-1128S-0325</td><td>https://brd.nci.nih.gov/brd/specimen/GTEX-1128S-0326</td></tr>\n",
       "</tbody>\n",
       "</table>\n"
      ],
      "text/latex": [
       "A tibble: 3 × 13\n",
       "\\begin{tabular}{lllllllllllll}\n",
       " SMPLID & SUBJID & COHORT & SEX & AGE & HGHT & WGHT & BMI & TRISCHD & DTHVNT & DTHHRDY & SMPLID.1 & IMGURL\\\\\n",
       " <fct> & <fct> & <fct> & <fct> & <dbl> & <dbl> & <dbl> & <dbl> & <dbl> & <dbl> & <fct> & <fct> & <fct>\\\\\n",
       "\\hline\n",
       "\t GTEX.111YS.0526 & GTEX.111YS & Organ Donor (OPO) & 1 & 62 & 72 & 227 & 30.78 &  74 & 1 & 0 & GTEX-111YS-0525 & https://brd.nci.nih.gov/brd/specimen/GTEX-111YS-0526\\\\\n",
       "\t GTEX.1122O.1126 & GTEX.1122O & Organ Donor (OPO) & 2 & 64 & 66 & 203 & 32.76 &  35 & 1 & 0 & GTEX-1122O-1125 & https://brd.nci.nih.gov/brd/specimen/GTEX-1122O-1126\\\\\n",
       "\t GTEX.1128S.0326 & GTEX.1128S & Postmortem        & 2 & 66 & 66 & 160 & 25.82 & 816 & 0 & 2 & GTEX-1128S-0325 & https://brd.nci.nih.gov/brd/specimen/GTEX-1128S-0326\\\\\n",
       "\\end{tabular}\n"
      ],
      "text/markdown": [
       "\n",
       "A tibble: 3 × 13\n",
       "\n",
       "| SMPLID &lt;fct&gt; | SUBJID &lt;fct&gt; | COHORT &lt;fct&gt; | SEX &lt;fct&gt; | AGE &lt;dbl&gt; | HGHT &lt;dbl&gt; | WGHT &lt;dbl&gt; | BMI &lt;dbl&gt; | TRISCHD &lt;dbl&gt; | DTHVNT &lt;dbl&gt; | DTHHRDY &lt;fct&gt; | SMPLID.1 &lt;fct&gt; | IMGURL &lt;fct&gt; |\n",
       "|---|---|---|---|---|---|---|---|---|---|---|---|---|\n",
       "| GTEX.111YS.0526 | GTEX.111YS | Organ Donor (OPO) | 1 | 62 | 72 | 227 | 30.78 |  74 | 1 | 0 | GTEX-111YS-0525 | https://brd.nci.nih.gov/brd/specimen/GTEX-111YS-0526 |\n",
       "| GTEX.1122O.1126 | GTEX.1122O | Organ Donor (OPO) | 2 | 64 | 66 | 203 | 32.76 |  35 | 1 | 0 | GTEX-1122O-1125 | https://brd.nci.nih.gov/brd/specimen/GTEX-1122O-1126 |\n",
       "| GTEX.1128S.0326 | GTEX.1128S | Postmortem        | 2 | 66 | 66 | 160 | 25.82 | 816 | 0 | 2 | GTEX-1128S-0325 | https://brd.nci.nih.gov/brd/specimen/GTEX-1128S-0326 |\n",
       "\n"
      ],
      "text/plain": [
       "  SMPLID          SUBJID     COHORT            SEX AGE HGHT WGHT BMI   TRISCHD\n",
       "1 GTEX.111YS.0526 GTEX.111YS Organ Donor (OPO) 1   62  72   227  30.78  74    \n",
       "2 GTEX.1122O.1126 GTEX.1122O Organ Donor (OPO) 2   64  66   203  32.76  35    \n",
       "3 GTEX.1128S.0326 GTEX.1128S Postmortem        2   66  66   160  25.82 816    \n",
       "  DTHVNT DTHHRDY SMPLID.1       \n",
       "1 1      0       GTEX-111YS-0525\n",
       "2 1      0       GTEX-1122O-1125\n",
       "3 0      2       GTEX-1128S-0325\n",
       "  IMGURL                                              \n",
       "1 https://brd.nci.nih.gov/brd/specimen/GTEX-111YS-0526\n",
       "2 https://brd.nci.nih.gov/brd/specimen/GTEX-1122O-1126\n",
       "3 https://brd.nci.nih.gov/brd/specimen/GTEX-1128S-0326"
      ]
     },
     "metadata": {},
     "output_type": "display_data"
    }
   ],
   "source": [
    "head(clinical_data, 3)"
   ]
  },
  {
   "cell_type": "code",
   "execution_count": 5,
   "id": "09ca3813-5333-4f12-a55a-8c7f91ae3ba5",
   "metadata": {
    "scrolled": true
   },
   "outputs": [
    {
     "data": {
      "text/plain": [
       "    SMPLID             SUBJID             COHORT               SEX       \n",
       " Length:280         Length:280         Length:280         Min.   :1.000  \n",
       " Class :character   Class :character   Class :character   1st Qu.:1.000  \n",
       " Mode  :character   Mode  :character   Mode  :character   Median :1.000  \n",
       "                                                          Mean   :1.357  \n",
       "                                                          3rd Qu.:2.000  \n",
       "                                                          Max.   :2.000  \n",
       "      AGE             HGHT            WGHT            BMI       \n",
       " Min.   :21.00   Min.   :58.00   Min.   : 92.0   Min.   :18.58  \n",
       " 1st Qu.:48.00   1st Qu.:65.00   1st Qu.:155.8   1st Qu.:24.33  \n",
       " Median :56.00   Median :68.00   Median :176.4   Median :27.29  \n",
       " Mean   :53.64   Mean   :67.85   Mean   :179.7   Mean   :27.35  \n",
       " 3rd Qu.:64.00   3rd Qu.:71.00   3rd Qu.:202.9   3rd Qu.:30.67  \n",
       " Max.   :70.00   Max.   :77.00   Max.   :273.8   Max.   :34.99  \n",
       "   SMPTHNTS            TRISCHD            DTHVNT          DTHHRDY     \n",
       " Length:280         Min.   :  18.00   Min.   : 0.000   Min.   :0.000  \n",
       " Class :character   1st Qu.:  97.25   1st Qu.: 0.000   1st Qu.:0.000  \n",
       " Mode  :character   Median : 442.00   Median : 1.000   Median :0.000  \n",
       "                    Mean   : 476.48   Mean   : 1.286   Mean   :1.089  \n",
       "                    3rd Qu.: 762.50   3rd Qu.: 1.000   3rd Qu.:2.000  \n",
       "                    Max.   :1641.00   Max.   :99.000   Max.   :4.000  \n",
       "   SMPLID.1            IMGURL         \n",
       " Length:280         Length:280        \n",
       " Class :character   Class :character  \n",
       " Mode  :character   Mode  :character  \n",
       "                                      \n",
       "                                      \n",
       "                                      "
      ]
     },
     "metadata": {},
     "output_type": "display_data"
    }
   ],
   "source": [
    "summary(clinical_data)"
   ]
  },
  {
   "cell_type": "code",
   "execution_count": 36,
   "id": "d8dde74f-730a-436a-84b5-edb64730d98d",
   "metadata": {},
   "outputs": [],
   "source": [
    "library(dplyr)"
   ]
  },
  {
   "cell_type": "markdown",
   "id": "15bfaa04-75ea-4f29-8343-5fc2b8bac677",
   "metadata": {},
   "source": [
    "We would like to have the character variable into factors"
   ]
  },
  {
   "cell_type": "code",
   "execution_count": 11,
   "id": "35b9e433-10cc-47e4-a882-739b73658e7f",
   "metadata": {},
   "outputs": [],
   "source": [
    "# Convert character columns to factors using dplyr\n",
    "clinical_data <- clinical_data %>%\n",
    "  mutate_if(is.character, as.factor)"
   ]
  },
  {
   "cell_type": "markdown",
   "id": "6b69bb1c-51bf-4043-844e-777086b33f82",
   "metadata": {},
   "source": [
    "The problem is that some categorical variables are still considered as double (SEX and DTHHRDY)"
   ]
  },
  {
   "cell_type": "code",
   "execution_count": 88,
   "id": "5c01974b-bda7-4882-b8f0-eff550294b51",
   "metadata": {},
   "outputs": [],
   "source": [
    "# Convert SEX, DTHHRDY and DTHVNT to factors\n",
    "clinical_data$SEX <- as.factor(clinical_data$SEX)\n",
    "clinical_data$DTHHRDY <- as.factor(clinical_data$DTHHRDY)\n",
    "clinical_data$DTHVNT <- as.factor(clinical_data$DTHVNT)"
   ]
  },
  {
   "cell_type": "code",
   "execution_count": 89,
   "id": "92f75117-87a3-4484-8248-4e9ccc7a9717",
   "metadata": {
    "scrolled": true
   },
   "outputs": [
    {
     "data": {
      "text/plain": [
       "             SMPLID           SUBJID                  COHORT    SEX    \n",
       " GTEX.111YS.0526:  1   GTEX.111YS:  1   Organ Donor (OPO):143   1:180  \n",
       " GTEX.1122O.1126:  1   GTEX.1122O:  1   Postmortem       :137   2:100  \n",
       " GTEX.1128S.0326:  1   GTEX.1128S:  1                                  \n",
       " GTEX.117XS.0426:  1   GTEX.117XS:  1                                  \n",
       " GTEX.117YW.0226:  1   GTEX.117YW:  1                                  \n",
       " GTEX.11DXX.0426:  1   GTEX.11DXX:  1                                  \n",
       " (Other)        :274   (Other)   :274                                  \n",
       "      AGE             HGHT            WGHT            BMI       \n",
       " Min.   :21.00   Min.   :58.00   Min.   : 92.0   Min.   :18.58  \n",
       " 1st Qu.:48.00   1st Qu.:65.00   1st Qu.:155.8   1st Qu.:24.33  \n",
       " Median :56.00   Median :68.00   Median :176.4   Median :27.29  \n",
       " Mean   :53.64   Mean   :67.85   Mean   :179.7   Mean   :27.35  \n",
       " 3rd Qu.:64.00   3rd Qu.:71.00   3rd Qu.:202.9   3rd Qu.:30.67  \n",
       " Max.   :70.00   Max.   :77.00   Max.   :273.8   Max.   :34.99  \n",
       "                                                                \n",
       "    TRISCHD        DTHVNT   DTHHRDY            SMPLID.1  \n",
       " Min.   :  18.00   0 :116   0:156   GTEX-111YS-0525:  1  \n",
       " 1st Qu.:  97.25   1 :162   1:  8   GTEX-1122O-1125:  1  \n",
       " Median : 442.00   99:  2   2: 77   GTEX-1128S-0325:  1  \n",
       " Mean   : 476.48            3: 13   GTEX-117XS-0425:  1  \n",
       " 3rd Qu.: 762.50            4: 26   GTEX-117YW-0225:  1  \n",
       " Max.   :1641.00                    GTEX-11DXX-0425:  1  \n",
       "                                    (Other)        :274  \n",
       "                                                  IMGURL   \n",
       " https://brd.nci.nih.gov/brd/specimen/GTEX-111YS-0526:  1  \n",
       " https://brd.nci.nih.gov/brd/specimen/GTEX-1122O-1126:  1  \n",
       " https://brd.nci.nih.gov/brd/specimen/GTEX-1128S-0326:  1  \n",
       " https://brd.nci.nih.gov/brd/specimen/GTEX-117XS-0426:  1  \n",
       " https://brd.nci.nih.gov/brd/specimen/GTEX-117YW-0226:  1  \n",
       " https://brd.nci.nih.gov/brd/specimen/GTEX-11DXX-0426:  1  \n",
       " (Other)                                             :274  "
      ]
     },
     "metadata": {},
     "output_type": "display_data"
    }
   ],
   "source": [
    "summary(clinical_data)"
   ]
  },
  {
   "cell_type": "markdown",
   "id": "398ec5f0-7f94-4393-a206-40f7e9e432c4",
   "metadata": {},
   "source": [
    "Everything looks fine with the clinical dataset. We can also see that we have only \"NO_REPORT\" for the SMPTHNTS variable. We can remove it from the dataset to have a bit more clarity."
   ]
  },
  {
   "cell_type": "code",
   "execution_count": 39,
   "id": "44b44339-84f9-4085-9e16-af4cec46d7f4",
   "metadata": {},
   "outputs": [],
   "source": [
    "# Remove the SMPTHNTS column\n",
    "clinical_data$SMPTHNTS <- NULL"
   ]
  },
  {
   "cell_type": "markdown",
   "id": "276c63e4-5d9b-4627-ab36-40737e0c8403",
   "metadata": {},
   "source": [
    "We are good to go !"
   ]
  },
  {
   "cell_type": "markdown",
   "id": "e7e4266a-5397-4b4d-89f6-0d512c38c0b4",
   "metadata": {},
   "source": [
    "## 1.2 How are clinical variables distributed ?"
   ]
  },
  {
   "cell_type": "code",
   "execution_count": null,
   "id": "83ed5436-a66c-47dc-b7fc-abdca6a88730",
   "metadata": {},
   "outputs": [],
   "source": [
    "library(ggplot2)"
   ]
  },
  {
   "cell_type": "markdown",
   "id": "1ae05311-62a5-4dbe-b78a-7d90dddbc6f9",
   "metadata": {},
   "source": [
    "### 1.2.1 Distribution of numerical variables "
   ]
  },
  {
   "cell_type": "markdown",
   "id": "9f43d97c-47d2-4fc9-a8d0-f9ef02f7475d",
   "metadata": {},
   "source": [
    "There are 5 numerical variables : AGE, HGHT, WGHT, BMI and TRISCHD"
   ]
  },
  {
   "cell_type": "code",
   "execution_count": 45,
   "id": "58fe712c-4f9b-47d3-9419-5466e78fdffd",
   "metadata": {},
   "outputs": [
    {
     "data": {
      "image/png": "[encoded data removed]",
      "text/plain": [
       "Plot with title \"Histogram of Age\""
      ]
     },
     "metadata": {
      "image/png": {
       "height": 420,
       "width": 420
      }
     },
     "output_type": "display_data"
    }
   ],
   "source": [
    "# Histograms for numerical variables\n",
    "hist(clinical_data$AGE, main=\"Histogram of Age\", xlab=\"Age\", col=\"lightblue\")"
   ]
  },
  {
   "cell_type": "markdown",
   "id": "3e76307f-a584-42e5-9915-aad7a364b327",
   "metadata": {},
   "source": [
    "The dataset is represented by a bigger proportion of old person in GTEx as discussed during the theoritical course. "
   ]
  },
  {
   "cell_type": "code",
   "execution_count": 52,
   "id": "68edfa8f-e7f7-44c0-b3e9-dc08c5e8e75d",
   "metadata": {},
   "outputs": [
    {
     "data": {
      "image/png": "[encoded data removed]",
      "text/plain": [
       "Plot with title \"Histogram of height\""
      ]
     },
     "metadata": {
      "image/png": {
       "height": 420,
       "width": 420
      }
     },
     "output_type": "display_data"
    }
   ],
   "source": [
    "# Histograms for numerical variables\n",
    "hist(clinical_data$HGHT, main=\"Histogram of height\", xlab=\"height\", col=\"lightyellow\")"
   ]
  },
  {
   "cell_type": "markdown",
   "id": "94df982f-569d-4f6e-8804-041231e079f9",
   "metadata": {},
   "source": [
    "Normal distribution of the height"
   ]
  },
  {
   "cell_type": "code",
   "execution_count": 55,
   "id": "9c498f8c-1001-4626-bbb7-e1a15be94fb0",
   "metadata": {},
   "outputs": [
    {
     "data": {
      "image/png": "[encoded data removed]",
      "text/plain": [
       "Plot with title \"Histogram of weight\""
      ]
     },
     "metadata": {
      "image/png": {
       "height": 420,
       "width": 420
      }
     },
     "output_type": "display_data"
    }
   ],
   "source": [
    "# Histograms for numerical variables\n",
    "hist(clinical_data$WGHT, main=\"Histogram of weight\", xlab=\"weight\", col=\"gray\")"
   ]
  },
  {
   "cell_type": "markdown",
   "id": "242578a1-ceb9-4ae6-a906-4497de2d973e",
   "metadata": {},
   "source": [
    "Normal distribution of the weight"
   ]
  },
  {
   "cell_type": "code",
   "execution_count": 54,
   "id": "96cb503b-bdd8-4b62-ade7-7f799ea231c8",
   "metadata": {},
   "outputs": [
    {
     "data": {
      "image/png": "[encoded data removed]",
      "text/plain": [
       "Plot with title \"Histogram of BMI\""
      ]
     },
     "metadata": {
      "image/png": {
       "height": 420,
       "width": 420
      }
     },
     "output_type": "display_data"
    }
   ],
   "source": [
    "hist(clinical_data$BMI, main=\"Histogram of BMI\", xlab=\"BMI\", col=\"lightgreen\")"
   ]
  },
  {
   "cell_type": "markdown",
   "id": "7a84377c-6f55-4ad6-a552-969a1ec9edee",
   "metadata": {},
   "source": [
    "We also have a normal distribution of the BMI."
   ]
  },
  {
   "cell_type": "code",
   "execution_count": 58,
   "id": "b5293642-166f-4eee-96c0-2fad5f814d03",
   "metadata": {},
   "outputs": [
    {
     "data": {
      "image/png": "[encoded data removed]",
      "text/plain": [
       "Plot with title \"Histogram of ischemic time\""
      ]
     },
     "metadata": {
      "image/png": {
       "height": 420,
       "width": 420
      }
     },
     "output_type": "display_data"
    }
   ],
   "source": [
    "hist(clinical_data$TRISCHD, main=\"Histogram of ischemic time\", xlab=\"ischemic time\", col=\"lightblue\")"
   ]
  },
  {
   "cell_type": "markdown",
   "id": "33503396-d32a-4913-9fc7-e199d583ce58",
   "metadata": {},
   "source": [
    "We can see that we have a large number of people with very small ischemic time. We can explain that by looking at the variable COHORT. We have a quite equal repartition of organ donor and post mortem patients (143 vs 137). The 143 organ donors will have a low ischemic time (often less than 1 hour) which leads to a large proportion of people with an ischemic time between 0 and 60 minutes. However, the ischemic time of post portem patients will be way more disparate as we can see on the histogram. "
   ]
  },
  {
   "cell_type": "code",
   "execution_count": 60,
   "id": "6ee46934-54ce-4abe-8281-8b395f1f6817",
   "metadata": {},
   "outputs": [
    {
     "name": "stderr",
     "output_type": "stream",
     "text": [
      "Installation du package dans 'C:/Users/Arthur/AppData/Local/R/win-library/4.3'\n",
      "(car 'lib' n'est pas spécifié)\n",
      "\n"
     ]
    },
    {
     "name": "stdout",
     "output_type": "stream",
     "text": [
      "le package 'ggplot2' a été décompressé et les sommes MD5 ont été vérifiées avec succés\n",
      "\n",
      "Les packages binaires téléchargés sont dans\n",
      "\tC:\\Users\\Arthur\\AppData\\Local\\Temp\\RtmpYFld7t\\downloaded_packages\n"
     ]
    }
   ],
   "source": [
    "install.packages(\"ggplot2\")\n",
    "library(ggplot2)"
   ]
  },
  {
   "cell_type": "code",
   "execution_count": 76,
   "id": "6f694b06-8db2-4b16-95e1-156e94b2ab81",
   "metadata": {},
   "outputs": [
    {
     "data": {
      "image/png": "[encoded data removed]",
      "text/plain": [
       "plot without title"
      ]
     },
     "metadata": {
      "image/png": {
       "height": 420,
       "width": 420
      }
     },
     "output_type": "display_data"
    }
   ],
   "source": [
    "ggplot(clinical_data, aes(x = TRISCHD, fill = COHORT)) +\n",
    "  geom_histogram(binwidth = 10, alpha = 0.7, position = \"identity\") +\n",
    "  facet_wrap(~ COHORT, scales = \"free_y\") +\n",
    "  labs(title = \"Histogram of Ishemic Time by Cohort\",\n",
    "       x = \"Ishemic Time\",\n",
    "       y = \"Frequency\") +\n",
    "  theme_minimal(base_size = 15)"
   ]
  },
  {
   "cell_type": "markdown",
   "id": "9a2c718a-a625-4835-a0f2-5e27ae21a2fc",
   "metadata": {},
   "source": [
    "We can see that indeed, the organ donor have the propensity to have lower ischemic time of Post mortem persons and that the distribution has less variation and is skewed to the left compared to Post mortem. "
   ]
  },
  {
   "cell_type": "markdown",
   "id": "7331e2d7-71fd-4df0-b184-108240514f38",
   "metadata": {},
   "source": [
    "We could also use boxplots to show the distribution but we thought that histograms were sufficients."
   ]
  },
  {
   "cell_type": "markdown",
   "id": "06c75f32-3442-4535-8b5c-233596364e70",
   "metadata": {},
   "source": [
    "### 1.2.2 Distribution of categorical variables "
   ]
  },
  {
   "cell_type": "markdown",
   "id": "e0f019e0-62c5-4c78-987e-aac67367fb5b",
   "metadata": {},
   "source": [
    "They are 4 categorical variables : SEX, COHORT, DTHHRDY and DTHVNT."
   ]
  },
  {
   "cell_type": "code",
   "execution_count": 98,
   "id": "1464242a-35eb-4d9e-afe9-ad4988c0a42d",
   "metadata": {},
   "outputs": [
    {
     "data": {
      "text/plain": [
       "\n",
       "  1   2 \n",
       "180 100 "
      ]
     },
     "metadata": {},
     "output_type": "display_data"
    },
    {
     "data": {
      "image/png": "[encoded data removed]",
      "text/plain": [
       "Plot with title \"Barplot of Sex\""
      ]
     },
     "metadata": {
      "image/png": {
       "height": 420,
       "width": 420
      }
     },
     "output_type": "display_data"
    }
   ],
   "source": [
    "# Frequency table and barplot for SEX\n",
    "table(clinical_data$SEX)\n",
    "barplot(table(clinical_data$SEX), main=\"Barplot of Sex\", xlab=\"Sex\", ylab=\"Frequency\", col=\"lightcoral\")"
   ]
  },
  {
   "cell_type": "markdown",
   "id": "93020ddf-db0a-465b-9c55-a836e3db8167",
   "metadata": {},
   "source": [
    "We can see that we have 180 males (1) and 100 females (2) in our dataset of 280 samples which is almost twice more males than females. "
   ]
  },
  {
   "cell_type": "code",
   "execution_count": 100,
   "id": "871121a9-de76-4c62-9ec4-a49033e53371",
   "metadata": {},
   "outputs": [
    {
     "data": {
      "text/plain": [
       "\n",
       "Organ Donor (OPO)        Postmortem \n",
       "              143               137 "
      ]
     },
     "metadata": {},
     "output_type": "display_data"
    },
    {
     "data": {
      "image/png": "[encoded data removed]",
      "text/plain": [
       "Plot with title \"Barplot of Cohort\""
      ]
     },
     "metadata": {
      "image/png": {
       "height": 420,
       "width": 420
      }
     },
     "output_type": "display_data"
    }
   ],
   "source": [
    "# Frequency table and barplot for COHORT\n",
    "table(clinical_data$COHORT)\n",
    "barplot(table(clinical_data$COHORT), main=\"Barplot of Cohort\", xlab=\"Cohort\", ylab=\"Count\", col=\"lightcyan\")"
   ]
  },
  {
   "cell_type": "markdown",
   "id": "44712817-b388-487f-b86d-a9b05eae5b97",
   "metadata": {},
   "source": [
    "We almost have an equal repartition of Organ donor (OPO) and Post mortem patients. "
   ]
  },
  {
   "cell_type": "code",
   "execution_count": 107,
   "id": "86511f5a-f1e0-4d74-9865-df9aaf9bbc9f",
   "metadata": {},
   "outputs": [
    {
     "data": {
      "text/plain": [
       "\n",
       "  0   1   2   3   4 \n",
       "156   8  77  13  26 "
      ]
     },
     "metadata": {},
     "output_type": "display_data"
    },
    {
     "data": {
      "image/png": "[encoded data removed]",
      "text/plain": [
       "Plot with title \"Barplot of hardy scale\""
      ]
     },
     "metadata": {
      "image/png": {
       "height": 420,
       "width": 420
      }
     },
     "output_type": "display_data"
    }
   ],
   "source": [
    "# Frequency table and barplot for DTHHRDY\n",
    "table(clinical_data$DTHHRDY)\n",
    "barplot(table(clinical_data$DTHHRDY), main=\"Barplot of hardy scale\", xlab=\"Hardy scale\", ylab=\"Frequency\", col=\"lightcoral\")"
   ]
  },
  {
   "cell_type": "markdown",
   "id": "5f22b1fb-5dce-4e5c-a2d0-d44950507f97",
   "metadata": {},
   "source": [
    "DTHHRDY variable corresponds to the hardy scale i.e. the circumstances of death which is summarized by a factor from 0 to 4 where 0 = Ventilator case, 1 = Violent and fast death, 2 = Fast death of natural causes, 3 = Intermediate death and 4 = slow death. "
   ]
  },
  {
   "cell_type": "markdown",
   "id": "445b6bec-93d9-418f-b21c-628d0abcd77e",
   "metadata": {},
   "source": [
    "The highest circumstances frequency of death is from ventilator case (156) followed by fast death of natural causes (77), then by slow death (26), then by intermediate death (13) and finally by violent and fast death (8)"
   ]
  },
  {
   "cell_type": "code",
   "execution_count": 105,
   "id": "e97fa38a-dee1-4a9a-b51b-26a7d6a9eaeb",
   "metadata": {},
   "outputs": [
    {
     "data": {
      "text/plain": [
       "\n",
       "  0   1  99 \n",
       "116 162   2 "
      ]
     },
     "metadata": {},
     "output_type": "display_data"
    },
    {
     "data": {
      "image/png": "[encoded data removed]",
      "text/plain": [
       "Plot with title \"Barplot of Donor ventilator\""
      ]
     },
     "metadata": {
      "image/png": {
       "height": 420,
       "width": 420
      }
     },
     "output_type": "display_data"
    }
   ],
   "source": [
    "# Frequency table and barplot for DTHVNT\n",
    "table(clinical_data$DTHVNT)\n",
    "barplot(table(clinical_data$DTHVNT), main=\"Barplot of Donor ventilator\", xlab=\"DTHVNT\", ylab=\"frequency\", col=\"lightcyan\")"
   ]
  },
  {
   "cell_type": "markdown",
   "id": "5d740ad8-f014-418d-aeb2-4c5111f64d76",
   "metadata": {},
   "source": [
    "DTHVNT variable gives the information if the donor was on a ventilator (medical device) immediatly prior to death which is summarized by four differents factors : 0 = No, 1 = Yes, 98 = Not reported and 99 = Unknown. "
   ]
  },
  {
   "cell_type": "markdown",
   "id": "cde890ec-7964-4a7f-b94b-26ed816f5944",
   "metadata": {},
   "source": [
    "We can see that we have 162 patients that have been under a ventilator before death, 116 which were not and 2 that are unknown. "
   ]
  },
  {
   "cell_type": "markdown",
   "id": "13fcaf26-6ac5-4a26-97ae-41e1c6fe1828",
   "metadata": {},
   "source": [
    "## 1.3 How are clinical variables correlated ?"
   ]
  },
  {
   "cell_type": "markdown",
   "id": "3b5f07db-87a5-451f-86cb-c6b594f84261",
   "metadata": {},
   "source": [
    "### 1.3.1 Correlations between numerical variables"
   ]
  },
  {
   "cell_type": "code",
   "execution_count": null,
   "id": "09c9dea1-6548-4d18-9e53-8b31384221bb",
   "metadata": {},
   "outputs": [],
   "source": [
    "We can start by exploring the correlation between the 5 numerical variables. "
   ]
  },
  {
   "cell_type": "code",
   "execution_count": 111,
   "id": "646ef8b2-1416-439c-b011-000419e827f3",
   "metadata": {},
   "outputs": [
    {
     "data": {
      "text/html": [
       "<table class=\"dataframe\">\n",
       "<caption>A tibble: 6 × 5</caption>\n",
       "<thead>\n",
       "\t<tr><th scope=col>AGE</th><th scope=col>HGHT</th><th scope=col>WGHT</th><th scope=col>BMI</th><th scope=col>TRISCHD</th></tr>\n",
       "\t<tr><th scope=col>&lt;dbl&gt;</th><th scope=col>&lt;dbl&gt;</th><th scope=col>&lt;dbl&gt;</th><th scope=col>&lt;dbl&gt;</th><th scope=col>&lt;dbl&gt;</th></tr>\n",
       "</thead>\n",
       "<tbody>\n",
       "\t<tr><td>62</td><td>72.0</td><td>227</td><td>30.78</td><td> 74</td></tr>\n",
       "\t<tr><td>64</td><td>66.0</td><td>203</td><td>32.76</td><td> 35</td></tr>\n",
       "\t<tr><td>66</td><td>66.0</td><td>160</td><td>25.82</td><td>816</td></tr>\n",
       "\t<tr><td>64</td><td>71.0</td><td>220</td><td>30.68</td><td>848</td></tr>\n",
       "\t<tr><td>58</td><td>72.0</td><td>220</td><td>29.83</td><td>785</td></tr>\n",
       "\t<tr><td>66</td><td>64.5</td><td>128</td><td>21.63</td><td> 56</td></tr>\n",
       "</tbody>\n",
       "</table>\n"
      ],
      "text/latex": [
       "A tibble: 6 × 5\n",
       "\\begin{tabular}{lllll}\n",
       " AGE & HGHT & WGHT & BMI & TRISCHD\\\\\n",
       " <dbl> & <dbl> & <dbl> & <dbl> & <dbl>\\\\\n",
       "\\hline\n",
       "\t 62 & 72.0 & 227 & 30.78 &  74\\\\\n",
       "\t 64 & 66.0 & 203 & 32.76 &  35\\\\\n",
       "\t 66 & 66.0 & 160 & 25.82 & 816\\\\\n",
       "\t 64 & 71.0 & 220 & 30.68 & 848\\\\\n",
       "\t 58 & 72.0 & 220 & 29.83 & 785\\\\\n",
       "\t 66 & 64.5 & 128 & 21.63 &  56\\\\\n",
       "\\end{tabular}\n"
      ],
      "text/markdown": [
       "\n",
       "A tibble: 6 × 5\n",
       "\n",
       "| AGE &lt;dbl&gt; | HGHT &lt;dbl&gt; | WGHT &lt;dbl&gt; | BMI &lt;dbl&gt; | TRISCHD &lt;dbl&gt; |\n",
       "|---|---|---|---|---|\n",
       "| 62 | 72.0 | 227 | 30.78 |  74 |\n",
       "| 64 | 66.0 | 203 | 32.76 |  35 |\n",
       "| 66 | 66.0 | 160 | 25.82 | 816 |\n",
       "| 64 | 71.0 | 220 | 30.68 | 848 |\n",
       "| 58 | 72.0 | 220 | 29.83 | 785 |\n",
       "| 66 | 64.5 | 128 | 21.63 |  56 |\n",
       "\n"
      ],
      "text/plain": [
       "  AGE HGHT WGHT BMI   TRISCHD\n",
       "1 62  72.0 227  30.78  74    \n",
       "2 64  66.0 203  32.76  35    \n",
       "3 66  66.0 160  25.82 816    \n",
       "4 64  71.0 220  30.68 848    \n",
       "5 58  72.0 220  29.83 785    \n",
       "6 66  64.5 128  21.63  56    "
      ]
     },
     "metadata": {},
     "output_type": "display_data"
    }
   ],
   "source": [
    "# The variables from the 5th column to 9th column are the 5 numerical variables\n",
    "numerical_clinical_data<-clinical_data[c(5:9)]\n",
    "head(numerical_clinical_data)"
   ]
  },
  {
   "cell_type": "code",
   "execution_count": 112,
   "id": "e9bbc528-a34b-43c5-bbf7-5bb1ea3f159b",
   "metadata": {},
   "outputs": [
    {
     "data": {
      "text/html": [
       "<style>\n",
       ".list-inline {list-style: none; margin:0; padding: 0}\n",
       ".list-inline>li {display: inline-block}\n",
       ".list-inline>li:not(:last-child)::after {content: \"\\00b7\"; padding: 0 .5ex}\n",
       "</style>\n",
       "<ol class=list-inline><li>280</li><li>5</li></ol>\n"
      ],
      "text/latex": [
       "\\begin{enumerate*}\n",
       "\\item 280\n",
       "\\item 5\n",
       "\\end{enumerate*}\n"
      ],
      "text/markdown": [
       "1. 280\n",
       "2. 5\n",
       "\n",
       "\n"
      ],
      "text/plain": [
       "[1] 280   5"
      ]
     },
     "metadata": {},
     "output_type": "display_data"
    }
   ],
   "source": [
    "dim(numerical_clinical_data)"
   ]
  },
  {
   "cell_type": "code",
   "execution_count": 115,
   "id": "0877a073-4938-4a50-8307-c596cab3c98a",
   "metadata": {},
   "outputs": [
    {
     "data": {
      "text/html": [
       "<table class=\"dataframe\">\n",
       "<caption>A matrix: 5 × 5 of type dbl</caption>\n",
       "<thead>\n",
       "\t<tr><th></th><th scope=col>AGE</th><th scope=col>HGHT</th><th scope=col>WGHT</th><th scope=col>BMI</th><th scope=col>TRISCHD</th></tr>\n",
       "</thead>\n",
       "<tbody>\n",
       "\t<tr><th scope=row>AGE</th><td>1.00000000</td><td> 0.064089264</td><td>0.0973484</td><td> 0.071131909</td><td>0.22927245</td></tr>\n",
       "\t<tr><th scope=row>HGHT</th><td>0.06408926</td><td> 1.000000000</td><td>0.6121418</td><td>-0.006819023</td><td>0.14390524</td></tr>\n",
       "\t<tr><th scope=row>WGHT</th><td>0.09734840</td><td> 0.612141786</td><td>1.0000000</td><td> 0.780945124</td><td>0.11913930</td></tr>\n",
       "\t<tr><th scope=row>BMI</th><td>0.07113191</td><td>-0.006819023</td><td>0.7809451</td><td> 1.000000000</td><td>0.03324977</td></tr>\n",
       "\t<tr><th scope=row>TRISCHD</th><td>0.22927245</td><td> 0.143905243</td><td>0.1191393</td><td> 0.033249770</td><td>1.00000000</td></tr>\n",
       "</tbody>\n",
       "</table>\n"
      ],
      "text/latex": [
       "A matrix: 5 × 5 of type dbl\n",
       "\\begin{tabular}{r|lllll}\n",
       "  & AGE & HGHT & WGHT & BMI & TRISCHD\\\\\n",
       "\\hline\n",
       "\tAGE & 1.00000000 &  0.064089264 & 0.0973484 &  0.071131909 & 0.22927245\\\\\n",
       "\tHGHT & 0.06408926 &  1.000000000 & 0.6121418 & -0.006819023 & 0.14390524\\\\\n",
       "\tWGHT & 0.09734840 &  0.612141786 & 1.0000000 &  0.780945124 & 0.11913930\\\\\n",
       "\tBMI & 0.07113191 & -0.006819023 & 0.7809451 &  1.000000000 & 0.03324977\\\\\n",
       "\tTRISCHD & 0.22927245 &  0.143905243 & 0.1191393 &  0.033249770 & 1.00000000\\\\\n",
       "\\end{tabular}\n"
      ],
      "text/markdown": [
       "\n",
       "A matrix: 5 × 5 of type dbl\n",
       "\n",
       "| <!--/--> | AGE | HGHT | WGHT | BMI | TRISCHD |\n",
       "|---|---|---|---|---|---|\n",
       "| AGE | 1.00000000 |  0.064089264 | 0.0973484 |  0.071131909 | 0.22927245 |\n",
       "| HGHT | 0.06408926 |  1.000000000 | 0.6121418 | -0.006819023 | 0.14390524 |\n",
       "| WGHT | 0.09734840 |  0.612141786 | 1.0000000 |  0.780945124 | 0.11913930 |\n",
       "| BMI | 0.07113191 | -0.006819023 | 0.7809451 |  1.000000000 | 0.03324977 |\n",
       "| TRISCHD | 0.22927245 |  0.143905243 | 0.1191393 |  0.033249770 | 1.00000000 |\n",
       "\n"
      ],
      "text/plain": [
       "        AGE        HGHT         WGHT      BMI          TRISCHD   \n",
       "AGE     1.00000000  0.064089264 0.0973484  0.071131909 0.22927245\n",
       "HGHT    0.06408926  1.000000000 0.6121418 -0.006819023 0.14390524\n",
       "WGHT    0.09734840  0.612141786 1.0000000  0.780945124 0.11913930\n",
       "BMI     0.07113191 -0.006819023 0.7809451  1.000000000 0.03324977\n",
       "TRISCHD 0.22927245  0.143905243 0.1191393  0.033249770 1.00000000"
      ]
     },
     "metadata": {},
     "output_type": "display_data"
    },
    {
     "data": {
      "image/png": "[encoded data removed]",
      "text/plain": [
       "plot without title"
      ]
     },
     "metadata": {
      "image/png": {
       "height": 420,
       "width": 420
      }
     },
     "output_type": "display_data"
    }
   ],
   "source": [
    "pairs(numerical_clinical_data)\n",
    "cor(numerical_clinical_data)"
   ]
  },
  {
   "cell_type": "markdown",
   "id": "9e54bf6c-9122-4cad-84ae-8862bc1d2340",
   "metadata": {},
   "source": [
    "AGE looks to be a little bit positively correlated to TRISCHD."
   ]
  },
  {
   "cell_type": "markdown",
   "id": "0d4b59ce-5342-47b6-a064-3fae2b626453",
   "metadata": {},
   "source": [
    "HGHT is highly positively correlated to WGHT which was expected as taller people have a higher tendency to be heavier. HGHT seems also to be a bit positively correlated to TRISCHD."
   ]
  },
  {
   "cell_type": "markdown",
   "id": "b04f6b8c-1a50-4a00-9209-5f7e9f21fad1",
   "metadata": {},
   "source": [
    "WGHT is highly positively correlated to HGHT (logical as HGHT is highly correlated to WGHT) and to BMI which is expected as heavier people tend to have a higher BMI. WGHT seems also to be a bit positively correlated to TRISCHD."
   ]
  },
  {
   "cell_type": "markdown",
   "id": "a4f32fbd-ae9b-4ed0-b1fc-3fc411584e87",
   "metadata": {},
   "source": [
    "BMI is highly positively correlated to WGHT but not at all to TRISCHD."
   ]
  },
  {
   "cell_type": "markdown",
   "id": "5c2c4ac7-a9f3-4dea-9ee1-b34eaf822b89",
   "metadata": {},
   "source": [
    "As said above, TRISCHD is a little bit positively correlated to AGE, HGHT and WGHT. It suggests that older, taller and heavier people will tend to have an ischemic time a little bit higher than normal."
   ]
  },
  {
   "cell_type": "markdown",
   "id": "70df1a55-1f83-4cf1-afbf-2abfef55a6c4",
   "metadata": {},
   "source": [
    "### 1.3.2 Correlations between numerical and categorical variables"
   ]
  },
  {
   "cell_type": "markdown",
   "id": "a673f549-3f05-4dd3-b748-fead8e30f32b",
   "metadata": {},
   "source": [
    "We want to see if the value of the numerical variables depends somehow on the levels of the categorical variables."
   ]
  },
  {
   "cell_type": "markdown",
   "id": "afbc3c56-ade0-448f-b5f9-b70ff46bf498",
   "metadata": {},
   "source": [
    "As reminder the 5 numerical variables are AGE, HGHT, WGHT, BMI and TRISCHD and the 4 categorical variables are SEX, COHORT, DTHHRDY and DTHVNT."
   ]
  },
  {
   "cell_type": "markdown",
   "id": "dea31118-9994-414e-81be-fc6f6b34be0d",
   "metadata": {},
   "source": [
    "Let's start by the AGE variable in fuction of the 4 categorical variables. "
   ]
  },
  {
   "cell_type": "markdown",
   "id": "f9786370-9568-4df1-80fa-743f5d0e2961",
   "metadata": {},
   "source": [
    "#### 1.3.2.1 AGE"
   ]
  },
  {
   "cell_type": "code",
   "execution_count": 182,
   "id": "6f3ae39e-3e0d-468d-b25d-38cc0c6ad597",
   "metadata": {},
   "outputs": [
    {
     "data": {
      "text/plain": [
       "             Df Sum Sq Mean Sq F value Pr(>F)\n",
       "SEX           1    362   362.1   2.278  0.132\n",
       "Residuals   278  44189   159.0               "
      ]
     },
     "metadata": {},
     "output_type": "display_data"
    },
    {
     "data": {
      "text/plain": [
       "\n",
       "\tShapiro-Wilk normality test\n",
       "\n",
       "data:  residuals(myAOV)\n",
       "W = 0.92071, p-value = 4.878e-11\n"
      ]
     },
     "metadata": {},
     "output_type": "display_data"
    },
    {
     "data": {
      "text/plain": [
       "\n",
       "\tBartlett test of homogeneity of variances\n",
       "\n",
       "data:  AGE by SEX\n",
       "Bartlett's K-squared = 1.2393, df = 1, p-value = 0.2656\n"
      ]
     },
     "metadata": {},
     "output_type": "display_data"
    },
    {
     "data": {
      "text/plain": [
       "\n",
       "\tKruskal-Wallis rank sum test\n",
       "\n",
       "data:  AGE by SEX\n",
       "Kruskal-Wallis chi-squared = 1.9821, df = 1, p-value = 0.1592\n"
      ]
     },
     "metadata": {},
     "output_type": "display_data"
    },
    {
     "data": {
      "image/png": "[encoded data removed]",
      "text/plain": [
       "plot without title"
      ]
     },
     "metadata": {
      "image/png": {
       "height": 420,
       "width": 420
      }
     },
     "output_type": "display_data"
    }
   ],
   "source": [
    "myAOV = aov(AGE ~ SEX, data=clinical_data)\n",
    "summary(myAOV)\n",
    "shapiro.test(residuals(myAOV))\n",
    "bartlett.test(AGE ~ SEX, data=clinical_data)\n",
    "kruskal.test(AGE ~ SEX, data=clinical_data)\n",
    "boxplot(AGE ~ SEX, data=clinical_data)"
   ]
  },
  {
   "cell_type": "markdown",
   "id": "79cd4567-03ac-489e-805b-62460ee8fb6b",
   "metadata": {},
   "source": [
    "The Pvalue of the Kruskal-Wallis test is 0.159  which is under the treshold of alpha = 5%. It means that the AGE mean does not depend on the sex. "
   ]
  },
  {
   "cell_type": "code",
   "execution_count": 178,
   "id": "90de105b-cd43-4fa9-bdb6-a1fdfbc1de58",
   "metadata": {},
   "outputs": [
    {
     "data": {
      "text/plain": [
       "             Df Sum Sq Mean Sq F value   Pr(>F)    \n",
       "COHORT        1   7021    7021   52.01 5.24e-12 ***\n",
       "Residuals   278  37529     135                     \n",
       "---\n",
       "Signif. codes:  0 '***' 0.001 '**' 0.01 '*' 0.05 '.' 0.1 ' ' 1"
      ]
     },
     "metadata": {},
     "output_type": "display_data"
    },
    {
     "data": {
      "text/plain": [
       "\n",
       "\tShapiro-Wilk normality test\n",
       "\n",
       "data:  residuals(myAOV)\n",
       "W = 0.95599, p-value = 1.757e-07\n"
      ]
     },
     "metadata": {},
     "output_type": "display_data"
    },
    {
     "data": {
      "text/plain": [
       "\n",
       "\tBartlett test of homogeneity of variances\n",
       "\n",
       "data:  AGE by COHORT\n",
       "Bartlett's K-squared = 17.72, df = 1, p-value = 2.559e-05\n"
      ]
     },
     "metadata": {},
     "output_type": "display_data"
    },
    {
     "data": {
      "text/plain": [
       "\n",
       "\tKruskal-Wallis rank sum test\n",
       "\n",
       "data:  AGE by COHORT\n",
       "Kruskal-Wallis chi-squared = 42.838, df = 1, p-value = 5.947e-11\n"
      ]
     },
     "metadata": {},
     "output_type": "display_data"
    },
    {
     "data": {
      "image/png": "[encoded data removed]",
      "text/plain": [
       "plot without title"
      ]
     },
     "metadata": {
      "image/png": {
       "height": 420,
       "width": 420
      }
     },
     "output_type": "display_data"
    }
   ],
   "source": [
    "myAOV = aov(AGE ~ COHORT, data=clinical_data)\n",
    "summary(myAOV)\n",
    "shapiro.test(residuals(myAOV))\n",
    "bartlett.test(AGE ~ COHORT, data=clinical_data)\n",
    "kruskal.test(AGE ~ COHORT, data=clinical_data)\n",
    "boxplot(AGE ~ COHORT, data=clinical_data)"
   ]
  },
  {
   "cell_type": "code",
   "execution_count": 179,
   "id": "e3826d6a-6d4e-46f0-8e03-986b76415355",
   "metadata": {},
   "outputs": [
    {
     "data": {
      "text/plain": [
       "             Df Sum Sq Mean Sq F value   Pr(>F)    \n",
       "DTHHRDY       4   9161  2290.2    17.8 5.25e-13 ***\n",
       "Residuals   275  35390   128.7                     \n",
       "---\n",
       "Signif. codes:  0 '***' 0.001 '**' 0.01 '*' 0.05 '.' 0.1 ' ' 1"
      ]
     },
     "metadata": {},
     "output_type": "display_data"
    },
    {
     "data": {
      "text/plain": [
       "\n",
       "\tShapiro-Wilk normality test\n",
       "\n",
       "data:  residuals(myAOV)\n",
       "W = 0.97256, p-value = 3.331e-05\n"
      ]
     },
     "metadata": {},
     "output_type": "display_data"
    },
    {
     "data": {
      "text/plain": [
       "\n",
       "\tBartlett test of homogeneity of variances\n",
       "\n",
       "data:  AGE by DTHHRDY\n",
       "Bartlett's K-squared = 53.138, df = 4, p-value = 7.972e-11\n"
      ]
     },
     "metadata": {},
     "output_type": "display_data"
    },
    {
     "data": {
      "text/plain": [
       "\n",
       "\tKruskal-Wallis rank sum test\n",
       "\n",
       "data:  AGE by DTHHRDY\n",
       "Kruskal-Wallis chi-squared = 53.759, df = 4, p-value = 5.912e-11\n"
      ]
     },
     "metadata": {},
     "output_type": "display_data"
    },
    {
     "data": {
      "image/png": "[encoded data removed]",
      "text/plain": [
       "plot without title"
      ]
     },
     "metadata": {
      "image/png": {
       "height": 420,
       "width": 420
      }
     },
     "output_type": "display_data"
    }
   ],
   "source": [
    "myAOV = aov(AGE ~ DTHHRDY, data=clinical_data)\n",
    "summary(myAOV)\n",
    "shapiro.test(residuals(myAOV))\n",
    "bartlett.test(AGE ~ DTHHRDY, data=clinical_data)\n",
    "kruskal.test(AGE ~ DTHHRDY, data=clinical_data)\n",
    "boxplot(AGE ~ DTHHRDY, data=clinical_data)"
   ]
  },
  {
   "cell_type": "code",
   "execution_count": 180,
   "id": "7a8aeecc-0661-4d43-b4f1-3f830298bda9",
   "metadata": {},
   "outputs": [
    {
     "data": {
      "text/plain": [
       "             Df Sum Sq Mean Sq F value   Pr(>F)    \n",
       "DTHVNT        2   6611    3305   24.13 2.18e-10 ***\n",
       "Residuals   277  37940     137                     \n",
       "---\n",
       "Signif. codes:  0 '***' 0.001 '**' 0.01 '*' 0.05 '.' 0.1 ' ' 1"
      ]
     },
     "metadata": {},
     "output_type": "display_data"
    },
    {
     "data": {
      "text/plain": [
       "\n",
       "\tShapiro-Wilk normality test\n",
       "\n",
       "data:  residuals(myAOV)\n",
       "W = 0.95513, p-value = 1.382e-07\n"
      ]
     },
     "metadata": {},
     "output_type": "display_data"
    },
    {
     "data": {
      "text/plain": [
       "\n",
       "\tBartlett test of homogeneity of variances\n",
       "\n",
       "data:  AGE by DTHVNT\n",
       "Bartlett's K-squared = 21.817, df = 2, p-value = 1.83e-05\n"
      ]
     },
     "metadata": {},
     "output_type": "display_data"
    },
    {
     "data": {
      "text/plain": [
       "\n",
       "\tKruskal-Wallis rank sum test\n",
       "\n",
       "data:  AGE by DTHVNT\n",
       "Kruskal-Wallis chi-squared = 40.537, df = 2, p-value = 1.576e-09\n"
      ]
     },
     "metadata": {},
     "output_type": "display_data"
    },
    {
     "data": {
      "image/png": "[encoded data removed]",
      "text/plain": [
       "plot without title"
      ]
     },
     "metadata": {
      "image/png": {
       "height": 420,
       "width": 420
      }
     },
     "output_type": "display_data"
    }
   ],
   "source": [
    "myAOV = aov(AGE ~ DTHVNT, data=clinical_data)\n",
    "summary(myAOV)\n",
    "shapiro.test(residuals(myAOV))\n",
    "bartlett.test(AGE ~ DTHVNT, data=clinical_data)\n",
    "kruskal.test(AGE ~ DTHVNT, data=clinical_data)\n",
    "boxplot(AGE ~ DTHVNT, data=clinical_data)"
   ]
  },
  {
   "cell_type": "markdown",
   "id": "e17b66b5-698f-4f18-abc6-0875de4a0645",
   "metadata": {},
   "source": [
    "#### 1.3.2.2 HGHT"
   ]
  },
  {
   "cell_type": "code",
   "execution_count": 181,
   "id": "b641c937-de98-43f6-bbaf-575a7a2bc810",
   "metadata": {},
   "outputs": [
    {
     "data": {
      "text/plain": [
       "             Df Sum Sq Mean Sq F value Pr(>F)    \n",
       "SEX           1   2276  2275.7   290.3 <2e-16 ***\n",
       "Residuals   278   2179     7.8                   \n",
       "---\n",
       "Signif. codes:  0 '***' 0.001 '**' 0.01 '*' 0.05 '.' 0.1 ' ' 1"
      ]
     },
     "metadata": {},
     "output_type": "display_data"
    },
    {
     "data": {
      "text/plain": [
       "\n",
       "\tShapiro-Wilk normality test\n",
       "\n",
       "data:  residuals(myAOV)\n",
       "W = 0.97442, p-value = 6.562e-05\n"
      ]
     },
     "metadata": {},
     "output_type": "display_data"
    },
    {
     "data": {
      "text/plain": [
       "\n",
       "\tBartlett test of homogeneity of variances\n",
       "\n",
       "data:  HGHT by SEX\n",
       "Bartlett's K-squared = 0.84984, df = 1, p-value = 0.3566\n"
      ]
     },
     "metadata": {},
     "output_type": "display_data"
    },
    {
     "data": {
      "text/plain": [
       "\n",
       "\tKruskal-Wallis rank sum test\n",
       "\n",
       "data:  HGHT by SEX\n",
       "Kruskal-Wallis chi-squared = 147.65, df = 1, p-value < 2.2e-16\n"
      ]
     },
     "metadata": {},
     "output_type": "display_data"
    },
    {
     "data": {
      "image/png": "[encoded data removed]",
      "text/plain": [
       "plot without title"
      ]
     },
     "metadata": {
      "image/png": {
       "height": 420,
       "width": 420
      }
     },
     "output_type": "display_data"
    }
   ],
   "source": [
    "myAOV = aov(HGHT ~ SEX, data=clinical_data)\n",
    "summary(myAOV)\n",
    "shapiro.test(residuals(myAOV))\n",
    "bartlett.test(HGHT ~ SEX, data=clinical_data)\n",
    "kruskal.test(HGHT ~ SEX, data=clinical_data)\n",
    "boxplot(HGHT ~ SEX, data=clinical_data)"
   ]
  },
  {
   "cell_type": "code",
   "execution_count": 183,
   "id": "02dd8bd9-6aa4-4e3f-bbbb-a2e9c6f85d7f",
   "metadata": {},
   "outputs": [
    {
     "data": {
      "text/plain": [
       "             Df Sum Sq Mean Sq F value Pr(>F)  \n",
       "COHORT        1     82   81.62   5.188 0.0235 *\n",
       "Residuals   278   4373   15.73                 \n",
       "---\n",
       "Signif. codes:  0 '***' 0.001 '**' 0.01 '*' 0.05 '.' 0.1 ' ' 1"
      ]
     },
     "metadata": {},
     "output_type": "display_data"
    },
    {
     "data": {
      "text/plain": [
       "\n",
       "\tShapiro-Wilk normality test\n",
       "\n",
       "data:  residuals(myAOV)\n",
       "W = 0.9832, p-value = 0.002253\n"
      ]
     },
     "metadata": {},
     "output_type": "display_data"
    },
    {
     "data": {
      "text/plain": [
       "\n",
       "\tBartlett test of homogeneity of variances\n",
       "\n",
       "data:  HGHT by COHORT\n",
       "Bartlett's K-squared = 1.5411, df = 1, p-value = 0.2145\n"
      ]
     },
     "metadata": {},
     "output_type": "display_data"
    },
    {
     "data": {
      "text/plain": [
       "\n",
       "\tKruskal-Wallis rank sum test\n",
       "\n",
       "data:  HGHT by COHORT\n",
       "Kruskal-Wallis chi-squared = 4.7196, df = 1, p-value = 0.02982\n"
      ]
     },
     "metadata": {},
     "output_type": "display_data"
    },
    {
     "data": {
      "image/png": "[encoded data removed]",
      "text/plain": [
       "plot without title"
      ]
     },
     "metadata": {
      "image/png": {
       "height": 420,
       "width": 420
      }
     },
     "output_type": "display_data"
    }
   ],
   "source": [
    "myAOV = aov(HGHT ~ COHORT, data=clinical_data)\n",
    "summary(myAOV)\n",
    "shapiro.test(residuals(myAOV))\n",
    "bartlett.test(HGHT ~ COHORT, data=clinical_data)\n",
    "kruskal.test(HGHT ~ COHORT, data=clinical_data)\n",
    "boxplot(HGHT ~ COHORT, data=clinical_data)"
   ]
  },
  {
   "cell_type": "code",
   "execution_count": 185,
   "id": "92ebd9c8-5cbd-4039-a562-7ffaa9f03f0d",
   "metadata": {},
   "outputs": [
    {
     "data": {
      "text/plain": [
       "             Df Sum Sq Mean Sq F value  Pr(>F)   \n",
       "DTHHRDY       4    214   53.49   3.469 0.00875 **\n",
       "Residuals   275   4241   15.42                   \n",
       "---\n",
       "Signif. codes:  0 '***' 0.001 '**' 0.01 '*' 0.05 '.' 0.1 ' ' 1"
      ]
     },
     "metadata": {},
     "output_type": "display_data"
    },
    {
     "data": {
      "text/plain": [
       "\n",
       "\tShapiro-Wilk normality test\n",
       "\n",
       "data:  residuals(myAOV)\n",
       "W = 0.98808, p-value = 0.02083\n"
      ]
     },
     "metadata": {},
     "output_type": "display_data"
    },
    {
     "data": {
      "text/plain": [
       "\n",
       "\tBartlett test of homogeneity of variances\n",
       "\n",
       "data:  HGHT by DTHHRDY\n",
       "Bartlett's K-squared = 4.612, df = 4, p-value = 0.3295\n"
      ]
     },
     "metadata": {},
     "output_type": "display_data"
    },
    {
     "data": {
      "text/plain": [
       "\n",
       "\tKruskal-Wallis rank sum test\n",
       "\n",
       "data:  HGHT by DTHHRDY\n",
       "Kruskal-Wallis chi-squared = 12.113, df = 4, p-value = 0.01653\n"
      ]
     },
     "metadata": {},
     "output_type": "display_data"
    },
    {
     "data": {
      "image/png": "[encoded data removed]",
      "text/plain": [
       "plot without title"
      ]
     },
     "metadata": {
      "image/png": {
       "height": 420,
       "width": 420
      }
     },
     "output_type": "display_data"
    }
   ],
   "source": [
    "myAOV = aov(HGHT ~ DTHHRDY, data=clinical_data)\n",
    "summary(myAOV)\n",
    "shapiro.test(residuals(myAOV))\n",
    "bartlett.test(HGHT ~ DTHHRDY, data=clinical_data)\n",
    "kruskal.test(HGHT ~ DTHHRDY, data=clinical_data)\n",
    "boxplot(HGHT ~ DTHHRDY, data=clinical_data)"
   ]
  },
  {
   "cell_type": "code",
   "execution_count": 187,
   "id": "cc766dc0-a925-4176-b8ea-a6b6ae208ddd",
   "metadata": {},
   "outputs": [
    {
     "data": {
      "text/plain": [
       "             Df Sum Sq Mean Sq F value Pr(>F)\n",
       "DTHVNT        2     56   28.24   1.778  0.171\n",
       "Residuals   277   4398   15.88               "
      ]
     },
     "metadata": {},
     "output_type": "display_data"
    },
    {
     "data": {
      "text/plain": [
       "\n",
       "\tShapiro-Wilk normality test\n",
       "\n",
       "data:  residuals(myAOV)\n",
       "W = 0.98373, p-value = 0.002839\n"
      ]
     },
     "metadata": {},
     "output_type": "display_data"
    },
    {
     "data": {
      "text/plain": [
       "\n",
       "\tBartlett test of homogeneity of variances\n",
       "\n",
       "data:  HGHT by DTHVNT\n",
       "Bartlett's K-squared = 1.3677, df = 2, p-value = 0.5047\n"
      ]
     },
     "metadata": {},
     "output_type": "display_data"
    },
    {
     "data": {
      "text/plain": [
       "\n",
       "\tKruskal-Wallis rank sum test\n",
       "\n",
       "data:  HGHT by DTHVNT\n",
       "Kruskal-Wallis chi-squared = 4.0813, df = 2, p-value = 0.1299\n"
      ]
     },
     "metadata": {},
     "output_type": "display_data"
    },
    {
     "data": {
      "image/png": "[encoded data removed]",
      "text/plain": [
       "plot without title"
      ]
     },
     "metadata": {
      "image/png": {
       "height": 420,
       "width": 420
      }
     },
     "output_type": "display_data"
    }
   ],
   "source": [
    "myAOV = aov(HGHT ~ DTHVNT, data=clinical_data)\n",
    "summary(myAOV)\n",
    "shapiro.test(residuals(myAOV))\n",
    "bartlett.test(HGHT ~ DTHVNT, data=clinical_data)\n",
    "kruskal.test(HGHT ~ DTHVNT, data=clinical_data)\n",
    "boxplot(HGHT ~ DTHVNT, data=clinical_data)"
   ]
  },
  {
   "cell_type": "markdown",
   "id": "89aea579-5894-451e-9aad-3afa1732cdff",
   "metadata": {},
   "source": [
    "#### 1.3.2.2 WGHT"
   ]
  },
  {
   "cell_type": "code",
   "execution_count": 189,
   "id": "a1f79a49-b3b6-43c4-af6c-d773bba0d4ed",
   "metadata": {},
   "outputs": [
    {
     "data": {
      "text/plain": [
       "             Df Sum Sq Mean Sq F value Pr(>F)    \n",
       "SEX           1  74007   74007   83.01 <2e-16 ***\n",
       "Residuals   278 247853     892                   \n",
       "---\n",
       "Signif. codes:  0 '***' 0.001 '**' 0.01 '*' 0.05 '.' 0.1 ' ' 1"
      ]
     },
     "metadata": {},
     "output_type": "display_data"
    },
    {
     "data": {
      "text/plain": [
       "\n",
       "\tShapiro-Wilk normality test\n",
       "\n",
       "data:  residuals(myAOV)\n",
       "W = 0.99187, p-value = 0.1266\n"
      ]
     },
     "metadata": {},
     "output_type": "display_data"
    },
    {
     "data": {
      "text/plain": [
       "\n",
       "\tBartlett test of homogeneity of variances\n",
       "\n",
       "data:  WGHT by SEX\n",
       "Bartlett's K-squared = 0.96817, df = 1, p-value = 0.3251\n"
      ]
     },
     "metadata": {},
     "output_type": "display_data"
    },
    {
     "data": {
      "text/plain": [
       "\n",
       "\tKruskal-Wallis rank sum test\n",
       "\n",
       "data:  WGHT by SEX\n",
       "Kruskal-Wallis chi-squared = 65.369, df = 1, p-value = 6.21e-16\n"
      ]
     },
     "metadata": {},
     "output_type": "display_data"
    },
    {
     "data": {
      "image/png": "[encoded data removed]",
      "text/plain": [
       "plot without title"
      ]
     },
     "metadata": {
      "image/png": {
       "height": 420,
       "width": 420
      }
     },
     "output_type": "display_data"
    }
   ],
   "source": [
    "myAOV = aov(WGHT ~ SEX, data=clinical_data)\n",
    "summary(myAOV)\n",
    "shapiro.test(residuals(myAOV))\n",
    "bartlett.test(WGHT ~ SEX, data=clinical_data)\n",
    "kruskal.test(WGHT ~ SEX, data=clinical_data)\n",
    "boxplot(WGHT ~ SEX, data=clinical_data)"
   ]
  },
  {
   "cell_type": "code",
   "execution_count": 190,
   "id": "4105e6a7-9ab8-4b24-97c1-385b585f32c4",
   "metadata": {},
   "outputs": [
    {
     "data": {
      "text/plain": [
       "             Df Sum Sq Mean Sq F value Pr(>F)  \n",
       "COHORT        1   4383    4383   3.838 0.0511 .\n",
       "Residuals   278 317477    1142                 \n",
       "---\n",
       "Signif. codes:  0 '***' 0.001 '**' 0.01 '*' 0.05 '.' 0.1 ' ' 1"
      ]
     },
     "metadata": {},
     "output_type": "display_data"
    },
    {
     "data": {
      "text/plain": [
       "\n",
       "\tShapiro-Wilk normality test\n",
       "\n",
       "data:  residuals(myAOV)\n",
       "W = 0.99195, p-value = 0.1316\n"
      ]
     },
     "metadata": {},
     "output_type": "display_data"
    },
    {
     "data": {
      "text/plain": [
       "\n",
       "\tBartlett test of homogeneity of variances\n",
       "\n",
       "data:  WGHT by COHORT\n",
       "Bartlett's K-squared = 0.76425, df = 1, p-value = 0.382\n"
      ]
     },
     "metadata": {},
     "output_type": "display_data"
    },
    {
     "data": {
      "text/plain": [
       "\n",
       "\tKruskal-Wallis rank sum test\n",
       "\n",
       "data:  WGHT by COHORT\n",
       "Kruskal-Wallis chi-squared = 4.1733, df = 1, p-value = 0.04107\n"
      ]
     },
     "metadata": {},
     "output_type": "display_data"
    },
    {
     "data": {
      "image/png": "[encoded data removed]",
      "text/plain": [
       "plot without title"
      ]
     },
     "metadata": {
      "image/png": {
       "height": 420,
       "width": 420
      }
     },
     "output_type": "display_data"
    }
   ],
   "source": [
    "myAOV = aov(WGHT ~ COHORT, data=clinical_data)\n",
    "summary(myAOV)\n",
    "shapiro.test(residuals(myAOV))\n",
    "bartlett.test(WGHT ~ COHORT, data=clinical_data)\n",
    "kruskal.test(WGHT ~ COHORT, data=clinical_data)\n",
    "boxplot(WGHT ~ COHORT, data=clinical_data)"
   ]
  },
  {
   "cell_type": "code",
   "execution_count": null,
   "id": "2af7f875-63d2-475a-92d5-cbff3ee17e78",
   "metadata": {},
   "outputs": [],
   "source": [
    "#### 1.3.2.3 TRISCHD"
   ]
  },
  {
   "cell_type": "code",
   "execution_count": 224,
   "id": "4a8aa277-1168-4564-9360-7f003f4ad2ca",
   "metadata": {},
   "outputs": [
    {
     "data": {
      "text/plain": [
       "             Df   Sum Sq  Mean Sq F value Pr(>F)    \n",
       "COHORT        1 22633790 22633790   315.7 <2e-16 ***\n",
       "Residuals   278 19932888    71701                   \n",
       "---\n",
       "Signif. codes:  0 '***' 0.001 '**' 0.01 '*' 0.05 '.' 0.1 ' ' 1"
      ]
     },
     "metadata": {},
     "output_type": "display_data"
    },
    {
     "data": {
      "text/plain": [
       "\n",
       "\tShapiro-Wilk normality test\n",
       "\n",
       "data:  residuals(myAOV)\n",
       "W = 0.86131, p-value = 3.66e-15\n"
      ]
     },
     "metadata": {},
     "output_type": "display_data"
    },
    {
     "data": {
      "text/plain": [
       "\n",
       "\tBartlett test of homogeneity of variances\n",
       "\n",
       "data:  TRISCHD by COHORT\n",
       "Bartlett's K-squared = 0.15527, df = 1, p-value = 0.6936\n"
      ]
     },
     "metadata": {},
     "output_type": "display_data"
    },
    {
     "data": {
      "text/plain": [
       "\n",
       "\tKruskal-Wallis rank sum test\n",
       "\n",
       "data:  TRISCHD by COHORT\n",
       "Kruskal-Wallis chi-squared = 173.68, df = 1, p-value < 2.2e-16\n"
      ]
     },
     "metadata": {},
     "output_type": "display_data"
    },
    {
     "data": {
      "image/png": "[encoded data removed]",
      "text/plain": [
       "plot without title"
      ]
     },
     "metadata": {
      "image/png": {
       "height": 420,
       "width": 420
      }
     },
     "output_type": "display_data"
    }
   ],
   "source": [
    "myAOV = aov(TRISCHD ~ COHORT, data=clinical_data)\n",
    "summary(myAOV)\n",
    "shapiro.test(residuals(myAOV))\n",
    "bartlett.test(TRISCHD ~ COHORT, data=clinical_data)\n",
    "kruskal.test(TRISCHD ~ COHORT, data=clinical_data)\n",
    "boxplot(TRISCHD ~ COHORT, data=clinical_data)"
   ]
  },
  {
   "cell_type": "code",
   "execution_count": 186,
   "id": "f4c79dac-bd84-447b-bc98-37e575821436",
   "metadata": {},
   "outputs": [
    {
     "data": {
      "text/html": [
       "<table class=\"dataframe\">\n",
       "<caption>A tibble: 1 × 13</caption>\n",
       "<thead>\n",
       "\t<tr><th scope=col>SMPLID</th><th scope=col>SUBJID</th><th scope=col>COHORT</th><th scope=col>SEX</th><th scope=col>AGE</th><th scope=col>HGHT</th><th scope=col>WGHT</th><th scope=col>BMI</th><th scope=col>TRISCHD</th><th scope=col>DTHVNT</th><th scope=col>DTHHRDY</th><th scope=col>SMPLID.1</th><th scope=col>IMGURL</th></tr>\n",
       "\t<tr><th scope=col>&lt;fct&gt;</th><th scope=col>&lt;fct&gt;</th><th scope=col>&lt;fct&gt;</th><th scope=col>&lt;fct&gt;</th><th scope=col>&lt;dbl&gt;</th><th scope=col>&lt;dbl&gt;</th><th scope=col>&lt;dbl&gt;</th><th scope=col>&lt;dbl&gt;</th><th scope=col>&lt;dbl&gt;</th><th scope=col>&lt;fct&gt;</th><th scope=col>&lt;fct&gt;</th><th scope=col>&lt;fct&gt;</th><th scope=col>&lt;fct&gt;</th></tr>\n",
       "</thead>\n",
       "<tbody>\n",
       "\t<tr><td>GTEX.111YS.0526</td><td>GTEX.111YS</td><td>Organ Donor (OPO)</td><td>1</td><td>62</td><td>72</td><td>227</td><td>30.78</td><td>74</td><td>1</td><td>0</td><td>GTEX-111YS-0525</td><td>https://brd.nci.nih.gov/brd/specimen/GTEX-111YS-0526</td></tr>\n",
       "</tbody>\n",
       "</table>\n"
      ],
      "text/latex": [
       "A tibble: 1 × 13\n",
       "\\begin{tabular}{lllllllllllll}\n",
       " SMPLID & SUBJID & COHORT & SEX & AGE & HGHT & WGHT & BMI & TRISCHD & DTHVNT & DTHHRDY & SMPLID.1 & IMGURL\\\\\n",
       " <fct> & <fct> & <fct> & <fct> & <dbl> & <dbl> & <dbl> & <dbl> & <dbl> & <fct> & <fct> & <fct> & <fct>\\\\\n",
       "\\hline\n",
       "\t GTEX.111YS.0526 & GTEX.111YS & Organ Donor (OPO) & 1 & 62 & 72 & 227 & 30.78 & 74 & 1 & 0 & GTEX-111YS-0525 & https://brd.nci.nih.gov/brd/specimen/GTEX-111YS-0526\\\\\n",
       "\\end{tabular}\n"
      ],
      "text/markdown": [
       "\n",
       "A tibble: 1 × 13\n",
       "\n",
       "| SMPLID &lt;fct&gt; | SUBJID &lt;fct&gt; | COHORT &lt;fct&gt; | SEX &lt;fct&gt; | AGE &lt;dbl&gt; | HGHT &lt;dbl&gt; | WGHT &lt;dbl&gt; | BMI &lt;dbl&gt; | TRISCHD &lt;dbl&gt; | DTHVNT &lt;fct&gt; | DTHHRDY &lt;fct&gt; | SMPLID.1 &lt;fct&gt; | IMGURL &lt;fct&gt; |\n",
       "|---|---|---|---|---|---|---|---|---|---|---|---|---|\n",
       "| GTEX.111YS.0526 | GTEX.111YS | Organ Donor (OPO) | 1 | 62 | 72 | 227 | 30.78 | 74 | 1 | 0 | GTEX-111YS-0525 | https://brd.nci.nih.gov/brd/specimen/GTEX-111YS-0526 |\n",
       "\n"
      ],
      "text/plain": [
       "  SMPLID          SUBJID     COHORT            SEX AGE HGHT WGHT BMI   TRISCHD\n",
       "1 GTEX.111YS.0526 GTEX.111YS Organ Donor (OPO) 1   62  72   227  30.78 74     \n",
       "  DTHVNT DTHHRDY SMPLID.1       \n",
       "1 1      0       GTEX-111YS-0525\n",
       "  IMGURL                                              \n",
       "1 https://brd.nci.nih.gov/brd/specimen/GTEX-111YS-0526"
      ]
     },
     "metadata": {},
     "output_type": "display_data"
    }
   ],
   "source": [
    "head(clinical_data, 1)"
   ]
  },
  {
   "cell_type": "markdown",
   "id": "83966460-5ad2-44b6-ab00-7f76c061b62c",
   "metadata": {},
   "source": [
    "## 1.3.3 Correlations between categorical variables"
   ]
  },
  {
   "cell_type": "markdown",
   "id": "7f380dc3-2c03-4b61-b061-3938da6a59c4",
   "metadata": {},
   "source": [
    "4 categorical variables are SEX, COHORT, DTHHRDY and DTHVNT."
   ]
  },
  {
   "cell_type": "markdown",
   "id": "11d3dafb-8c1d-490c-ae63-2ba772b17c24",
   "metadata": {},
   "source": [
    "The idea is to perform a chi-squared test to see if two categorical variables are independant i.e they are \"correlated to each other\". They are 3 + 2 + 1 = 7 possible combinations to compare the categorical variables."
   ]
  },
  {
   "cell_type": "markdown",
   "id": "16895e65-21d0-42bd-8cf4-496aa07a5ddc",
   "metadata": {},
   "source": [
    "### 1.3.3.1 SEX"
   ]
  },
  {
   "cell_type": "code",
   "execution_count": 201,
   "id": "c4a3c2e4-eb8a-47cc-ae6e-99cf542360b1",
   "metadata": {},
   "outputs": [
    {
     "data": {
      "text/plain": [
       "   \n",
       "    Organ Donor (OPO) Postmortem\n",
       "  1                88         92\n",
       "  2                55         45"
      ]
     },
     "metadata": {},
     "output_type": "display_data"
    },
    {
     "data": {
      "text/plain": [
       "\n",
       "\tPearson's Chi-squared test with Yates' continuity correction\n",
       "\n",
       "data:  cont_table\n",
       "X-squared = 0.73176, df = 1, p-value = 0.3923\n"
      ]
     },
     "metadata": {},
     "output_type": "display_data"
    }
   ],
   "source": [
    "# Contingency table\n",
    "cont_table <- table(clinical_data$SEX, clinical_data$COHORT)\n",
    "cont_table\n",
    "# Chi-squared test\n",
    "chisq.test(cont_table)"
   ]
  },
  {
   "cell_type": "code",
   "execution_count": 202,
   "id": "e68bc5e7-3324-4c0d-9bed-228d0dc4ce0b",
   "metadata": {},
   "outputs": [
    {
     "data": {
      "text/plain": [
       "   \n",
       "     0  1  2  3  4\n",
       "  1 96  3 60  9 12\n",
       "  2 60  5 17  4 14"
      ]
     },
     "metadata": {},
     "output_type": "display_data"
    },
    {
     "name": "stderr",
     "output_type": "stream",
     "text": [
      "Warning message in chisq.test(cont_table):\n",
      "\"L’approximation du Chi-2 est peut-être incorrecte\"\n"
     ]
    },
    {
     "data": {
      "text/plain": [
       "\n",
       "\tPearson's Chi-squared test\n",
       "\n",
       "data:  cont_table\n",
       "X-squared = 13.111, df = 4, p-value = 0.01075\n"
      ]
     },
     "metadata": {},
     "output_type": "display_data"
    }
   ],
   "source": [
    "# Contingency table\n",
    "cont_table <- table(clinical_data$SEX, clinical_data$DTHHRDY)\n",
    "cont_table\n",
    "# Chi-squared test\n",
    "chisq.test(cont_table)"
   ]
  },
  {
   "cell_type": "code",
   "execution_count": 203,
   "id": "f1a9fdcb-6c12-4c7b-ba14-e4c4dffad12c",
   "metadata": {},
   "outputs": [
    {
     "data": {
      "text/plain": [
       "   \n",
       "      0   1  99\n",
       "  1  77 101   2\n",
       "  2  39  61   0"
      ]
     },
     "metadata": {},
     "output_type": "display_data"
    },
    {
     "name": "stderr",
     "output_type": "stream",
     "text": [
      "Warning message in chisq.test(cont_table):\n",
      "\"L’approximation du Chi-2 est peut-être incorrecte\"\n"
     ]
    },
    {
     "data": {
      "text/plain": [
       "\n",
       "\tPearson's Chi-squared test\n",
       "\n",
       "data:  cont_table\n",
       "X-squared = 1.5981, df = 2, p-value = 0.4497\n"
      ]
     },
     "metadata": {},
     "output_type": "display_data"
    }
   ],
   "source": [
    "# Contingency table\n",
    "cont_table <- table(clinical_data$SEX, clinical_data$DTHVNT)\n",
    "cont_table\n",
    "# Chi-squared test\n",
    "chisq.test(cont_table)"
   ]
  },
  {
   "cell_type": "markdown",
   "id": "e4fc5787-d0e2-46db-9cbe-887aa91355fa",
   "metadata": {},
   "source": [
    "### 1.3.3.2 COHORT"
   ]
  },
  {
   "cell_type": "code",
   "execution_count": 207,
   "id": "60a21a28-11d4-46e9-97fc-cd74f8794128",
   "metadata": {},
   "outputs": [
    {
     "data": {
      "text/plain": [
       "                   \n",
       "                      0   1   2   3   4\n",
       "  Organ Donor (OPO) 142   1   0   0   0\n",
       "  Postmortem         14   7  77  13  26"
      ]
     },
     "metadata": {},
     "output_type": "display_data"
    },
    {
     "name": "stderr",
     "output_type": "stream",
     "text": [
      "Warning message in chisq.test(cont_table):\n",
      "\"L’approximation du Chi-2 est peut-être incorrecte\"\n"
     ]
    },
    {
     "data": {
      "text/plain": [
       "\n",
       "\tPearson's Chi-squared test\n",
       "\n",
       "data:  cont_table\n",
       "X-squared = 225.5, df = 4, p-value < 2.2e-16\n"
      ]
     },
     "metadata": {},
     "output_type": "display_data"
    }
   ],
   "source": [
    "# Contingency table\n",
    "cont_table <- table(clinical_data$COHORT, clinical_data$DTHHRDY)\n",
    "cont_table\n",
    "# Chi-squared test\n",
    "chisq.test(cont_table)"
   ]
  },
  {
   "cell_type": "code",
   "execution_count": 209,
   "id": "c9d2937a-374f-47e2-a755-060428adbc12",
   "metadata": {},
   "outputs": [
    {
     "data": {
      "text/plain": [
       "                   \n",
       "                      0   1  99\n",
       "  Organ Donor (OPO)   0 143   0\n",
       "  Postmortem        116  19   2"
      ]
     },
     "metadata": {},
     "output_type": "display_data"
    },
    {
     "name": "stderr",
     "output_type": "stream",
     "text": [
      "Warning message in chisq.test(cont_table):\n",
      "\"L’approximation du Chi-2 est peut-être incorrecte\"\n"
     ]
    },
    {
     "data": {
      "text/plain": [
       "\n",
       "\tPearson's Chi-squared test\n",
       "\n",
       "data:  cont_table\n",
       "X-squared = 212.88, df = 2, p-value < 2.2e-16\n"
      ]
     },
     "metadata": {},
     "output_type": "display_data"
    }
   ],
   "source": [
    "# Contingency table\n",
    "cont_table <- table(clinical_data$COHORT, clinical_data$DTHVNT)\n",
    "cont_table\n",
    "# Chi-squared test\n",
    "chisq.test(cont_table)"
   ]
  },
  {
   "cell_type": "markdown",
   "id": "756a8b9b-6088-4e8a-a720-33d5bfbeb37c",
   "metadata": {},
   "source": [
    "### 1.3.3.3 DTHHRDY"
   ]
  },
  {
   "cell_type": "code",
   "execution_count": 211,
   "id": "057e5d8c-c0ff-4b30-a12a-a1dea95c9a67",
   "metadata": {},
   "outputs": [
    {
     "data": {
      "text/plain": [
       "   \n",
       "      0   1  99\n",
       "  0   0 156   0\n",
       "  1   7   1   0\n",
       "  2  73   3   1\n",
       "  3  11   2   0\n",
       "  4  25   0   1"
      ]
     },
     "metadata": {},
     "output_type": "display_data"
    },
    {
     "name": "stderr",
     "output_type": "stream",
     "text": [
      "Warning message in chisq.test(cont_table):\n",
      "\"L’approximation du Chi-2 est peut-être incorrecte\"\n"
     ]
    },
    {
     "data": {
      "text/plain": [
       "\n",
       "\tPearson's Chi-squared test\n",
       "\n",
       "data:  cont_table\n",
       "X-squared = 260.11, df = 8, p-value < 2.2e-16\n"
      ]
     },
     "metadata": {},
     "output_type": "display_data"
    }
   ],
   "source": [
    "# Contingency table\n",
    "cont_table <- table(clinical_data$DTHHRDY, clinical_data$DTHVNT)\n",
    "cont_table\n",
    "# Chi-squared test\n",
    "chisq.test(cont_table)"
   ]
  },
  {
   "cell_type": "markdown",
   "id": "ff07cbf5-7e09-4ac1-9278-ba8189419012",
   "metadata": {},
   "source": [
    "# 1.4 Are there technical variables cofounding demographic/health variables ?"
   ]
  },
  {
   "cell_type": "code",
   "execution_count": 222,
   "id": "533b159f-0565-4192-bd2d-7b3f344aec59",
   "metadata": {},
   "outputs": [],
   "source": [
    "library(ggplot2)"
   ]
  },
  {
   "cell_type": "code",
   "execution_count": 223,
   "id": "95f45648-31b9-44d3-8fb0-0f0b791aa643",
   "metadata": {},
   "outputs": [
    {
     "data": {
      "image/png": "[encoded data removed]",
      "text/plain": [
       "plot without title"
      ]
     },
     "metadata": {
      "image/png": {
       "height": 420,
       "width": 420
      }
     },
     "output_type": "display_data"
    }
   ],
   "source": [
    "# Create the plot\n",
    "ggplot(clinical_data, aes(x = TRISCHD, y = AGE, color = COHORT)) +\n",
    "  geom_point(size = 3) +\n",
    "  labs(title = \"Scatter Plot of AGE vs TRISCHD colored by COHORT\",\n",
    "       x = \"TRISCHD\",\n",
    "       y = \"AGE\",\n",
    "       color = \"COHORT\") +\n",
    "  theme_minimal(15)"
   ]
  },
  {
   "cell_type": "code",
   "execution_count": 229,
   "id": "cd45377e-3dfb-40c1-8a1f-6ae03ef12a70",
   "metadata": {},
   "outputs": [
    {
     "data": {
      "image/png": "[encoded data removed]",
      "text/plain": [
       "plot without title"
      ]
     },
     "metadata": {
      "image/png": {
       "height": 420,
       "width": 420
      }
     },
     "output_type": "display_data"
    }
   ],
   "source": [
    "# Create the plot\n",
    "ggplot(clinical_data, aes(x = TRISCHD, y = AGE, color = SEX)) +\n",
    "  geom_point(size = 3) +\n",
    "  labs(title = \"Scatter Plot of AGE vs TRISCHD colored by COHORT\",\n",
    "       x = \"TRISCHD\",\n",
    "       y = \"AGE\",\n",
    "       color = \"COHORT\") +\n",
    "  theme_minimal(15)"
   ]
  },
  {
   "cell_type": "code",
   "execution_count": 227,
   "id": "3a2da768-561b-4856-971f-c5935db1b530",
   "metadata": {},
   "outputs": [
    {
     "data": {
      "image/png": "[encoded data removed]",
      "text/plain": [
       "plot without title"
      ]
     },
     "metadata": {
      "image/png": {
       "height": 420,
       "width": 420
      }
     },
     "output_type": "display_data"
    }
   ],
   "source": [
    "# Create the plot\n",
    "ggplot(clinical_data, aes(x = TRISCHD, y = AGE, color = DTHHRDY)) +\n",
    "  geom_point(size = 3) +\n",
    "  labs(title = \"Scatter Plot of AGE vs TRISCHD colored by COHORT\",\n",
    "       x = \"TRISCHD\",\n",
    "       y = \"AGE\",\n",
    "       color = \"COHORT\") +\n",
    "  theme_minimal(15)"
   ]
  },
  {
   "cell_type": "code",
   "execution_count": 228,
   "id": "bf277adc-69e8-4971-882c-3156d9c44178",
   "metadata": {},
   "outputs": [
    {
     "data": {
      "image/png": "[encoded data removed]",
      "text/plain": [
       "plot without title"
      ]
     },
     "metadata": {
      "image/png": {
       "height": 420,
       "width": 420
      }
     },
     "output_type": "display_data"
    }
   ],
   "source": [
    "# Create the plot\n",
    "ggplot(clinical_data, aes(x = TRISCHD, y = AGE, color = DTHVNT)) +\n",
    "  geom_point(size = 3) +\n",
    "  labs(title = \"Scatter Plot of AGE vs TRISCHD colored by COHORT\",\n",
    "       x = \"TRISCHD\",\n",
    "       y = \"AGE\",\n",
    "       color = \"COHORT\") +\n",
    "  theme_minimal(15)"
   ]
  },
  {
   "cell_type": "markdown",
   "id": "a8325438-4fb8-47a0-a71b-88ba93e97d3d",
   "metadata": {},
   "source": [
    "### RNA read counts data"
   ]
  },
  {
   "cell_type": "code",
   "execution_count": 31,
   "id": "b7d75eb7-42d3-4632-a806-175032d96cfa",
   "metadata": {},
   "outputs": [
    {
     "name": "stderr",
     "output_type": "stream",
     "text": [
      "\u001b[1mRows: \u001b[22m\u001b[34m56200\u001b[39m \u001b[1mColumns: \u001b[22m\u001b[34m282\u001b[39m\n",
      "\u001b[36m──\u001b[39m \u001b[1mColumn specification\u001b[22m \u001b[36m────────────────────────────────────────────────────────────────────────────────────────────────\u001b[39m\n",
      "\u001b[1mDelimiter:\u001b[22m \"\\t\"\n",
      "\u001b[31mchr\u001b[39m   (2): Name, Description\n",
      "\u001b[32mdbl\u001b[39m (280): GTEX.111YS.0526, GTEX.1122O.1126, GTEX.1128S.0326, GTEX.117XS.042...\n",
      "\n",
      "\u001b[36mℹ\u001b[39m Use `spec()` to retrieve the full column specification for this data.\n",
      "\u001b[36mℹ\u001b[39m Specify the column types or set `show_col_types = FALSE` to quiet this message.\n"
     ]
    }
   ],
   "source": [
    "#import TSV file into data frame\n",
    "RNA_read_counts_data <- read_tsv('Aorta/RNA_read_counts.tsv')"
   ]
  },
  {
   "cell_type": "code",
   "execution_count": 32,
   "id": "e364b867-5d87-47f4-9b5b-0e82fc8dbc87",
   "metadata": {},
   "outputs": [
    {
     "data": {
      "text/html": [
       "<table class=\"dataframe\">\n",
       "<caption>A tibble: 6 × 282</caption>\n",
       "<thead>\n",
       "\t<tr><th scope=col>Name</th><th scope=col>Description</th><th scope=col>GTEX.111YS.0526</th><th scope=col>GTEX.1122O.1126</th><th scope=col>GTEX.1128S.0326</th><th scope=col>GTEX.117XS.0426</th><th scope=col>GTEX.117YW.0226</th><th scope=col>GTEX.11DXX.0426</th><th scope=col>GTEX.11DXZ.0426</th><th scope=col>GTEX.11DYG.1226</th><th scope=col>⋯</th><th scope=col>GTEX.1R9K5.1426</th><th scope=col>GTEX.1R9PM.0326</th><th scope=col>GTEX.1R9PN.0226</th><th scope=col>GTEX.1R9PO.0226</th><th scope=col>GTEX.1RAZA.1126</th><th scope=col>GTEX.1RAZR.0626</th><th scope=col>GTEX.1RNTQ.0726</th><th scope=col>GTEX.1RQED.1126</th><th scope=col>GTEX.1S3DN.0626</th><th scope=col>GTEX.1S5ZA.1126</th></tr>\n",
       "\t<tr><th scope=col>&lt;chr&gt;</th><th scope=col>&lt;chr&gt;</th><th scope=col>&lt;dbl&gt;</th><th scope=col>&lt;dbl&gt;</th><th scope=col>&lt;dbl&gt;</th><th scope=col>&lt;dbl&gt;</th><th scope=col>&lt;dbl&gt;</th><th scope=col>&lt;dbl&gt;</th><th scope=col>&lt;dbl&gt;</th><th scope=col>&lt;dbl&gt;</th><th scope=col>⋯</th><th scope=col>&lt;dbl&gt;</th><th scope=col>&lt;dbl&gt;</th><th scope=col>&lt;dbl&gt;</th><th scope=col>&lt;dbl&gt;</th><th scope=col>&lt;dbl&gt;</th><th scope=col>&lt;dbl&gt;</th><th scope=col>&lt;dbl&gt;</th><th scope=col>&lt;dbl&gt;</th><th scope=col>&lt;dbl&gt;</th><th scope=col>&lt;dbl&gt;</th></tr>\n",
       "</thead>\n",
       "<tbody>\n",
       "\t<tr><td>ENSG00000223972.5</td><td>DDX11L1    </td><td> 0</td><td> 0</td><td>  0</td><td> 0</td><td>  0</td><td> 5</td><td>  0</td><td>  0</td><td>⋯</td><td>  1</td><td>  0</td><td>  0</td><td> 3</td><td>  0</td><td> 0</td><td>  0</td><td>  0</td><td> 0</td><td> 1</td></tr>\n",
       "\t<tr><td>ENSG00000227232.5</td><td>WASH7P     </td><td>78</td><td>70</td><td>180</td><td>78</td><td>152</td><td>76</td><td>132</td><td>143</td><td>⋯</td><td>134</td><td>142</td><td>140</td><td>69</td><td>183</td><td>61</td><td>157</td><td>103</td><td>57</td><td>70</td></tr>\n",
       "\t<tr><td>ENSG00000278267.1</td><td>MIR6859-1  </td><td> 0</td><td> 0</td><td>  0</td><td> 0</td><td>  0</td><td> 1</td><td>  0</td><td>  0</td><td>⋯</td><td>  0</td><td>  0</td><td>  0</td><td> 0</td><td>  0</td><td> 0</td><td>  1</td><td>  0</td><td> 0</td><td> 0</td></tr>\n",
       "\t<tr><td>ENSG00000243485.5</td><td>MIR1302-2HG</td><td> 0</td><td> 0</td><td>  1</td><td> 0</td><td>  0</td><td> 0</td><td>  0</td><td>  0</td><td>⋯</td><td>  0</td><td>  0</td><td>  0</td><td> 1</td><td>  0</td><td> 0</td><td>  1</td><td>  0</td><td> 0</td><td> 0</td></tr>\n",
       "\t<tr><td>ENSG00000237613.2</td><td>FAM138A    </td><td> 1</td><td> 0</td><td>  0</td><td> 1</td><td>  0</td><td> 0</td><td>  0</td><td>  0</td><td>⋯</td><td>  0</td><td>  0</td><td>  0</td><td> 0</td><td>  1</td><td> 0</td><td>  0</td><td>  0</td><td> 0</td><td> 0</td></tr>\n",
       "\t<tr><td>ENSG00000268020.3</td><td>OR4G4P     </td><td> 1</td><td> 0</td><td>  0</td><td> 1</td><td>  0</td><td> 0</td><td>  2</td><td>  0</td><td>⋯</td><td>  0</td><td>  0</td><td>  0</td><td> 0</td><td>  0</td><td> 0</td><td>  0</td><td>  0</td><td> 0</td><td> 0</td></tr>\n",
       "</tbody>\n",
       "</table>\n"
      ],
      "text/latex": [
       "A tibble: 6 × 282\n",
       "\\begin{tabular}{lllllllllllllllllllll}\n",
       " Name & Description & GTEX.111YS.0526 & GTEX.1122O.1126 & GTEX.1128S.0326 & GTEX.117XS.0426 & GTEX.117YW.0226 & GTEX.11DXX.0426 & GTEX.11DXZ.0426 & GTEX.11DYG.1226 & ⋯ & GTEX.1R9K5.1426 & GTEX.1R9PM.0326 & GTEX.1R9PN.0226 & GTEX.1R9PO.0226 & GTEX.1RAZA.1126 & GTEX.1RAZR.0626 & GTEX.1RNTQ.0726 & GTEX.1RQED.1126 & GTEX.1S3DN.0626 & GTEX.1S5ZA.1126\\\\\n",
       " <chr> & <chr> & <dbl> & <dbl> & <dbl> & <dbl> & <dbl> & <dbl> & <dbl> & <dbl> & ⋯ & <dbl> & <dbl> & <dbl> & <dbl> & <dbl> & <dbl> & <dbl> & <dbl> & <dbl> & <dbl>\\\\\n",
       "\\hline\n",
       "\t ENSG00000223972.5 & DDX11L1     &  0 &  0 &   0 &  0 &   0 &  5 &   0 &   0 & ⋯ &   1 &   0 &   0 &  3 &   0 &  0 &   0 &   0 &  0 &  1\\\\\n",
       "\t ENSG00000227232.5 & WASH7P      & 78 & 70 & 180 & 78 & 152 & 76 & 132 & 143 & ⋯ & 134 & 142 & 140 & 69 & 183 & 61 & 157 & 103 & 57 & 70\\\\\n",
       "\t ENSG00000278267.1 & MIR6859-1   &  0 &  0 &   0 &  0 &   0 &  1 &   0 &   0 & ⋯ &   0 &   0 &   0 &  0 &   0 &  0 &   1 &   0 &  0 &  0\\\\\n",
       "\t ENSG00000243485.5 & MIR1302-2HG &  0 &  0 &   1 &  0 &   0 &  0 &   0 &   0 & ⋯ &   0 &   0 &   0 &  1 &   0 &  0 &   1 &   0 &  0 &  0\\\\\n",
       "\t ENSG00000237613.2 & FAM138A     &  1 &  0 &   0 &  1 &   0 &  0 &   0 &   0 & ⋯ &   0 &   0 &   0 &  0 &   1 &  0 &   0 &   0 &  0 &  0\\\\\n",
       "\t ENSG00000268020.3 & OR4G4P      &  1 &  0 &   0 &  1 &   0 &  0 &   2 &   0 & ⋯ &   0 &   0 &   0 &  0 &   0 &  0 &   0 &   0 &  0 &  0\\\\\n",
       "\\end{tabular}\n"
      ],
      "text/markdown": [
       "\n",
       "A tibble: 6 × 282\n",
       "\n",
       "| Name &lt;chr&gt; | Description &lt;chr&gt; | GTEX.111YS.0526 &lt;dbl&gt; | GTEX.1122O.1126 &lt;dbl&gt; | GTEX.1128S.0326 &lt;dbl&gt; | GTEX.117XS.0426 &lt;dbl&gt; | GTEX.117YW.0226 &lt;dbl&gt; | GTEX.11DXX.0426 &lt;dbl&gt; | GTEX.11DXZ.0426 &lt;dbl&gt; | GTEX.11DYG.1226 &lt;dbl&gt; | ⋯ ⋯ | GTEX.1R9K5.1426 &lt;dbl&gt; | GTEX.1R9PM.0326 &lt;dbl&gt; | GTEX.1R9PN.0226 &lt;dbl&gt; | GTEX.1R9PO.0226 &lt;dbl&gt; | GTEX.1RAZA.1126 &lt;dbl&gt; | GTEX.1RAZR.0626 &lt;dbl&gt; | GTEX.1RNTQ.0726 &lt;dbl&gt; | GTEX.1RQED.1126 &lt;dbl&gt; | GTEX.1S3DN.0626 &lt;dbl&gt; | GTEX.1S5ZA.1126 &lt;dbl&gt; |\n",
       "|---|---|---|---|---|---|---|---|---|---|---|---|---|---|---|---|---|---|---|---|---|\n",
       "| ENSG00000223972.5 | DDX11L1     |  0 |  0 |   0 |  0 |   0 |  5 |   0 |   0 | ⋯ |   1 |   0 |   0 |  3 |   0 |  0 |   0 |   0 |  0 |  1 |\n",
       "| ENSG00000227232.5 | WASH7P      | 78 | 70 | 180 | 78 | 152 | 76 | 132 | 143 | ⋯ | 134 | 142 | 140 | 69 | 183 | 61 | 157 | 103 | 57 | 70 |\n",
       "| ENSG00000278267.1 | MIR6859-1   |  0 |  0 |   0 |  0 |   0 |  1 |   0 |   0 | ⋯ |   0 |   0 |   0 |  0 |   0 |  0 |   1 |   0 |  0 |  0 |\n",
       "| ENSG00000243485.5 | MIR1302-2HG |  0 |  0 |   1 |  0 |   0 |  0 |   0 |   0 | ⋯ |   0 |   0 |   0 |  1 |   0 |  0 |   1 |   0 |  0 |  0 |\n",
       "| ENSG00000237613.2 | FAM138A     |  1 |  0 |   0 |  1 |   0 |  0 |   0 |   0 | ⋯ |   0 |   0 |   0 |  0 |   1 |  0 |   0 |   0 |  0 |  0 |\n",
       "| ENSG00000268020.3 | OR4G4P      |  1 |  0 |   0 |  1 |   0 |  0 |   2 |   0 | ⋯ |   0 |   0 |   0 |  0 |   0 |  0 |   0 |   0 |  0 |  0 |\n",
       "\n"
      ],
      "text/plain": [
       "  Name              Description GTEX.111YS.0526 GTEX.1122O.1126 GTEX.1128S.0326\n",
       "1 ENSG00000223972.5 DDX11L1      0               0                0            \n",
       "2 ENSG00000227232.5 WASH7P      78              70              180            \n",
       "3 ENSG00000278267.1 MIR6859-1    0               0                0            \n",
       "4 ENSG00000243485.5 MIR1302-2HG  0               0                1            \n",
       "5 ENSG00000237613.2 FAM138A      1               0                0            \n",
       "6 ENSG00000268020.3 OR4G4P       1               0                0            \n",
       "  GTEX.117XS.0426 GTEX.117YW.0226 GTEX.11DXX.0426 GTEX.11DXZ.0426\n",
       "1  0                0              5                0            \n",
       "2 78              152             76              132            \n",
       "3  0                0              1                0            \n",
       "4  0                0              0                0            \n",
       "5  1                0              0                0            \n",
       "6  1                0              0                2            \n",
       "  GTEX.11DYG.1226 ⋯ GTEX.1R9K5.1426 GTEX.1R9PM.0326 GTEX.1R9PN.0226\n",
       "1   0             ⋯   1               0               0            \n",
       "2 143             ⋯ 134             142             140            \n",
       "3   0             ⋯   0               0               0            \n",
       "4   0             ⋯   0               0               0            \n",
       "5   0             ⋯   0               0               0            \n",
       "6   0             ⋯   0               0               0            \n",
       "  GTEX.1R9PO.0226 GTEX.1RAZA.1126 GTEX.1RAZR.0626 GTEX.1RNTQ.0726\n",
       "1  3                0              0                0            \n",
       "2 69              183             61              157            \n",
       "3  0                0              0                1            \n",
       "4  1                0              0                1            \n",
       "5  0                1              0                0            \n",
       "6  0                0              0                0            \n",
       "  GTEX.1RQED.1126 GTEX.1S3DN.0626 GTEX.1S5ZA.1126\n",
       "1   0              0               1             \n",
       "2 103             57              70             \n",
       "3   0              0               0             \n",
       "4   0              0               0             \n",
       "5   0              0               0             \n",
       "6   0              0               0             "
      ]
     },
     "metadata": {},
     "output_type": "display_data"
    }
   ],
   "source": [
    "head(RNA_read_counts_data)"
   ]
  },
  {
   "cell_type": "code",
   "execution_count": 25,
   "id": "473088c3-8099-49a1-9163-1f23f8099414",
   "metadata": {},
   "outputs": [
    {
     "data": {
      "text/plain": [
       "     Name           Description        GTEX.111YS.0526     GTEX.1122O.1126    \n",
       " Length:56200       Length:56200       Min.   :      0.0   Min.   :      0.0  \n",
       " Class :character   Class :character   1st Qu.:      0.0   1st Qu.:      0.0  \n",
       " Mode  :character   Mode  :character   Median :      0.0   Median :      0.0  \n",
       "                                       Mean   :    905.4   Mean   :    856.6  \n",
       "                                       3rd Qu.:     59.0   3rd Qu.:     49.0  \n",
       "                                       Max.   :1103024.0   Max.   :1619435.0  \n",
       " GTEX.1128S.0326  GTEX.117XS.0426  GTEX.117YW.0226  GTEX.11DXX.0426   \n",
       " Min.   :     0   Min.   :     0   Min.   :     0   Min.   :     0.0  \n",
       " 1st Qu.:     0   1st Qu.:     0   1st Qu.:     0   1st Qu.:     0.0  \n",
       " Median :     1   Median :     1   Median :     1   Median :     0.0  \n",
       " Mean   :  1036   Mean   :  1083   Mean   :  1071   Mean   :   883.1  \n",
       " 3rd Qu.:    96   3rd Qu.:    63   3rd Qu.:    85   3rd Qu.:    69.0  \n",
       " Max.   :816182   Max.   :927631   Max.   :812480   Max.   :623146.0  \n",
       " GTEX.11DXZ.0426  GTEX.11DYG.1226  GTEX.11EM3.0226    GTEX.11EMC.0926   \n",
       " Min.   :     0   Min.   :     0   Min.   :     0.0   Min.   :     0.0  \n",
       " 1st Qu.:     0   1st Qu.:     0   1st Qu.:     0.0   1st Qu.:     0.0  \n",
       " Median :     1   Median :     1   Median :     1.0   Median :     1.0  \n",
       " Mean   :  1135   Mean   :  1007   Mean   :   987.4   Mean   :   974.1  \n",
       " 3rd Qu.:    91   3rd Qu.:    90   3rd Qu.:    69.0   3rd Qu.:   110.0  \n",
       " Max.   :941914   Max.   :749284   Max.   :711843.0   Max.   :515940.0  \n",
       " GTEX.11GS4.0326  GTEX.11GSP.1126    GTEX.11I78.0726  GTEX.11LCK.0726  \n",
       " Min.   :     0   Min.   :     0.0   Min.   :     0   Min.   :      0  \n",
       " 1st Qu.:     0   1st Qu.:     0.0   1st Qu.:     0   1st Qu.:      0  \n",
       " Median :     2   Median :     0.0   Median :     1   Median :      1  \n",
       " Mean   :  1054   Mean   :   854.4   Mean   :   847   Mean   :   1527  \n",
       " 3rd Qu.:   111   3rd Qu.:    61.0   3rd Qu.:    96   3rd Qu.:    107  \n",
       " Max.   :757619   Max.   :520533.0   Max.   :541628   Max.   :1635859  \n",
       " GTEX.11NUK.0726  GTEX.11ONC.0926    GTEX.11P81.0326    GTEX.11P82.0126 \n",
       " Min.   :     0   Min.   :     0.0   Min.   :     0.0   Min.   :     0  \n",
       " 1st Qu.:     0   1st Qu.:     0.0   1st Qu.:     0.0   1st Qu.:     0  \n",
       " Median :     2   Median :     2.0   Median :     0.0   Median :     0  \n",
       " Mean   :  1159   Mean   :   998.6   Mean   :   968.5   Mean   :  1004  \n",
       " 3rd Qu.:   107   3rd Qu.:   108.0   3rd Qu.:    70.0   3rd Qu.:    71  \n",
       " Max.   :762199   Max.   :671589.0   Max.   :913220.0   Max.   :834661  \n",
       " GTEX.11TT1.1226  GTEX.11TUW.0926    GTEX.11UD2.0826  GTEX.11WQK.0326   \n",
       " Min.   :     0   Min.   :     0.0   Min.   :     0   Min.   :     0.0  \n",
       " 1st Qu.:     0   1st Qu.:     0.0   1st Qu.:     0   1st Qu.:     0.0  \n",
       " Median :     1   Median :     1.0   Median :     1   Median :     1.0  \n",
       " Mean   :  1095   Mean   :   894.4   Mean   :  1154   Mean   :   884.5  \n",
       " 3rd Qu.:    77   3rd Qu.:    67.0   3rd Qu.:    92   3rd Qu.:    62.0  \n",
       " Max.   :764185   Max.   :901995.0   Max.   :881064   Max.   :557832.0  \n",
       " GTEX.11ZTS.0826  GTEX.11ZVC.0326    GTEX.1211K.0326   GTEX.1212Z.0826 \n",
       " Min.   :     0   Min.   :     0.0   Min.   :      0   Min.   :     0  \n",
       " 1st Qu.:     0   1st Qu.:     0.0   1st Qu.:      0   1st Qu.:     0  \n",
       " Median :     1   Median :     1.0   Median :      1   Median :     1  \n",
       " Mean   :  1056   Mean   :   958.2   Mean   :   1183   Mean   :  1076  \n",
       " 3rd Qu.:    89   3rd Qu.:    81.0   3rd Qu.:     72   3rd Qu.:    80  \n",
       " Max.   :797681   Max.   :765778.0   Max.   :1274249   Max.   :734432  \n",
       " GTEX.12696.0426     GTEX.12C56.0226   GTEX.12KS4.0626  GTEX.12WSD.1326   \n",
       " Min.   :      0.0   Min.   :      0   Min.   :     0   Min.   :     0.0  \n",
       " 1st Qu.:      0.0   1st Qu.:      0   1st Qu.:     0   1st Qu.:     0.0  \n",
       " Median :      1.0   Median :      2   Median :     1   Median :     1.0  \n",
       " Mean   :    983.8   Mean   :   1524   Mean   :  1144   Mean   :   785.5  \n",
       " 3rd Qu.:     85.0   3rd Qu.:    139   3rd Qu.:   108   3rd Qu.:    70.0  \n",
       " Max.   :1128606.0   Max.   :1390328   Max.   :760124   Max.   :617757.0  \n",
       " GTEX.12WSK.0426    GTEX.12WSN.0326    GTEX.12ZZX.1026    GTEX.12ZZY.1326 \n",
       " Min.   :     0.0   Min.   :     0.0   Min.   :     0.0   Min.   :     0  \n",
       " 1st Qu.:     0.0   1st Qu.:     0.0   1st Qu.:     0.0   1st Qu.:     0  \n",
       " Median :     0.0   Median :     1.0   Median :     0.0   Median :     1  \n",
       " Mean   :   893.1   Mean   :   972.1   Mean   :   828.9   Mean   :  1129  \n",
       " 3rd Qu.:    55.0   3rd Qu.:    71.0   3rd Qu.:    68.0   3rd Qu.:    93  \n",
       " Max.   :817666.0   Max.   :640597.0   Max.   :689827.0   Max.   :920562  \n",
       " GTEX.13111.0526    GTEX.13113.0526  GTEX.1313W.1026    GTEX.131XF.0626  \n",
       " Min.   :     0.0   Min.   :     0   Min.   :     0.0   Min.   :      0  \n",
       " 1st Qu.:     0.0   1st Qu.:     0   1st Qu.:     0.0   1st Qu.:      0  \n",
       " Median :     1.0   Median :     1   Median :     1.0   Median :      1  \n",
       " Mean   :   897.4   Mean   :  1122   Mean   :   799.9   Mean   :   1088  \n",
       " 3rd Qu.:    88.0   3rd Qu.:    85   3rd Qu.:    74.0   3rd Qu.:     74  \n",
       " Max.   :746100.0   Max.   :787742   Max.   :421381.0   Max.   :1152409  \n",
       " GTEX.131XW.2226  GTEX.131YS.1126  GTEX.132AR.2126    GTEX.132QS.0626  \n",
       " Min.   :     0   Min.   :     0   Min.   :     0.0   Min.   :      0  \n",
       " 1st Qu.:     0   1st Qu.:     0   1st Qu.:     0.0   1st Qu.:      0  \n",
       " Median :     1   Median :     2   Median :     0.0   Median :      0  \n",
       " Mean   :  1237   Mean   :  1366   Mean   :   854.7   Mean   :   1170  \n",
       " 3rd Qu.:   108   3rd Qu.:   133   3rd Qu.:    69.0   3rd Qu.:     72  \n",
       " Max.   :646800   Max.   :781320   Max.   :674016.0   Max.   :1309728  \n",
       " GTEX.1339X.0526   GTEX.133LE.0226  GTEX.1399R.0626     GTEX.1399T.0526 \n",
       " Min.   :      0   Min.   :     0   Min.   :      0.0   Min.   :     0  \n",
       " 1st Qu.:      0   1st Qu.:     0   1st Qu.:      0.0   1st Qu.:     0  \n",
       " Median :      1   Median :     1   Median :      1.0   Median :     2  \n",
       " Mean   :   1186   Mean   :  1442   Mean   :   1235.9   Mean   :  1155  \n",
       " 3rd Qu.:     77   3rd Qu.:   124   3rd Qu.:    102.2   3rd Qu.:   110  \n",
       " Max.   :2046701   Max.   :867810   Max.   :1086371.0   Max.   :677775  \n",
       " GTEX.1399U.0426  GTEX.139D8.1226    GTEX.139TS.0226  GTEX.139TU.1126   \n",
       " Min.   :     0   Min.   :     0.0   Min.   :     0   Min.   :     0.0  \n",
       " 1st Qu.:     0   1st Qu.:     0.0   1st Qu.:     0   1st Qu.:     0.0  \n",
       " Median :     1   Median :     0.0   Median :     1   Median :     1.0  \n",
       " Mean   :  1436   Mean   :   878.4   Mean   :  1309   Mean   :   772.5  \n",
       " 3rd Qu.:   117   3rd Qu.:    67.0   3rd Qu.:   101   3rd Qu.:    98.0  \n",
       " Max.   :965762   Max.   :725942.0   Max.   :925330   Max.   :536520.0  \n",
       " GTEX.139UW.0426  GTEX.139YR.0626  GTEX.13CF3.0526  GTEX.13D11.1426   \n",
       " Min.   :     0   Min.   :     0   Min.   :     0   Min.   :     0.0  \n",
       " 1st Qu.:     0   1st Qu.:     0   1st Qu.:     0   1st Qu.:     0.0  \n",
       " Median :     1   Median :     1   Median :     1   Median :     0.0  \n",
       " Mean   :  1032   Mean   :  1306   Mean   :  1160   Mean   :   948.8  \n",
       " 3rd Qu.:    77   3rd Qu.:   105   3rd Qu.:   100   3rd Qu.:    79.0  \n",
       " Max.   :915568   Max.   :831943   Max.   :876347   Max.   :842151.0  \n",
       " GTEX.13FH7.0326   GTEX.13FHO.1626   GTEX.13FLV.1426  GTEX.13FTW.0726  \n",
       " Min.   :      0   Min.   :      0   Min.   :     0   Min.   :      0  \n",
       " 1st Qu.:      0   1st Qu.:      0   1st Qu.:     0   1st Qu.:      0  \n",
       " Median :      1   Median :      2   Median :     1   Median :      1  \n",
       " Mean   :   1301   Mean   :   1473   Mean   :  1113   Mean   :   1385  \n",
       " 3rd Qu.:     87   3rd Qu.:    136   3rd Qu.:    78   3rd Qu.:     89  \n",
       " Max.   :1550339   Max.   :1118412   Max.   :704760   Max.   :1141910  \n",
       " GTEX.13FTX.0226  GTEX.13FTZ.0126    GTEX.13N2G.0526   GTEX.13NYB.0426   \n",
       " Min.   :     0   Min.   :     0.0   Min.   :      0   Min.   :     0.0  \n",
       " 1st Qu.:     0   1st Qu.:     0.0   1st Qu.:      0   1st Qu.:     0.0  \n",
       " Median :     1   Median :     1.0   Median :      0   Median :     1.0  \n",
       " Mean   :  1286   Mean   :   958.4   Mean   :   1226   Mean   :   734.3  \n",
       " 3rd Qu.:   109   3rd Qu.:    99.0   3rd Qu.:     77   3rd Qu.:    71.0  \n",
       " Max.   :884188   Max.   :539278.0   Max.   :1011390   Max.   :416244.0  \n",
       " GTEX.13NZ9.1226  GTEX.13O1R.1026    GTEX.13O21.0426   GTEX.13O3O.1126   \n",
       " Min.   :     0   Min.   :     0.0   Min.   :      0   Min.   :     0.0  \n",
       " 1st Qu.:     0   1st Qu.:     0.0   1st Qu.:      0   1st Qu.:     0.0  \n",
       " Median :     2   Median :     1.0   Median :      1   Median :     1.0  \n",
       " Mean   :  1181   Mean   :   919.6   Mean   :   1162   Mean   :   862.9  \n",
       " 3rd Qu.:   136   3rd Qu.:    77.0   3rd Qu.:    100   3rd Qu.:    77.0  \n",
       " Max.   :743254   Max.   :761287.0   Max.   :1288935   Max.   :671179.0  \n",
       " GTEX.13O3P.1126    GTEX.13O61.0326   GTEX.13OVG.0826     GTEX.13OVI.0626   \n",
       " Min.   :     0.0   Min.   :      0   Min.   :      0.0   Min.   :     0.0  \n",
       " 1st Qu.:     0.0   1st Qu.:      0   1st Qu.:      0.0   1st Qu.:     0.0  \n",
       " Median :     0.0   Median :      1   Median :      1.0   Median :     1.0  \n",
       " Mean   :   796.1   Mean   :   1134   Mean   :    947.6   Mean   :   832.5  \n",
       " 3rd Qu.:    69.0   3rd Qu.:     97   3rd Qu.:     74.0   3rd Qu.:    92.0  \n",
       " Max.   :667833.0   Max.   :1363911   Max.   :1075077.0   Max.   :562794.0  \n",
       " GTEX.13OW5.0826   GTEX.13OW6.1526    GTEX.13OW8.1826    GTEX.13PVQ.1426 \n",
       " Min.   :      0   Min.   :     0.0   Min.   :     0.0   Min.   :     0  \n",
       " 1st Qu.:      0   1st Qu.:     0.0   1st Qu.:     0.0   1st Qu.:     0  \n",
       " Median :      2   Median :     0.0   Median :     1.0   Median :     1  \n",
       " Mean   :   1665   Mean   :   927.2   Mean   :   967.2   Mean   :  1201  \n",
       " 3rd Qu.:    142   3rd Qu.:    73.0   3rd Qu.:    72.0   3rd Qu.:   113  \n",
       " Max.   :1534111   Max.   :721932.0   Max.   :665242.0   Max.   :820247  \n",
       " GTEX.13PVR.0826    GTEX.13QBU.0326     GTEX.13RTK.0126   GTEX.13U4I.1026 \n",
       " Min.   :     0.0   Min.   :      0.0   Min.   :      0   Min.   :     0  \n",
       " 1st Qu.:     0.0   1st Qu.:      0.0   1st Qu.:      0   1st Qu.:     0  \n",
       " Median :     0.0   Median :      1.0   Median :      1   Median :     1  \n",
       " Mean   :   918.6   Mean   :    966.6   Mean   :   1112   Mean   :  1024  \n",
       " 3rd Qu.:    63.0   3rd Qu.:     78.0   3rd Qu.:     99   3rd Qu.:   103  \n",
       " Max.   :876629.0   Max.   :1533345.0   Max.   :1584161   Max.   :704054  \n",
       " GTEX.13VXT.0826  GTEX.13W3W.0226    GTEX.13W46.1826    GTEX.13X6H.0126    \n",
       " Min.   :     0   Min.   :     0.0   Min.   :     0.0   Min.   :      0.0  \n",
       " 1st Qu.:     0   1st Qu.:     0.0   1st Qu.:     0.0   1st Qu.:      0.0  \n",
       " Median :     2   Median :     0.0   Median :     1.0   Median :      1.0  \n",
       " Mean   :  1136   Mean   :   770.9   Mean   :   916.9   Mean   :    882.4  \n",
       " 3rd Qu.:   121   3rd Qu.:    67.0   3rd Qu.:    78.0   3rd Qu.:     91.0  \n",
       " Max.   :975233   Max.   :473602.0   Max.   :657569.0   Max.   :1511454.0  \n",
       " GTEX.13X6I.0926     GTEX.13X6K.1926  GTEX.13YAN.1526    GTEX.144GN.0326   \n",
       " Min.   :      0.0   Min.   :     0   Min.   :     0.0   Min.   :     0.0  \n",
       " 1st Qu.:      0.0   1st Qu.:     0   1st Qu.:     0.0   1st Qu.:     0.0  \n",
       " Median :      1.0   Median :     1   Median :     1.0   Median :     0.0  \n",
       " Mean   :    850.6   Mean   :  1114   Mean   :   965.2   Mean   :   824.2  \n",
       " 3rd Qu.:     82.0   3rd Qu.:   100   3rd Qu.:    95.0   3rd Qu.:    79.0  \n",
       " Max.   :1224123.0   Max.   :739743   Max.   :724961.0   Max.   :477138.0  \n",
       " GTEX.145MH.1026    GTEX.145MO.1226    GTEX.146FH.1326  GTEX.146FQ.0826 \n",
       " Min.   :     0.0   Min.   :     0.0   Min.   :     0   Min.   :     0  \n",
       " 1st Qu.:     0.0   1st Qu.:     0.0   1st Qu.:     0   1st Qu.:     0  \n",
       " Median :     0.0   Median :     0.0   Median :     1   Median :     0  \n",
       " Mean   :   860.8   Mean   :   890.5   Mean   :  1195   Mean   :   821  \n",
       " 3rd Qu.:    65.0   3rd Qu.:    66.0   3rd Qu.:   102   3rd Qu.:    63  \n",
       " Max.   :670253.0   Max.   :591658.0   Max.   :613040   Max.   :656778  \n",
       " GTEX.146FR.1026   GTEX.147F4.1026    GTEX.1497J.1026   GTEX.14A5I.1326   \n",
       " Min.   :      0   Min.   :     0.0   Min.   :      0   Min.   :     0.0  \n",
       " 1st Qu.:      0   1st Qu.:     0.0   1st Qu.:      0   1st Qu.:     0.0  \n",
       " Median :      1   Median :     1.0   Median :      1   Median :     1.0  \n",
       " Mean   :   1250   Mean   :   958.4   Mean   :   1080   Mean   :   999.1  \n",
       " 3rd Qu.:    104   3rd Qu.:    91.0   3rd Qu.:     77   3rd Qu.:    91.0  \n",
       " Max.   :1320075   Max.   :528283.0   Max.   :1511412   Max.   :745930.0  \n",
       " GTEX.14AS3.0526  GTEX.14ASI.1126    GTEX.14B4R.0226    GTEX.14BIM.2626   \n",
       " Min.   :     0   Min.   :     0.0   Min.   :     0.0   Min.   :     0.0  \n",
       " 1st Qu.:     0   1st Qu.:     0.0   1st Qu.:     0.0   1st Qu.:     0.0  \n",
       " Median :     0   Median :     1.0   Median :     0.0   Median :     0.0  \n",
       " Mean   :   896   Mean   :   793.5   Mean   :   927.3   Mean   :   884.7  \n",
       " 3rd Qu.:    73   3rd Qu.:    92.0   3rd Qu.:    72.0   3rd Qu.:    60.0  \n",
       " Max.   :775508   Max.   :354474.0   Max.   :717921.0   Max.   :734298.0  \n",
       " GTEX.14BMU.0326  GTEX.14BMV.1226    GTEX.14C39.0126    GTEX.14C5O.1526  \n",
       " Min.   :     0   Min.   :     0.0   Min.   :     0.0   Min.   :      0  \n",
       " 1st Qu.:     0   1st Qu.:     0.0   1st Qu.:     0.0   1st Qu.:      0  \n",
       " Median :     0   Median :     1.0   Median :     0.0   Median :      1  \n",
       " Mean   :  1115   Mean   :   998.7   Mean   :   955.1   Mean   :   1220  \n",
       " 3rd Qu.:    95   3rd Qu.:    71.0   3rd Qu.:    62.0   3rd Qu.:     85  \n",
       " Max.   :629698   Max.   :805661.0   Max.   :647390.0   Max.   :1183876  \n",
       " GTEX.14DAQ.1326    GTEX.14E1K.0726   GTEX.14E6C.0626  GTEX.14E7W.1426 \n",
       " Min.   :     0.0   Min.   :      0   Min.   :     0   Min.   :     0  \n",
       " 1st Qu.:     0.0   1st Qu.:      0   1st Qu.:     0   1st Qu.:     0  \n",
       " Median :     1.0   Median :      0   Median :     1   Median :     1  \n",
       " Mean   :   960.4   Mean   :   1054   Mean   :  1095   Mean   :   900  \n",
       " 3rd Qu.:    79.0   3rd Qu.:     69   3rd Qu.:    71   3rd Qu.:    85  \n",
       " Max.   :900327.0   Max.   :1100756   Max.   :548542   Max.   :738813  \n",
       " GTEX.14ICL.0326  GTEX.14PJ2.1226    GTEX.14PJ3.0226  GTEX.14PJ4.0826  \n",
       " Min.   :     0   Min.   :     0.0   Min.   :     0   Min.   :      0  \n",
       " 1st Qu.:     0   1st Qu.:     0.0   1st Qu.:     0   1st Qu.:      0  \n",
       " Median :     0   Median :     1.0   Median :     0   Median :      1  \n",
       " Mean   :  1200   Mean   :   946.8   Mean   :  1036   Mean   :   1307  \n",
       " 3rd Qu.:    68   3rd Qu.:    96.2   3rd Qu.:    83   3rd Qu.:    113  \n",
       " Max.   :752129   Max.   :715115.0   Max.   :967334   Max.   :1882797  \n",
       " GTEX.14PJ6.0526   GTEX.14PJM.1426    GTEX.14PK6.0626  GTEX.15CHC.0626 \n",
       " Min.   :      0   Min.   :     0.0   Min.   :     0   Min.   :     0  \n",
       " 1st Qu.:      0   1st Qu.:     0.0   1st Qu.:     0   1st Qu.:     0  \n",
       " Median :      1   Median :     0.0   Median :     0   Median :     1  \n",
       " Mean   :   1212   Mean   :   809.7   Mean   :  1110   Mean   :  1171  \n",
       " 3rd Qu.:     73   3rd Qu.:    59.0   3rd Qu.:    78   3rd Qu.:   102  \n",
       " Max.   :1392129   Max.   :589713.0   Max.   :858608   Max.   :938902  \n",
       " GTEX.15CHR.0126     GTEX.15DDE.1326     GTEX.15DYW.1226  GTEX.15DZA.1226  \n",
       " Min.   :      0.0   Min.   :      0.0   Min.   :     0   Min.   :      0  \n",
       " 1st Qu.:      0.0   1st Qu.:      0.0   1st Qu.:     0   1st Qu.:      0  \n",
       " Median :      3.0   Median :      1.0   Median :     2   Median :      0  \n",
       " Mean   :   1395.1   Mean   :    935.4   Mean   :  1435   Mean   :   1117  \n",
       " 3rd Qu.:    170.2   3rd Qu.:     75.0   3rd Qu.:   126   3rd Qu.:     92  \n",
       " Max.   :1064184.0   Max.   :1192634.0   Max.   :899057   Max.   :1143468  \n",
       " GTEX.15ER7.2026    GTEX.15ETS.0726     GTEX.15F5U.0226  GTEX.15FZZ.0426 \n",
       " Min.   :     0.0   Min.   :      0.0   Min.   :     0   Min.   :     0  \n",
       " 1st Qu.:     0.0   1st Qu.:      0.0   1st Qu.:     0   1st Qu.:     0  \n",
       " Median :     1.0   Median :      0.0   Median :     1   Median :     2  \n",
       " Mean   :  1063.1   Mean   :    922.9   Mean   :  1464   Mean   :  1479  \n",
       " 3rd Qu.:    78.2   3rd Qu.:     73.0   3rd Qu.:   109   3rd Qu.:   116  \n",
       " Max.   :835053.0   Max.   :2533146.0   Max.   :784667   Max.   :882735  \n",
       " GTEX.15G19.1026   GTEX.15RIF.0126   GTEX.15RJE.2426   GTEX.15SHU.1226  \n",
       " Min.   :      0   Min.   :      0   Min.   :      0   Min.   :      0  \n",
       " 1st Qu.:      0   1st Qu.:      0   1st Qu.:      0   1st Qu.:      0  \n",
       " Median :      2   Median :      1   Median :      1   Median :      1  \n",
       " Mean   :   1280   Mean   :   1407   Mean   :   1382   Mean   :   1686  \n",
       " 3rd Qu.:    161   3rd Qu.:     98   3rd Qu.:    100   3rd Qu.:    109  \n",
       " Max.   :1113312   Max.   :1151341   Max.   :1101769   Max.   :1390169  \n",
       " GTEX.15SHV.0826   GTEX.15UF6.0226  GTEX.16XZZ.1426   GTEX.17EVP.0926 \n",
       " Min.   :      0   Min.   :     0   Min.   :      0   Min.   :     0  \n",
       " 1st Qu.:      0   1st Qu.:     0   1st Qu.:      0   1st Qu.:     0  \n",
       " Median :      1   Median :     2   Median :      1   Median :     0  \n",
       " Mean   :   1360   Mean   :  1095   Mean   :   1302   Mean   :   664  \n",
       " 3rd Qu.:     99   3rd Qu.:   127   3rd Qu.:     95   3rd Qu.:    66  \n",
       " Max.   :2080221   Max.   :552309   Max.   :1071808   Max.   :322616  \n",
       " GTEX.17EVQ.1626  GTEX.17F96.1126    GTEX.17F98.0726  GTEX.17GQL.2326  \n",
       " Min.   :     0   Min.   :     0.0   Min.   :     0   Min.   :      0  \n",
       " 1st Qu.:     0   1st Qu.:     0.0   1st Qu.:     0   1st Qu.:      0  \n",
       " Median :     1   Median :     0.0   Median :     1   Median :      2  \n",
       " Mean   :   844   Mean   :   799.3   Mean   :  1080   Mean   :   1313  \n",
       " 3rd Qu.:    95   3rd Qu.:    61.0   3rd Qu.:    91   3rd Qu.:    170  \n",
       " Max.   :612333   Max.   :700472.0   Max.   :704372   Max.   :1293974  \n",
       " GTEX.17HII.1826   GTEX.17KNJ.0526  GTEX.17MF6.1026     GTEX.18465.1026 \n",
       " Min.   :      0   Min.   :     0   Min.   :      0.0   Min.   :     0  \n",
       " 1st Qu.:      0   1st Qu.:     0   1st Qu.:      0.0   1st Qu.:     0  \n",
       " Median :      1   Median :     1   Median :      1.0   Median :     1  \n",
       " Mean   :   1286   Mean   :  1066   Mean   :    830.7   Mean   :  1160  \n",
       " 3rd Qu.:    105   3rd Qu.:    89   3rd Qu.:     78.0   3rd Qu.:   112  \n",
       " Max.   :1292437   Max.   :769756   Max.   :1731740.0   Max.   :811560  \n",
       " GTEX.18A66.1326    GTEX.18A67.0926   GTEX.18A6Q.1426  GTEX.18A7A.1426   \n",
       " Min.   :     0.0   Min.   :      0   Min.   :     0   Min.   :     0.0  \n",
       " 1st Qu.:     0.0   1st Qu.:      0   1st Qu.:     0   1st Qu.:     0.0  \n",
       " Median :     1.0   Median :      1   Median :     2   Median :     0.0  \n",
       " Mean   :   936.2   Mean   :   1247   Mean   :  1062   Mean   :   978.6  \n",
       " 3rd Qu.:    76.0   3rd Qu.:    103   3rd Qu.:   115   3rd Qu.:    69.0  \n",
       " Max.   :754952.0   Max.   :1061613   Max.   :773594   Max.   :740872.0  \n",
       " GTEX.18D9U.1326    GTEX.1A3MV.0426   GTEX.1AMEY.0726  GTEX.1AMFI.0426   \n",
       " Min.   :     0.0   Min.   :      0   Min.   :     0   Min.   :     0.0  \n",
       " 1st Qu.:     0.0   1st Qu.:      0   1st Qu.:     0   1st Qu.:     0.0  \n",
       " Median :     0.0   Median :      1   Median :     0   Median :     0.0  \n",
       " Mean   :   937.6   Mean   :   1015   Mean   :  1135   Mean   :   865.3  \n",
       " 3rd Qu.:    75.0   3rd Qu.:     76   3rd Qu.:    85   3rd Qu.:    63.0  \n",
       " Max.   :772241.0   Max.   :1414582   Max.   :837742   Max.   :842437.0  \n",
       " GTEX.1AX8Z.1226  GTEX.1AX9I.1226    GTEX.1AX9J.0726   GTEX.1AX9K.0726 \n",
       " Min.   :     0   Min.   :     0.0   Min.   :      0   Min.   :     0  \n",
       " 1st Qu.:     0   1st Qu.:     0.0   1st Qu.:      0   1st Qu.:     0  \n",
       " Median :     1   Median :     1.0   Median :      1   Median :     2  \n",
       " Mean   :  1019   Mean   :   773.3   Mean   :   1236   Mean   :  1045  \n",
       " 3rd Qu.:   103   3rd Qu.:    73.0   3rd Qu.:     83   3rd Qu.:   122  \n",
       " Max.   :985405   Max.   :393332.0   Max.   :1046354   Max.   :809272  \n",
       " GTEX.1AYCT.0326   GTEX.1AYD5.0726   GTEX.1B8KE.0226  GTEX.1B8L1.0226  \n",
       " Min.   :      0   Min.   :      0   Min.   :     0   Min.   :      0  \n",
       " 1st Qu.:      0   1st Qu.:      0   1st Qu.:     0   1st Qu.:      0  \n",
       " Median :      1   Median :      2   Median :     0   Median :      1  \n",
       " Mean   :   1465   Mean   :   1210   Mean   :   889   Mean   :   1724  \n",
       " 3rd Qu.:     95   3rd Qu.:    102   3rd Qu.:    74   3rd Qu.:    107  \n",
       " Max.   :1122883   Max.   :1391035   Max.   :493649   Max.   :1035872  \n",
       " GTEX.1B8SG.0626    GTEX.1B933.1126  GTEX.1B97J.0526    GTEX.1BAJH.1126  \n",
       " Min.   :     0.0   Min.   :     0   Min.   :     0.0   Min.   :      0  \n",
       " 1st Qu.:     0.0   1st Qu.:     0   1st Qu.:     0.0   1st Qu.:      0  \n",
       " Median :     1.0   Median :     1   Median :     1.0   Median :      2  \n",
       " Mean   :   805.7   Mean   :  1064   Mean   :   976.9   Mean   :   1315  \n",
       " 3rd Qu.:    81.0   3rd Qu.:   101   3rd Qu.:    94.0   3rd Qu.:    118  \n",
       " Max.   :522685.0   Max.   :848858   Max.   :526107.0   Max.   :1230173  \n",
       " GTEX.1C2JI.0426    GTEX.1C4CL.1226   GTEX.1C64O.1026   GTEX.1C6VQ.1326   \n",
       " Min.   :     0.0   Min.   :      0   Min.   :      0   Min.   :     0.0  \n",
       " 1st Qu.:     0.0   1st Qu.:      0   1st Qu.:      0   1st Qu.:     0.0  \n",
       " Median :     0.0   Median :      1   Median :      1   Median :     1.0  \n",
       " Mean   :   879.9   Mean   :   1305   Mean   :   1519   Mean   :   712.2  \n",
       " 3rd Qu.:    76.0   3rd Qu.:     98   3rd Qu.:    111   3rd Qu.:    61.0  \n",
       " Max.   :620317.0   Max.   :2755026   Max.   :1730777   Max.   :594378.0  \n",
       " GTEX.1CAMS.1026   GTEX.1CB4E.0426   GTEX.1CB4G.1126    GTEX.1CB4I.1826   \n",
       " Min.   :      0   Min.   :      0   Min.   :     0.0   Min.   :     0.0  \n",
       " 1st Qu.:      0   1st Qu.:      0   1st Qu.:     0.0   1st Qu.:     0.0  \n",
       " Median :      2   Median :      1   Median :     1.0   Median :     0.0  \n",
       " Mean   :   1551   Mean   :   1467   Mean   :   889.4   Mean   :   838.3  \n",
       " 3rd Qu.:    128   3rd Qu.:     90   3rd Qu.:    86.0   3rd Qu.:    71.0  \n",
       " Max.   :1528391   Max.   :1331363   Max.   :649643.0   Max.   :615434.0  \n",
       " GTEX.1CB4J.0126  GTEX.1E1VI.1226  GTEX.1EKGG.0826    GTEX.1EMGI.0926 \n",
       " Min.   :     0   Min.   :     0   Min.   :     0.0   Min.   :     0  \n",
       " 1st Qu.:     0   1st Qu.:     0   1st Qu.:     0.0   1st Qu.:     0  \n",
       " Median :     1   Median :     1   Median :     1.0   Median :     1  \n",
       " Mean   :  1220   Mean   :  1217   Mean   :   773.3   Mean   :   938  \n",
       " 3rd Qu.:    81   3rd Qu.:   104   3rd Qu.:    60.0   3rd Qu.:    97  \n",
       " Max.   :934168   Max.   :974066   Max.   :649722.0   Max.   :692102  \n",
       " GTEX.1EN7A.1126    GTEX.1EU9M.1726    GTEX.1EWIQ.1026    GTEX.1EX96.2726   \n",
       " Min.   :     0.0   Min.   :     0.0   Min.   :     0.0   Min.   :     0.0  \n",
       " 1st Qu.:     0.0   1st Qu.:     0.0   1st Qu.:     0.0   1st Qu.:     0.0  \n",
       " Median :     1.0   Median :     1.0   Median :     2.0   Median :     2.0  \n",
       " Mean   :   999.9   Mean   :   755.5   Mean   :   765.1   Mean   :   869.1  \n",
       " 3rd Qu.:   118.0   3rd Qu.:    74.0   3rd Qu.:    97.0   3rd Qu.:   100.0  \n",
       " Max.   :481819.0   Max.   :561387.0   Max.   :456261.0   Max.   :597867.0  \n",
       " GTEX.1F48J.1326   GTEX.1F5PK.0626  GTEX.1F75I.1226   GTEX.1F7RK.1326   \n",
       " Min.   :      0   Min.   :     0   Min.   :      0   Min.   :     0.0  \n",
       " 1st Qu.:      0   1st Qu.:     0   1st Qu.:      0   1st Qu.:     0.0  \n",
       " Median :      1   Median :     2   Median :      1   Median :     2.0  \n",
       " Mean   :   1389   Mean   :  1275   Mean   :   1587   Mean   :  1325.3  \n",
       " 3rd Qu.:    119   3rd Qu.:   111   3rd Qu.:    104   3rd Qu.:   159.2  \n",
       " Max.   :1120373   Max.   :828606   Max.   :1543305   Max.   :637913.0  \n",
       " GTEX.1F88F.0226    GTEX.1GF9U.0326  GTEX.1GF9V.1526  GTEX.1GF9W.1926  \n",
       " Min.   :     0.0   Min.   :     0   Min.   :     0   Min.   :      0  \n",
       " 1st Qu.:     0.0   1st Qu.:     0   1st Qu.:     0   1st Qu.:      0  \n",
       " Median :     0.0   Median :     2   Median :     1   Median :      1  \n",
       " Mean   :   721.4   Mean   :  1062   Mean   :  1132   Mean   :   1363  \n",
       " 3rd Qu.:    52.0   3rd Qu.:   120   3rd Qu.:    97   3rd Qu.:     97  \n",
       " Max.   :688898.0   Max.   :665098   Max.   :738241   Max.   :1232556  \n",
       " GTEX.1GL5R.0126  GTEX.1GMR2.1126   GTEX.1GMR3.0526   GTEX.1GN1U.1626   \n",
       " Min.   :     0   Min.   :      0   Min.   :      0   Min.   :     0.0  \n",
       " 1st Qu.:     0   1st Qu.:      0   1st Qu.:      0   1st Qu.:     0.0  \n",
       " Median :     1   Median :      1   Median :      1   Median :     0.0  \n",
       " Mean   :  1362   Mean   :   1339   Mean   :   1359   Mean   :   867.6  \n",
       " 3rd Qu.:   107   3rd Qu.:    118   3rd Qu.:     94   3rd Qu.:    66.0  \n",
       " Max.   :960339   Max.   :1048110   Max.   :1094676   Max.   :909086.0  \n",
       " GTEX.1GN2E.1126    GTEX.1GN73.2226    GTEX.1GZ4H.0726   GTEX.1GZ4I.1126   \n",
       " Min.   :     0.0   Min.   :     0.0   Min.   :      0   Min.   :     0.0  \n",
       " 1st Qu.:     0.0   1st Qu.:     0.0   1st Qu.:      0   1st Qu.:     0.0  \n",
       " Median :     1.0   Median :     1.0   Median :      1   Median :     1.0  \n",
       " Mean   :   818.4   Mean   :   899.8   Mean   :   1360   Mean   :   897.3  \n",
       " 3rd Qu.:    71.0   3rd Qu.:    80.0   3rd Qu.:    109   3rd Qu.:    67.0  \n",
       " Max.   :453582.0   Max.   :553382.0   Max.   :1062804   Max.   :688619.0  \n",
       " GTEX.1GZHY.1626    GTEX.1H1E6.1526   GTEX.1H1ZS.1226   GTEX.1H3NZ.1226   \n",
       " Min.   :     0.0   Min.   :      0   Min.   :      0   Min.   :     0.0  \n",
       " 1st Qu.:     0.0   1st Qu.:      0   1st Qu.:      0   1st Qu.:     0.0  \n",
       " Median :     1.0   Median :      0   Median :      1   Median :     0.0  \n",
       " Mean   :   946.4   Mean   :   1224   Mean   :   1708   Mean   :   911.4  \n",
       " 3rd Qu.:    93.0   3rd Qu.:     90   3rd Qu.:    134   3rd Qu.:    74.0  \n",
       " Max.   :537267.0   Max.   :1576542   Max.   :1098445   Max.   :562609.0  \n",
       " GTEX.1H3VY.1026   GTEX.1HB9E.0926  GTEX.1HBPH.1026   GTEX.1HBPI.0126   \n",
       " Min.   :      0   Min.   :     0   Min.   :      0   Min.   :     0.0  \n",
       " 1st Qu.:      0   1st Qu.:     0   1st Qu.:      0   1st Qu.:     0.0  \n",
       " Median :      1   Median :     1   Median :      2   Median :     1.0  \n",
       " Mean   :   1013   Mean   :  1042   Mean   :   1341   Mean   :  1131.7  \n",
       " 3rd Qu.:     76   3rd Qu.:    89   3rd Qu.:    119   3rd Qu.:    94.2  \n",
       " Max.   :1443518   Max.   :665952   Max.   :1154522   Max.   :779341.0  \n",
       " GTEX.1HBPM.1326  GTEX.1HBPN.1026  GTEX.1HC8U.1126    GTEX.1HCU8.0926 \n",
       " Min.   :     0   Min.   :     0   Min.   :     0.0   Min.   :     0  \n",
       " 1st Qu.:     0   1st Qu.:     0   1st Qu.:     0.0   1st Qu.:     0  \n",
       " Median :     1   Median :     1   Median :     1.0   Median :     1  \n",
       " Mean   :  1111   Mean   :  1277   Mean   :  1028.7   Mean   :  1230  \n",
       " 3rd Qu.:    96   3rd Qu.:   124   3rd Qu.:    99.2   3rd Qu.:   119  \n",
       " Max.   :745262   Max.   :879459   Max.   :735058.0   Max.   :612085  \n",
       " GTEX.1HCU9.0526     GTEX.1HCUA.0326   GTEX.1HCVE.1026   GTEX.1HFI7.0426 \n",
       " Min.   :      0.0   Min.   :      0   Min.   :      0   Min.   :     0  \n",
       " 1st Qu.:      0.0   1st Qu.:      0   1st Qu.:      0   1st Qu.:     0  \n",
       " Median :      2.0   Median :      2   Median :      1   Median :     1  \n",
       " Mean   :   2476.7   Mean   :   2513   Mean   :   1382   Mean   :  1480  \n",
       " 3rd Qu.:    173.2   3rd Qu.:    227   3rd Qu.:    103   3rd Qu.:   109  \n",
       " Max.   :2688409.0   Max.   :1682944   Max.   :1363561   Max.   :852076  \n",
       " GTEX.1HSGN.1026    GTEX.1HSKV.0626    GTEX.1HSMP.0826   GTEX.1HSMQ.0326  \n",
       " Min.   :     0.0   Min.   :     0.0   Min.   :      0   Min.   :      0  \n",
       " 1st Qu.:     0.0   1st Qu.:     0.0   1st Qu.:      0   1st Qu.:      0  \n",
       " Median :     1.0   Median :     1.0   Median :      1   Median :      2  \n",
       " Mean   :   821.8   Mean   :   824.1   Mean   :   1031   Mean   :   1682  \n",
       " 3rd Qu.:    64.0   3rd Qu.:    69.0   3rd Qu.:     82   3rd Qu.:    152  \n",
       " Max.   :869625.0   Max.   :882266.0   Max.   :1608898   Max.   :1261915  \n",
       " GTEX.1HT8W.1826    GTEX.1HUB1.0626  GTEX.1I1CD.1226    GTEX.1I1GP.0926   \n",
       " Min.   :     0.0   Min.   :     0   Min.   :     0.0   Min.   :     0.0  \n",
       " 1st Qu.:     0.0   1st Qu.:     0   1st Qu.:     0.0   1st Qu.:     0.0  \n",
       " Median :     1.0   Median :     1   Median :     2.0   Median :     1.0  \n",
       " Mean   :   950.3   Mean   :  1031   Mean   :   958.6   Mean   :   980.8  \n",
       " 3rd Qu.:    94.0   3rd Qu.:    91   3rd Qu.:   103.0   3rd Qu.:    89.0  \n",
       " Max.   :659704.0   Max.   :839695   Max.   :682962.0   Max.   :581246.0  \n",
       " GTEX.1I1GQ.1526    GTEX.1I1GS.1226  GTEX.1I1GU.0426     GTEX.1I1HK.0926   \n",
       " Min.   :     0.0   Min.   :     0   Min.   :      0.0   Min.   :     0.0  \n",
       " 1st Qu.:     0.0   1st Qu.:     0   1st Qu.:      0.0   1st Qu.:     0.0  \n",
       " Median :     2.0   Median :     1   Median :      0.0   Median :     1.0  \n",
       " Mean   :  1169.1   Mean   :  1273   Mean   :    901.9   Mean   :   798.7  \n",
       " 3rd Qu.:   113.2   3rd Qu.:   102   3rd Qu.:     70.2   3rd Qu.:    89.0  \n",
       " Max.   :954962.0   Max.   :739205   Max.   :1072004.0   Max.   :686731.0  \n",
       " GTEX.1I4MK.0626     GTEX.1I6K7.0826     GTEX.1ICLY.1126   GTEX.1IDJC.0426 \n",
       " Min.   :      0.0   Min.   :      0.0   Min.   :      0   Min.   :     0  \n",
       " 1st Qu.:      0.0   1st Qu.:      0.0   1st Qu.:      0   1st Qu.:     0  \n",
       " Median :      1.0   Median :      1.0   Median :      1   Median :     1  \n",
       " Mean   :    916.7   Mean   :   1749.5   Mean   :   1266   Mean   :  1067  \n",
       " 3rd Qu.:     76.0   3rd Qu.:    136.2   3rd Qu.:    107   3rd Qu.:   110  \n",
       " Max.   :1357423.0   Max.   :2797194.0   Max.   :1535470   Max.   :857489  \n",
       " GTEX.1IDJE.1026   GTEX.1IDJF.0926  GTEX.1IDJU.0526   GTEX.1IKOE.0726  \n",
       " Min.   :      0   Min.   :     0   Min.   :      0   Min.   :      0  \n",
       " 1st Qu.:      0   1st Qu.:     0   1st Qu.:      0   1st Qu.:      0  \n",
       " Median :      1   Median :     0   Median :      1   Median :      1  \n",
       " Mean   :   1080   Mean   :   824   Mean   :   1623   Mean   :   1093  \n",
       " 3rd Qu.:     83   3rd Qu.:    68   3rd Qu.:    138   3rd Qu.:     77  \n",
       " Max.   :1062679   Max.   :830151   Max.   :1580703   Max.   :1345026  \n",
       " GTEX.1IL2U.1026  GTEX.1J1OQ.2026    GTEX.1J1R8.0826   GTEX.1J8JJ.0926   \n",
       " Min.   :     0   Min.   :     0.0   Min.   :      0   Min.   :     0.0  \n",
       " 1st Qu.:     0   1st Qu.:     0.0   1st Qu.:      0   1st Qu.:     0.0  \n",
       " Median :     2   Median :     1.0   Median :      1   Median :     0.0  \n",
       " Mean   :  1205   Mean   :  1151.7   Mean   :   1452   Mean   :   790.9  \n",
       " 3rd Qu.:   118   3rd Qu.:   115.2   3rd Qu.:    107   3rd Qu.:    67.0  \n",
       " Max.   :861859   Max.   :577661.0   Max.   :1311213   Max.   :501123.0  \n",
       " GTEX.1J8Q3.1026   GTEX.1J8QM.0126  GTEX.1JJ6O.1826  GTEX.1JJEA.0726   \n",
       " Min.   :      0   Min.   :     0   Min.   :     0   Min.   :     0.0  \n",
       " 1st Qu.:      0   1st Qu.:     0   1st Qu.:     0   1st Qu.:     0.0  \n",
       " Median :      2   Median :     1   Median :     2   Median :     1.0  \n",
       " Mean   :   2314   Mean   :  1500   Mean   :  1050   Mean   :   730.9  \n",
       " 3rd Qu.:    177   3rd Qu.:   119   3rd Qu.:   124   3rd Qu.:    95.0  \n",
       " Max.   :3246291   Max.   :775876   Max.   :580694   Max.   :447619.0  \n",
       " GTEX.1JK1U.0426     GTEX.1JKYN.0226    GTEX.1JMOU.0126    GTEX.1JMQI.0226   \n",
       " Min.   :      0.0   Min.   :     0.0   Min.   :     0.0   Min.   :     0.0  \n",
       " 1st Qu.:      0.0   1st Qu.:     0.0   1st Qu.:     0.0   1st Qu.:     0.0  \n",
       " Median :      1.0   Median :     0.0   Median :     1.0   Median :     1.0  \n",
       " Mean   :   1246.4   Mean   :   826.5   Mean   :   878.5   Mean   :   834.1  \n",
       " 3rd Qu.:     95.2   3rd Qu.:    64.0   3rd Qu.:   102.0   3rd Qu.:    87.0  \n",
       " Max.   :1682649.0   Max.   :752672.0   Max.   :529104.0   Max.   :724041.0  \n",
       " GTEX.1JMQJ.2426  GTEX.1K2DA.0926   GTEX.1K2DU.1326     GTEX.1K9T9.1326 \n",
       " Min.   :     0   Min.   :      0   Min.   :      0.0   Min.   :     0  \n",
       " 1st Qu.:     0   1st Qu.:      0   1st Qu.:      0.0   1st Qu.:     0  \n",
       " Median :     1   Median :      2   Median :      1.0   Median :     1  \n",
       " Mean   :  1146   Mean   :   3004   Mean   :    942.1   Mean   :  1387  \n",
       " 3rd Qu.:   104   3rd Qu.:    217   3rd Qu.:     78.0   3rd Qu.:   131  \n",
       " Max.   :644573   Max.   :2659276   Max.   :1381819.0   Max.   :790242  \n",
       " GTEX.1KANC.0326   GTEX.1KD5A.0826    GTEX.1KXAM.1226   GTEX.1L5NE.0326  \n",
       " Min.   :      0   Min.   :     0.0   Min.   :      0   Min.   :      0  \n",
       " 1st Qu.:      0   1st Qu.:     0.0   1st Qu.:      0   1st Qu.:      0  \n",
       " Median :      1   Median :     1.0   Median :      1   Median :      0  \n",
       " Mean   :   1392   Mean   :   952.9   Mean   :   1358   Mean   :   1131  \n",
       " 3rd Qu.:    119   3rd Qu.:   109.0   3rd Qu.:    108   3rd Qu.:     89  \n",
       " Max.   :1119038   Max.   :748013.0   Max.   :1915706   Max.   :1464535  \n",
       " GTEX.1LB8K.1126  GTEX.1LG7Y.1326  GTEX.1LG7Z.0626   GTEX.1LGRB.0726  \n",
       " Min.   :     0   Min.   :     0   Min.   :      0   Min.   :      0  \n",
       " 1st Qu.:     0   1st Qu.:     0   1st Qu.:      0   1st Qu.:      0  \n",
       " Median :     1   Median :     2   Median :      1   Median :      1  \n",
       " Mean   :  1261   Mean   :  1032   Mean   :   1289   Mean   :   1340  \n",
       " 3rd Qu.:    98   3rd Qu.:   120   3rd Qu.:    107   3rd Qu.:     86  \n",
       " Max.   :963465   Max.   :421081   Max.   :2089565   Max.   :1752388  \n",
       " GTEX.1LKK1.1126  GTEX.1LNCM.0326   GTEX.1LVAN.1426  GTEX.1LVAO.0826  \n",
       " Min.   :     0   Min.   :      0   Min.   :     0   Min.   :      0  \n",
       " 1st Qu.:     0   1st Qu.:      0   1st Qu.:     0   1st Qu.:      0  \n",
       " Median :     1   Median :      1   Median :     1   Median :      0  \n",
       " Mean   :  1208   Mean   :   1347   Mean   :  1050   Mean   :   1100  \n",
       " 3rd Qu.:   106   3rd Qu.:    101   3rd Qu.:   103   3rd Qu.:     89  \n",
       " Max.   :786732   Max.   :1683844   Max.   :679441   Max.   :1096510  \n",
       " GTEX.1MCC2.0426  GTEX.1MCYP.0426   GTEX.1MGNQ.0626   GTEX.1NSGN.1126   \n",
       " Min.   :     0   Min.   :      0   Min.   :      0   Min.   :     0.0  \n",
       " 1st Qu.:     0   1st Qu.:      0   1st Qu.:      0   1st Qu.:     0.0  \n",
       " Median :     1   Median :      0   Median :      0   Median :     0.0  \n",
       " Mean   :  1426   Mean   :   1487   Mean   :   1122   Mean   :   889.8  \n",
       " 3rd Qu.:   104   3rd Qu.:    102   3rd Qu.:     81   3rd Qu.:    73.0  \n",
       " Max.   :930675   Max.   :1057857   Max.   :1439718   Max.   :939184.0  \n",
       " GTEX.1PDJ9.0926   GTEX.1PFEY.0526   GTEX.1POEN.1026  GTEX.1QAET.0526 \n",
       " Min.   :      0   Min.   :      0   Min.   :     0   Min.   :     0  \n",
       " 1st Qu.:      0   1st Qu.:      0   1st Qu.:     0   1st Qu.:     0  \n",
       " Median :      1   Median :      1   Median :     1   Median :     1  \n",
       " Mean   :   1595   Mean   :   1826   Mean   :  1261   Mean   :  1053  \n",
       " 3rd Qu.:    125   3rd Qu.:    119   3rd Qu.:   132   3rd Qu.:   100  \n",
       " Max.   :1644258   Max.   :1996485   Max.   :727626   Max.   :807121  \n",
       " GTEX.1QP29.0226   GTEX.1QP2A.0826   GTEX.1QP66.1126   GTEX.1QP9N.0226  \n",
       " Min.   :      0   Min.   :      0   Min.   :      0   Min.   :      0  \n",
       " 1st Qu.:      0   1st Qu.:      0   1st Qu.:      0   1st Qu.:      0  \n",
       " Median :      1   Median :      0   Median :      1   Median :      0  \n",
       " Mean   :   1535   Mean   :   1196   Mean   :   1416   Mean   :   1265  \n",
       " 3rd Qu.:    107   3rd Qu.:     81   3rd Qu.:    115   3rd Qu.:     87  \n",
       " Max.   :1648563   Max.   :1299653   Max.   :1193712   Max.   :1101698  \n",
       " GTEX.1QPFJ.0726   GTEX.1QW4Y.0326  GTEX.1R46S.0726  GTEX.1R9JW.0726  \n",
       " Min.   :      0   Min.   :     0   Min.   :     0   Min.   :      0  \n",
       " 1st Qu.:      0   1st Qu.:     0   1st Qu.:     0   1st Qu.:      0  \n",
       " Median :      1   Median :     1   Median :     1   Median :      1  \n",
       " Mean   :   1480   Mean   :  1265   Mean   :  1162   Mean   :   1178  \n",
       " 3rd Qu.:    106   3rd Qu.:   138   3rd Qu.:   120   3rd Qu.:    109  \n",
       " Max.   :1002668   Max.   :937595   Max.   :987788   Max.   :1070466  \n",
       " GTEX.1R9K5.1426     GTEX.1R9PM.0326     GTEX.1R9PN.0226  GTEX.1R9PO.0226  \n",
       " Min.   :      0.0   Min.   :      0.0   Min.   :     0   Min.   :      0  \n",
       " 1st Qu.:      0.0   1st Qu.:      0.0   1st Qu.:     0   1st Qu.:      0  \n",
       " Median :      1.0   Median :      0.0   Median :     1   Median :      0  \n",
       " Mean   :   1237.2   Mean   :    989.2   Mean   :  1200   Mean   :   1054  \n",
       " 3rd Qu.:    107.2   3rd Qu.:     81.0   3rd Qu.:   113   3rd Qu.:     92  \n",
       " Max.   :1068299.0   Max.   :1148456.0   Max.   :837092   Max.   :1077610  \n",
       " GTEX.1RAZA.1126   GTEX.1RAZR.0626  GTEX.1RNTQ.0726  GTEX.1RQED.1126   \n",
       " Min.   :      0   Min.   :     0   Min.   :     0   Min.   :     0.0  \n",
       " 1st Qu.:      0   1st Qu.:     0   1st Qu.:     0   1st Qu.:     0.0  \n",
       " Median :      1   Median :     0   Median :     1   Median :     1.0  \n",
       " Mean   :   1450   Mean   :  1197   Mean   :  1339   Mean   :   922.4  \n",
       " 3rd Qu.:    113   3rd Qu.:    78   3rd Qu.:   103   3rd Qu.:    94.0  \n",
       " Max.   :1095919   Max.   :948718   Max.   :656550   Max.   :530923.0  \n",
       " GTEX.1S3DN.0626   GTEX.1S5ZA.1126  \n",
       " Min.   :      0   Min.   :      0  \n",
       " 1st Qu.:      0   1st Qu.:      0  \n",
       " Median :      0   Median :      1  \n",
       " Mean   :   1013   Mean   :   1456  \n",
       " 3rd Qu.:     78   3rd Qu.:    110  \n",
       " Max.   :1358195   Max.   :1409124  "
      ]
     },
     "metadata": {},
     "output_type": "display_data"
    }
   ],
   "source": [
    "summary(RNA_read_counts_data)"
   ]
  },
  {
   "cell_type": "code",
   "execution_count": 26,
   "id": "9521f1df-dcb1-49a0-b7e5-19e78cd553c5",
   "metadata": {},
   "outputs": [
    {
     "data": {
      "text/html": [
       "<style>\n",
       ".list-inline {list-style: none; margin:0; padding: 0}\n",
       ".list-inline>li {display: inline-block}\n",
       ".list-inline>li:not(:last-child)::after {content: \"\\00b7\"; padding: 0 .5ex}\n",
       "</style>\n",
       "<ol class=list-inline><li>56200</li><li>282</li></ol>\n"
      ],
      "text/latex": [
       "\\begin{enumerate*}\n",
       "\\item 56200\n",
       "\\item 282\n",
       "\\end{enumerate*}\n"
      ],
      "text/markdown": [
       "1. 56200\n",
       "2. 282\n",
       "\n",
       "\n"
      ],
      "text/plain": [
       "[1] 56200   282"
      ]
     },
     "metadata": {},
     "output_type": "display_data"
    }
   ],
   "source": [
    "dim(RNA_read_counts_data)"
   ]
  },
  {
   "cell_type": "code",
   "execution_count": 27,
   "id": "2938e6b6-86d9-4785-8e1d-de31c6745415",
   "metadata": {},
   "outputs": [],
   "source": [
    "# Convert character columns to factors using dplyr\n",
    "RNA_read_counts_data <- RNA_read_counts_data %>%\n",
    "  mutate_if(is.character, as.factor)"
   ]
  },
  {
   "cell_type": "code",
   "execution_count": 29,
   "id": "6fcfdf81-5d79-4cdc-b0b5-d786d264ed9b",
   "metadata": {},
   "outputs": [
    {
     "data": {
      "text/plain": [
       "                 Name            Description    GTEX.111YS.0526    \n",
       " ENSG00000000003.14:    1   Y_RNA      :  738   Min.   :      0.0  \n",
       " ENSG00000000005.5 :    1   Metazoa_SRP:  167   1st Qu.:      0.0  \n",
       " ENSG00000000419.12:    1   U3         :   50   Median :      0.0  \n",
       " ENSG00000000457.13:    1   U6         :   33   Mean   :    905.4  \n",
       " ENSG00000000460.16:    1   snoU13     :   32   3rd Qu.:     59.0  \n",
       " ENSG00000000938.12:    1   uc_338     :   32   Max.   :1103024.0  \n",
       " (Other)           :56194   (Other)    :55148                      \n",
       " GTEX.1122O.1126     GTEX.1128S.0326  GTEX.117XS.0426  GTEX.117YW.0226 \n",
       " Min.   :      0.0   Min.   :     0   Min.   :     0   Min.   :     0  \n",
       " 1st Qu.:      0.0   1st Qu.:     0   1st Qu.:     0   1st Qu.:     0  \n",
       " Median :      0.0   Median :     1   Median :     1   Median :     1  \n",
       " Mean   :    856.6   Mean   :  1036   Mean   :  1083   Mean   :  1071  \n",
       " 3rd Qu.:     49.0   3rd Qu.:    96   3rd Qu.:    63   3rd Qu.:    85  \n",
       " Max.   :1619435.0   Max.   :816182   Max.   :927631   Max.   :812480  \n",
       "                                                                       \n",
       " GTEX.11DXX.0426    GTEX.11DXZ.0426  GTEX.11DYG.1226  GTEX.11EM3.0226   \n",
       " Min.   :     0.0   Min.   :     0   Min.   :     0   Min.   :     0.0  \n",
       " 1st Qu.:     0.0   1st Qu.:     0   1st Qu.:     0   1st Qu.:     0.0  \n",
       " Median :     0.0   Median :     1   Median :     1   Median :     1.0  \n",
       " Mean   :   883.1   Mean   :  1135   Mean   :  1007   Mean   :   987.4  \n",
       " 3rd Qu.:    69.0   3rd Qu.:    91   3rd Qu.:    90   3rd Qu.:    69.0  \n",
       " Max.   :623146.0   Max.   :941914   Max.   :749284   Max.   :711843.0  \n",
       "                                                                        \n",
       " GTEX.11EMC.0926    GTEX.11GS4.0326  GTEX.11GSP.1126    GTEX.11I78.0726 \n",
       " Min.   :     0.0   Min.   :     0   Min.   :     0.0   Min.   :     0  \n",
       " 1st Qu.:     0.0   1st Qu.:     0   1st Qu.:     0.0   1st Qu.:     0  \n",
       " Median :     1.0   Median :     2   Median :     0.0   Median :     1  \n",
       " Mean   :   974.1   Mean   :  1054   Mean   :   854.4   Mean   :   847  \n",
       " 3rd Qu.:   110.0   3rd Qu.:   111   3rd Qu.:    61.0   3rd Qu.:    96  \n",
       " Max.   :515940.0   Max.   :757619   Max.   :520533.0   Max.   :541628  \n",
       "                                                                        \n",
       " GTEX.11LCK.0726   GTEX.11NUK.0726  GTEX.11ONC.0926    GTEX.11P81.0326   \n",
       " Min.   :      0   Min.   :     0   Min.   :     0.0   Min.   :     0.0  \n",
       " 1st Qu.:      0   1st Qu.:     0   1st Qu.:     0.0   1st Qu.:     0.0  \n",
       " Median :      1   Median :     2   Median :     2.0   Median :     0.0  \n",
       " Mean   :   1527   Mean   :  1159   Mean   :   998.6   Mean   :   968.5  \n",
       " 3rd Qu.:    107   3rd Qu.:   107   3rd Qu.:   108.0   3rd Qu.:    70.0  \n",
       " Max.   :1635859   Max.   :762199   Max.   :671589.0   Max.   :913220.0  \n",
       "                                                                         \n",
       " GTEX.11P82.0126  GTEX.11TT1.1226  GTEX.11TUW.0926    GTEX.11UD2.0826 \n",
       " Min.   :     0   Min.   :     0   Min.   :     0.0   Min.   :     0  \n",
       " 1st Qu.:     0   1st Qu.:     0   1st Qu.:     0.0   1st Qu.:     0  \n",
       " Median :     0   Median :     1   Median :     1.0   Median :     1  \n",
       " Mean   :  1004   Mean   :  1095   Mean   :   894.4   Mean   :  1154  \n",
       " 3rd Qu.:    71   3rd Qu.:    77   3rd Qu.:    67.0   3rd Qu.:    92  \n",
       " Max.   :834661   Max.   :764185   Max.   :901995.0   Max.   :881064  \n",
       "                                                                      \n",
       " GTEX.11WQK.0326    GTEX.11ZTS.0826  GTEX.11ZVC.0326    GTEX.1211K.0326  \n",
       " Min.   :     0.0   Min.   :     0   Min.   :     0.0   Min.   :      0  \n",
       " 1st Qu.:     0.0   1st Qu.:     0   1st Qu.:     0.0   1st Qu.:      0  \n",
       " Median :     1.0   Median :     1   Median :     1.0   Median :      1  \n",
       " Mean   :   884.5   Mean   :  1056   Mean   :   958.2   Mean   :   1183  \n",
       " 3rd Qu.:    62.0   3rd Qu.:    89   3rd Qu.:    81.0   3rd Qu.:     72  \n",
       " Max.   :557832.0   Max.   :797681   Max.   :765778.0   Max.   :1274249  \n",
       "                                                                         \n",
       " GTEX.1212Z.0826  GTEX.12696.0426     GTEX.12C56.0226   GTEX.12KS4.0626 \n",
       " Min.   :     0   Min.   :      0.0   Min.   :      0   Min.   :     0  \n",
       " 1st Qu.:     0   1st Qu.:      0.0   1st Qu.:      0   1st Qu.:     0  \n",
       " Median :     1   Median :      1.0   Median :      2   Median :     1  \n",
       " Mean   :  1076   Mean   :    983.8   Mean   :   1524   Mean   :  1144  \n",
       " 3rd Qu.:    80   3rd Qu.:     85.0   3rd Qu.:    139   3rd Qu.:   108  \n",
       " Max.   :734432   Max.   :1128606.0   Max.   :1390328   Max.   :760124  \n",
       "                                                                        \n",
       " GTEX.12WSD.1326    GTEX.12WSK.0426    GTEX.12WSN.0326    GTEX.12ZZX.1026   \n",
       " Min.   :     0.0   Min.   :     0.0   Min.   :     0.0   Min.   :     0.0  \n",
       " 1st Qu.:     0.0   1st Qu.:     0.0   1st Qu.:     0.0   1st Qu.:     0.0  \n",
       " Median :     1.0   Median :     0.0   Median :     1.0   Median :     0.0  \n",
       " Mean   :   785.5   Mean   :   893.1   Mean   :   972.1   Mean   :   828.9  \n",
       " 3rd Qu.:    70.0   3rd Qu.:    55.0   3rd Qu.:    71.0   3rd Qu.:    68.0  \n",
       " Max.   :617757.0   Max.   :817666.0   Max.   :640597.0   Max.   :689827.0  \n",
       "                                                                            \n",
       " GTEX.12ZZY.1326  GTEX.13111.0526    GTEX.13113.0526  GTEX.1313W.1026   \n",
       " Min.   :     0   Min.   :     0.0   Min.   :     0   Min.   :     0.0  \n",
       " 1st Qu.:     0   1st Qu.:     0.0   1st Qu.:     0   1st Qu.:     0.0  \n",
       " Median :     1   Median :     1.0   Median :     1   Median :     1.0  \n",
       " Mean   :  1129   Mean   :   897.4   Mean   :  1122   Mean   :   799.9  \n",
       " 3rd Qu.:    93   3rd Qu.:    88.0   3rd Qu.:    85   3rd Qu.:    74.0  \n",
       " Max.   :920562   Max.   :746100.0   Max.   :787742   Max.   :421381.0  \n",
       "                                                                        \n",
       " GTEX.131XF.0626   GTEX.131XW.2226  GTEX.131YS.1126  GTEX.132AR.2126   \n",
       " Min.   :      0   Min.   :     0   Min.   :     0   Min.   :     0.0  \n",
       " 1st Qu.:      0   1st Qu.:     0   1st Qu.:     0   1st Qu.:     0.0  \n",
       " Median :      1   Median :     1   Median :     2   Median :     0.0  \n",
       " Mean   :   1088   Mean   :  1237   Mean   :  1366   Mean   :   854.7  \n",
       " 3rd Qu.:     74   3rd Qu.:   108   3rd Qu.:   133   3rd Qu.:    69.0  \n",
       " Max.   :1152409   Max.   :646800   Max.   :781320   Max.   :674016.0  \n",
       "                                                                       \n",
       " GTEX.132QS.0626   GTEX.1339X.0526   GTEX.133LE.0226  GTEX.1399R.0626    \n",
       " Min.   :      0   Min.   :      0   Min.   :     0   Min.   :      0.0  \n",
       " 1st Qu.:      0   1st Qu.:      0   1st Qu.:     0   1st Qu.:      0.0  \n",
       " Median :      0   Median :      1   Median :     1   Median :      1.0  \n",
       " Mean   :   1170   Mean   :   1186   Mean   :  1442   Mean   :   1235.9  \n",
       " 3rd Qu.:     72   3rd Qu.:     77   3rd Qu.:   124   3rd Qu.:    102.2  \n",
       " Max.   :1309728   Max.   :2046701   Max.   :867810   Max.   :1086371.0  \n",
       "                                                                         \n",
       " GTEX.1399T.0526  GTEX.1399U.0426  GTEX.139D8.1226    GTEX.139TS.0226 \n",
       " Min.   :     0   Min.   :     0   Min.   :     0.0   Min.   :     0  \n",
       " 1st Qu.:     0   1st Qu.:     0   1st Qu.:     0.0   1st Qu.:     0  \n",
       " Median :     2   Median :     1   Median :     0.0   Median :     1  \n",
       " Mean   :  1155   Mean   :  1436   Mean   :   878.4   Mean   :  1309  \n",
       " 3rd Qu.:   110   3rd Qu.:   117   3rd Qu.:    67.0   3rd Qu.:   101  \n",
       " Max.   :677775   Max.   :965762   Max.   :725942.0   Max.   :925330  \n",
       "                                                                      \n",
       " GTEX.139TU.1126    GTEX.139UW.0426  GTEX.139YR.0626  GTEX.13CF3.0526 \n",
       " Min.   :     0.0   Min.   :     0   Min.   :     0   Min.   :     0  \n",
       " 1st Qu.:     0.0   1st Qu.:     0   1st Qu.:     0   1st Qu.:     0  \n",
       " Median :     1.0   Median :     1   Median :     1   Median :     1  \n",
       " Mean   :   772.5   Mean   :  1032   Mean   :  1306   Mean   :  1160  \n",
       " 3rd Qu.:    98.0   3rd Qu.:    77   3rd Qu.:   105   3rd Qu.:   100  \n",
       " Max.   :536520.0   Max.   :915568   Max.   :831943   Max.   :876347  \n",
       "                                                                      \n",
       " GTEX.13D11.1426    GTEX.13FH7.0326   GTEX.13FHO.1626   GTEX.13FLV.1426 \n",
       " Min.   :     0.0   Min.   :      0   Min.   :      0   Min.   :     0  \n",
       " 1st Qu.:     0.0   1st Qu.:      0   1st Qu.:      0   1st Qu.:     0  \n",
       " Median :     0.0   Median :      1   Median :      2   Median :     1  \n",
       " Mean   :   948.8   Mean   :   1301   Mean   :   1473   Mean   :  1113  \n",
       " 3rd Qu.:    79.0   3rd Qu.:     87   3rd Qu.:    136   3rd Qu.:    78  \n",
       " Max.   :842151.0   Max.   :1550339   Max.   :1118412   Max.   :704760  \n",
       "                                                                        \n",
       " GTEX.13FTW.0726   GTEX.13FTX.0226  GTEX.13FTZ.0126    GTEX.13N2G.0526  \n",
       " Min.   :      0   Min.   :     0   Min.   :     0.0   Min.   :      0  \n",
       " 1st Qu.:      0   1st Qu.:     0   1st Qu.:     0.0   1st Qu.:      0  \n",
       " Median :      1   Median :     1   Median :     1.0   Median :      0  \n",
       " Mean   :   1385   Mean   :  1286   Mean   :   958.4   Mean   :   1226  \n",
       " 3rd Qu.:     89   3rd Qu.:   109   3rd Qu.:    99.0   3rd Qu.:     77  \n",
       " Max.   :1141910   Max.   :884188   Max.   :539278.0   Max.   :1011390  \n",
       "                                                                        \n",
       " GTEX.13NYB.0426    GTEX.13NZ9.1226  GTEX.13O1R.1026    GTEX.13O21.0426  \n",
       " Min.   :     0.0   Min.   :     0   Min.   :     0.0   Min.   :      0  \n",
       " 1st Qu.:     0.0   1st Qu.:     0   1st Qu.:     0.0   1st Qu.:      0  \n",
       " Median :     1.0   Median :     2   Median :     1.0   Median :      1  \n",
       " Mean   :   734.3   Mean   :  1181   Mean   :   919.6   Mean   :   1162  \n",
       " 3rd Qu.:    71.0   3rd Qu.:   136   3rd Qu.:    77.0   3rd Qu.:    100  \n",
       " Max.   :416244.0   Max.   :743254   Max.   :761287.0   Max.   :1288935  \n",
       "                                                                         \n",
       " GTEX.13O3O.1126    GTEX.13O3P.1126    GTEX.13O61.0326   GTEX.13OVG.0826    \n",
       " Min.   :     0.0   Min.   :     0.0   Min.   :      0   Min.   :      0.0  \n",
       " 1st Qu.:     0.0   1st Qu.:     0.0   1st Qu.:      0   1st Qu.:      0.0  \n",
       " Median :     1.0   Median :     0.0   Median :      1   Median :      1.0  \n",
       " Mean   :   862.9   Mean   :   796.1   Mean   :   1134   Mean   :    947.6  \n",
       " 3rd Qu.:    77.0   3rd Qu.:    69.0   3rd Qu.:     97   3rd Qu.:     74.0  \n",
       " Max.   :671179.0   Max.   :667833.0   Max.   :1363911   Max.   :1075077.0  \n",
       "                                                                            \n",
       " GTEX.13OVI.0626    GTEX.13OW5.0826   GTEX.13OW6.1526    GTEX.13OW8.1826   \n",
       " Min.   :     0.0   Min.   :      0   Min.   :     0.0   Min.   :     0.0  \n",
       " 1st Qu.:     0.0   1st Qu.:      0   1st Qu.:     0.0   1st Qu.:     0.0  \n",
       " Median :     1.0   Median :      2   Median :     0.0   Median :     1.0  \n",
       " Mean   :   832.5   Mean   :   1665   Mean   :   927.2   Mean   :   967.2  \n",
       " 3rd Qu.:    92.0   3rd Qu.:    142   3rd Qu.:    73.0   3rd Qu.:    72.0  \n",
       " Max.   :562794.0   Max.   :1534111   Max.   :721932.0   Max.   :665242.0  \n",
       "                                                                           \n",
       " GTEX.13PVQ.1426  GTEX.13PVR.0826    GTEX.13QBU.0326     GTEX.13RTK.0126  \n",
       " Min.   :     0   Min.   :     0.0   Min.   :      0.0   Min.   :      0  \n",
       " 1st Qu.:     0   1st Qu.:     0.0   1st Qu.:      0.0   1st Qu.:      0  \n",
       " Median :     1   Median :     0.0   Median :      1.0   Median :      1  \n",
       " Mean   :  1201   Mean   :   918.6   Mean   :    966.6   Mean   :   1112  \n",
       " 3rd Qu.:   113   3rd Qu.:    63.0   3rd Qu.:     78.0   3rd Qu.:     99  \n",
       " Max.   :820247   Max.   :876629.0   Max.   :1533345.0   Max.   :1584161  \n",
       "                                                                          \n",
       " GTEX.13U4I.1026  GTEX.13VXT.0826  GTEX.13W3W.0226    GTEX.13W46.1826   \n",
       " Min.   :     0   Min.   :     0   Min.   :     0.0   Min.   :     0.0  \n",
       " 1st Qu.:     0   1st Qu.:     0   1st Qu.:     0.0   1st Qu.:     0.0  \n",
       " Median :     1   Median :     2   Median :     0.0   Median :     1.0  \n",
       " Mean   :  1024   Mean   :  1136   Mean   :   770.9   Mean   :   916.9  \n",
       " 3rd Qu.:   103   3rd Qu.:   121   3rd Qu.:    67.0   3rd Qu.:    78.0  \n",
       " Max.   :704054   Max.   :975233   Max.   :473602.0   Max.   :657569.0  \n",
       "                                                                        \n",
       " GTEX.13X6H.0126     GTEX.13X6I.0926     GTEX.13X6K.1926  GTEX.13YAN.1526   \n",
       " Min.   :      0.0   Min.   :      0.0   Min.   :     0   Min.   :     0.0  \n",
       " 1st Qu.:      0.0   1st Qu.:      0.0   1st Qu.:     0   1st Qu.:     0.0  \n",
       " Median :      1.0   Median :      1.0   Median :     1   Median :     1.0  \n",
       " Mean   :    882.4   Mean   :    850.6   Mean   :  1114   Mean   :   965.2  \n",
       " 3rd Qu.:     91.0   3rd Qu.:     82.0   3rd Qu.:   100   3rd Qu.:    95.0  \n",
       " Max.   :1511454.0   Max.   :1224123.0   Max.   :739743   Max.   :724961.0  \n",
       "                                                                            \n",
       " GTEX.144GN.0326    GTEX.145MH.1026    GTEX.145MO.1226    GTEX.146FH.1326 \n",
       " Min.   :     0.0   Min.   :     0.0   Min.   :     0.0   Min.   :     0  \n",
       " 1st Qu.:     0.0   1st Qu.:     0.0   1st Qu.:     0.0   1st Qu.:     0  \n",
       " Median :     0.0   Median :     0.0   Median :     0.0   Median :     1  \n",
       " Mean   :   824.2   Mean   :   860.8   Mean   :   890.5   Mean   :  1195  \n",
       " 3rd Qu.:    79.0   3rd Qu.:    65.0   3rd Qu.:    66.0   3rd Qu.:   102  \n",
       " Max.   :477138.0   Max.   :670253.0   Max.   :591658.0   Max.   :613040  \n",
       "                                                                          \n",
       " GTEX.146FQ.0826  GTEX.146FR.1026   GTEX.147F4.1026    GTEX.1497J.1026  \n",
       " Min.   :     0   Min.   :      0   Min.   :     0.0   Min.   :      0  \n",
       " 1st Qu.:     0   1st Qu.:      0   1st Qu.:     0.0   1st Qu.:      0  \n",
       " Median :     0   Median :      1   Median :     1.0   Median :      1  \n",
       " Mean   :   821   Mean   :   1250   Mean   :   958.4   Mean   :   1080  \n",
       " 3rd Qu.:    63   3rd Qu.:    104   3rd Qu.:    91.0   3rd Qu.:     77  \n",
       " Max.   :656778   Max.   :1320075   Max.   :528283.0   Max.   :1511412  \n",
       "                                                                        \n",
       " GTEX.14A5I.1326    GTEX.14AS3.0526  GTEX.14ASI.1126    GTEX.14B4R.0226   \n",
       " Min.   :     0.0   Min.   :     0   Min.   :     0.0   Min.   :     0.0  \n",
       " 1st Qu.:     0.0   1st Qu.:     0   1st Qu.:     0.0   1st Qu.:     0.0  \n",
       " Median :     1.0   Median :     0   Median :     1.0   Median :     0.0  \n",
       " Mean   :   999.1   Mean   :   896   Mean   :   793.5   Mean   :   927.3  \n",
       " 3rd Qu.:    91.0   3rd Qu.:    73   3rd Qu.:    92.0   3rd Qu.:    72.0  \n",
       " Max.   :745930.0   Max.   :775508   Max.   :354474.0   Max.   :717921.0  \n",
       "                                                                          \n",
       " GTEX.14BIM.2626    GTEX.14BMU.0326  GTEX.14BMV.1226    GTEX.14C39.0126   \n",
       " Min.   :     0.0   Min.   :     0   Min.   :     0.0   Min.   :     0.0  \n",
       " 1st Qu.:     0.0   1st Qu.:     0   1st Qu.:     0.0   1st Qu.:     0.0  \n",
       " Median :     0.0   Median :     0   Median :     1.0   Median :     0.0  \n",
       " Mean   :   884.7   Mean   :  1115   Mean   :   998.7   Mean   :   955.1  \n",
       " 3rd Qu.:    60.0   3rd Qu.:    95   3rd Qu.:    71.0   3rd Qu.:    62.0  \n",
       " Max.   :734298.0   Max.   :629698   Max.   :805661.0   Max.   :647390.0  \n",
       "                                                                          \n",
       " GTEX.14C5O.1526   GTEX.14DAQ.1326    GTEX.14E1K.0726   GTEX.14E6C.0626 \n",
       " Min.   :      0   Min.   :     0.0   Min.   :      0   Min.   :     0  \n",
       " 1st Qu.:      0   1st Qu.:     0.0   1st Qu.:      0   1st Qu.:     0  \n",
       " Median :      1   Median :     1.0   Median :      0   Median :     1  \n",
       " Mean   :   1220   Mean   :   960.4   Mean   :   1054   Mean   :  1095  \n",
       " 3rd Qu.:     85   3rd Qu.:    79.0   3rd Qu.:     69   3rd Qu.:    71  \n",
       " Max.   :1183876   Max.   :900327.0   Max.   :1100756   Max.   :548542  \n",
       "                                                                        \n",
       " GTEX.14E7W.1426  GTEX.14ICL.0326  GTEX.14PJ2.1226    GTEX.14PJ3.0226 \n",
       " Min.   :     0   Min.   :     0   Min.   :     0.0   Min.   :     0  \n",
       " 1st Qu.:     0   1st Qu.:     0   1st Qu.:     0.0   1st Qu.:     0  \n",
       " Median :     1   Median :     0   Median :     1.0   Median :     0  \n",
       " Mean   :   900   Mean   :  1200   Mean   :   946.8   Mean   :  1036  \n",
       " 3rd Qu.:    85   3rd Qu.:    68   3rd Qu.:    96.2   3rd Qu.:    83  \n",
       " Max.   :738813   Max.   :752129   Max.   :715115.0   Max.   :967334  \n",
       "                                                                      \n",
       " GTEX.14PJ4.0826   GTEX.14PJ6.0526   GTEX.14PJM.1426    GTEX.14PK6.0626 \n",
       " Min.   :      0   Min.   :      0   Min.   :     0.0   Min.   :     0  \n",
       " 1st Qu.:      0   1st Qu.:      0   1st Qu.:     0.0   1st Qu.:     0  \n",
       " Median :      1   Median :      1   Median :     0.0   Median :     0  \n",
       " Mean   :   1307   Mean   :   1212   Mean   :   809.7   Mean   :  1110  \n",
       " 3rd Qu.:    113   3rd Qu.:     73   3rd Qu.:    59.0   3rd Qu.:    78  \n",
       " Max.   :1882797   Max.   :1392129   Max.   :589713.0   Max.   :858608  \n",
       "                                                                        \n",
       " GTEX.15CHC.0626  GTEX.15CHR.0126     GTEX.15DDE.1326     GTEX.15DYW.1226 \n",
       " Min.   :     0   Min.   :      0.0   Min.   :      0.0   Min.   :     0  \n",
       " 1st Qu.:     0   1st Qu.:      0.0   1st Qu.:      0.0   1st Qu.:     0  \n",
       " Median :     1   Median :      3.0   Median :      1.0   Median :     2  \n",
       " Mean   :  1171   Mean   :   1395.1   Mean   :    935.4   Mean   :  1435  \n",
       " 3rd Qu.:   102   3rd Qu.:    170.2   3rd Qu.:     75.0   3rd Qu.:   126  \n",
       " Max.   :938902   Max.   :1064184.0   Max.   :1192634.0   Max.   :899057  \n",
       "                                                                          \n",
       " GTEX.15DZA.1226   GTEX.15ER7.2026    GTEX.15ETS.0726     GTEX.15F5U.0226 \n",
       " Min.   :      0   Min.   :     0.0   Min.   :      0.0   Min.   :     0  \n",
       " 1st Qu.:      0   1st Qu.:     0.0   1st Qu.:      0.0   1st Qu.:     0  \n",
       " Median :      0   Median :     1.0   Median :      0.0   Median :     1  \n",
       " Mean   :   1117   Mean   :  1063.1   Mean   :    922.9   Mean   :  1464  \n",
       " 3rd Qu.:     92   3rd Qu.:    78.2   3rd Qu.:     73.0   3rd Qu.:   109  \n",
       " Max.   :1143468   Max.   :835053.0   Max.   :2533146.0   Max.   :784667  \n",
       "                                                                          \n",
       " GTEX.15FZZ.0426  GTEX.15G19.1026   GTEX.15RIF.0126   GTEX.15RJE.2426  \n",
       " Min.   :     0   Min.   :      0   Min.   :      0   Min.   :      0  \n",
       " 1st Qu.:     0   1st Qu.:      0   1st Qu.:      0   1st Qu.:      0  \n",
       " Median :     2   Median :      2   Median :      1   Median :      1  \n",
       " Mean   :  1479   Mean   :   1280   Mean   :   1407   Mean   :   1382  \n",
       " 3rd Qu.:   116   3rd Qu.:    161   3rd Qu.:     98   3rd Qu.:    100  \n",
       " Max.   :882735   Max.   :1113312   Max.   :1151341   Max.   :1101769  \n",
       "                                                                       \n",
       " GTEX.15SHU.1226   GTEX.15SHV.0826   GTEX.15UF6.0226  GTEX.16XZZ.1426  \n",
       " Min.   :      0   Min.   :      0   Min.   :     0   Min.   :      0  \n",
       " 1st Qu.:      0   1st Qu.:      0   1st Qu.:     0   1st Qu.:      0  \n",
       " Median :      1   Median :      1   Median :     2   Median :      1  \n",
       " Mean   :   1686   Mean   :   1360   Mean   :  1095   Mean   :   1302  \n",
       " 3rd Qu.:    109   3rd Qu.:     99   3rd Qu.:   127   3rd Qu.:     95  \n",
       " Max.   :1390169   Max.   :2080221   Max.   :552309   Max.   :1071808  \n",
       "                                                                       \n",
       " GTEX.17EVP.0926  GTEX.17EVQ.1626  GTEX.17F96.1126    GTEX.17F98.0726 \n",
       " Min.   :     0   Min.   :     0   Min.   :     0.0   Min.   :     0  \n",
       " 1st Qu.:     0   1st Qu.:     0   1st Qu.:     0.0   1st Qu.:     0  \n",
       " Median :     0   Median :     1   Median :     0.0   Median :     1  \n",
       " Mean   :   664   Mean   :   844   Mean   :   799.3   Mean   :  1080  \n",
       " 3rd Qu.:    66   3rd Qu.:    95   3rd Qu.:    61.0   3rd Qu.:    91  \n",
       " Max.   :322616   Max.   :612333   Max.   :700472.0   Max.   :704372  \n",
       "                                                                      \n",
       " GTEX.17GQL.2326   GTEX.17HII.1826   GTEX.17KNJ.0526  GTEX.17MF6.1026    \n",
       " Min.   :      0   Min.   :      0   Min.   :     0   Min.   :      0.0  \n",
       " 1st Qu.:      0   1st Qu.:      0   1st Qu.:     0   1st Qu.:      0.0  \n",
       " Median :      2   Median :      1   Median :     1   Median :      1.0  \n",
       " Mean   :   1313   Mean   :   1286   Mean   :  1066   Mean   :    830.7  \n",
       " 3rd Qu.:    170   3rd Qu.:    105   3rd Qu.:    89   3rd Qu.:     78.0  \n",
       " Max.   :1293974   Max.   :1292437   Max.   :769756   Max.   :1731740.0  \n",
       "                                                                         \n",
       " GTEX.18465.1026  GTEX.18A66.1326    GTEX.18A67.0926   GTEX.18A6Q.1426 \n",
       " Min.   :     0   Min.   :     0.0   Min.   :      0   Min.   :     0  \n",
       " 1st Qu.:     0   1st Qu.:     0.0   1st Qu.:      0   1st Qu.:     0  \n",
       " Median :     1   Median :     1.0   Median :      1   Median :     2  \n",
       " Mean   :  1160   Mean   :   936.2   Mean   :   1247   Mean   :  1062  \n",
       " 3rd Qu.:   112   3rd Qu.:    76.0   3rd Qu.:    103   3rd Qu.:   115  \n",
       " Max.   :811560   Max.   :754952.0   Max.   :1061613   Max.   :773594  \n",
       "                                                                       \n",
       " GTEX.18A7A.1426    GTEX.18D9U.1326    GTEX.1A3MV.0426   GTEX.1AMEY.0726 \n",
       " Min.   :     0.0   Min.   :     0.0   Min.   :      0   Min.   :     0  \n",
       " 1st Qu.:     0.0   1st Qu.:     0.0   1st Qu.:      0   1st Qu.:     0  \n",
       " Median :     0.0   Median :     0.0   Median :      1   Median :     0  \n",
       " Mean   :   978.6   Mean   :   937.6   Mean   :   1015   Mean   :  1135  \n",
       " 3rd Qu.:    69.0   3rd Qu.:    75.0   3rd Qu.:     76   3rd Qu.:    85  \n",
       " Max.   :740872.0   Max.   :772241.0   Max.   :1414582   Max.   :837742  \n",
       "                                                                         \n",
       " GTEX.1AMFI.0426    GTEX.1AX8Z.1226  GTEX.1AX9I.1226    GTEX.1AX9J.0726  \n",
       " Min.   :     0.0   Min.   :     0   Min.   :     0.0   Min.   :      0  \n",
       " 1st Qu.:     0.0   1st Qu.:     0   1st Qu.:     0.0   1st Qu.:      0  \n",
       " Median :     0.0   Median :     1   Median :     1.0   Median :      1  \n",
       " Mean   :   865.3   Mean   :  1019   Mean   :   773.3   Mean   :   1236  \n",
       " 3rd Qu.:    63.0   3rd Qu.:   103   3rd Qu.:    73.0   3rd Qu.:     83  \n",
       " Max.   :842437.0   Max.   :985405   Max.   :393332.0   Max.   :1046354  \n",
       "                                                                         \n",
       " GTEX.1AX9K.0726  GTEX.1AYCT.0326   GTEX.1AYD5.0726   GTEX.1B8KE.0226 \n",
       " Min.   :     0   Min.   :      0   Min.   :      0   Min.   :     0  \n",
       " 1st Qu.:     0   1st Qu.:      0   1st Qu.:      0   1st Qu.:     0  \n",
       " Median :     2   Median :      1   Median :      2   Median :     0  \n",
       " Mean   :  1045   Mean   :   1465   Mean   :   1210   Mean   :   889  \n",
       " 3rd Qu.:   122   3rd Qu.:     95   3rd Qu.:    102   3rd Qu.:    74  \n",
       " Max.   :809272   Max.   :1122883   Max.   :1391035   Max.   :493649  \n",
       "                                                                      \n",
       " GTEX.1B8L1.0226   GTEX.1B8SG.0626    GTEX.1B933.1126  GTEX.1B97J.0526   \n",
       " Min.   :      0   Min.   :     0.0   Min.   :     0   Min.   :     0.0  \n",
       " 1st Qu.:      0   1st Qu.:     0.0   1st Qu.:     0   1st Qu.:     0.0  \n",
       " Median :      1   Median :     1.0   Median :     1   Median :     1.0  \n",
       " Mean   :   1724   Mean   :   805.7   Mean   :  1064   Mean   :   976.9  \n",
       " 3rd Qu.:    107   3rd Qu.:    81.0   3rd Qu.:   101   3rd Qu.:    94.0  \n",
       " Max.   :1035872   Max.   :522685.0   Max.   :848858   Max.   :526107.0  \n",
       "                                                                         \n",
       " GTEX.1BAJH.1126   GTEX.1C2JI.0426    GTEX.1C4CL.1226   GTEX.1C64O.1026  \n",
       " Min.   :      0   Min.   :     0.0   Min.   :      0   Min.   :      0  \n",
       " 1st Qu.:      0   1st Qu.:     0.0   1st Qu.:      0   1st Qu.:      0  \n",
       " Median :      2   Median :     0.0   Median :      1   Median :      1  \n",
       " Mean   :   1315   Mean   :   879.9   Mean   :   1305   Mean   :   1519  \n",
       " 3rd Qu.:    118   3rd Qu.:    76.0   3rd Qu.:     98   3rd Qu.:    111  \n",
       " Max.   :1230173   Max.   :620317.0   Max.   :2755026   Max.   :1730777  \n",
       "                                                                         \n",
       " GTEX.1C6VQ.1326    GTEX.1CAMS.1026   GTEX.1CB4E.0426   GTEX.1CB4G.1126   \n",
       " Min.   :     0.0   Min.   :      0   Min.   :      0   Min.   :     0.0  \n",
       " 1st Qu.:     0.0   1st Qu.:      0   1st Qu.:      0   1st Qu.:     0.0  \n",
       " Median :     1.0   Median :      2   Median :      1   Median :     1.0  \n",
       " Mean   :   712.2   Mean   :   1551   Mean   :   1467   Mean   :   889.4  \n",
       " 3rd Qu.:    61.0   3rd Qu.:    128   3rd Qu.:     90   3rd Qu.:    86.0  \n",
       " Max.   :594378.0   Max.   :1528391   Max.   :1331363   Max.   :649643.0  \n",
       "                                                                          \n",
       " GTEX.1CB4I.1826    GTEX.1CB4J.0126  GTEX.1E1VI.1226  GTEX.1EKGG.0826   \n",
       " Min.   :     0.0   Min.   :     0   Min.   :     0   Min.   :     0.0  \n",
       " 1st Qu.:     0.0   1st Qu.:     0   1st Qu.:     0   1st Qu.:     0.0  \n",
       " Median :     0.0   Median :     1   Median :     1   Median :     1.0  \n",
       " Mean   :   838.3   Mean   :  1220   Mean   :  1217   Mean   :   773.3  \n",
       " 3rd Qu.:    71.0   3rd Qu.:    81   3rd Qu.:   104   3rd Qu.:    60.0  \n",
       " Max.   :615434.0   Max.   :934168   Max.   :974066   Max.   :649722.0  \n",
       "                                                                        \n",
       " GTEX.1EMGI.0926  GTEX.1EN7A.1126    GTEX.1EU9M.1726    GTEX.1EWIQ.1026   \n",
       " Min.   :     0   Min.   :     0.0   Min.   :     0.0   Min.   :     0.0  \n",
       " 1st Qu.:     0   1st Qu.:     0.0   1st Qu.:     0.0   1st Qu.:     0.0  \n",
       " Median :     1   Median :     1.0   Median :     1.0   Median :     2.0  \n",
       " Mean   :   938   Mean   :   999.9   Mean   :   755.5   Mean   :   765.1  \n",
       " 3rd Qu.:    97   3rd Qu.:   118.0   3rd Qu.:    74.0   3rd Qu.:    97.0  \n",
       " Max.   :692102   Max.   :481819.0   Max.   :561387.0   Max.   :456261.0  \n",
       "                                                                          \n",
       " GTEX.1EX96.2726    GTEX.1F48J.1326   GTEX.1F5PK.0626  GTEX.1F75I.1226  \n",
       " Min.   :     0.0   Min.   :      0   Min.   :     0   Min.   :      0  \n",
       " 1st Qu.:     0.0   1st Qu.:      0   1st Qu.:     0   1st Qu.:      0  \n",
       " Median :     2.0   Median :      1   Median :     2   Median :      1  \n",
       " Mean   :   869.1   Mean   :   1389   Mean   :  1275   Mean   :   1587  \n",
       " 3rd Qu.:   100.0   3rd Qu.:    119   3rd Qu.:   111   3rd Qu.:    104  \n",
       " Max.   :597867.0   Max.   :1120373   Max.   :828606   Max.   :1543305  \n",
       "                                                                        \n",
       " GTEX.1F7RK.1326    GTEX.1F88F.0226    GTEX.1GF9U.0326  GTEX.1GF9V.1526 \n",
       " Min.   :     0.0   Min.   :     0.0   Min.   :     0   Min.   :     0  \n",
       " 1st Qu.:     0.0   1st Qu.:     0.0   1st Qu.:     0   1st Qu.:     0  \n",
       " Median :     2.0   Median :     0.0   Median :     2   Median :     1  \n",
       " Mean   :  1325.3   Mean   :   721.4   Mean   :  1062   Mean   :  1132  \n",
       " 3rd Qu.:   159.2   3rd Qu.:    52.0   3rd Qu.:   120   3rd Qu.:    97  \n",
       " Max.   :637913.0   Max.   :688898.0   Max.   :665098   Max.   :738241  \n",
       "                                                                        \n",
       " GTEX.1GF9W.1926   GTEX.1GL5R.0126  GTEX.1GMR2.1126   GTEX.1GMR3.0526  \n",
       " Min.   :      0   Min.   :     0   Min.   :      0   Min.   :      0  \n",
       " 1st Qu.:      0   1st Qu.:     0   1st Qu.:      0   1st Qu.:      0  \n",
       " Median :      1   Median :     1   Median :      1   Median :      1  \n",
       " Mean   :   1363   Mean   :  1362   Mean   :   1339   Mean   :   1359  \n",
       " 3rd Qu.:     97   3rd Qu.:   107   3rd Qu.:    118   3rd Qu.:     94  \n",
       " Max.   :1232556   Max.   :960339   Max.   :1048110   Max.   :1094676  \n",
       "                                                                       \n",
       " GTEX.1GN1U.1626    GTEX.1GN2E.1126    GTEX.1GN73.2226    GTEX.1GZ4H.0726  \n",
       " Min.   :     0.0   Min.   :     0.0   Min.   :     0.0   Min.   :      0  \n",
       " 1st Qu.:     0.0   1st Qu.:     0.0   1st Qu.:     0.0   1st Qu.:      0  \n",
       " Median :     0.0   Median :     1.0   Median :     1.0   Median :      1  \n",
       " Mean   :   867.6   Mean   :   818.4   Mean   :   899.8   Mean   :   1360  \n",
       " 3rd Qu.:    66.0   3rd Qu.:    71.0   3rd Qu.:    80.0   3rd Qu.:    109  \n",
       " Max.   :909086.0   Max.   :453582.0   Max.   :553382.0   Max.   :1062804  \n",
       "                                                                           \n",
       " GTEX.1GZ4I.1126    GTEX.1GZHY.1626    GTEX.1H1E6.1526   GTEX.1H1ZS.1226  \n",
       " Min.   :     0.0   Min.   :     0.0   Min.   :      0   Min.   :      0  \n",
       " 1st Qu.:     0.0   1st Qu.:     0.0   1st Qu.:      0   1st Qu.:      0  \n",
       " Median :     1.0   Median :     1.0   Median :      0   Median :      1  \n",
       " Mean   :   897.3   Mean   :   946.4   Mean   :   1224   Mean   :   1708  \n",
       " 3rd Qu.:    67.0   3rd Qu.:    93.0   3rd Qu.:     90   3rd Qu.:    134  \n",
       " Max.   :688619.0   Max.   :537267.0   Max.   :1576542   Max.   :1098445  \n",
       "                                                                          \n",
       " GTEX.1H3NZ.1226    GTEX.1H3VY.1026   GTEX.1HB9E.0926  GTEX.1HBPH.1026  \n",
       " Min.   :     0.0   Min.   :      0   Min.   :     0   Min.   :      0  \n",
       " 1st Qu.:     0.0   1st Qu.:      0   1st Qu.:     0   1st Qu.:      0  \n",
       " Median :     0.0   Median :      1   Median :     1   Median :      2  \n",
       " Mean   :   911.4   Mean   :   1013   Mean   :  1042   Mean   :   1341  \n",
       " 3rd Qu.:    74.0   3rd Qu.:     76   3rd Qu.:    89   3rd Qu.:    119  \n",
       " Max.   :562609.0   Max.   :1443518   Max.   :665952   Max.   :1154522  \n",
       "                                                                        \n",
       " GTEX.1HBPI.0126    GTEX.1HBPM.1326  GTEX.1HBPN.1026  GTEX.1HC8U.1126   \n",
       " Min.   :     0.0   Min.   :     0   Min.   :     0   Min.   :     0.0  \n",
       " 1st Qu.:     0.0   1st Qu.:     0   1st Qu.:     0   1st Qu.:     0.0  \n",
       " Median :     1.0   Median :     1   Median :     1   Median :     1.0  \n",
       " Mean   :  1131.7   Mean   :  1111   Mean   :  1277   Mean   :  1028.7  \n",
       " 3rd Qu.:    94.2   3rd Qu.:    96   3rd Qu.:   124   3rd Qu.:    99.2  \n",
       " Max.   :779341.0   Max.   :745262   Max.   :879459   Max.   :735058.0  \n",
       "                                                                        \n",
       " GTEX.1HCU8.0926  GTEX.1HCU9.0526     GTEX.1HCUA.0326   GTEX.1HCVE.1026  \n",
       " Min.   :     0   Min.   :      0.0   Min.   :      0   Min.   :      0  \n",
       " 1st Qu.:     0   1st Qu.:      0.0   1st Qu.:      0   1st Qu.:      0  \n",
       " Median :     1   Median :      2.0   Median :      2   Median :      1  \n",
       " Mean   :  1230   Mean   :   2476.7   Mean   :   2513   Mean   :   1382  \n",
       " 3rd Qu.:   119   3rd Qu.:    173.2   3rd Qu.:    227   3rd Qu.:    103  \n",
       " Max.   :612085   Max.   :2688409.0   Max.   :1682944   Max.   :1363561  \n",
       "                                                                         \n",
       " GTEX.1HFI7.0426  GTEX.1HSGN.1026    GTEX.1HSKV.0626    GTEX.1HSMP.0826  \n",
       " Min.   :     0   Min.   :     0.0   Min.   :     0.0   Min.   :      0  \n",
       " 1st Qu.:     0   1st Qu.:     0.0   1st Qu.:     0.0   1st Qu.:      0  \n",
       " Median :     1   Median :     1.0   Median :     1.0   Median :      1  \n",
       " Mean   :  1480   Mean   :   821.8   Mean   :   824.1   Mean   :   1031  \n",
       " 3rd Qu.:   109   3rd Qu.:    64.0   3rd Qu.:    69.0   3rd Qu.:     82  \n",
       " Max.   :852076   Max.   :869625.0   Max.   :882266.0   Max.   :1608898  \n",
       "                                                                         \n",
       " GTEX.1HSMQ.0326   GTEX.1HT8W.1826    GTEX.1HUB1.0626  GTEX.1I1CD.1226   \n",
       " Min.   :      0   Min.   :     0.0   Min.   :     0   Min.   :     0.0  \n",
       " 1st Qu.:      0   1st Qu.:     0.0   1st Qu.:     0   1st Qu.:     0.0  \n",
       " Median :      2   Median :     1.0   Median :     1   Median :     2.0  \n",
       " Mean   :   1682   Mean   :   950.3   Mean   :  1031   Mean   :   958.6  \n",
       " 3rd Qu.:    152   3rd Qu.:    94.0   3rd Qu.:    91   3rd Qu.:   103.0  \n",
       " Max.   :1261915   Max.   :659704.0   Max.   :839695   Max.   :682962.0  \n",
       "                                                                         \n",
       " GTEX.1I1GP.0926    GTEX.1I1GQ.1526    GTEX.1I1GS.1226  GTEX.1I1GU.0426    \n",
       " Min.   :     0.0   Min.   :     0.0   Min.   :     0   Min.   :      0.0  \n",
       " 1st Qu.:     0.0   1st Qu.:     0.0   1st Qu.:     0   1st Qu.:      0.0  \n",
       " Median :     1.0   Median :     2.0   Median :     1   Median :      0.0  \n",
       " Mean   :   980.8   Mean   :  1169.1   Mean   :  1273   Mean   :    901.9  \n",
       " 3rd Qu.:    89.0   3rd Qu.:   113.2   3rd Qu.:   102   3rd Qu.:     70.2  \n",
       " Max.   :581246.0   Max.   :954962.0   Max.   :739205   Max.   :1072004.0  \n",
       "                                                                           \n",
       " GTEX.1I1HK.0926    GTEX.1I4MK.0626     GTEX.1I6K7.0826     GTEX.1ICLY.1126  \n",
       " Min.   :     0.0   Min.   :      0.0   Min.   :      0.0   Min.   :      0  \n",
       " 1st Qu.:     0.0   1st Qu.:      0.0   1st Qu.:      0.0   1st Qu.:      0  \n",
       " Median :     1.0   Median :      1.0   Median :      1.0   Median :      1  \n",
       " Mean   :   798.7   Mean   :    916.7   Mean   :   1749.5   Mean   :   1266  \n",
       " 3rd Qu.:    89.0   3rd Qu.:     76.0   3rd Qu.:    136.2   3rd Qu.:    107  \n",
       " Max.   :686731.0   Max.   :1357423.0   Max.   :2797194.0   Max.   :1535470  \n",
       "                                                                             \n",
       " GTEX.1IDJC.0426  GTEX.1IDJE.1026   GTEX.1IDJF.0926  GTEX.1IDJU.0526  \n",
       " Min.   :     0   Min.   :      0   Min.   :     0   Min.   :      0  \n",
       " 1st Qu.:     0   1st Qu.:      0   1st Qu.:     0   1st Qu.:      0  \n",
       " Median :     1   Median :      1   Median :     0   Median :      1  \n",
       " Mean   :  1067   Mean   :   1080   Mean   :   824   Mean   :   1623  \n",
       " 3rd Qu.:   110   3rd Qu.:     83   3rd Qu.:    68   3rd Qu.:    138  \n",
       " Max.   :857489   Max.   :1062679   Max.   :830151   Max.   :1580703  \n",
       "                                                                      \n",
       " GTEX.1IKOE.0726   GTEX.1IL2U.1026  GTEX.1J1OQ.2026    GTEX.1J1R8.0826  \n",
       " Min.   :      0   Min.   :     0   Min.   :     0.0   Min.   :      0  \n",
       " 1st Qu.:      0   1st Qu.:     0   1st Qu.:     0.0   1st Qu.:      0  \n",
       " Median :      1   Median :     2   Median :     1.0   Median :      1  \n",
       " Mean   :   1093   Mean   :  1205   Mean   :  1151.7   Mean   :   1452  \n",
       " 3rd Qu.:     77   3rd Qu.:   118   3rd Qu.:   115.2   3rd Qu.:    107  \n",
       " Max.   :1345026   Max.   :861859   Max.   :577661.0   Max.   :1311213  \n",
       "                                                                        \n",
       " GTEX.1J8JJ.0926    GTEX.1J8Q3.1026   GTEX.1J8QM.0126  GTEX.1JJ6O.1826 \n",
       " Min.   :     0.0   Min.   :      0   Min.   :     0   Min.   :     0  \n",
       " 1st Qu.:     0.0   1st Qu.:      0   1st Qu.:     0   1st Qu.:     0  \n",
       " Median :     0.0   Median :      2   Median :     1   Median :     2  \n",
       " Mean   :   790.9   Mean   :   2314   Mean   :  1500   Mean   :  1050  \n",
       " 3rd Qu.:    67.0   3rd Qu.:    177   3rd Qu.:   119   3rd Qu.:   124  \n",
       " Max.   :501123.0   Max.   :3246291   Max.   :775876   Max.   :580694  \n",
       "                                                                       \n",
       " GTEX.1JJEA.0726    GTEX.1JK1U.0426     GTEX.1JKYN.0226    GTEX.1JMOU.0126   \n",
       " Min.   :     0.0   Min.   :      0.0   Min.   :     0.0   Min.   :     0.0  \n",
       " 1st Qu.:     0.0   1st Qu.:      0.0   1st Qu.:     0.0   1st Qu.:     0.0  \n",
       " Median :     1.0   Median :      1.0   Median :     0.0   Median :     1.0  \n",
       " Mean   :   730.9   Mean   :   1246.4   Mean   :   826.5   Mean   :   878.5  \n",
       " 3rd Qu.:    95.0   3rd Qu.:     95.2   3rd Qu.:    64.0   3rd Qu.:   102.0  \n",
       " Max.   :447619.0   Max.   :1682649.0   Max.   :752672.0   Max.   :529104.0  \n",
       "                                                                             \n",
       " GTEX.1JMQI.0226    GTEX.1JMQJ.2426  GTEX.1K2DA.0926   GTEX.1K2DU.1326    \n",
       " Min.   :     0.0   Min.   :     0   Min.   :      0   Min.   :      0.0  \n",
       " 1st Qu.:     0.0   1st Qu.:     0   1st Qu.:      0   1st Qu.:      0.0  \n",
       " Median :     1.0   Median :     1   Median :      2   Median :      1.0  \n",
       " Mean   :   834.1   Mean   :  1146   Mean   :   3004   Mean   :    942.1  \n",
       " 3rd Qu.:    87.0   3rd Qu.:   104   3rd Qu.:    217   3rd Qu.:     78.0  \n",
       " Max.   :724041.0   Max.   :644573   Max.   :2659276   Max.   :1381819.0  \n",
       "                                                                          \n",
       " GTEX.1K9T9.1326  GTEX.1KANC.0326   GTEX.1KD5A.0826    GTEX.1KXAM.1226  \n",
       " Min.   :     0   Min.   :      0   Min.   :     0.0   Min.   :      0  \n",
       " 1st Qu.:     0   1st Qu.:      0   1st Qu.:     0.0   1st Qu.:      0  \n",
       " Median :     1   Median :      1   Median :     1.0   Median :      1  \n",
       " Mean   :  1387   Mean   :   1392   Mean   :   952.9   Mean   :   1358  \n",
       " 3rd Qu.:   131   3rd Qu.:    119   3rd Qu.:   109.0   3rd Qu.:    108  \n",
       " Max.   :790242   Max.   :1119038   Max.   :748013.0   Max.   :1915706  \n",
       "                                                                        \n",
       " GTEX.1L5NE.0326   GTEX.1LB8K.1126  GTEX.1LG7Y.1326  GTEX.1LG7Z.0626  \n",
       " Min.   :      0   Min.   :     0   Min.   :     0   Min.   :      0  \n",
       " 1st Qu.:      0   1st Qu.:     0   1st Qu.:     0   1st Qu.:      0  \n",
       " Median :      0   Median :     1   Median :     2   Median :      1  \n",
       " Mean   :   1131   Mean   :  1261   Mean   :  1032   Mean   :   1289  \n",
       " 3rd Qu.:     89   3rd Qu.:    98   3rd Qu.:   120   3rd Qu.:    107  \n",
       " Max.   :1464535   Max.   :963465   Max.   :421081   Max.   :2089565  \n",
       "                                                                      \n",
       " GTEX.1LGRB.0726   GTEX.1LKK1.1126  GTEX.1LNCM.0326   GTEX.1LVAN.1426 \n",
       " Min.   :      0   Min.   :     0   Min.   :      0   Min.   :     0  \n",
       " 1st Qu.:      0   1st Qu.:     0   1st Qu.:      0   1st Qu.:     0  \n",
       " Median :      1   Median :     1   Median :      1   Median :     1  \n",
       " Mean   :   1340   Mean   :  1208   Mean   :   1347   Mean   :  1050  \n",
       " 3rd Qu.:     86   3rd Qu.:   106   3rd Qu.:    101   3rd Qu.:   103  \n",
       " Max.   :1752388   Max.   :786732   Max.   :1683844   Max.   :679441  \n",
       "                                                                      \n",
       " GTEX.1LVAO.0826   GTEX.1MCC2.0426  GTEX.1MCYP.0426   GTEX.1MGNQ.0626  \n",
       " Min.   :      0   Min.   :     0   Min.   :      0   Min.   :      0  \n",
       " 1st Qu.:      0   1st Qu.:     0   1st Qu.:      0   1st Qu.:      0  \n",
       " Median :      0   Median :     1   Median :      0   Median :      0  \n",
       " Mean   :   1100   Mean   :  1426   Mean   :   1487   Mean   :   1122  \n",
       " 3rd Qu.:     89   3rd Qu.:   104   3rd Qu.:    102   3rd Qu.:     81  \n",
       " Max.   :1096510   Max.   :930675   Max.   :1057857   Max.   :1439718  \n",
       "                                                                       \n",
       " GTEX.1NSGN.1126    GTEX.1PDJ9.0926   GTEX.1PFEY.0526   GTEX.1POEN.1026 \n",
       " Min.   :     0.0   Min.   :      0   Min.   :      0   Min.   :     0  \n",
       " 1st Qu.:     0.0   1st Qu.:      0   1st Qu.:      0   1st Qu.:     0  \n",
       " Median :     0.0   Median :      1   Median :      1   Median :     1  \n",
       " Mean   :   889.8   Mean   :   1595   Mean   :   1826   Mean   :  1261  \n",
       " 3rd Qu.:    73.0   3rd Qu.:    125   3rd Qu.:    119   3rd Qu.:   132  \n",
       " Max.   :939184.0   Max.   :1644258   Max.   :1996485   Max.   :727626  \n",
       "                                                                        \n",
       " GTEX.1QAET.0526  GTEX.1QP29.0226   GTEX.1QP2A.0826   GTEX.1QP66.1126  \n",
       " Min.   :     0   Min.   :      0   Min.   :      0   Min.   :      0  \n",
       " 1st Qu.:     0   1st Qu.:      0   1st Qu.:      0   1st Qu.:      0  \n",
       " Median :     1   Median :      1   Median :      0   Median :      1  \n",
       " Mean   :  1053   Mean   :   1535   Mean   :   1196   Mean   :   1416  \n",
       " 3rd Qu.:   100   3rd Qu.:    107   3rd Qu.:     81   3rd Qu.:    115  \n",
       " Max.   :807121   Max.   :1648563   Max.   :1299653   Max.   :1193712  \n",
       "                                                                       \n",
       " GTEX.1QP9N.0226   GTEX.1QPFJ.0726   GTEX.1QW4Y.0326  GTEX.1R46S.0726 \n",
       " Min.   :      0   Min.   :      0   Min.   :     0   Min.   :     0  \n",
       " 1st Qu.:      0   1st Qu.:      0   1st Qu.:     0   1st Qu.:     0  \n",
       " Median :      0   Median :      1   Median :     1   Median :     1  \n",
       " Mean   :   1265   Mean   :   1480   Mean   :  1265   Mean   :  1162  \n",
       " 3rd Qu.:     87   3rd Qu.:    106   3rd Qu.:   138   3rd Qu.:   120  \n",
       " Max.   :1101698   Max.   :1002668   Max.   :937595   Max.   :987788  \n",
       "                                                                      \n",
       " GTEX.1R9JW.0726   GTEX.1R9K5.1426     GTEX.1R9PM.0326     GTEX.1R9PN.0226 \n",
       " Min.   :      0   Min.   :      0.0   Min.   :      0.0   Min.   :     0  \n",
       " 1st Qu.:      0   1st Qu.:      0.0   1st Qu.:      0.0   1st Qu.:     0  \n",
       " Median :      1   Median :      1.0   Median :      0.0   Median :     1  \n",
       " Mean   :   1178   Mean   :   1237.2   Mean   :    989.2   Mean   :  1200  \n",
       " 3rd Qu.:    109   3rd Qu.:    107.2   3rd Qu.:     81.0   3rd Qu.:   113  \n",
       " Max.   :1070466   Max.   :1068299.0   Max.   :1148456.0   Max.   :837092  \n",
       "                                                                           \n",
       " GTEX.1R9PO.0226   GTEX.1RAZA.1126   GTEX.1RAZR.0626  GTEX.1RNTQ.0726 \n",
       " Min.   :      0   Min.   :      0   Min.   :     0   Min.   :     0  \n",
       " 1st Qu.:      0   1st Qu.:      0   1st Qu.:     0   1st Qu.:     0  \n",
       " Median :      0   Median :      1   Median :     0   Median :     1  \n",
       " Mean   :   1054   Mean   :   1450   Mean   :  1197   Mean   :  1339  \n",
       " 3rd Qu.:     92   3rd Qu.:    113   3rd Qu.:    78   3rd Qu.:   103  \n",
       " Max.   :1077610   Max.   :1095919   Max.   :948718   Max.   :656550  \n",
       "                                                                      \n",
       " GTEX.1RQED.1126    GTEX.1S3DN.0626   GTEX.1S5ZA.1126  \n",
       " Min.   :     0.0   Min.   :      0   Min.   :      0  \n",
       " 1st Qu.:     0.0   1st Qu.:      0   1st Qu.:      0  \n",
       " Median :     1.0   Median :      0   Median :      1  \n",
       " Mean   :   922.4   Mean   :   1013   Mean   :   1456  \n",
       " 3rd Qu.:    94.0   3rd Qu.:     78   3rd Qu.:    110  \n",
       " Max.   :530923.0   Max.   :1358195   Max.   :1409124  \n",
       "                                                       "
      ]
     },
     "metadata": {},
     "output_type": "display_data"
    }
   ],
   "source": [
    "summary(RNA_read_counts_data)"
   ]
  },
  {
   "cell_type": "markdown",
   "id": "010a6b87-f776-4fa1-9fb3-6f46087daeed",
   "metadata": {},
   "source": [
    "### 1.3 Morphological data"
   ]
  },
  {
   "cell_type": "code",
   "execution_count": null,
   "id": "32e190cf-077a-4a26-96c5-1bf74f1eb261",
   "metadata": {},
   "outputs": [],
   "source": []
  },
  {
   "cell_type": "code",
   "execution_count": null,
   "id": "814465cb-5137-433f-9dc5-b1e4c66b5575",
   "metadata": {},
   "outputs": [],
   "source": []
  }
 ],
 "metadata": {
  "kernelspec": {
   "display_name": "R",
   "language": "R",
   "name": "ir"
  },
  "language_info": {
   "codemirror_mode": "r",
   "file_extension": ".r",
   "mimetype": "text/x-r-source",
   "name": "R",
   "pygments_lexer": "r",
   "version": "4.3.3"
  }
 },
 "nbformat": 4,
 "nbformat_minor": 5
}
