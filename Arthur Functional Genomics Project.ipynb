{
 "cells": [
  {
   "cell_type": "markdown",
   "id": "bb93dc97-dabf-4b42-a753-1229249b757e",
   "metadata": {},
   "source": [
    "# BINF-F401 - Computational Methods for Functional Genomics"
   ]
  },
  {
   "cell_type": "markdown",
   "id": "da8017eb-2f51-4e5d-b29a-3bf0430fc3cc",
   "metadata": {},
   "source": [
    "## Question 1. Exploration of clinical variables"
   ]
  },
  {
   "cell_type": "markdown",
   "id": "d29ea1d9-2407-4f85-8d6d-076157388e01",
   "metadata": {},
   "source": [
    "### 1.1 Explore and preprocess the clinical data set"
   ]
  },
  {
   "cell_type": "code",
   "execution_count": 3,
   "id": "5fca3276",
   "metadata": {},
   "outputs": [
    {
     "data": {
      "text/html": [
       "<table class=\"dataframe\">\n",
       "<caption>A data.frame: 3 × 14</caption>\n",
       "<thead>\n",
       "\t<tr><th></th><th scope=col>SMPLID</th><th scope=col>SUBJID</th><th scope=col>COHORT</th><th scope=col>SEX</th><th scope=col>AGE</th><th scope=col>HGHT</th><th scope=col>WGHT</th><th scope=col>BMI</th><th scope=col>SMPTHNTS</th><th scope=col>TRISCHD</th><th scope=col>DTHVNT</th><th scope=col>DTHHRDY</th><th scope=col>SMPLID.1</th><th scope=col>IMGURL</th></tr>\n",
       "\t<tr><th></th><th scope=col>&lt;chr&gt;</th><th scope=col>&lt;chr&gt;</th><th scope=col>&lt;chr&gt;</th><th scope=col>&lt;int&gt;</th><th scope=col>&lt;int&gt;</th><th scope=col>&lt;dbl&gt;</th><th scope=col>&lt;dbl&gt;</th><th scope=col>&lt;dbl&gt;</th><th scope=col>&lt;chr&gt;</th><th scope=col>&lt;int&gt;</th><th scope=col>&lt;int&gt;</th><th scope=col>&lt;int&gt;</th><th scope=col>&lt;chr&gt;</th><th scope=col>&lt;chr&gt;</th></tr>\n",
       "</thead>\n",
       "<tbody>\n",
       "\t<tr><th scope=row>1</th><td>GTEX.111YS.0526</td><td>GTEX.111YS</td><td>Organ Donor (OPO)</td><td>1</td><td>62</td><td>72</td><td>227</td><td>30.78</td><td>NO_REPORT</td><td> 74</td><td>1</td><td>0</td><td>GTEX-111YS-0525</td><td>https://brd.nci.nih.gov/brd/specimen/GTEX-111YS-0526</td></tr>\n",
       "\t<tr><th scope=row>2</th><td>GTEX.1122O.1126</td><td>GTEX.1122O</td><td>Organ Donor (OPO)</td><td>2</td><td>64</td><td>66</td><td>203</td><td>32.76</td><td>NO_REPORT</td><td> 35</td><td>1</td><td>0</td><td>GTEX-1122O-1125</td><td>https://brd.nci.nih.gov/brd/specimen/GTEX-1122O-1126</td></tr>\n",
       "\t<tr><th scope=row>3</th><td>GTEX.1128S.0326</td><td>GTEX.1128S</td><td>Postmortem       </td><td>2</td><td>66</td><td>66</td><td>160</td><td>25.82</td><td>NO_REPORT</td><td>816</td><td>0</td><td>2</td><td>GTEX-1128S-0325</td><td>https://brd.nci.nih.gov/brd/specimen/GTEX-1128S-0326</td></tr>\n",
       "</tbody>\n",
       "</table>\n"
      ],
      "text/latex": [
       "A data.frame: 3 × 14\n",
       "\\begin{tabular}{r|llllllllllllll}\n",
       "  & SMPLID & SUBJID & COHORT & SEX & AGE & HGHT & WGHT & BMI & SMPTHNTS & TRISCHD & DTHVNT & DTHHRDY & SMPLID.1 & IMGURL\\\\\n",
       "  & <chr> & <chr> & <chr> & <int> & <int> & <dbl> & <dbl> & <dbl> & <chr> & <int> & <int> & <int> & <chr> & <chr>\\\\\n",
       "\\hline\n",
       "\t1 & GTEX.111YS.0526 & GTEX.111YS & Organ Donor (OPO) & 1 & 62 & 72 & 227 & 30.78 & NO\\_REPORT &  74 & 1 & 0 & GTEX-111YS-0525 & https://brd.nci.nih.gov/brd/specimen/GTEX-111YS-0526\\\\\n",
       "\t2 & GTEX.1122O.1126 & GTEX.1122O & Organ Donor (OPO) & 2 & 64 & 66 & 203 & 32.76 & NO\\_REPORT &  35 & 1 & 0 & GTEX-1122O-1125 & https://brd.nci.nih.gov/brd/specimen/GTEX-1122O-1126\\\\\n",
       "\t3 & GTEX.1128S.0326 & GTEX.1128S & Postmortem        & 2 & 66 & 66 & 160 & 25.82 & NO\\_REPORT & 816 & 0 & 2 & GTEX-1128S-0325 & https://brd.nci.nih.gov/brd/specimen/GTEX-1128S-0326\\\\\n",
       "\\end{tabular}\n"
      ],
      "text/markdown": [
       "\n",
       "A data.frame: 3 × 14\n",
       "\n",
       "| <!--/--> | SMPLID &lt;chr&gt; | SUBJID &lt;chr&gt; | COHORT &lt;chr&gt; | SEX &lt;int&gt; | AGE &lt;int&gt; | HGHT &lt;dbl&gt; | WGHT &lt;dbl&gt; | BMI &lt;dbl&gt; | SMPTHNTS &lt;chr&gt; | TRISCHD &lt;int&gt; | DTHVNT &lt;int&gt; | DTHHRDY &lt;int&gt; | SMPLID.1 &lt;chr&gt; | IMGURL &lt;chr&gt; |\n",
       "|---|---|---|---|---|---|---|---|---|---|---|---|---|---|---|\n",
       "| 1 | GTEX.111YS.0526 | GTEX.111YS | Organ Donor (OPO) | 1 | 62 | 72 | 227 | 30.78 | NO_REPORT |  74 | 1 | 0 | GTEX-111YS-0525 | https://brd.nci.nih.gov/brd/specimen/GTEX-111YS-0526 |\n",
       "| 2 | GTEX.1122O.1126 | GTEX.1122O | Organ Donor (OPO) | 2 | 64 | 66 | 203 | 32.76 | NO_REPORT |  35 | 1 | 0 | GTEX-1122O-1125 | https://brd.nci.nih.gov/brd/specimen/GTEX-1122O-1126 |\n",
       "| 3 | GTEX.1128S.0326 | GTEX.1128S | Postmortem        | 2 | 66 | 66 | 160 | 25.82 | NO_REPORT | 816 | 0 | 2 | GTEX-1128S-0325 | https://brd.nci.nih.gov/brd/specimen/GTEX-1128S-0326 |\n",
       "\n"
      ],
      "text/plain": [
       "  SMPLID          SUBJID     COHORT            SEX AGE HGHT WGHT BMI  \n",
       "1 GTEX.111YS.0526 GTEX.111YS Organ Donor (OPO) 1   62  72   227  30.78\n",
       "2 GTEX.1122O.1126 GTEX.1122O Organ Donor (OPO) 2   64  66   203  32.76\n",
       "3 GTEX.1128S.0326 GTEX.1128S Postmortem        2   66  66   160  25.82\n",
       "  SMPTHNTS  TRISCHD DTHVNT DTHHRDY SMPLID.1       \n",
       "1 NO_REPORT  74     1      0       GTEX-111YS-0525\n",
       "2 NO_REPORT  35     1      0       GTEX-1122O-1125\n",
       "3 NO_REPORT 816     0      2       GTEX-1128S-0325\n",
       "  IMGURL                                              \n",
       "1 https://brd.nci.nih.gov/brd/specimen/GTEX-111YS-0526\n",
       "2 https://brd.nci.nih.gov/brd/specimen/GTEX-1122O-1126\n",
       "3 https://brd.nci.nih.gov/brd/specimen/GTEX-1128S-0326"
      ]
     },
     "metadata": {},
     "output_type": "display_data"
    }
   ],
   "source": [
    "# Read the TSV file into a data frame\n",
    "clinical_data <- read.table(\"clinical_data.tsv\", header = TRUE, sep = \"\\t\")\n",
    "\n",
    "# Display the first few rows of the data frame to verify it was read correctly\n",
    "head(clinical_data, 3)"
   ]
  },
  {
   "cell_type": "code",
   "execution_count": 24,
   "id": "a1ddc68d-8a80-4a6b-b0ba-10a58d4076ce",
   "metadata": {
    "scrolled": true
   },
   "outputs": [
    {
     "data": {
      "text/plain": [
       "    SMPLID             SUBJID             COHORT               SEX       \n",
       " Length:280         Length:280         Length:280         Min.   :1.000  \n",
       " Class :character   Class :character   Class :character   1st Qu.:1.000  \n",
       " Mode  :character   Mode  :character   Mode  :character   Median :1.000  \n",
       "                                                          Mean   :1.357  \n",
       "                                                          3rd Qu.:2.000  \n",
       "                                                          Max.   :2.000  \n",
       "      AGE             HGHT            WGHT            BMI       \n",
       " Min.   :21.00   Min.   :58.00   Min.   : 92.0   Min.   :18.58  \n",
       " 1st Qu.:48.00   1st Qu.:65.00   1st Qu.:155.8   1st Qu.:24.33  \n",
       " Median :56.00   Median :68.00   Median :176.4   Median :27.29  \n",
       " Mean   :53.64   Mean   :67.85   Mean   :179.7   Mean   :27.35  \n",
       " 3rd Qu.:64.00   3rd Qu.:71.00   3rd Qu.:202.9   3rd Qu.:30.67  \n",
       " Max.   :70.00   Max.   :77.00   Max.   :273.8   Max.   :34.99  \n",
       "   SMPTHNTS            TRISCHD            DTHVNT          DTHHRDY     \n",
       " Length:280         Min.   :  18.00   Min.   : 0.000   Min.   :0.000  \n",
       " Class :character   1st Qu.:  97.25   1st Qu.: 0.000   1st Qu.:0.000  \n",
       " Mode  :character   Median : 442.00   Median : 1.000   Median :0.000  \n",
       "                    Mean   : 476.48   Mean   : 1.286   Mean   :1.089  \n",
       "                    3rd Qu.: 762.50   3rd Qu.: 1.000   3rd Qu.:2.000  \n",
       "                    Max.   :1641.00   Max.   :99.000   Max.   :4.000  \n",
       "   SMPLID.1            IMGURL         \n",
       " Length:280         Length:280        \n",
       " Class :character   Class :character  \n",
       " Mode  :character   Mode  :character  \n",
       "                                      \n",
       "                                      \n",
       "                                      "
      ]
     },
     "metadata": {},
     "output_type": "display_data"
    }
   ],
   "source": [
    "summary(clinical_data)"
   ]
  },
  {
   "cell_type": "markdown",
   "id": "1bd96951-5dc5-42f1-be00-d0629a1b5ffb",
   "metadata": {},
   "source": [
    "We need to convert the character variables into factors to use them efficiently. "
   ]
  },
  {
   "cell_type": "code",
   "execution_count": 4,
   "id": "91346840-1a17-46ff-a7b2-65afaf5291f2",
   "metadata": {},
   "outputs": [
    {
     "name": "stderr",
     "output_type": "stream",
     "text": [
      "\n",
      "Attachement du package : 'dplyr'\n",
      "\n",
      "\n",
      "Les objets suivants sont masqués depuis 'package:stats':\n",
      "\n",
      "    filter, lag\n",
      "\n",
      "\n",
      "Les objets suivants sont masqués depuis 'package:base':\n",
      "\n",
      "    intersect, setdiff, setequal, union\n",
      "\n",
      "\n"
     ]
    }
   ],
   "source": [
    "library(dplyr)\n",
    "# Convert character columns to factors using dplyr\n",
    "clinical_data <- clinical_data %>%\n",
    "  mutate_if(is.character, as.factor)"
   ]
  },
  {
   "cell_type": "markdown",
   "id": "701a58e1-4aa3-480f-9dd7-5d585315e969",
   "metadata": {},
   "source": [
    "The problem is that some categorical variables are still considered as double (SEX, DTHHRDY and DTHVNT)"
   ]
  },
  {
   "cell_type": "code",
   "execution_count": 5,
   "id": "6fc442e2-0681-4345-8c92-5f64d6c273f1",
   "metadata": {},
   "outputs": [],
   "source": [
    "# Convert SEX, DTHHRDY and DTHVNT to factors\n",
    "clinical_data$SEX <- as.factor(clinical_data$SEX)\n",
    "clinical_data$DTHHRDY <- as.factor(clinical_data$DTHHRDY)\n",
    "clinical_data$DTHVNT <- as.factor(clinical_data$DTHVNT)"
   ]
  },
  {
   "cell_type": "code",
   "execution_count": 28,
   "id": "7aee17d4-ddd0-44c7-89d5-53f0560db03a",
   "metadata": {
    "scrolled": true
   },
   "outputs": [
    {
     "data": {
      "text/plain": [
       "             SMPLID           SUBJID                  COHORT    SEX    \n",
       " GTEX.111YS.0526:  1   GTEX.111YS:  1   Organ Donor (OPO):143   1:180  \n",
       " GTEX.1122O.1126:  1   GTEX.1122O:  1   Postmortem       :137   2:100  \n",
       " GTEX.1128S.0326:  1   GTEX.1128S:  1                                  \n",
       " GTEX.117XS.0426:  1   GTEX.117XS:  1                                  \n",
       " GTEX.117YW.0226:  1   GTEX.117YW:  1                                  \n",
       " GTEX.11DXX.0426:  1   GTEX.11DXX:  1                                  \n",
       " (Other)        :274   (Other)   :274                                  \n",
       "      AGE             HGHT            WGHT            BMI       \n",
       " Min.   :21.00   Min.   :58.00   Min.   : 92.0   Min.   :18.58  \n",
       " 1st Qu.:48.00   1st Qu.:65.00   1st Qu.:155.8   1st Qu.:24.33  \n",
       " Median :56.00   Median :68.00   Median :176.4   Median :27.29  \n",
       " Mean   :53.64   Mean   :67.85   Mean   :179.7   Mean   :27.35  \n",
       " 3rd Qu.:64.00   3rd Qu.:71.00   3rd Qu.:202.9   3rd Qu.:30.67  \n",
       " Max.   :70.00   Max.   :77.00   Max.   :273.8   Max.   :34.99  \n",
       "                                                                \n",
       "      SMPTHNTS      TRISCHD        DTHVNT   DTHHRDY            SMPLID.1  \n",
       " NO_REPORT:280   Min.   :  18.00   0 :116   0:156   GTEX-111YS-0525:  1  \n",
       "                 1st Qu.:  97.25   1 :162   1:  8   GTEX-1122O-1125:  1  \n",
       "                 Median : 442.00   99:  2   2: 77   GTEX-1128S-0325:  1  \n",
       "                 Mean   : 476.48            3: 13   GTEX-117XS-0425:  1  \n",
       "                 3rd Qu.: 762.50            4: 26   GTEX-117YW-0225:  1  \n",
       "                 Max.   :1641.00                    GTEX-11DXX-0425:  1  \n",
       "                                                    (Other)        :274  \n",
       "                                                  IMGURL   \n",
       " https://brd.nci.nih.gov/brd/specimen/GTEX-111YS-0526:  1  \n",
       " https://brd.nci.nih.gov/brd/specimen/GTEX-1122O-1126:  1  \n",
       " https://brd.nci.nih.gov/brd/specimen/GTEX-1128S-0326:  1  \n",
       " https://brd.nci.nih.gov/brd/specimen/GTEX-117XS-0426:  1  \n",
       " https://brd.nci.nih.gov/brd/specimen/GTEX-117YW-0226:  1  \n",
       " https://brd.nci.nih.gov/brd/specimen/GTEX-11DXX-0426:  1  \n",
       " (Other)                                             :274  "
      ]
     },
     "metadata": {},
     "output_type": "display_data"
    }
   ],
   "source": [
    "summary(clinical_data)"
   ]
  },
  {
   "cell_type": "markdown",
   "id": "c21fd5b9-b032-4b16-9c4c-b5a38b4e47e7",
   "metadata": {},
   "source": [
    "We can now see more clearly what each variable represents in the data set. "
   ]
  },
  {
   "cell_type": "markdown",
   "id": "575c08cd-ea8a-4671-ba62-86b08e7e34d7",
   "metadata": {},
   "source": [
    "Here is a brief description of what each variable represents : \n",
    "\n",
    "Clinical variables\n",
    "\n",
    "- `AGE` is the age of the donor\n",
    "- `SEX` is the sex of the donor\n",
    "- `HGHT` is the height of the donor\n",
    "- `WGHT` is the weight of the donor\n",
    "- `BMI` is the Body Mass Index of the donor, which is defined as $\\frac{\\texttt{weight}}{\\texttt{height}^2}$\n",
    "\n",
    "Technical variables\n",
    "\n",
    "- `COHORT` is a type of donor, there is 'Organ donor' and 'Postmortem'\n",
    "- `TRISCHD` is the ischemic time (measured in minutes) and corresponds to the time elapsed bewteen the donor's death and tissue collection\n",
    "- `DTHVNT` indicates whether the subject died under a ventilator or not\n",
    "- `DTHHRDY` is the Hardy scale. It is a number between $0$ and $4$ summarizing the circumstances of death\n",
    "  \n",
    "  * $0=$ death under ventilator\n",
    "  * $1=$ violent and rapid death\n",
    "  * $2=$ rapid death due to natural causes\n",
    "  * $3=$ intermediate death\n",
    "  * $4=$ slow death\n",
    " \n",
    "Miscalleneous\n",
    "\n",
    "- `SUBJID` is the GTEx ID of the subject\n",
    "- `SMPLID` is the GTEx ID of the organ\n",
    "- `SMPLID.1` is another ID for the sample\n",
    "- `SMPTHNTS` is a field indicating the sample's pathology notes taken by the pathologists who examined the histological slice\n",
    "- `IMGURL` is a link to the interactively zoomable high resolution scan of the histological slice\n",
    "\n",
    "In our analyses we will discard all the miscalleneous variables except the `SMPLID` which will serve as names for the rows or columns of matrices of clinical variables. The reason for this is that `SUBJID` only identifies the subject and offers no relevant information, `SMPLID.1` is just another identifier for the samples, but `SMPLID` already serves this purpose, `SMPTHNTS` contains no information at all, as we can see by executing the following command"
   ]
  },
  {
   "cell_type": "code",
   "execution_count": 28,
   "id": "92d6c562-f770-4db4-9a45-d31f0997e537",
   "metadata": {},
   "outputs": [
    {
     "data": {
      "text/html": [
       "FALSE"
      ],
      "text/latex": [
       "FALSE"
      ],
      "text/markdown": [
       "FALSE"
      ],
      "text/plain": [
       "[1] FALSE"
      ]
     },
     "metadata": {},
     "output_type": "display_data"
    }
   ],
   "source": [
    "any(clinical_data$SMPTHNTS!='NO_REPORT')"
   ]
  },
  {
   "cell_type": "markdown",
   "id": "8e73098a-ac6e-4d1d-b083-28f6f35a10b9",
   "metadata": {},
   "source": [
    "and finally `IMGURL` cannot be processed as it is a link to an interactive webpage and not an entity that can be manipulated by the `R` programming language in any meaningful way for our purposes. The relevant information contained in the scans of the histological slices is in fact encoded, in a manner which is amenable to analysis with the tools provided by `R`, in the morphological counts matrix we have been given."
   ]
  },
  {
   "cell_type": "code",
   "execution_count": 6,
   "id": "84c2b826-40e6-4246-9133-f0a8da829d16",
   "metadata": {},
   "outputs": [],
   "source": [
    "# Remove the miscalleneous variables except SMPLID\n",
    "clinical_data$SUBJID <- NULL\n",
    "clinical_data$SMPLID.1 <- NULL\n",
    "clinical_data$SMPTHNTS <- NULL\n",
    "clinical_data$IMGURL <- NULL"
   ]
  },
  {
   "cell_type": "markdown",
   "id": "8ef45b37-063f-4a13-9953-9e80700adfe5",
   "metadata": {},
   "source": [
    "In addition to the miscalleneous variables, we can suspect that the `DTHVNT` variable is redundant since death under ventilator is a category of the Hardy scale. Let's investigate whether we ought to keep the variable or not. Formally, we can check if there is a one-to-one correspondance between the subjects who died under a ventilator according to `DTHVNT` and those whose circumstances of death were registered on the $0$ level of the Hardy scale."
   ]
  },
  {
   "cell_type": "code",
   "execution_count": 30,
   "id": "986832cd-bec7-435a-b602-5013fd190548",
   "metadata": {},
   "outputs": [
    {
     "data": {
      "text/html": [
       "FALSE"
      ],
      "text/latex": [
       "FALSE"
      ],
      "text/markdown": [
       "FALSE"
      ],
      "text/plain": [
       "[1] FALSE"
      ]
     },
     "metadata": {},
     "output_type": "display_data"
    },
    {
     "data": {
      "text/html": [
       "TRUE"
      ],
      "text/latex": [
       "TRUE"
      ],
      "text/markdown": [
       "TRUE"
      ],
      "text/plain": [
       "[1] TRUE"
      ]
     },
     "metadata": {},
     "output_type": "display_data"
    }
   ],
   "source": [
    "#Check whether DTHVNT==1 => DTHHRDY==0\n",
    "!any(clinical_data$DTHVNT==1&clinical_data$DTHHRDY!=0)\n",
    "#Check whether DTHHRDY==0 => DTHVNT==1\n",
    "!any(clinical_data$DTHVNT!=1&clinical_data$DTHHRDY==0)"
   ]
  },
  {
   "cell_type": "markdown",
   "id": "7fcff2fc-5089-473c-81e9-7cbfc8e4c15d",
   "metadata": {},
   "source": [
    "As we can see, although all subjects who were recorded as dying under a ventilator according to the Hardy scale were also recorded as such under `DTHVNH` (so at least the data is consistent in that regard), not all subjects who did in fact die under a ventilator were grouped into the $0$ level of the Hardy scale. Premusably this is because some had circumstances surrounding their death which required grouping them under another level of the scale (e.g. a slow death). Nevertheless we can still check if there is still an almost one-to-one correspondance between the categories `DTHVNT==1` and `DTHHRDY==0`. The way to do this is by drawing a barplot of the relationship between the two categorical variables."
   ]
  },
  {
   "cell_type": "code",
   "execution_count": 31,
   "id": "e6c7d030-27f7-4854-942f-2dd39b9c675b",
   "metadata": {},
   "outputs": [
    {
     "data": {
      "image/png": "[encoded data removed]",
      "text/plain": [
       "plot without title"
      ]
     },
     "metadata": {
      "image/png": {
       "height": 360,
       "width": 360
      }
     },
     "output_type": "display_data"
    }
   ],
   "source": [
    "options(repr.plot.width=6, repr.plot.height=6)\n",
    "barplot(table(clinical_data$DTHVNT, clinical_data$DTHHRDY),legend.text=TRUE)"
   ]
  },
  {
   "cell_type": "markdown",
   "id": "5467e27c-04ae-4bf6-b3c9-35a896059692",
   "metadata": {},
   "source": [
    "We can clearly see that this is indeed the case. Therefore, we can consider the `DTHVNT` variable as largely redundant and discard it from our analysis for the remainder of this project."
   ]
  },
  {
   "cell_type": "code",
   "execution_count": 7,
   "id": "3ea39209-a35d-43cc-a3e9-43654522c20c",
   "metadata": {},
   "outputs": [],
   "source": [
    "# Remove the DTHVNT variable\n",
    "clinical_data$DTHVNT <- NULL"
   ]
  },
  {
   "cell_type": "markdown",
   "id": "1708db70-9c09-416d-829a-f41dc4b15291",
   "metadata": {},
   "source": [
    "We finally get this preprocessed dataset."
   ]
  },
  {
   "cell_type": "code",
   "execution_count": 33,
   "id": "51f4ae16-9d40-40c4-98fd-fb5a2bcdaa49",
   "metadata": {},
   "outputs": [
    {
     "data": {
      "text/plain": [
       "             SMPLID                  COHORT    SEX          AGE       \n",
       " GTEX.111YS.0526:  1   Organ Donor (OPO):143   1:180   Min.   :21.00  \n",
       " GTEX.1122O.1126:  1   Postmortem       :137   2:100   1st Qu.:48.00  \n",
       " GTEX.1128S.0326:  1                                   Median :56.00  \n",
       " GTEX.117XS.0426:  1                                   Mean   :53.64  \n",
       " GTEX.117YW.0226:  1                                   3rd Qu.:64.00  \n",
       " GTEX.11DXX.0426:  1                                   Max.   :70.00  \n",
       " (Other)        :274                                                  \n",
       "      HGHT            WGHT            BMI           TRISCHD        DTHHRDY\n",
       " Min.   :58.00   Min.   : 92.0   Min.   :18.58   Min.   :  18.00   0:156  \n",
       " 1st Qu.:65.00   1st Qu.:155.8   1st Qu.:24.33   1st Qu.:  97.25   1:  8  \n",
       " Median :68.00   Median :176.4   Median :27.29   Median : 442.00   2: 77  \n",
       " Mean   :67.85   Mean   :179.7   Mean   :27.35   Mean   : 476.48   3: 13  \n",
       " 3rd Qu.:71.00   3rd Qu.:202.9   3rd Qu.:30.67   3rd Qu.: 762.50   4: 26  \n",
       " Max.   :77.00   Max.   :273.8   Max.   :34.99   Max.   :1641.00          \n",
       "                                                                          "
      ]
     },
     "metadata": {},
     "output_type": "display_data"
    }
   ],
   "source": [
    "summary(clinical_data)"
   ]
  },
  {
   "cell_type": "markdown",
   "id": "d0bb5f55-08e5-4139-8710-71959267234f",
   "metadata": {},
   "source": [
    "### 1.2 How are clinical variables distributed ?"
   ]
  },
  {
   "cell_type": "markdown",
   "id": "e7288826-c4c1-4649-bad7-d3f0aabd93a7",
   "metadata": {},
   "source": [
    "In order to have a visual representation of the distributions of the clinical variables, we now plot histograms and barplots for all the variables we have determined to be relevant."
   ]
  },
  {
   "cell_type": "code",
   "execution_count": 34,
   "id": "4736f3c1",
   "metadata": {},
   "outputs": [
    {
     "data": {
      "image/png": "[encoded data removed]",
      "text/plain": [
       "Plot with title \"Histogram of BMI\""
      ]
     },
     "metadata": {
      "image/png": {
       "height": 600,
       "width": 900
      }
     },
     "output_type": "display_data"
    }
   ],
   "source": [
    "par(mfrow = c(2, 3)) \n",
    "options(repr.plot.width=15, repr.plot.height=10)\n",
    "\n",
    "# Clinical variables\n",
    "barplot(table(clinical_data$SEX), main=\"Histogram of SEX\", xlab=\"Sex\")\n",
    "hist(clinical_data$AGE, main=\"Histogram of AGE\", xlab=\"Age\")\n",
    "hist(clinical_data$HGHT, main=\"Histogram of HGHT\", xlab=\"Height\")\n",
    "hist(clinical_data$WGHT, main=\"Histogram of WGHT\", xlab=\"Weight\")\n",
    "hist(clinical_data$BMI, main=\"Histogram of BMI\", xlab=\"BMI\")"
   ]
  },
  {
   "cell_type": "markdown",
   "id": "b47f90f3-2586-414d-9d71-eec0c0046c8d",
   "metadata": {},
   "source": [
    "Clinical variables \n",
    "- Distribution of `SEX` : We have 180 males (1) and 100 females (2) in our dataset of 280 samples which is almost twice more males than females.\n",
    "- Distribution of `AGE`: We have a bigger proportion of old patients than younger ones as discussed during the presentation of the project.\n",
    "- Distribution of `HGHT`, `WGHT`, `BMI` : The distribution of these 3 variables is not completly normal because we have 180 men and 100 women in the dataset which shifts the distribution to the right as men are in average taller and heavier than women.   "
   ]
  },
  {
   "cell_type": "code",
   "execution_count": 35,
   "id": "629d9e4b-c06f-4ce8-93f7-ca0d343b20d0",
   "metadata": {},
   "outputs": [
    {
     "data": {
      "image/png": "[encoded data removed]",
      "text/plain": [
       "Plot with title \"Histogram of DTHHRDY\""
      ]
     },
     "metadata": {
      "image/png": {
       "height": 300,
       "width": 900
      }
     },
     "output_type": "display_data"
    }
   ],
   "source": [
    "par(mfrow = c(1, 3)) \n",
    "options(repr.plot.width=15, repr.plot.height=5)\n",
    "# Technical variables\n",
    "barplot(table(clinical_data$COHORT), main=\"Histogram of COHORT\", xlab=\"Cohort\")\n",
    "hist(clinical_data$TRISCHD, main=\"Histogram of TRISCHD\", xlab=\"Ischemic time\")\n",
    "barplot(table(clinical_data$DTHHRDY), main=\"Histogram of DTHHRDY\", xlab = \"Hardy scale\")"
   ]
  },
  {
   "cell_type": "markdown",
   "id": "1fa1323e-9cce-4ff2-b181-e9563afd9144",
   "metadata": {},
   "source": [
    "Technical variables\n",
    "- Distribution of `COHORT` : We almost have an equal repartition of Organ donor (OPO) and Post mortem patients.\n",
    "- Distribution of `TRISCHD` : We can see that we have a large number of people with very small ischemic time and the frequency is more disparate for the other windows of values. We can explain that by looking at the variable COHORT (graph below). As said juste above, we have a quite equal repartition of organ donor and post mortem patients (143 vs 137). The 143 organ donors have the propensity to have lower ischemic time which leads to a large proportion of people with very small ischemic time. In contrast, the ischemic time of post portem patients will be more disparate and spread out across a larger window of ischemic time values.\n",
    "- Distribution of `DTHHRDY` : The highest circumstances frequency of death is from ventilator case (156) followed by fast death of natural causes (77), then by slow death (26), then by intermediate death (13) and finally by violent and fast death (8)"
   ]
  },
  {
   "cell_type": "code",
   "execution_count": 36,
   "id": "b2979ea2-786c-446e-a146-fb299b86533c",
   "metadata": {},
   "outputs": [
    {
     "data": {
      "image/png": "[encoded data removed]",
      "text/plain": [
       "plot without title"
      ]
     },
     "metadata": {
      "image/png": {
       "height": 300,
       "width": 900
      }
     },
     "output_type": "display_data"
    }
   ],
   "source": [
    "library(ggplot2)\n",
    "ggplot(clinical_data, aes(x = TRISCHD, fill = COHORT)) +\n",
    "  geom_histogram(binwidth = 10, alpha = 0.7, position = \"identity\") +\n",
    "  facet_wrap(~ COHORT, scales = \"free_y\") +\n",
    "  labs(title = \"Histogram of Ishemic Time by Cohort\",\n",
    "       x = \"Ishemic Time\",\n",
    "       y = \"Frequency\") +\n",
    "  theme_minimal(base_size = 15)"
   ]
  },
  {
   "cell_type": "markdown",
   "id": "7771b25b-6639-4adf-ac81-ee8369a4da2b",
   "metadata": {},
   "source": [
    "## 1.3 How are clinical variables correlated ?"
   ]
  },
  {
   "cell_type": "markdown",
   "id": "e874d812-e290-4fc1-a8e2-86f372a860a6",
   "metadata": {},
   "source": [
    "Now we will explore the pairwise relationships between each variable. Since there are $8$ variables, this means there are $\\binom{8}{2}=28$ binary relationships to explore. This a lot so we will try to groups the plots together."
   ]
  },
  {
   "cell_type": "markdown",
   "id": "db7af4ad-bd01-4a5d-bd29-b7d7611d007c",
   "metadata": {},
   "source": [
    "### 1.3.1 Correlations between numerical variables"
   ]
  },
  {
   "cell_type": "markdown",
   "id": "5772ed4c-a78d-44ff-9c60-f3675ead80da",
   "metadata": {},
   "source": [
    "We can start by exploring the correlation between the 5 numerical variables. "
   ]
  },
  {
   "cell_type": "code",
   "execution_count": 37,
   "id": "8b0e21d1-6614-4a51-be5a-f56f921463b6",
   "metadata": {},
   "outputs": [
    {
     "data": {
      "text/html": [
       "<table class=\"dataframe\">\n",
       "<caption>A matrix: 5 × 5 of type dbl</caption>\n",
       "<thead>\n",
       "\t<tr><th></th><th scope=col>AGE</th><th scope=col>HGHT</th><th scope=col>WGHT</th><th scope=col>BMI</th><th scope=col>TRISCHD</th></tr>\n",
       "</thead>\n",
       "<tbody>\n",
       "\t<tr><th scope=row>AGE</th><td>1.00000000</td><td> 0.064089264</td><td>0.0973484</td><td> 0.071131909</td><td>0.22927245</td></tr>\n",
       "\t<tr><th scope=row>HGHT</th><td>0.06408926</td><td> 1.000000000</td><td>0.6121418</td><td>-0.006819023</td><td>0.14390524</td></tr>\n",
       "\t<tr><th scope=row>WGHT</th><td>0.09734840</td><td> 0.612141786</td><td>1.0000000</td><td> 0.780945124</td><td>0.11913930</td></tr>\n",
       "\t<tr><th scope=row>BMI</th><td>0.07113191</td><td>-0.006819023</td><td>0.7809451</td><td> 1.000000000</td><td>0.03324977</td></tr>\n",
       "\t<tr><th scope=row>TRISCHD</th><td>0.22927245</td><td> 0.143905243</td><td>0.1191393</td><td> 0.033249770</td><td>1.00000000</td></tr>\n",
       "</tbody>\n",
       "</table>\n"
      ],
      "text/latex": [
       "A matrix: 5 × 5 of type dbl\n",
       "\\begin{tabular}{r|lllll}\n",
       "  & AGE & HGHT & WGHT & BMI & TRISCHD\\\\\n",
       "\\hline\n",
       "\tAGE & 1.00000000 &  0.064089264 & 0.0973484 &  0.071131909 & 0.22927245\\\\\n",
       "\tHGHT & 0.06408926 &  1.000000000 & 0.6121418 & -0.006819023 & 0.14390524\\\\\n",
       "\tWGHT & 0.09734840 &  0.612141786 & 1.0000000 &  0.780945124 & 0.11913930\\\\\n",
       "\tBMI & 0.07113191 & -0.006819023 & 0.7809451 &  1.000000000 & 0.03324977\\\\\n",
       "\tTRISCHD & 0.22927245 &  0.143905243 & 0.1191393 &  0.033249770 & 1.00000000\\\\\n",
       "\\end{tabular}\n"
      ],
      "text/markdown": [
       "\n",
       "A matrix: 5 × 5 of type dbl\n",
       "\n",
       "| <!--/--> | AGE | HGHT | WGHT | BMI | TRISCHD |\n",
       "|---|---|---|---|---|---|\n",
       "| AGE | 1.00000000 |  0.064089264 | 0.0973484 |  0.071131909 | 0.22927245 |\n",
       "| HGHT | 0.06408926 |  1.000000000 | 0.6121418 | -0.006819023 | 0.14390524 |\n",
       "| WGHT | 0.09734840 |  0.612141786 | 1.0000000 |  0.780945124 | 0.11913930 |\n",
       "| BMI | 0.07113191 | -0.006819023 | 0.7809451 |  1.000000000 | 0.03324977 |\n",
       "| TRISCHD | 0.22927245 |  0.143905243 | 0.1191393 |  0.033249770 | 1.00000000 |\n",
       "\n"
      ],
      "text/plain": [
       "        AGE        HGHT         WGHT      BMI          TRISCHD   \n",
       "AGE     1.00000000  0.064089264 0.0973484  0.071131909 0.22927245\n",
       "HGHT    0.06408926  1.000000000 0.6121418 -0.006819023 0.14390524\n",
       "WGHT    0.09734840  0.612141786 1.0000000  0.780945124 0.11913930\n",
       "BMI     0.07113191 -0.006819023 0.7809451  1.000000000 0.03324977\n",
       "TRISCHD 0.22927245  0.143905243 0.1191393  0.033249770 1.00000000"
      ]
     },
     "metadata": {},
     "output_type": "display_data"
    },
    {
     "data": {
      "image/png": "[encoded data removed]",
      "text/plain": [
       "plot without title"
      ]
     },
     "metadata": {
      "image/png": {
       "height": 600,
       "width": 900
      }
     },
     "output_type": "display_data"
    }
   ],
   "source": [
    "options(repr.plot.width=15, repr.plot.height=10)\n",
    "# Pearson correlation between numerical variables\n",
    "cor(clinical_data[c(4:8)])\n",
    "pairs(~ AGE + HGHT + WGHT + BMI + TRISCHD, data=clinical_data, panel=function(x,y){\n",
    "  points(x,y)\n",
    "  linear_regression = lm(y~x)\n",
    "  linear_regression_line = abline(linear_regression)\n",
    "})"
   ]
  },
  {
   "cell_type": "markdown",
   "id": "b035b921-39e3-4f7e-8add-a63345fd1b89",
   "metadata": {},
   "source": [
    "- `AGE` is a little bit positively correlated to `TRISCHD`.\n",
    "- `HGHT` is highly positively correlated to `WGHT` which was expected as taller people have a higher tendency to be heavier. `HGHT` is also a bit positively correlated to `TRISCHD`.\n",
    "- `WGHT` is highly positively correlated to `HGHT` (expected as `HGHT` is highly correlated to `WGHT`) and to `BMI` which is expected as heavier people tend to have a higher `BMI`. `WGHT` is also a little bit positively correlated to `TRISCHD`.\n",
    "- `BMI` is highly positively correlated to `WGHT` but not at all to `TRISCHD`.\n",
    "- As said above, `TRISCHD` is a little bit positively correlated to `AGE`, `HGHT` and `WGHT`. It suggests that older, taller and heavier people will tend to have an ischemic time a little bit higher than normal."
   ]
  },
  {
   "cell_type": "markdown",
   "id": "5e7d8488-d9dc-4e4a-a33b-7f6ceb2be448",
   "metadata": {},
   "source": [
    "### 1.3.2 Correlations between numerical and categorical variables"
   ]
  },
  {
   "cell_type": "markdown",
   "id": "4ce6cdfe-46e4-4937-8f4f-7719e051153b",
   "metadata": {},
   "source": [
    "We want to see if the value of the numerical variables depends somehow on the levels of the categorical variables."
   ]
  },
  {
   "cell_type": "markdown",
   "id": "f79e0eed-91bf-466a-bb7f-901effa9428f",
   "metadata": {},
   "source": [
    "As a reminder, the 5 numerical variables are `AGE`, `HGHT`, `WGHT`, `BMI` and `TRISCHD` and the 3 categorical variables are `SEX`, `COHORT`, `DTHHRDY`."
   ]
  },
  {
   "cell_type": "markdown",
   "id": "0dfadf85-85b8-452c-a1fa-0a9f6f430ffd",
   "metadata": {},
   "source": [
    "We used the non parametric Kruskal-Wallis test to assess the \"correlation\" between the numerical variables and categorical variables. We did not used ANOVA for this purpose because ANOVA requires some conditions of applications (homoscedasticity and normality of the residues) that were not respected. Indeed, the Shapiro-Wilk test, that assesses the normality of the residuals, always returned a pvalue below the alpha treshold of 5% which indicates to reject the null hypothesis of normality. "
   ]
  },
  {
   "cell_type": "markdown",
   "id": "fbceef46-2c26-498a-9d55-d503017ea5b3",
   "metadata": {},
   "source": [
    "#### 1.3.2.1 AGE"
   ]
  },
  {
   "cell_type": "markdown",
   "id": "ece43f71-0436-4431-a2f2-f1eb6eaf77b0",
   "metadata": {},
   "source": [
    "Let's start by the `AGE` variable in function of the 3 categorical variables. "
   ]
  },
  {
   "cell_type": "code",
   "execution_count": 38,
   "id": "55f3e77f-19b4-446d-9330-e9ea829ba954",
   "metadata": {},
   "outputs": [
    {
     "data": {
      "text/plain": [
       "\n",
       "\tKruskal-Wallis rank sum test\n",
       "\n",
       "data:  AGE by SEX\n",
       "Kruskal-Wallis chi-squared = 1.9821, df = 1, p-value = 0.1592\n"
      ]
     },
     "metadata": {},
     "output_type": "display_data"
    },
    {
     "data": {
      "text/plain": [
       "\n",
       "\tKruskal-Wallis rank sum test\n",
       "\n",
       "data:  AGE by COHORT\n",
       "Kruskal-Wallis chi-squared = 42.838, df = 1, p-value = 5.947e-11\n"
      ]
     },
     "metadata": {},
     "output_type": "display_data"
    },
    {
     "data": {
      "text/plain": [
       "\n",
       "\tKruskal-Wallis rank sum test\n",
       "\n",
       "data:  AGE by DTHHRDY\n",
       "Kruskal-Wallis chi-squared = 53.759, df = 4, p-value = 5.912e-11\n"
      ]
     },
     "metadata": {},
     "output_type": "display_data"
    }
   ],
   "source": [
    "kruskal.test(AGE ~ SEX, data=clinical_data)\n",
    "kruskal.test(AGE ~ COHORT, data=clinical_data)\n",
    "kruskal.test(AGE ~ DTHHRDY, data=clinical_data)"
   ]
  },
  {
   "cell_type": "markdown",
   "id": "e9cd7c6e-6cec-4c11-bbc0-a8bb3ee46d78",
   "metadata": {},
   "source": [
    "for the test `AGE` by `SEX`, the pvalue of the Kruskal-Wallis test is 0.159  which is under the treshold of alpha = 5%. It means that `AGE` is not significantly different between the two sexes. The thinking process is the same for the other tests. It means that `AGE` is significantly different between the two cohorts and between the categories of the hardy scale. "
   ]
  },
  {
   "cell_type": "markdown",
   "id": "31544d25-cdfc-4317-bf50-0598a5c2e649",
   "metadata": {},
   "source": [
    "We can visualize these differences using boxplots. "
   ]
  },
  {
   "cell_type": "code",
   "execution_count": 46,
   "id": "1d949991-4b9b-4525-b391-b2f9079e8b4a",
   "metadata": {},
   "outputs": [
    {
     "data": {
      "image/png": "[encoded data removed]",
      "text/plain": [
       "plot without title"
      ]
     },
     "metadata": {
      "image/png": {
       "height": 420,
       "width": 1080
      }
     },
     "output_type": "display_data"
    }
   ],
   "source": [
    "options(repr.plot.width=18, repr.plot.height=7)\n",
    "par(mfrow = c(1, 3))\n",
    "boxplot(AGE ~ SEX, data=clinical_data)\n",
    "boxplot(AGE ~ COHORT, data=clinical_data)\n",
    "boxplot(AGE ~ DTHHRDY, data=clinical_data)"
   ]
  },
  {
   "cell_type": "markdown",
   "id": "41af5956-1e99-4d58-abe3-efe7d8868787",
   "metadata": {},
   "source": [
    "#### 1.3.2.2 HGHT"
   ]
  },
  {
   "cell_type": "code",
   "execution_count": 47,
   "id": "9813d198-5b7b-4e84-b929-e36eee32aa26",
   "metadata": {},
   "outputs": [
    {
     "data": {
      "text/plain": [
       "\n",
       "\tKruskal-Wallis rank sum test\n",
       "\n",
       "data:  HGHT by SEX\n",
       "Kruskal-Wallis chi-squared = 147.65, df = 1, p-value < 2.2e-16\n"
      ]
     },
     "metadata": {},
     "output_type": "display_data"
    },
    {
     "data": {
      "text/plain": [
       "\n",
       "\tKruskal-Wallis rank sum test\n",
       "\n",
       "data:  HGHT by COHORT\n",
       "Kruskal-Wallis chi-squared = 4.7196, df = 1, p-value = 0.02982\n"
      ]
     },
     "metadata": {},
     "output_type": "display_data"
    },
    {
     "data": {
      "text/plain": [
       "\n",
       "\tKruskal-Wallis rank sum test\n",
       "\n",
       "data:  HGHT by DTHHRDY\n",
       "Kruskal-Wallis chi-squared = 12.113, df = 4, p-value = 0.01653\n"
      ]
     },
     "metadata": {},
     "output_type": "display_data"
    }
   ],
   "source": [
    "kruskal.test(HGHT ~ SEX, data=clinical_data)\n",
    "kruskal.test(HGHT ~ COHORT, data=clinical_data)\n",
    "kruskal.test(HGHT ~ DTHHRDY, data=clinical_data)"
   ]
  },
  {
   "cell_type": "markdown",
   "id": "e1378d18-6148-41a8-b198-39263e3d0ccc",
   "metadata": {},
   "source": [
    "`HGHT` is significantly different between sexes, cohort and hardy scales. "
   ]
  },
  {
   "cell_type": "markdown",
   "id": "d35de8e0-a287-45f8-bd24-6322b84ed6b4",
   "metadata": {},
   "source": [
    "#### 1.3.2.3 WGHT"
   ]
  },
  {
   "cell_type": "code",
   "execution_count": 48,
   "id": "41f2db55-c51d-47a6-97ca-519e31aa99a9",
   "metadata": {},
   "outputs": [
    {
     "data": {
      "text/plain": [
       "\n",
       "\tKruskal-Wallis rank sum test\n",
       "\n",
       "data:  WGHT by SEX\n",
       "Kruskal-Wallis chi-squared = 65.369, df = 1, p-value = 6.21e-16\n"
      ]
     },
     "metadata": {},
     "output_type": "display_data"
    },
    {
     "data": {
      "text/plain": [
       "\n",
       "\tKruskal-Wallis rank sum test\n",
       "\n",
       "data:  WGHT by COHORT\n",
       "Kruskal-Wallis chi-squared = 4.1733, df = 1, p-value = 0.04107\n"
      ]
     },
     "metadata": {},
     "output_type": "display_data"
    },
    {
     "data": {
      "text/plain": [
       "\n",
       "\tKruskal-Wallis rank sum test\n",
       "\n",
       "data:  WGHT by DTHHRDY\n",
       "Kruskal-Wallis chi-squared = 6.6293, df = 4, p-value = 0.1568\n"
      ]
     },
     "metadata": {},
     "output_type": "display_data"
    }
   ],
   "source": [
    "kruskal.test(WGHT ~ SEX, data=clinical_data)\n",
    "kruskal.test(WGHT ~ COHORT, data=clinical_data)\n",
    "kruskal.test(WGHT ~ DTHHRDY, data=clinical_data)"
   ]
  },
  {
   "cell_type": "markdown",
   "id": "6949ebfc-93dc-4c24-9cff-cf670b306fb5",
   "metadata": {},
   "source": [
    "`WGHT` is significantly different between sexes and cohort but not between hardy scales. "
   ]
  },
  {
   "cell_type": "markdown",
   "id": "30c0d211-c8c2-4864-bab8-2e8ecac68216",
   "metadata": {},
   "source": [
    "#### 1.3.2.4 BMI"
   ]
  },
  {
   "cell_type": "code",
   "execution_count": 49,
   "id": "8f5db835-7c48-4ff5-9ad0-0a448c563790",
   "metadata": {},
   "outputs": [
    {
     "data": {
      "text/plain": [
       "\n",
       "\tKruskal-Wallis rank sum test\n",
       "\n",
       "data:  BMI by SEX\n",
       "Kruskal-Wallis chi-squared = 1.089, df = 1, p-value = 0.2967\n"
      ]
     },
     "metadata": {},
     "output_type": "display_data"
    },
    {
     "data": {
      "text/plain": [
       "\n",
       "\tKruskal-Wallis rank sum test\n",
       "\n",
       "data:  BMI by COHORT\n",
       "Kruskal-Wallis chi-squared = 0.30004, df = 1, p-value = 0.5839\n"
      ]
     },
     "metadata": {},
     "output_type": "display_data"
    },
    {
     "data": {
      "text/plain": [
       "\n",
       "\tKruskal-Wallis rank sum test\n",
       "\n",
       "data:  BMI by DTHHRDY\n",
       "Kruskal-Wallis chi-squared = 0.085412, df = 4, p-value = 0.9991\n"
      ]
     },
     "metadata": {},
     "output_type": "display_data"
    }
   ],
   "source": [
    "kruskal.test(BMI ~ SEX, data=clinical_data)\n",
    "kruskal.test(BMI ~ COHORT, data=clinical_data)\n",
    "kruskal.test(BMI ~ DTHHRDY, data=clinical_data)"
   ]
  },
  {
   "cell_type": "markdown",
   "id": "f31bccaf-f54c-4027-96ec-10e0b411e6ce",
   "metadata": {},
   "source": [
    "`BMI` is not significantly different between sexes, cohorts and hardy scales."
   ]
  },
  {
   "cell_type": "markdown",
   "id": "a89ab3c2-7b80-49af-930d-50838c73f0ab",
   "metadata": {},
   "source": [
    "#### 1.3.2.5 TRISCHD"
   ]
  },
  {
   "cell_type": "code",
   "execution_count": 50,
   "id": "d149b51d-fd55-4696-bd9d-e8617eaad5de",
   "metadata": {},
   "outputs": [
    {
     "data": {
      "text/plain": [
       "\n",
       "\tKruskal-Wallis rank sum test\n",
       "\n",
       "data:  TRISCHD by SEX\n",
       "Kruskal-Wallis chi-squared = 2.5489, df = 1, p-value = 0.1104\n"
      ]
     },
     "metadata": {},
     "output_type": "display_data"
    },
    {
     "data": {
      "text/plain": [
       "\n",
       "\tKruskal-Wallis rank sum test\n",
       "\n",
       "data:  TRISCHD by COHORT\n",
       "Kruskal-Wallis chi-squared = 173.68, df = 1, p-value < 2.2e-16\n"
      ]
     },
     "metadata": {},
     "output_type": "display_data"
    },
    {
     "data": {
      "text/plain": [
       "\n",
       "\tKruskal-Wallis rank sum test\n",
       "\n",
       "data:  TRISCHD by DTHHRDY\n",
       "Kruskal-Wallis chi-squared = 176.5, df = 4, p-value < 2.2e-16\n"
      ]
     },
     "metadata": {},
     "output_type": "display_data"
    }
   ],
   "source": [
    "kruskal.test(TRISCHD ~ SEX, data=clinical_data)\n",
    "kruskal.test(TRISCHD ~ COHORT, data=clinical_data)\n",
    "kruskal.test(TRISCHD ~ DTHHRDY, data=clinical_data)"
   ]
  },
  {
   "cell_type": "markdown",
   "id": "e8766152-d62b-43d2-b9db-a5be98f53380",
   "metadata": {},
   "source": [
    "`TRISCHD` is significantly different between cohorts and hardy scales but not between the two sex. "
   ]
  },
  {
   "cell_type": "markdown",
   "id": "6115c2e2-17d3-4fc6-b9f9-7b78d39cd9b5",
   "metadata": {},
   "source": [
    "## 1.3.3 Correlations between categorical variables"
   ]
  },
  {
   "cell_type": "markdown",
   "id": "873829fb-87a5-402e-9d27-188925d73f56",
   "metadata": {},
   "source": [
    "The 3 categorical variables are `SEX`, `COHORT` and `DTHHRDY`."
   ]
  },
  {
   "cell_type": "markdown",
   "id": "d9d9b7d4-6115-4d55-8d36-8cfd1b77495c",
   "metadata": {},
   "source": [
    "To evaluate whether the categorical variables are independant of each other, we run a Pearson's chi-squared test and Fisher's exact test for all pairs of categorical variables i.e to conclude if they are \"correlated\" to each other. They are 2 + 1 = 3 possible combinations to compare the categorical variables."
   ]
  },
  {
   "cell_type": "code",
   "execution_count": 51,
   "id": "f338a062-8eea-43ec-ad76-c43e06b2267c",
   "metadata": {},
   "outputs": [
    {
     "data": {
      "text/plain": [
       "\n",
       "\tPearson's Chi-squared test with Yates' continuity correction\n",
       "\n",
       "data:  clinical_data$COHORT and clinical_data$SEX\n",
       "X-squared = 0.73176, df = 1, p-value = 0.3923\n"
      ]
     },
     "metadata": {},
     "output_type": "display_data"
    },
    {
     "name": "stderr",
     "output_type": "stream",
     "text": [
      "Warning message in chisq.test(clinical_data$COHORT, clinical_data$DTHHRDY):\n",
      "\"L’approximation du Chi-2 est peut-être incorrecte\"\n"
     ]
    },
    {
     "data": {
      "text/plain": [
       "\n",
       "\tPearson's Chi-squared test\n",
       "\n",
       "data:  clinical_data$COHORT and clinical_data$DTHHRDY\n",
       "X-squared = 225.5, df = 4, p-value < 2.2e-16\n"
      ]
     },
     "metadata": {},
     "output_type": "display_data"
    },
    {
     "name": "stderr",
     "output_type": "stream",
     "text": [
      "Warning message in chisq.test(clinical_data$SEX, clinical_data$DTHHRDY):\n",
      "\"L’approximation du Chi-2 est peut-être incorrecte\"\n"
     ]
    },
    {
     "data": {
      "text/plain": [
       "\n",
       "\tPearson's Chi-squared test\n",
       "\n",
       "data:  clinical_data$SEX and clinical_data$DTHHRDY\n",
       "X-squared = 13.111, df = 4, p-value = 0.01075\n"
      ]
     },
     "metadata": {},
     "output_type": "display_data"
    }
   ],
   "source": [
    "chisq.test(clinical_data$COHORT, clinical_data$SEX)\n",
    "chisq.test(clinical_data$COHORT, clinical_data$DTHHRDY)\n",
    "chisq.test(clinical_data$SEX, clinical_data$DTHHRDY)"
   ]
  },
  {
   "cell_type": "code",
   "execution_count": 52,
   "id": "6dc415b3-a9ed-459b-9dbb-9fb1352c93b3",
   "metadata": {},
   "outputs": [
    {
     "data": {
      "text/plain": [
       "\n",
       "\tFisher's Exact Test for Count Data\n",
       "\n",
       "data:  clinical_data$COHORT and clinical_data$SEX\n",
       "p-value = 0.3827\n",
       "alternative hypothesis: true odds ratio is not equal to 1\n",
       "95 percent confidence interval:\n",
       " 0.4647701 1.3157458\n",
       "sample estimates:\n",
       "odds ratio \n",
       " 0.7833011 \n"
      ]
     },
     "metadata": {},
     "output_type": "display_data"
    },
    {
     "data": {
      "text/plain": [
       "\n",
       "\tFisher's Exact Test for Count Data\n",
       "\n",
       "data:  clinical_data$COHORT and clinical_data$DTHHRDY\n",
       "p-value < 2.2e-16\n",
       "alternative hypothesis: two.sided\n"
      ]
     },
     "metadata": {},
     "output_type": "display_data"
    },
    {
     "data": {
      "text/plain": [
       "\n",
       "\tFisher's Exact Test for Count Data\n",
       "\n",
       "data:  clinical_data$SEX and clinical_data$DTHHRDY\n",
       "p-value = 0.008351\n",
       "alternative hypothesis: two.sided\n"
      ]
     },
     "metadata": {},
     "output_type": "display_data"
    }
   ],
   "source": [
    "fisher.test(clinical_data$COHORT, clinical_data$SEX)\n",
    "fisher.test(clinical_data$COHORT, clinical_data$DTHHRDY)\n",
    "fisher.test(clinical_data$SEX, clinical_data$DTHHRDY)"
   ]
  },
  {
   "cell_type": "markdown",
   "id": "4ad7e813-a864-43f6-8e31-7690e0c607b7",
   "metadata": {},
   "source": [
    "The two tests agree on concluding that the variables `COHORT` and `SEX` are independant while `COHORT` and `DTHHRDY` are not, as well as `SEX` and `DTHHRDY`."
   ]
  },
  {
   "cell_type": "markdown",
   "id": "1caa6428-e1ab-4009-936b-172ff06eaf24",
   "metadata": {},
   "source": [
    "We can visualize all the correlations using the `corrplot` package. However, it does not perfectly match the result we got for the different test. For example, `SEX` and `DTHHRDY`are significantly correlated using the Pearson's Chi-squared and Fisher's Exact Test which cannot be seen with the corrplot. "
   ]
  },
  {
   "cell_type": "code",
   "execution_count": 91,
   "id": "085d1f79-ea2b-4c4e-a1bf-f37d0d736c91",
   "metadata": {},
   "outputs": [
    {
     "data": {
      "image/png": "[encoded data removed]",
      "text/plain": [
       "Plot with title \"\""
      ]
     },
     "metadata": {
      "image/png": {
       "height": 480,
       "width": 480
      }
     },
     "output_type": "display_data"
    }
   ],
   "source": [
    "library(\"corrplot\")\n",
    "options(repr.plot.width=8, repr.plot.height=8)\n",
    "clinical_data_numeric <- clinical_data\n",
    "clinical_data_numeric$SEX = as.numeric(clinical_data$SEX)\n",
    "clinical_data_numeric$COHORT = as.numeric(clinical_data$COHORT)\n",
    "clinical_data_numeric$DTHHRDY = as.numeric(clinical_data$DTHHRDY)\n",
    "M = cor(clinical_data_numeric[,c(2,3,4,5,6,7,8,9)])\n",
    "corrplot(M, method = 'number')"
   ]
  },
  {
   "cell_type": "markdown",
   "id": "c1bac5e2-bdd6-4297-83d1-7997b821eb84",
   "metadata": {},
   "source": [
    "Here is a final summary of the correlations for each variable\n",
    "\n",
    "Clinical variables : \n",
    "\n",
    "- `AGE` is correlated to `TRISCHD`, `COHORT` and `DTHHRDY`\n",
    "- `SEX` is correlated to `HGHT`, `WGHT` and `DTHHRDY`\n",
    "- `HGHT` is correlated to `WGHT`,  `SEX`, `TRISCHD`, `COHORT` and `DTHHRDY`\n",
    "- `WGHT`  is correlated to `HGHT`, `BMI`, `SEX`, `TRISCHD` and `COHORT`\n",
    "- `BMI` is correlated to `WGHT`\n",
    "\n",
    "Technical variables : \n",
    "\n",
    "- `TRISCHD` is correlated to `AGE`, `HGHT`, `WGHT`, `COHORT` and `DTHHRDY`\n",
    "- `COHORT` is correlated to `AGE`, `HGHT`, `WGHT`, `TRISCHD`and `DTHHRDY`\n",
    "- `DTHHRDY` is correlated to `AGE`, `HGHT`, `TRISCHD` and `COHORT`"
   ]
  },
  {
   "cell_type": "markdown",
   "id": "dad0163d-09b2-4b2a-be18-68da5538caba",
   "metadata": {},
   "source": [
    "These correlations are especially important to determine the technical variables cofounding the clinical variables (next section)."
   ]
  },
  {
   "cell_type": "markdown",
   "id": "89d01deb-afe5-4208-900e-9d2cd5c8c584",
   "metadata": {},
   "source": [
    "## 1.4 Are there technical variables cofounding demographic/health variables ?"
   ]
  },
  {
   "cell_type": "markdown",
   "id": "44527f9e-9f9c-45d1-bba4-612238789829",
   "metadata": {},
   "source": [
    "We need to see if the 5 clinical variables `AGE`, `SEX`, `HGHT`, `WGHT` and `BMI` are cofounded by the 3 technical variables `COHORT`, `TRISCHD` and `DTHHRDY` to normalize the further statistical analysis of the concerned clinical variable. "
   ]
  },
  {
   "cell_type": "markdown",
   "id": "211ee34b-1be2-4faf-8feb-86c04e7d7e55",
   "metadata": {},
   "source": [
    "We will start by plotting the four continous clinical variables `AGE`, `HGHT`, `WGHT` and `BMI` in function of `TRISCHD` (only continous technical variable) colored by `COHORT` and then by `DTHHRDY`. It gives a total of 8 combinations of plots."
   ]
  },
  {
   "cell_type": "code",
   "execution_count": 101,
   "id": "49561fe6-fb7f-48d2-becf-ec594af81244",
   "metadata": {},
   "outputs": [
    {
     "data": {
      "image/png": "[encoded data removed]",
      "text/plain": [
       "Plot with title \"BMI vs. Ischemic Time\""
      ]
     },
     "metadata": {
      "image/png": {
       "height": 600,
       "width": 1080
      }
     },
     "output_type": "display_data"
    },
    {
     "data": {
      "image/png": "[encoded data removed]",
      "text/plain": [
       "Plot with title \"BMI vs. Ischemic Time\""
      ]
     },
     "metadata": {
      "image/png": {
       "height": 600,
       "width": 1080
      }
     },
     "output_type": "display_data"
    }
   ],
   "source": [
    "##### CHAT GPT\n",
    "\n",
    "options(repr.plot.width=18, repr.plot.height=10)\n",
    "\n",
    "# Define colors for cohorts\n",
    "colors <- c(\"Cohort1\" = \"blue\", \"Cohort2\" = \"red\")\n",
    "\n",
    "# Define layout: 2x2 plots + 1 row for legend\n",
    "layout(matrix(c(1, 2, 3, 4, 5, 5), nrow = 3, byrow = TRUE), heights = c(1, 1, 0.2))\n",
    "\n",
    "# Plot 1: AGE vs. TRISCHD\n",
    "par(mar = c(4, 4, 2, 1))\n",
    "plot(clinical_data$TRISCHD, clinical_data$AGE, \n",
    "     col = colors[clinical_data$COHORT], \n",
    "     pch = 16, \n",
    "     xlab = \"Ischemic Time (TRISCHD)\", \n",
    "     ylab = \"Age\", \n",
    "     main = \"Age vs. Ischemic Time\")\n",
    "\n",
    "# Plot 2: HGHT vs. TRISCHD\n",
    "par(mar = c(4, 4, 2, 1))\n",
    "plot(clinical_data$TRISCHD, clinical_data$HGHT, \n",
    "     col = colors[clinical_data$COHORT], \n",
    "     pch = 16, \n",
    "     xlab = \"Ischemic Time (TRISCHD)\", \n",
    "     ylab = \"Height (HGHT)\", \n",
    "     main = \"Height vs. Ischemic Time\")\n",
    "\n",
    "# Plot 3: WGHT vs. TRISCHD\n",
    "par(mar = c(4, 4, 2, 1))\n",
    "plot(clinical_data$TRISCHD, clinical_data$WGHT, \n",
    "     col = colors[clinical_data$COHORT], \n",
    "     pch = 16, \n",
    "     xlab = \"Ischemic Time (TRISCHD)\", \n",
    "     ylab = \"Weight (WGHT)\", \n",
    "     main = \"Weight vs. Ischemic Time\")\n",
    "\n",
    "# Plot 4: BMI vs. TRISCHD\n",
    "par(mar = c(4, 4, 2, 1))\n",
    "plot(clinical_data$TRISCHD, clinical_data$BMI, \n",
    "     col = colors[clinical_data$COHORT], \n",
    "     pch = 16, \n",
    "     xlab = \"Ischemic Time (TRISCHD)\", \n",
    "     ylab = \"BMI\", \n",
    "     main = \"BMI vs. Ischemic Time\")\n",
    "\n",
    "# Plot 5: Legend\n",
    "par(mar = c(0, 0, 0, 0))\n",
    "plot.new()\n",
    "legend(\"center\", legend = levels(clinical_data$COHORT), col = colors, pch = 16, horiz = TRUE, bty = \"n\")\n",
    "\n",
    "\n",
    "\n",
    "options(repr.plot.width=18, repr.plot.height=10)\n",
    "\n",
    "# Define colors for DTHHRDY\n",
    "colors <- c(\"0\" = \"blue\", \"1\" = \"red\", \"2\" = \"green\", \"3\" = \"purple\", \"4\" = \"orange\")\n",
    "\n",
    "# Define layout: 2x2 plots + 1 row for legend\n",
    "layout(matrix(c(1, 2, 3, 4, 5, 5), nrow = 3, byrow = TRUE), heights = c(1, 1, 0.5))\n",
    "\n",
    "# Plot 1: AGE vs. TRISCHD\n",
    "par(mar = c(4, 4, 2, 1))\n",
    "plot(clinical_data$TRISCHD, clinical_data$AGE, \n",
    "     col = colors[as.character(clinical_data$DTHHRDY)], \n",
    "     pch = 16, \n",
    "     xlab = \"Ischemic Time (TRISCHD)\", \n",
    "     ylab = \"Age\", \n",
    "     main = \"Age vs. Ischemic Time\")\n",
    "\n",
    "# Plot 2: HGHT vs. TRISCHD\n",
    "par(mar = c(4, 4, 2, 1))\n",
    "plot(clinical_data$TRISCHD, clinical_data$HGHT, \n",
    "     col = colors[as.character(clinical_data$DTHHRDY)], \n",
    "     pch = 16, \n",
    "     xlab = \"Ischemic Time (TRISCHD)\", \n",
    "     ylab = \"Height (HGHT)\", \n",
    "     main = \"Height vs. Ischemic Time\")\n",
    "\n",
    "# Plot 3: WGHT vs. TRISCHD\n",
    "par(mar = c(4, 4, 2, 1))\n",
    "plot(clinical_data$TRISCHD, clinical_data$WGHT, \n",
    "     col = colors[as.character(clinical_data$DTHHRDY)], \n",
    "     pch = 16, \n",
    "     xlab = \"Ischemic Time (TRISCHD)\", \n",
    "     ylab = \"Weight (WGHT)\", \n",
    "     main = \"Weight vs. Ischemic Time\")\n",
    "\n",
    "# Plot 4: BMI vs. TRISCHD\n",
    "par(mar = c(4, 4, 2, 1))\n",
    "plot(clinical_data$TRISCHD, clinical_data$BMI, \n",
    "     col = colors[as.character(clinical_data$DTHHRDY)], \n",
    "     pch = 16, \n",
    "     xlab = \"Ischemic Time (TRISCHD)\", \n",
    "     ylab = \"BMI\", \n",
    "     main = \"BMI vs. Ischemic Time\")\n",
    "\n",
    "# Plot 5: Legend\n",
    "par(mar = c(0, 0, 0, 0))\n",
    "plot.new()\n",
    "legend(\"center\", legend = c(\"0 = death under ventilator\", \n",
    "                            \"1 = violent and rapid death\", \n",
    "                            \"2 = rapid death due to natural causes\", \n",
    "                            \"3 = intermediate death\", \n",
    "                            \"4 = slow death\"), \n",
    "       col = colors, pch = 16, horiz = TRUE, bty = \"n\", cex = 0.6)"
   ]
  },
  {
   "cell_type": "markdown",
   "id": "844bfb31-34ed-4466-bf4c-4c5326bae947",
   "metadata": {},
   "source": [
    "Using these plots and the correlations from section 1.3, we find the following technical cofounded variables :\n",
    "\n",
    "Clinical variables (demographic/health variables) : \n",
    "\n",
    "- `AGE` is cofounded by `TRISCHD`, `COHORT` and `DTHHRDY`\n",
    "- `SEX` is cofounded by `DTHHRDY`\n",
    "- `HGHT` is cofounded by `TRISCHD`, `COHORT` and `DTHHRDY`\n",
    "- `WGHT` is cofounded by `TRISCHD` and `COHORT`\n",
    "- `BMI` is not cofounded by any technical variable. "
   ]
  },
  {
   "cell_type": "markdown",
   "id": "ca4651e2-0b56-4030-9d02-d8fa043b3250",
   "metadata": {},
   "source": [
    "Concretly, it means that we will need to adjust (i.e. normalize) the clinical variables with these cofounded technical variables during the statistical analysis of the next sections. "
   ]
  },
  {
   "cell_type": "markdown",
   "id": "3a39cf76-9331-473a-90c9-11426486deb5",
   "metadata": {},
   "source": [
    "## Question 2. Clinical data vs morphology"
   ]
  },
  {
   "cell_type": "code",
   "execution_count": 8,
   "id": "90cc6d74-52df-4b05-badc-1421f8346842",
   "metadata": {},
   "outputs": [
    {
     "data": {
      "text/html": [
       "<table class=\"dataframe\">\n",
       "<caption>A matrix: 3 × 280 of type int</caption>\n",
       "<thead>\n",
       "\t<tr><th></th><th scope=col>GTEX.111YS.0526</th><th scope=col>GTEX.1122O.1126</th><th scope=col>GTEX.1128S.0326</th><th scope=col>GTEX.117XS.0426</th><th scope=col>GTEX.117YW.0226</th><th scope=col>GTEX.11DXX.0426</th><th scope=col>GTEX.11DXZ.0426</th><th scope=col>GTEX.11DYG.1226</th><th scope=col>GTEX.11EM3.0226</th><th scope=col>GTEX.11EMC.0926</th><th scope=col>⋯</th><th scope=col>GTEX.1R9K5.1426</th><th scope=col>GTEX.1R9PM.0326</th><th scope=col>GTEX.1R9PN.0226</th><th scope=col>GTEX.1R9PO.0226</th><th scope=col>GTEX.1RAZA.1126</th><th scope=col>GTEX.1RAZR.0626</th><th scope=col>GTEX.1RNTQ.0726</th><th scope=col>GTEX.1RQED.1126</th><th scope=col>GTEX.1S3DN.0626</th><th scope=col>GTEX.1S5ZA.1126</th></tr>\n",
       "</thead>\n",
       "<tbody>\n",
       "\t<tr><th scope=row>Mophological.cluster.G4_0</th><td>137</td><td> 96</td><td>  2</td><td>339</td><td>171</td><td>  2</td><td>  1</td><td>392</td><td> 40</td><td>260</td><td>⋯</td><td>  2</td><td> 39</td><td>  0</td><td> 77</td><td>  6</td><td>32</td><td> 5</td><td> 94</td><td>460</td><td>  1</td></tr>\n",
       "\t<tr><th scope=row>Mophological.cluster.G4_1</th><td> 88</td><td>880</td><td>552</td><td>  1</td><td>  0</td><td> 10</td><td>239</td><td> 18</td><td>424</td><td>235</td><td>⋯</td><td>286</td><td> 34</td><td>277</td><td>271</td><td>537</td><td> 7</td><td>18</td><td>228</td><td>314</td><td>308</td></tr>\n",
       "\t<tr><th scope=row>Mophological.cluster.G4_2</th><td>417</td><td>236</td><td>211</td><td>151</td><td> 36</td><td>258</td><td>850</td><td> 14</td><td>605</td><td>164</td><td>⋯</td><td>541</td><td>634</td><td>333</td><td>193</td><td>208</td><td> 2</td><td>26</td><td> 79</td><td> 43</td><td>102</td></tr>\n",
       "</tbody>\n",
       "</table>\n"
      ],
      "text/latex": [
       "A matrix: 3 × 280 of type int\n",
       "\\begin{tabular}{r|lllllllllllllllllllll}\n",
       "  & GTEX.111YS.0526 & GTEX.1122O.1126 & GTEX.1128S.0326 & GTEX.117XS.0426 & GTEX.117YW.0226 & GTEX.11DXX.0426 & GTEX.11DXZ.0426 & GTEX.11DYG.1226 & GTEX.11EM3.0226 & GTEX.11EMC.0926 & ⋯ & GTEX.1R9K5.1426 & GTEX.1R9PM.0326 & GTEX.1R9PN.0226 & GTEX.1R9PO.0226 & GTEX.1RAZA.1126 & GTEX.1RAZR.0626 & GTEX.1RNTQ.0726 & GTEX.1RQED.1126 & GTEX.1S3DN.0626 & GTEX.1S5ZA.1126\\\\\n",
       "\\hline\n",
       "\tMophological.cluster.G4\\_0 & 137 &  96 &   2 & 339 & 171 &   2 &   1 & 392 &  40 & 260 & ⋯ &   2 &  39 &   0 &  77 &   6 & 32 &  5 &  94 & 460 &   1\\\\\n",
       "\tMophological.cluster.G4\\_1 &  88 & 880 & 552 &   1 &   0 &  10 & 239 &  18 & 424 & 235 & ⋯ & 286 &  34 & 277 & 271 & 537 &  7 & 18 & 228 & 314 & 308\\\\\n",
       "\tMophological.cluster.G4\\_2 & 417 & 236 & 211 & 151 &  36 & 258 & 850 &  14 & 605 & 164 & ⋯ & 541 & 634 & 333 & 193 & 208 &  2 & 26 &  79 &  43 & 102\\\\\n",
       "\\end{tabular}\n"
      ],
      "text/markdown": [
       "\n",
       "A matrix: 3 × 280 of type int\n",
       "\n",
       "| <!--/--> | GTEX.111YS.0526 | GTEX.1122O.1126 | GTEX.1128S.0326 | GTEX.117XS.0426 | GTEX.117YW.0226 | GTEX.11DXX.0426 | GTEX.11DXZ.0426 | GTEX.11DYG.1226 | GTEX.11EM3.0226 | GTEX.11EMC.0926 | ⋯ | GTEX.1R9K5.1426 | GTEX.1R9PM.0326 | GTEX.1R9PN.0226 | GTEX.1R9PO.0226 | GTEX.1RAZA.1126 | GTEX.1RAZR.0626 | GTEX.1RNTQ.0726 | GTEX.1RQED.1126 | GTEX.1S3DN.0626 | GTEX.1S5ZA.1126 |\n",
       "|---|---|---|---|---|---|---|---|---|---|---|---|---|---|---|---|---|---|---|---|---|---|\n",
       "| Mophological.cluster.G4_0 | 137 |  96 |   2 | 339 | 171 |   2 |   1 | 392 |  40 | 260 | ⋯ |   2 |  39 |   0 |  77 |   6 | 32 |  5 |  94 | 460 |   1 |\n",
       "| Mophological.cluster.G4_1 |  88 | 880 | 552 |   1 |   0 |  10 | 239 |  18 | 424 | 235 | ⋯ | 286 |  34 | 277 | 271 | 537 |  7 | 18 | 228 | 314 | 308 |\n",
       "| Mophological.cluster.G4_2 | 417 | 236 | 211 | 151 |  36 | 258 | 850 |  14 | 605 | 164 | ⋯ | 541 | 634 | 333 | 193 | 208 |  2 | 26 |  79 |  43 | 102 |\n",
       "\n"
      ],
      "text/plain": [
       "                          GTEX.111YS.0526 GTEX.1122O.1126 GTEX.1128S.0326\n",
       "Mophological.cluster.G4_0 137              96               2            \n",
       "Mophological.cluster.G4_1  88             880             552            \n",
       "Mophological.cluster.G4_2 417             236             211            \n",
       "                          GTEX.117XS.0426 GTEX.117YW.0226 GTEX.11DXX.0426\n",
       "Mophological.cluster.G4_0 339             171               2            \n",
       "Mophological.cluster.G4_1   1               0              10            \n",
       "Mophological.cluster.G4_2 151              36             258            \n",
       "                          GTEX.11DXZ.0426 GTEX.11DYG.1226 GTEX.11EM3.0226\n",
       "Mophological.cluster.G4_0   1             392              40            \n",
       "Mophological.cluster.G4_1 239              18             424            \n",
       "Mophological.cluster.G4_2 850              14             605            \n",
       "                          GTEX.11EMC.0926 ⋯ GTEX.1R9K5.1426 GTEX.1R9PM.0326\n",
       "Mophological.cluster.G4_0 260             ⋯   2              39            \n",
       "Mophological.cluster.G4_1 235             ⋯ 286              34            \n",
       "Mophological.cluster.G4_2 164             ⋯ 541             634            \n",
       "                          GTEX.1R9PN.0226 GTEX.1R9PO.0226 GTEX.1RAZA.1126\n",
       "Mophological.cluster.G4_0   0              77               6            \n",
       "Mophological.cluster.G4_1 277             271             537            \n",
       "Mophological.cluster.G4_2 333             193             208            \n",
       "                          GTEX.1RAZR.0626 GTEX.1RNTQ.0726 GTEX.1RQED.1126\n",
       "Mophological.cluster.G4_0 32               5               94            \n",
       "Mophological.cluster.G4_1  7              18              228            \n",
       "Mophological.cluster.G4_2  2              26               79            \n",
       "                          GTEX.1S3DN.0626 GTEX.1S5ZA.1126\n",
       "Mophological.cluster.G4_0 460               1            \n",
       "Mophological.cluster.G4_1 314             308            \n",
       "Mophological.cluster.G4_2  43             102            "
      ]
     },
     "metadata": {},
     "output_type": "display_data"
    },
    {
     "data": {
      "text/html": [
       "<style>\n",
       ".list-inline {list-style: none; margin:0; padding: 0}\n",
       ".list-inline>li {display: inline-block}\n",
       ".list-inline>li:not(:last-child)::after {content: \"\\00b7\"; padding: 0 .5ex}\n",
       "</style>\n",
       "<ol class=list-inline><li>32</li><li>280</li></ol>\n"
      ],
      "text/latex": [
       "\\begin{enumerate*}\n",
       "\\item 32\n",
       "\\item 280\n",
       "\\end{enumerate*}\n"
      ],
      "text/markdown": [
       "1. 32\n",
       "2. 280\n",
       "\n",
       "\n"
      ],
      "text/plain": [
       "[1]  32 280"
      ]
     },
     "metadata": {},
     "output_type": "display_data"
    }
   ],
   "source": [
    "# Read the TSV file into a data frame\n",
    "morphological_counts <- read.table(\"Aorta/morphological_counts_lunit_dino.tsv\", \n",
    "                           sep = \"\\t\", header=TRUE)\n",
    "\n",
    "row.names(morphological_counts) <- morphological_counts$SMPLID\n",
    "morphological_counts <- morphological_counts[-1]\n",
    "#transpose the morpholigical counts (samples as columns, clusters as rows) to have the compatible count format for DGE\n",
    "morphological_counts <- t(morphological_counts)\n",
    "head(morphological_counts, 3)\n",
    "dim(morphological_counts)"
   ]
  },
  {
   "cell_type": "markdown",
   "id": "951d38d8-7f61-4b4d-8145-9c67fe63c911",
   "metadata": {},
   "source": [
    "The morphological count matrix has the correct form with samples (patient ID) as columns and morphological cluster counts as rows. The dimensions are also correct as we have 32 morphological clusters and 280 samples."
   ]
  },
  {
   "cell_type": "markdown",
   "id": "d4cd8e01-c127-4892-b4cf-6ef34b59edde",
   "metadata": {},
   "source": [
    "### 2.1 Compute systematically associations between clinical variables and morphological cluster counts."
   ]
  },
  {
   "cell_type": "markdown",
   "id": "8df11324-13b1-4a64-aba8-a77b3ef7d0bc",
   "metadata": {},
   "source": [
    "The 5 demographics/health variables are `AGE`, `SEX`, `HGHT`, `WGHT` and `BMI`. The 3 technical variables are `COHORT`, `TRISCHD`, `DTHHRDY`."
   ]
  },
  {
   "cell_type": "markdown",
   "id": "4d113f86-7e5f-45bf-964d-3ac56dda81b4",
   "metadata": {},
   "source": [
    "The goal of this section is to compare the magnitude of the associations of the different clinical variables with morphology. For that, we will perform differential morphological cluster expression (DME) with edgeR. Note that we used edgeR to realize the differential expression analysis for question 2 and DESeq2 for question 3 so that we can explore the two methods. "
   ]
  },
  {
   "cell_type": "markdown",
   "id": "6e515a6d-50b3-4a5c-80f6-11d20874a539",
   "metadata": {},
   "source": [
    "Let's define a function `DME`  that allows to perform an automatized procedure of differential morphological expression."
   ]
  },
  {
   "cell_type": "code",
   "execution_count": 12,
   "id": "3f8850b9-0d9d-4a5a-8352-0915c1f640b3",
   "metadata": {},
   "outputs": [
    {
     "name": "stderr",
     "output_type": "stream",
     "text": [
      "Le chargement a nécessité le package : limma\n",
      "\n"
     ]
    }
   ],
   "source": [
    "library(edgeR)\n",
    "\n",
    "DME <- function(clinical_variable){\n",
    "\n",
    "    # Create the differential expression data structure used by edgeR (DGEList)\n",
    "    DGE_list <- DGEList(counts = morphological_counts, group = clinical_data[[clinical_variable]])\n",
    "    \n",
    "    # Filter lowly expressed morphological clusters\n",
    "    keep <- filterByExpr(DGE_list)\n",
    "    DGE_list <- DGE_list[keep, , keep.lib.sizes=FALSE]\n",
    "    \n",
    "    # Normalize the data\n",
    "    DGE_list <- normLibSizes(DGE_list)\n",
    "\n",
    "    # Create a design matrix\n",
    "    formula <- as.formula(paste(\"~clinical_data$\", clinical_variable))\n",
    "    design <- model.matrix(formula)\n",
    "    \n",
    "    #Estimate the dispersion\n",
    "    DGE_list <- estimateDisp(DGE_list, design)\n",
    "\n",
    "    # Fit the model and test for differential expression\n",
    "    fit <- glmQLFit(DGE_list,design)\n",
    "    qlf <- glmQLFTest(fit,coef=2)\n",
    "\n",
    "    # return the table that contains the differentially expressed morphological clusters. We also remove the logCPM just to have a clearer print for the results.\n",
    "    return (topTags(qlf, n = 32)$table[ ,-2])\n",
    "}"
   ]
  },
  {
   "cell_type": "code",
   "execution_count": 90,
   "id": "6c5f2810-5d02-4d06-a9ad-c0443f4610ba",
   "metadata": {
    "scrolled": true
   },
   "outputs": [
    {
     "name": "stdout",
     "output_type": "stream",
     "text": [
      "$COHORT\n",
      "                                  logFC            F       PValue          FDR\n",
      "Mophological.cluster.G4_28 -0.530987049 3.379524e+01 1.653581e-08 2.618369e-07\n",
      "Mophological.cluster.G4_18  1.654992542 3.367730e+01 1.745579e-08 2.618369e-07\n",
      "Mophological.cluster.G4_14  1.431838659 3.062862e+01 7.138854e-08 7.138854e-07\n",
      "Mophological.cluster.G4_1  -1.390385322 2.819617e+01 2.224324e-07 1.668243e-06\n",
      "Mophological.cluster.G4_30  0.811222003 2.573890e+01 7.096961e-07 4.258177e-06\n",
      "Mophological.cluster.G4_2  -1.073094984 2.461767e+01 1.210140e-06 6.050701e-06\n",
      "Mophological.cluster.G4_0   1.315591065 2.257304e+01 3.225597e-06 1.382399e-05\n",
      "Mophological.cluster.G4_9  -0.628016370 2.080725e+01 7.581662e-06 2.843123e-05\n",
      "Mophological.cluster.G4_4   1.314871452 2.008645e+01 1.077061e-05 3.590202e-05\n",
      "Mophological.cluster.G4_12  1.530715841 1.957411e+01 1.383483e-05 4.150450e-05\n",
      "Mophological.cluster.G4_6   1.601564628 1.911839e+01 1.729588e-05 4.717058e-05\n",
      "Mophological.cluster.G4_25 -1.377063047 1.747729e+01 3.883362e-05 9.708406e-05\n",
      "Mophological.cluster.G4_29  1.154658496 1.659491e+01 6.018327e-05 1.388845e-04\n",
      "Mophological.cluster.G4_13  1.104948561 1.372975e+01 2.539742e-04 5.442304e-04\n",
      "Mophological.cluster.G4_24 -0.786399351 1.242025e+01 4.953081e-04 9.906162e-04\n",
      "Mophological.cluster.G4_3  -0.933681924 1.139183e+01 8.411351e-04 1.577128e-03\n",
      "Mophological.cluster.G4_20 -0.697400178 1.087003e+01 1.102450e-03 1.945500e-03\n",
      "Mophological.cluster.G4_26 -0.587334587 9.354439e+00 2.438078e-03 4.063464e-03\n",
      "Mophological.cluster.G4_17 -0.959238977 7.312465e+00 7.263698e-03 1.146900e-02\n",
      "Mophological.cluster.G4_23 -0.371563559 6.603512e+00 1.069142e-02 1.603712e-02\n",
      "Mophological.cluster.G4_16 -0.162934135 5.935862e+00 1.545439e-02 2.207770e-02\n",
      "Mophological.cluster.G4_15 -0.361584132 5.465216e+00 2.009756e-02 2.740576e-02\n",
      "Mophological.cluster.G4_21  0.426018526 5.140689e+00 2.412781e-02 3.147105e-02\n",
      "Mophological.cluster.G4_10 -0.576903371 4.768691e+00 2.980529e-02 3.725661e-02\n",
      "Mophological.cluster.G4_27  0.334971318 2.273115e+00 1.327538e-01 1.593045e-01\n",
      "Mophological.cluster.G4_19 -0.065355666 3.238759e-01 5.697403e-01 6.573927e-01\n",
      "Mophological.cluster.G4_22  0.049856843 4.633391e-02 8.297255e-01 9.153000e-01\n",
      "Mophological.cluster.G4_5  -0.034268689 3.330240e-02 8.553297e-01 9.153000e-01\n",
      "Mophological.cluster.G4_11 -0.036620263 2.103397e-02 8.847900e-01 9.153000e-01\n",
      "Mophological.cluster.G4_8  -0.003022929 1.412251e-04 9.905267e-01 9.905267e-01\n",
      "\n",
      "$SEX\n",
      "                                  logFC            F       PValue         FDR\n",
      "Mophological.cluster.G4_3   1.144356672 17.794822627 3.319319e-05 0.001028989\n",
      "Mophological.cluster.G4_4  -0.922847547  8.034045729 4.922344e-03 0.076296324\n",
      "Mophological.cluster.G4_7  -0.906175728  5.095458734 2.475352e-02 0.255786405\n",
      "Mophological.cluster.G4_26  0.385493058  3.852083978 5.066701e-02 0.386477907\n",
      "Mophological.cluster.G4_29 -0.555900545  3.216683890 7.396234e-02 0.386477907\n",
      "Mophological.cluster.G4_9   0.244218901  3.073770001 8.065111e-02 0.386477907\n",
      "Mophological.cluster.G4_21 -0.355697068  2.944485787 8.726920e-02 0.386477907\n",
      "Mophological.cluster.G4_12 -0.577080636  2.254055499 1.343834e-01 0.520735699\n",
      "Mophological.cluster.G4_13 -0.422683836  1.720421420 1.907055e-01 0.601609520\n",
      "Mophological.cluster.G4_0  -0.403691797  1.694526115 1.940676e-01 0.601609520\n",
      "Mophological.cluster.G4_28 -0.101987869  1.175201545 2.792608e-01 0.675944084\n",
      "Mophological.cluster.G4_8  -0.274932326  1.047854433 3.068789e-01 0.675944084\n",
      "Mophological.cluster.G4_5   0.193337272  0.984864914 3.218513e-01 0.675944084\n",
      "Mophological.cluster.G4_10 -0.273949282  0.973120190 3.247487e-01 0.675944084\n",
      "Mophological.cluster.G4_18 -0.312241116  0.963811855 3.270697e-01 0.675944084\n",
      "Mophological.cluster.G4_24 -0.205802766  0.783319096 3.768819e-01 0.685964594\n",
      "Mophological.cluster.G4_22 -0.201041046  0.688503537 4.073756e-01 0.685964594\n",
      "Mophological.cluster.G4_19 -0.097657103  0.684063822 4.088900e-01 0.685964594\n",
      "Mophological.cluster.G4_15  0.129467033  0.651014897 4.204299e-01 0.685964594\n",
      "Mophological.cluster.G4_6   0.293987962  0.560432993 4.547097e-01 0.704799975\n",
      "Mophological.cluster.G4_27 -0.155842209  0.427606845 5.136984e-01 0.727225646\n",
      "Mophological.cluster.G4_17 -0.229756382  0.385809700 5.350119e-01 0.727225646\n",
      "Mophological.cluster.G4_30 -0.107112161  0.329628802 5.663353e-01 0.727225646\n",
      "Mophological.cluster.G4_23 -0.081997022  0.300674636 5.838935e-01 0.727225646\n",
      "Mophological.cluster.G4_14 -0.146271026  0.261896135 6.092209e-01 0.727225646\n",
      "Mophological.cluster.G4_2  -0.115362748  0.260857483 6.099312e-01 0.727225646\n",
      "Mophological.cluster.G4_11  0.117703955  0.201998817 6.534575e-01 0.750265966\n",
      "Mophological.cluster.G4_20  0.084827972  0.149857955 6.989631e-01 0.754613963\n",
      "Mophological.cluster.G4_1   0.103004729  0.142665789 7.059292e-01 0.754613963\n",
      "Mophological.cluster.G4_25 -0.099047549  0.083563403 7.727376e-01 0.798495525\n",
      "Mophological.cluster.G4_16 -0.005825285  0.006437329 9.361089e-01 0.936108869\n",
      "\n",
      "$AGE\n",
      "                                  logFC          F       PValue          FDR\n",
      "Mophological.cluster.G4_26 -0.049613423 49.9484599 1.235350e-11 2.807475e-10\n",
      "Mophological.cluster.G4_12  0.107821436 49.1392098 1.754672e-11 2.807475e-10\n",
      "Mophological.cluster.G4_29  0.083404568 47.9590960 2.932231e-11 3.127713e-10\n",
      "Mophological.cluster.G4_15 -0.032397199 34.0273302 1.484359e-08 1.187487e-07\n",
      "Mophological.cluster.G4_0   0.078940905 33.0540848 2.321471e-08 1.485742e-07\n",
      "Mophological.cluster.G4_11 -0.047260542 27.6647308 2.852787e-07 1.521486e-06\n",
      "Mophological.cluster.G4_8   0.052875676 19.2971907 1.583575e-05 7.239199e-05\n",
      "Mophological.cluster.G4_30  0.029065644 17.9629766 3.052835e-05 1.221134e-04\n",
      "Mophological.cluster.G4_27  0.032866692 15.3098231 1.143687e-04 4.066444e-04\n",
      "Mophological.cluster.G4_20 -0.027046954 10.4963448 1.338995e-03 4.284783e-03\n",
      "Mophological.cluster.G4_22  0.028864479 10.2347747 1.535012e-03 4.465489e-03\n",
      "Mophological.cluster.G4_4   0.038093130  9.0530738 2.858894e-03 7.623716e-03\n",
      "Mophological.cluster.G4_2  -0.020452818  6.0317579 1.465257e-02 3.606787e-02\n",
      "Mophological.cluster.G4_25 -0.030821832  5.1178011 2.444093e-02 5.586499e-02\n",
      "Mophological.cluster.G4_13  0.028875948  4.9145021 2.742799e-02 5.851305e-02\n",
      "Mophological.cluster.G4_21  0.015548604  4.0539573 4.501564e-02 9.003127e-02\n",
      "Mophological.cluster.G4_16 -0.004971875  3.4659729 6.368149e-02 1.198710e-01\n",
      "Mophological.cluster.G4_17 -0.025547811  3.2169470 7.394833e-02 1.256964e-01\n",
      "Mophological.cluster.G4_23 -0.009997340  3.2017024 7.463226e-02 1.256964e-01\n",
      "Mophological.cluster.G4_7  -0.023460649  2.1467570 1.439829e-01 2.248711e-01\n",
      "Mophological.cluster.G4_9  -0.008235046  2.1087121 1.475717e-01 2.248711e-01\n",
      "Mophological.cluster.G4_31  0.020303290  1.9730109 1.612266e-01 2.345115e-01\n",
      "Mophological.cluster.G4_19 -0.005815096  1.7869472 1.823735e-01 2.537371e-01\n",
      "Mophological.cluster.G4_14  0.012106791  1.1976458 2.747244e-01 3.662993e-01\n",
      "Mophological.cluster.G4_10 -0.011529373  1.1277082 2.891712e-01 3.701392e-01\n",
      "Mophological.cluster.G4_24 -0.009187108  0.9806772 3.228787e-01 3.973891e-01\n",
      "Mophological.cluster.G4_6   0.013498062  0.7475260 3.879938e-01 4.598445e-01\n",
      "Mophological.cluster.G4_28 -0.003040291  0.6173371 4.326967e-01 4.945105e-01\n",
      "Mophological.cluster.G4_18 -0.007828254  0.5181031 4.722467e-01 5.210999e-01\n",
      "Mophological.cluster.G4_5   0.005731427  0.4203995 5.172642e-01 5.392797e-01\n",
      "Mophological.cluster.G4_1  -0.007239976  0.4101204 5.224272e-01 5.392797e-01\n",
      "Mophological.cluster.G4_3   0.006142883  0.2560057 6.132720e-01 6.132720e-01\n",
      "\n",
      "$HGHT\n",
      "                                   logFC            F      PValue        FDR\n",
      "Mophological.cluster.G4_3  -0.1034388823 9.2322909337 0.002600255 0.08320817\n",
      "Mophological.cluster.G4_29  0.0926396877 5.8978178814 0.015783661 0.20960463\n",
      "Mophological.cluster.G4_18  0.0875586183 5.5052453042 0.019650434 0.20960463\n",
      "Mophological.cluster.G4_4   0.0877818153 4.7840287615 0.029544338 0.23635470\n",
      "Mophological.cluster.G4_13  0.0769240302 4.2611217609 0.039906660 0.24704208\n",
      "Mophological.cluster.G4_26 -0.0486549409 4.0050416166 0.046320390 0.24704208\n",
      "Mophological.cluster.G4_7   0.0921181771 3.4512086795 0.064245531 0.29369385\n",
      "Mophological.cluster.G4_9  -0.0315551931 3.0352684115 0.082560997 0.33024399\n",
      "Mophological.cluster.G4_5  -0.0342041478 2.0306027153 0.155262919 0.55204593\n",
      "Mophological.cluster.G4_17  0.0532056181 1.5512760226 0.213978847 0.68473231\n",
      "Mophological.cluster.G4_23 -0.0196446836 1.0841221639 0.298667176 0.81420445\n",
      "Mophological.cluster.G4_21  0.0281269380 1.0546068208 0.305326667 0.81420445\n",
      "Mophological.cluster.G4_19  0.0112944461 0.6324961163 0.427108658 0.87102279\n",
      "Mophological.cluster.G4_1  -0.0255669106 0.6183986033 0.432301912 0.87102279\n",
      "Mophological.cluster.G4_11 -0.0238863220 0.6125695650 0.434477308 0.87102279\n",
      "Mophological.cluster.G4_8   0.0261807488 0.5796532360 0.447083131 0.87102279\n",
      "Mophological.cluster.G4_20 -0.0190639707 0.5088294633 0.476234654 0.87102279\n",
      "Mophological.cluster.G4_0   0.0231660629 0.3923257300 0.531585033 0.87102279\n",
      "Mophological.cluster.G4_27  0.0176212904 0.3881645679 0.533768225 0.87102279\n",
      "Mophological.cluster.G4_24  0.0156347248 0.2959199768 0.586880521 0.87102279\n",
      "Mophological.cluster.G4_30 -0.0125414344 0.2923691078 0.589132256 0.87102279\n",
      "Mophological.cluster.G4_10  0.0161804376 0.2136061679 0.644311107 0.87102279\n",
      "Mophological.cluster.G4_22  0.0126314139 0.1821453426 0.669860962 0.87102279\n",
      "Mophological.cluster.G4_14  0.0151237222 0.1718431621 0.678793392 0.87102279\n",
      "Mophological.cluster.G4_31  0.0190365532 0.1699299992 0.680486552 0.87102279\n",
      "Mophological.cluster.G4_16 -0.0030071406 0.1236607810 0.725359559 0.89275023\n",
      "Mophological.cluster.G4_2  -0.0071905890 0.0579896145 0.809876736 0.91954786\n",
      "Mophological.cluster.G4_15  0.0048070400 0.0570691611 0.811362847 0.91954786\n",
      "Mophological.cluster.G4_12  0.0100431681 0.0392371314 0.843122034 0.91954786\n",
      "Mophological.cluster.G4_6  -0.0073902615 0.0233074727 0.878769160 0.91954786\n",
      "Mophological.cluster.G4_28  0.0016771209 0.0188789285 0.890811989 0.91954786\n",
      "Mophological.cluster.G4_25 -0.0006986068 0.0002932913 0.986348380 0.98634838\n",
      "\n",
      "$WGHT\n",
      "                                   logFC            F       PValue          FDR\n",
      "Mophological.cluster.G4_21  0.0123749903 18.403183650 2.457295e-05 0.0007863345\n",
      "Mophological.cluster.G4_18  0.0111262340  7.128653928 8.025436e-03 0.1087327919\n",
      "Mophological.cluster.G4_3  -0.0112068029  6.690378908 1.019370e-02 0.1087327919\n",
      "Mophological.cluster.G4_30  0.0062624654  6.150599274 1.371958e-02 0.1097566720\n",
      "Mophological.cluster.G4_22  0.0070432803  4.120867339 4.329411e-02 0.2770822768\n",
      "Mophological.cluster.G4_0   0.0073273277  3.607746645 5.852929e-02 0.3001055603\n",
      "Mophological.cluster.G4_9  -0.0039642572  3.415084086 6.564809e-02 0.3001055603\n",
      "Mophological.cluster.G4_13  0.0067455409  2.184644918 1.405071e-01 0.5620282217\n",
      "Mophological.cluster.G4_26 -0.0041121666  1.971598601 1.613765e-01 0.5680115522\n",
      "Mophological.cluster.G4_12  0.0067020130  1.658662014 1.988379e-01 0.5680115522\n",
      "Mophological.cluster.G4_17 -0.0065129275  1.458374983 2.281987e-01 0.5680115522\n",
      "Mophological.cluster.G4_31 -0.0065013582  1.435642203 2.318499e-01 0.5680115522\n",
      "Mophological.cluster.G4_4   0.0045575568  1.352568702 2.458108e-01 0.5680115522\n",
      "Mophological.cluster.G4_10  0.0050110421  1.337200519 2.485051e-01 0.5680115522\n",
      "Mophological.cluster.G4_19  0.0017768721  1.194133675 2.754282e-01 0.5875800680\n",
      "Mophological.cluster.G4_2  -0.0034517788  0.995433142 3.192718e-01 0.6385435104\n",
      "Mophological.cluster.G4_15 -0.0020639773  0.759726992 3.841540e-01 0.7231133944\n",
      "Mophological.cluster.G4_29  0.0030813135  0.596675174 4.404951e-01 0.7831023271\n",
      "Mophological.cluster.G4_14  0.0024821118  0.419474458 5.177253e-01 0.8187709606\n",
      "Mophological.cluster.G4_27  0.0020178225  0.397739237 5.287689e-01 0.8187709606\n",
      "Mophological.cluster.G4_23 -0.0014153323  0.371919539 5.424499e-01 0.8187709606\n",
      "Mophological.cluster.G4_16  0.0005821968  0.334203863 5.636546e-01 0.8187709606\n",
      "Mophological.cluster.G4_6   0.0028103669  0.293376639 5.884916e-01 0.8187709606\n",
      "Mophological.cluster.G4_11 -0.0015779097  0.207255384 6.492768e-01 0.8368576280\n",
      "Mophological.cluster.G4_8   0.0016105663  0.201577093 6.537950e-01 0.8368576280\n",
      "Mophological.cluster.G4_25  0.0019965651  0.141655385 7.069233e-01 0.8548515090\n",
      "Mophological.cluster.G4_20 -0.0011046860  0.112333090 7.377521e-01 0.8548515090\n",
      "Mophological.cluster.G4_7   0.0014547062  0.093296147 7.602528e-01 0.8548515090\n",
      "Mophological.cluster.G4_28 -0.0003811402  0.067730344 7.948601e-01 0.8548515090\n",
      "Mophological.cluster.G4_1  -0.0010323929  0.063374170 8.014233e-01 0.8548515090\n",
      "Mophological.cluster.G4_24 -0.0006805643  0.042716222 8.364094e-01 0.8633903425\n",
      "Mophological.cluster.G4_5   0.0002594824  0.009559774 9.221810e-01 0.9221809986\n",
      "\n",
      "$BMI\n",
      "                                   logFC            F       PValue          FDR\n",
      "Mophological.cluster.G4_21  0.0973934273 1.981739e+01 0.0000122779 0.0003928929\n",
      "Mophological.cluster.G4_30  0.0715540657 1.244413e+01 0.0004891948 0.0078271175\n",
      "Mophological.cluster.G4_17 -0.1323320852 7.700928e+00 0.0058874225 0.0627991733\n",
      "Mophological.cluster.G4_22  0.0599407087 4.947025e+00 0.0269259275 0.2154074203\n",
      "Mophological.cluster.G4_0   0.0619071874 3.602325e+00 0.0587179807 0.3757950764\n",
      "Mophological.cluster.G4_18  0.0585172219 2.584508e+00 0.1090308449 0.5051667991\n",
      "Mophological.cluster.G4_31 -0.0691919883 2.563045e+00 0.1105052373 0.5051667991\n",
      "Mophological.cluster.G4_12  0.0572200219 2.074005e+00 0.1509348266 0.6037393062\n",
      "Mophological.cluster.G4_7  -0.0545184188 1.403646e+00 0.2371096711 0.7303437528\n",
      "Mophological.cluster.G4_10  0.0400241878 1.363373e+00 0.2439382484 0.7303437528\n",
      "Mophological.cluster.G4_15 -0.0218204972 1.302894e+00 0.2546517954 0.7303437528\n",
      "Mophological.cluster.G4_2  -0.0301941526 1.100276e+00 0.2951020281 0.7303437528\n",
      "Mophological.cluster.G4_16  0.0084549436 1.031885e+00 0.3105854961 0.7303437528\n",
      "Mophological.cluster.G4_5   0.0243403090 9.943886e-01 0.3195253918 0.7303437528\n",
      "Mophological.cluster.G4_9  -0.0161269123 8.015761e-01 0.3713846792 0.7922873156\n",
      "Mophological.cluster.G4_24 -0.0232998478 6.476804e-01 0.4216199140 0.7996056430\n",
      "Mophological.cluster.G4_3  -0.0280746487 5.818663e-01 0.4462181078 0.7996056430\n",
      "Mophological.cluster.G4_19  0.0101675324 5.701986e-01 0.4508090288 0.7996056430\n",
      "Mophological.cluster.G4_6   0.0335031797 5.122307e-01 0.4747658505 0.7996056430\n",
      "Mophological.cluster.G4_29 -0.0183152125 3.370383e-01 0.5620065479 0.8651865055\n",
      "Mophological.cluster.G4_25  0.0245217085 3.271809e-01 0.5677786442 0.8651865055\n",
      "Mophological.cluster.G4_14  0.0151917002 2.279245e-01 0.6334361613 0.8910631808\n",
      "Mophological.cluster.G4_28 -0.0053048591 1.854374e-01 0.6670698183 0.8910631808\n",
      "Mophological.cluster.G4_1   0.0136119084 1.529356e-01 0.6960403984 0.8910631808\n",
      "Mophological.cluster.G4_23  0.0067884177 1.442683e-01 0.7043594699 0.8910631808\n",
      "Mophological.cluster.G4_27  0.0080712221 9.280623e-02 0.7608637529 0.8910631808\n",
      "Mophological.cluster.G4_13  0.0111490513 9.174355e-02 0.7621950785 0.8910631808\n",
      "Mophological.cluster.G4_26 -0.0071242592 7.840154e-02 0.7796802832 0.8910631808\n",
      "Mophological.cluster.G4_11 -0.0072450996 5.499053e-02 0.8147662191 0.8990523797\n",
      "Mophological.cluster.G4_20  0.0040698781 2.048149e-02 0.8863025157 0.9453893501\n",
      "Mophological.cluster.G4_8  -0.0015043830 2.444136e-03 0.9606050182 0.9767364980\n",
      "Mophological.cluster.G4_4  -0.0009609733 8.518485e-04 0.9767364980 0.9767364980\n",
      "\n",
      "$TRISCHD\n",
      "                                   logFC           F       PValue          FDR\n",
      "Mophological.cluster.G4_18  2.235436e-03 41.25472894 5.644834e-10 1.806347e-08\n",
      "Mophological.cluster.G4_28 -6.669062e-04 31.77883876 4.182630e-08 6.692209e-07\n",
      "Mophological.cluster.G4_6   2.231362e-03 23.41272654 2.152558e-06 2.296061e-05\n",
      "Mophological.cluster.G4_4   1.847704e-03 22.80615397 2.881201e-06 2.304961e-05\n",
      "Mophological.cluster.G4_1  -1.478969e-03 20.81698299 7.541742e-06 4.826715e-05\n",
      "Mophological.cluster.G4_14  1.541873e-03 18.89566065 1.928527e-05 1.028548e-04\n",
      "Mophological.cluster.G4_2  -1.026983e-03 14.75450604 1.512222e-04 6.913016e-04\n",
      "Mophological.cluster.G4_9  -6.517324e-04 14.45431895 1.759443e-04 7.020249e-04\n",
      "Mophological.cluster.G4_24 -1.079840e-03 14.22617693 1.974445e-04 7.020249e-04\n",
      "Mophological.cluster.G4_3  -1.237020e-03 12.19637349 5.554961e-04 1.777588e-03\n",
      "Mophological.cluster.G4_25 -1.374355e-03 11.10434400 9.760057e-04 2.839289e-03\n",
      "Mophological.cluster.G4_30  6.511762e-04  6.99901352 8.612098e-03 2.134141e-02\n",
      "Mophological.cluster.G4_12  1.436792e-03  6.89919441 9.093862e-03 2.134141e-02\n",
      "Mophological.cluster.G4_13  1.038526e-03  6.85089325 9.336866e-03 2.134141e-02\n",
      "Mophological.cluster.G4_0   1.047601e-03  6.46179942 1.155593e-02 2.465266e-02\n",
      "Mophological.cluster.G4_16 -1.706491e-04  3.77491277 5.301959e-02 1.060392e-01\n",
      "Mophological.cluster.G4_29  7.628246e-04  3.62427692 5.795801e-02 1.090974e-01\n",
      "Mophological.cluster.G4_20 -4.829089e-04  3.42496890 6.526093e-02 1.160194e-01\n",
      "Mophological.cluster.G4_23 -3.094075e-04  2.87098812 9.129114e-02 1.537535e-01\n",
      "Mophological.cluster.G4_21  3.959739e-04  2.27591915 1.325143e-01 2.120230e-01\n",
      "Mophological.cluster.G4_5  -3.577708e-04  2.00146757 1.582479e-01 2.411396e-01\n",
      "Mophological.cluster.G4_7  -6.168497e-04  1.68901919 1.947894e-01 2.833301e-01\n",
      "Mophological.cluster.G4_26 -2.901813e-04  1.56306959 2.122506e-01 2.953052e-01\n",
      "Mophological.cluster.G4_27  2.606382e-04  0.77196884 3.803551e-01 5.071401e-01\n",
      "Mophological.cluster.G4_22 -2.204622e-04  0.50078077 4.797405e-01 6.140678e-01\n",
      "Mophological.cluster.G4_15  9.194709e-05  0.25258617 6.156513e-01 7.577247e-01\n",
      "Mophological.cluster.G4_31  1.362287e-04  0.10565191 7.453902e-01 8.482757e-01\n",
      "Mophological.cluster.G4_8  -9.890148e-05  0.08497915 7.708738e-01 8.482757e-01\n",
      "Mophological.cluster.G4_19  3.900679e-05  0.07618631 7.827355e-01 8.482757e-01\n",
      "Mophological.cluster.G4_10  7.808214e-05  0.06129242 8.046445e-01 8.482757e-01\n",
      "Mophological.cluster.G4_11  7.072678e-05  0.05084227 8.217671e-01 8.482757e-01\n",
      "Mophological.cluster.G4_17 -6.826007e-05  0.02970352 8.632880e-01 8.632880e-01\n",
      "\n",
      "$DTHHRDY\n",
      "                                 logFC            F       PValue          FDR\n",
      "Mophological.cluster.G4_18  2.84333227 2.252452e+01 3.315927e-06 0.0001061097\n",
      "Mophological.cluster.G4_6   3.08188328 1.607809e+01 7.805352e-05 0.0012488563\n",
      "Mophological.cluster.G4_28 -0.98522421 1.005808e+01 1.685683e-03 0.0179806209\n",
      "Mophological.cluster.G4_24 -2.15722797 6.822135e+00 9.490087e-03 0.0759206981\n",
      "Mophological.cluster.G4_1  -2.51480337 6.408592e+00 1.190524e-02 0.0761935230\n",
      "Mophological.cluster.G4_14  1.49838066 5.200931e+00 2.332764e-02 0.1244140803\n",
      "Mophological.cluster.G4_3  -1.95289530 3.645042e+00 5.726021e-02 0.2617609432\n",
      "Mophological.cluster.G4_27 -1.33704663 3.023644e+00 8.315990e-02 0.3027532387\n",
      "Mophological.cluster.G4_9  -0.77801446 2.984894e+00 8.514935e-02 0.3027532387\n",
      "Mophological.cluster.G4_22 -1.21825411 2.262589e+00 1.336614e-01 0.4258380278\n",
      "Mophological.cluster.G4_13  1.15488833 2.121339e+00 1.463818e-01 0.4258380278\n",
      "Mophological.cluster.G4_7  -1.78047364 1.821226e+00 1.782594e-01 0.4753583019\n",
      "Mophological.cluster.G4_20 -0.87012426 1.491012e+00 2.230885e-01 0.5491408301\n",
      "Mophological.cluster.G4_30  0.49391547 1.170151e+00 2.803026e-01 0.6406917039\n",
      "Mophological.cluster.G4_29 -0.90761418 9.448912e-01 3.318635e-01 0.6722106818\n",
      "Mophological.cluster.G4_8  -0.79883162 9.191868e-01 3.385171e-01 0.6722106818\n",
      "Mophological.cluster.G4_4   0.70700364 7.924630e-01 3.741220e-01 0.6722106818\n",
      "Mophological.cluster.G4_16 -0.18247970 7.396585e-01 3.905073e-01 0.6722106818\n",
      "Mophological.cluster.G4_2  -0.58634691 7.131415e-01 3.991251e-01 0.6722106818\n",
      "Mophological.cluster.G4_5  -0.45252768 5.471768e-01 4.600944e-01 0.7268091724\n",
      "Mophological.cluster.G4_25 -0.75780042 4.960527e-01 4.818261e-01 0.7268091724\n",
      "Mophological.cluster.G4_26 -0.40977361 4.528296e-01 5.015502e-01 0.7268091724\n",
      "Mophological.cluster.G4_11  0.45458527 4.101973e-01 5.223941e-01 0.7268091724\n",
      "Mophological.cluster.G4_23  0.18991291 1.912117e-01 6.622477e-01 0.8778156872\n",
      "Mophological.cluster.G4_31 -0.42061330 1.480798e-01 7.006698e-01 0.8778156872\n",
      "Mophological.cluster.G4_12 -0.39816375 1.353514e-01 7.132252e-01 0.8778156872\n",
      "Mophological.cluster.G4_19  0.08018289 5.538232e-02 8.141214e-01 0.9648846814\n",
      "Mophological.cluster.G4_21  0.07205012 1.549566e-02 9.010235e-01 0.9879450966\n",
      "Mophological.cluster.G4_17 -0.07687107 5.166731e-03 9.427488e-01 0.9879450966\n",
      "Mophological.cluster.G4_15 -0.02631364 3.096773e-03 9.556615e-01 0.9879450966\n",
      "Mophological.cluster.G4_0   0.02468329 8.618604e-04 9.766005e-01 0.9879450966\n",
      "Mophological.cluster.G4_10  0.01225064 2.286954e-04 9.879451e-01 0.9879450966\n",
      "\n"
     ]
    }
   ],
   "source": [
    "# Create a list DME that will contain the results of differential morphological expression\n",
    "DME_clinical_variable <- list()\n",
    "\n",
    "# Iterate through each clinical variables and apply the function DME on them\n",
    "for (var in colnames(clinical_data[,-1])){\n",
    "    DME_clinical_variable[[var]] <- DME(var)\n",
    "}\n",
    "# Print the final results of the 8 DME\n",
    "print(DME_clinical_variable)"
   ]
  },
  {
   "cell_type": "markdown",
   "id": "c414f200-d383-4d51-a240-205b219c63a5",
   "metadata": {},
   "source": [
    "Note that the output of `$DTHHRDY` is not complete as it only shows the contrast between level 0 et level 1 of hardy scale (see later `section 2.2.3`) and `DTHHRDY` has 5 levels. "
   ]
  },
  {
   "cell_type": "markdown",
   "id": "7667b7eb-5001-422e-9155-adac689585be",
   "metadata": {},
   "source": [
    "Note that the number of morphological cluster (number of rows) in the final differentially expressed can be less than 32 because of the step of filtering lowly expressed morphological clusters meaning that every morphological clusters are not every time present in the final table."
   ]
  },
  {
   "cell_type": "code",
   "execution_count": 29,
   "id": "3774f95f-d633-401b-aa00-85bb739c091f",
   "metadata": {},
   "outputs": [
    {
     "name": "stdout",
     "output_type": "stream",
     "text": [
      "[1] 30\n",
      "[1] 31\n",
      "[1] 32\n"
     ]
    }
   ],
   "source": [
    "# Example with COHORT, SEX and AGE \n",
    "print(nrow(DME_clinical_variable$COHORT))\n",
    "print(nrow(DME_clinical_variable$SEX))\n",
    "print(nrow(DME_clinical_variable$AGE))"
   ]
  },
  {
   "cell_type": "markdown",
   "id": "20fa5618-b62c-4c15-8fbb-87c4b8fca5af",
   "metadata": {},
   "source": [
    "### 2.2 Discuss the association with technical variables"
   ]
  },
  {
   "cell_type": "markdown",
   "id": "f49e1108-5942-459e-9647-0a18a262e34d",
   "metadata": {},
   "source": [
    "The 3 technical variables are `COHORT`, `TRISCHD`, `DTHHRDY`. The main idea is to see which morpholigical clusters are differentially expressed for the 3 technical variables."
   ]
  },
  {
   "cell_type": "markdown",
   "id": "39eb5811-f34b-4877-ae77-cfa7083bace5",
   "metadata": {},
   "source": [
    "#### 2.2.1 Association between the `COHORT` variable and morphological clusters "
   ]
  },
  {
   "cell_type": "markdown",
   "id": "09cc54b7-3982-4ec0-a00c-a2df3b37a811",
   "metadata": {},
   "source": [
    "The goal is to see which morphological clusters is differentially expressed between the two levels of the `COHORT` variable (Organ donor and Post mortem)."
   ]
  },
  {
   "cell_type": "markdown",
   "id": "664644cf-4264-4085-889b-3bf05dceeb07",
   "metadata": {},
   "source": [
    "We can use a volcanoplot to visualize the significant upregulated and downregulated morphological clusters. Note that \n",
    "the upregulation and downregulation is arbitrary because it depends of the contrast used for the differential expression. In our case, the contrast is \"Organ donor-Post mortem\". Hence, an upregulated morphological cluster means that his expression is upregulated in the Organ donor cohort compared to the Post mortem cohort (and reciprocally for down regulated morphological cluster). We considered arbitrarly that a morphological cluster is upregulated if the log2FC is superior or equal to 1 and if the FDR (p-adjusted value) is inferior or equal to 0.05 (-log10FDR > 1.3) and same for downregulated but with log2FC inferior or equal to 1."
   ]
  },
  {
   "cell_type": "code",
   "execution_count": 35,
   "id": "b60dbbdb-8141-4e1e-b117-51f560dd6a57",
   "metadata": {},
   "outputs": [
    {
     "name": "stderr",
     "output_type": "stream",
     "text": [
      "Warning message:\n",
      "\"\u001b[1m\u001b[22mRemoved 15 rows containing missing values or values outside the scale range (`geom_text_repel()`).\"\n"
     ]
    },
    {
     "data": {
      "image/png": "[encoded data removed]",
      "text/plain": [
       "plot without title"
      ]
     },
     "metadata": {
      "image/png": {
       "height": 720,
       "width": 720
      }
     },
     "output_type": "display_data"
    }
   ],
   "source": [
    "#Source : https://biostatsquid.com/volcano-plots-r-tutorial/\n",
    "\n",
    "library(tidyverse) # includes ggplot2, for data visualisation. dplyr, for data manipulation.\n",
    "library(RColorBrewer) # for a colourful plot\n",
    "library(ggrepel) # for nice annotations\n",
    "\n",
    "\n",
    "##### COHORT volcanoplot\n",
    "d_topTags <- DME_clinical_variable$COHORT\n",
    "# Biostatsquid theme\n",
    "theme_set(theme_classic(base_size = 20) +\n",
    "            theme(\n",
    "              axis.title.y = element_text(face = \"bold\", margin = margin(0,20,0,0), size = rel(1.1), color = 'black'),\n",
    "              axis.title.x = element_text(hjust = 0.5, face = \"bold\", margin = margin(20,0,0,0), size = rel(1.1), color = 'black'),\n",
    "              plot.title = element_text(hjust = 0.5)\n",
    "            ))\n",
    "# Add a column to the data frame to specify if they are UP- or DOWN- regulated \n",
    "d_topTags$diffexpressed <- \"NO\"  # add a column diffexpressed with only NO  \n",
    "# if log2Foldchange > 1 and FDR < 0.05, set as \"UP\"  \n",
    "d_topTags$diffexpressed[d_topTags$logFC > 1 & d_topTags$FDR < 0.05] <- \"UP\"\n",
    "# if log2Foldchange < -1 and FDR < 0.05, set as \"DOWN\"\n",
    "d_topTags$diffexpressed[d_topTags$logFC < -1 & d_topTags$FDR < 0.05] <- \"DOWN\"\n",
    "\n",
    "# Create a new column \"delabel\" to de, that will contain the name of the top 15 differentially expressed genes (NA in case they are not)\n",
    "data_test<- d_topTags\n",
    "names <- rownames(d_topTags)\n",
    "d_topTags <- cbind(names,d_topTags)\n",
    "d_topTags$delabel <- ifelse(d_topTags$names %in% head(d_topTags[order(d_topTags$FDR), \"names\"], 15), d_topTags$names, NA)\n",
    "\n",
    "# Set plot size: width and height in inches\n",
    "options(repr.plot.width = 12, repr.plot.height = 12)\n",
    "\n",
    "ggplot(data = d_topTags, aes(x = logFC, y = -log10(FDR), col = diffexpressed, label = delabel)) +\n",
    "  geom_vline(xintercept = c(-1, 1), col = \"gray\", linetype = 'dashed') +\n",
    "  geom_hline(yintercept = -log10(0.05), col = \"gray\", linetype = 'dashed') + \n",
    "  geom_point(size = 2) + \n",
    "  scale_color_manual(values = c(\"#00AFBB\", \"grey\", \"#bb0c00\"), # to set the colours of our variable  \n",
    "                     labels = c(\"Downregulated\", \"Not significant\", \"Upregulated\")) + \n",
    "  coord_cartesian(ylim = c(0, 7), xlim = c(-2, 2)) + # set the limits of the axes\n",
    "  labs(color = 'Regulation', #legend_title, \n",
    "       x = expression(\"log\"[2]*\"FC\"), y = expression(\"-log\"[10]*\"FDR\")) + \n",
    "  scale_x_continuous(breaks = seq(-10, 10, 2)) + # to customise the breaks in the x axis\n",
    "  ggtitle('COHORT differential morphological cluster expression (Aorta)') +\n",
    "  geom_text_repel(max.overlaps = Inf) # To show all labels"
   ]
  },
  {
   "cell_type": "markdown",
   "id": "c4e5fd5d-e76a-43cc-b922-90ba55bb4d89",
   "metadata": {},
   "source": [
    "We can see that for example, morphological cluster 1, 2 and 25 are significantly downregulated in the organ donor cohort (compared to the post mortem cohort) and cluster 18, 14 and 0 are significantly upregulated in the organ donor cohort. Note again that the tresholds for log2FC and -log10FDR are completly arbitrary. For example, if we took a less stringent log2FC treshold, cluster 28 could have been considered significant as it has a very low -log10FDR. "
   ]
  },
  {
   "cell_type": "markdown",
   "id": "e3509d14-fec7-43dc-a103-321c62f3ceb1",
   "metadata": {},
   "source": [
    "#### 2.2.2 Association between the `TRISCHD` variable and morphological clusters"
   ]
  },
  {
   "cell_type": "markdown",
   "id": "38e313c2-8394-4c07-a551-c1b156289c48",
   "metadata": {},
   "source": [
    "Here, the difference with the `COHORT` variable is that `TRISCHD` is a continuous variable and not a categorical variable meaning that the interpretation is different. "
   ]
  },
  {
   "cell_type": "code",
   "execution_count": 39,
   "id": "26da8447-7594-40bd-8804-ffdb1d6c2f88",
   "metadata": {},
   "outputs": [
    {
     "name": "stdout",
     "output_type": "stream",
     "text": [
      "                                   logFC           F       PValue          FDR\n",
      "Mophological.cluster.G4_18  2.235436e-03 41.25472894 5.644834e-10 1.806347e-08\n",
      "Mophological.cluster.G4_28 -6.669062e-04 31.77883876 4.182630e-08 6.692209e-07\n",
      "Mophological.cluster.G4_6   2.231362e-03 23.41272654 2.152558e-06 2.296061e-05\n",
      "Mophological.cluster.G4_4   1.847704e-03 22.80615397 2.881201e-06 2.304961e-05\n",
      "Mophological.cluster.G4_1  -1.478969e-03 20.81698299 7.541742e-06 4.826715e-05\n",
      "Mophological.cluster.G4_14  1.541873e-03 18.89566065 1.928527e-05 1.028548e-04\n",
      "Mophological.cluster.G4_2  -1.026983e-03 14.75450604 1.512222e-04 6.913016e-04\n",
      "Mophological.cluster.G4_9  -6.517324e-04 14.45431895 1.759443e-04 7.020249e-04\n",
      "Mophological.cluster.G4_24 -1.079840e-03 14.22617693 1.974445e-04 7.020249e-04\n",
      "Mophological.cluster.G4_3  -1.237020e-03 12.19637349 5.554961e-04 1.777588e-03\n",
      "Mophological.cluster.G4_25 -1.374355e-03 11.10434400 9.760057e-04 2.839289e-03\n",
      "Mophological.cluster.G4_30  6.511762e-04  6.99901352 8.612098e-03 2.134141e-02\n",
      "Mophological.cluster.G4_12  1.436792e-03  6.89919441 9.093862e-03 2.134141e-02\n",
      "Mophological.cluster.G4_13  1.038526e-03  6.85089325 9.336866e-03 2.134141e-02\n",
      "Mophological.cluster.G4_0   1.047601e-03  6.46179942 1.155593e-02 2.465266e-02\n",
      "Mophological.cluster.G4_16 -1.706491e-04  3.77491277 5.301959e-02 1.060392e-01\n",
      "Mophological.cluster.G4_29  7.628246e-04  3.62427692 5.795801e-02 1.090974e-01\n",
      "Mophological.cluster.G4_20 -4.829089e-04  3.42496890 6.526093e-02 1.160194e-01\n",
      "Mophological.cluster.G4_23 -3.094075e-04  2.87098812 9.129114e-02 1.537535e-01\n",
      "Mophological.cluster.G4_21  3.959739e-04  2.27591915 1.325143e-01 2.120230e-01\n",
      "Mophological.cluster.G4_5  -3.577708e-04  2.00146757 1.582479e-01 2.411396e-01\n",
      "Mophological.cluster.G4_7  -6.168497e-04  1.68901919 1.947894e-01 2.833301e-01\n",
      "Mophological.cluster.G4_26 -2.901813e-04  1.56306959 2.122506e-01 2.953052e-01\n",
      "Mophological.cluster.G4_27  2.606382e-04  0.77196884 3.803551e-01 5.071401e-01\n",
      "Mophological.cluster.G4_22 -2.204622e-04  0.50078077 4.797405e-01 6.140678e-01\n",
      "Mophological.cluster.G4_15  9.194709e-05  0.25258617 6.156513e-01 7.577247e-01\n",
      "Mophological.cluster.G4_31  1.362287e-04  0.10565191 7.453902e-01 8.482757e-01\n",
      "Mophological.cluster.G4_8  -9.890148e-05  0.08497915 7.708738e-01 8.482757e-01\n",
      "Mophological.cluster.G4_19  3.900679e-05  0.07618631 7.827355e-01 8.482757e-01\n",
      "Mophological.cluster.G4_10  7.808214e-05  0.06129242 8.046445e-01 8.482757e-01\n",
      "Mophological.cluster.G4_11  7.072678e-05  0.05084227 8.217671e-01 8.482757e-01\n",
      "Mophological.cluster.G4_17 -6.826007e-05  0.02970352 8.632880e-01 8.632880e-01\n"
     ]
    }
   ],
   "source": [
    "print(DME_clinical_variable$TRISCHD)"
   ]
  },
  {
   "cell_type": "markdown",
   "id": "c0d80de0-d8a2-42e0-b864-c964078ada17",
   "metadata": {},
   "source": [
    "Let's take cluster 18 as an example for the interpretation of log2FC. A log2FC of 2.235436e-03 means that the expression of the morphological cluster should increase by 2^2.235436e-03 for each additionnal value of `TRISCHD`. It is exactly the same principle as a linear relationship between 2 variables. Of course, the same thinking process can applied to the other clusters and for the other continuous variables. "
   ]
  },
  {
   "cell_type": "markdown",
   "id": "f8c930ba-0643-4e41-8216-4a3b51f364bc",
   "metadata": {},
   "source": [
    "As a consequence, it does not really make sense to make a volcanoplot to show the visualize result because volcano plot allows to see the differentially expression between 2 groups."
   ]
  },
  {
   "cell_type": "markdown",
   "id": "9d816ddf-aa43-45d2-8dbb-c7f5a4d962fa",
   "metadata": {},
   "source": [
    "#### 2.2.3 Association between the `DTHHRDY` variable and morphological clusters"
   ]
  },
  {
   "cell_type": "markdown",
   "id": "1c1e6755-eaa7-4608-bce8-1e3044786725",
   "metadata": {},
   "source": [
    "`DTHHRDY` is a factor variable like `COHORT` but the main difference is that it has 5 levels instead of only 2 which makes the procedure more complicated because we need to make pairwise comparisons (using contrast) for each group of the hardy scale."
   ]
  },
  {
   "cell_type": "markdown",
   "id": "c16c72f3-609b-4f69-8e70-35fced0bb56d",
   "metadata": {},
   "source": [
    "We used the section `3.2.3 GLM approach` from the edgeRUsersGuide to write this code. "
   ]
  },
  {
   "cell_type": "markdown",
   "id": "d318037f-e0cd-445f-9960-f55aa14373eb",
   "metadata": {},
   "source": [
    "Note that we will only show an example how to compare the level 0 (as a reference) and level 1 of the hardy scale to prevent too much outputs. To make the other contrasts, we only need to change the code `glmQLFTest(fit, contrast=c(1,-1,0,0,0))`. For example, if we wanted to compare level 2 (as a reference) and level 4, we should replace constrast vector from the code by the following one : `glmQLFTest(fit, contrast=c(0,0,1,0,-1))`."
   ]
  },
  {
   "cell_type": "code",
   "execution_count": 103,
   "id": "8b9a0566-43fb-4f8a-8ef0-2eeb3df8be83",
   "metadata": {},
   "outputs": [
    {
     "name": "stdout",
     "output_type": "stream",
     "text": [
      "                                 logFC            F       PValue          FDR\n",
      "Mophological.cluster.G4_18 -2.84333227 2.252452e+01 3.315927e-06 0.0001061097\n",
      "Mophological.cluster.G4_6  -3.08188328 1.607809e+01 7.805352e-05 0.0012488563\n",
      "Mophological.cluster.G4_28  0.98522421 1.005808e+01 1.685683e-03 0.0179806209\n",
      "Mophological.cluster.G4_24  2.15722797 6.822135e+00 9.490087e-03 0.0759206981\n",
      "Mophological.cluster.G4_1   2.51480337 6.408592e+00 1.190524e-02 0.0761935230\n",
      "Mophological.cluster.G4_14 -1.49838066 5.200931e+00 2.332764e-02 0.1244140803\n",
      "Mophological.cluster.G4_3   1.95289530 3.645042e+00 5.726021e-02 0.2617609432\n",
      "Mophological.cluster.G4_27  1.33704663 3.023644e+00 8.315990e-02 0.3027532387\n",
      "Mophological.cluster.G4_9   0.77801446 2.984894e+00 8.514935e-02 0.3027532387\n",
      "Mophological.cluster.G4_22  1.21825411 2.262589e+00 1.336614e-01 0.4258380278\n",
      "Mophological.cluster.G4_13 -1.15488833 2.121339e+00 1.463818e-01 0.4258380278\n",
      "Mophological.cluster.G4_7   1.78047364 1.821226e+00 1.782594e-01 0.4753583019\n",
      "Mophological.cluster.G4_20  0.87012426 1.491012e+00 2.230885e-01 0.5491408301\n",
      "Mophological.cluster.G4_30 -0.49391547 1.170151e+00 2.803026e-01 0.6406917039\n",
      "Mophological.cluster.G4_29  0.90761418 9.448912e-01 3.318635e-01 0.6722106818\n",
      "Mophological.cluster.G4_8   0.79883162 9.191868e-01 3.385171e-01 0.6722106818\n",
      "Mophological.cluster.G4_4  -0.70700364 7.924630e-01 3.741220e-01 0.6722106818\n",
      "Mophological.cluster.G4_16  0.18247970 7.396585e-01 3.905073e-01 0.6722106818\n",
      "Mophological.cluster.G4_2   0.58634691 7.131415e-01 3.991251e-01 0.6722106818\n",
      "Mophological.cluster.G4_5   0.45252768 5.471768e-01 4.600944e-01 0.7268091724\n",
      "Mophological.cluster.G4_25  0.75780042 4.960527e-01 4.818261e-01 0.7268091724\n",
      "Mophological.cluster.G4_26  0.40977361 4.528296e-01 5.015502e-01 0.7268091724\n",
      "Mophological.cluster.G4_11 -0.45458527 4.101973e-01 5.223941e-01 0.7268091724\n",
      "Mophological.cluster.G4_23 -0.18991291 1.912117e-01 6.622477e-01 0.8778156872\n",
      "Mophological.cluster.G4_31  0.42061330 1.480798e-01 7.006698e-01 0.8778156872\n",
      "Mophological.cluster.G4_12  0.39816375 1.353514e-01 7.132252e-01 0.8778156872\n",
      "Mophological.cluster.G4_19 -0.08018289 5.538232e-02 8.141214e-01 0.9648846814\n",
      "Mophological.cluster.G4_21 -0.07205012 1.549566e-02 9.010235e-01 0.9879450966\n",
      "Mophological.cluster.G4_17  0.07687107 5.166731e-03 9.427488e-01 0.9879450966\n",
      "Mophological.cluster.G4_15  0.02631364 3.096773e-03 9.556615e-01 0.9879450966\n",
      "Mophological.cluster.G4_0  -0.02468329 8.618604e-04 9.766005e-01 0.9879450966\n",
      "Mophological.cluster.G4_10 -0.01225064 2.286954e-04 9.879451e-01 0.9879450966\n"
     ]
    }
   ],
   "source": [
    "# Create the differential expression data structure used by edgeR (DGEList)\n",
    "DGE_list <- DGEList(counts = morphological_counts, group = clinical_data$DTHHRDY)\n",
    "    \n",
    "# Filter lowly expressed morphological clusters\n",
    "keep <- filterByExpr(DGE_list)\n",
    "DGE_list <- DGE_list[keep, , keep.lib.sizes=FALSE]\n",
    "    \n",
    "# Normalize the data\n",
    "DGE_list <- normLibSizes(DGE_list)\n",
    "\n",
    "# Create a design matrix\n",
    "design <- model.matrix(~0+clinical_data$DTHHRDY)\n",
    "    \n",
    "#Estimate the dispersion\n",
    "DGE_list <- estimateDisp(DGE_list, design)\n",
    "\n",
    "fit <- glmQLFit(DGE_list, design)\n",
    "qlf <- glmQLFTest(fit, contrast=c(1,-1,0,0,0))\n",
    "print(topTags(qlf, n = 32)$table[ ,-2])"
   ]
  },
  {
   "cell_type": "markdown",
   "id": "28c30f3e-9204-4313-868f-5d30dd49f194",
   "metadata": {},
   "source": [
    "To make a link with the output `section 2.1`, we see that this output is exactly the same as the one in `section 2.1` at the exception of the minus sign. It means that edgeR takes by default the contrast between minus the first level (-level 0) and the second level (level1). "
   ]
  },
  {
   "cell_type": "markdown",
   "id": "27e784c4-a501-455f-b271-422b7a56a1fc",
   "metadata": {},
   "source": [
    "We can use a volcanoplot to visualize the significant upregulated and downregulated morphological clusters for the level 0 (compared to level 1) of the hardy scale. As a reminder for biological interpretation, level 0 = death under ventilator and level 1 = violent and rapid death. Note that we have to be careful for this result as the level 0 has 156 samples associated to it compared to only 8 for the level 1."
   ]
  },
  {
   "cell_type": "code",
   "execution_count": 93,
   "id": "113b8ee2-b5eb-403b-9a6a-45321670f9cc",
   "metadata": {},
   "outputs": [
    {
     "data": {
      "text/plain": [
       "\n",
       "  0   1   2   3   4 \n",
       "156   8  77  13  26 "
      ]
     },
     "metadata": {},
     "output_type": "display_data"
    }
   ],
   "source": [
    "table(clinical_data$DTHHRDY)"
   ]
  },
  {
   "cell_type": "code",
   "execution_count": 102,
   "id": "b6ec5034-345a-465e-b10c-e44545eec641",
   "metadata": {},
   "outputs": [
    {
     "name": "stderr",
     "output_type": "stream",
     "text": [
      "Warning message:\n",
      "\"\u001b[1m\u001b[22mRemoved 17 rows containing missing values or values outside the scale range (`geom_text_repel()`).\"\n"
     ]
    },
    {
     "data": {
      "image/png": "[encoded data removed]",
      "text/plain": [
       "plot without title"
      ]
     },
     "metadata": {
      "image/png": {
       "height": 720,
       "width": 720
      }
     },
     "output_type": "display_data"
    }
   ],
   "source": [
    "#Source : https://biostatsquid.com/volcano-plots-r-tutorial/\n",
    "\n",
    "library(tidyverse) # includes ggplot2, for data visualisation. dplyr, for data manipulation.\n",
    "library(RColorBrewer) # for a colourful plot\n",
    "library(ggrepel) # for nice annotations\n",
    "\n",
    "\n",
    "##### DTHHRDY volcanoplot between level 0 and level 1 of DTHHRDY\n",
    "d_topTags <- topTags(qlf, n = 32)$table[ ,-2]\n",
    "# Biostatsquid theme\n",
    "theme_set(theme_classic(base_size = 20) +\n",
    "            theme(\n",
    "              axis.title.y = element_text(face = \"bold\", margin = margin(0,20,0,0), size = rel(1.1), color = 'black'),\n",
    "              axis.title.x = element_text(hjust = 0.5, face = \"bold\", margin = margin(20,0,0,0), size = rel(1.1), color = 'black'),\n",
    "              plot.title = element_text(hjust = 0.5)\n",
    "            ))\n",
    "# Add a column to the data frame to specify if they are UP- or DOWN- regulated \n",
    "d_topTags$diffexpressed <- \"NO\"  # add a column diffexpressed with only NO  \n",
    "# if log2Foldchange > 1 and FDR < 0.05, set as \"UP\"  \n",
    "d_topTags$diffexpressed[d_topTags$logFC > 1 & d_topTags$FDR < 0.05] <- \"UP\"\n",
    "# if log2Foldchange < -1 and FDR < 0.05, set as \"DOWN\"\n",
    "d_topTags$diffexpressed[d_topTags$logFC < -1 & d_topTags$FDR < 0.05] <- \"DOWN\"\n",
    "\n",
    "# Create a new column \"delabel\" to de, that will contain the name of the top 15 differentially expressed genes (NA in case they are not)\n",
    "data_test<- d_topTags\n",
    "names <- rownames(d_topTags)\n",
    "d_topTags <- cbind(names,d_topTags)\n",
    "d_topTags$delabel <- ifelse(d_topTags$names %in% head(d_topTags[order(d_topTags$FDR), \"names\"], 15), d_topTags$names, NA)\n",
    "\n",
    "# Set plot size: width and height in inches\n",
    "options(repr.plot.width = 12, repr.plot.height = 12)\n",
    "\n",
    "ggplot(data = d_topTags, aes(x = logFC, y = -log10(FDR), col = diffexpressed, label = delabel)) +\n",
    "  geom_vline(xintercept = c(-1, 1), col = \"gray\", linetype = 'dashed') +\n",
    "  geom_hline(yintercept = -log10(0.05), col = \"gray\", linetype = 'dashed') + \n",
    "  geom_point(size = 2) + \n",
    "  scale_color_manual(values = c(\"#00AFBB\", \"grey\", \"#bb0c00\"), # to set the colours of our variable  \n",
    "                     labels = c(\"Downregulated\", \"Not significant\", \"Upregulated\")) + \n",
    "  coord_cartesian(ylim = c(0, 5), xlim = c(-7, 7)) + # set the limits of the axes\n",
    "  labs(color = 'Regulation', #legend_title, \n",
    "       x = expression(\"log\"[2]*\"FC\"), y = expression(\"-log\"[10]*\"FDR\")) + \n",
    "  scale_x_continuous(breaks = seq(-10, 10, 2)) + # to customise the breaks in the x axis\n",
    "  ggtitle('Volcanoplot DTHHRDY level 0 vs level 1 (Aorta)') +\n",
    "  geom_text_repel(max.overlaps = Inf) # To show all labels"
   ]
  },
  {
   "cell_type": "markdown",
   "id": "e8e806de-75aa-4ad5-9d29-5397ac840e9d",
   "metadata": {},
   "source": [
    "We can see that we only have two significant downregulated morphological cluster in the level 0 of hardy scale compared to the level 1. It is because the FDR are pretty high leading to a high chance of false positive."
   ]
  },
  {
   "cell_type": "markdown",
   "id": "ec41186a-3b3b-4119-9e3e-ba442435d054",
   "metadata": {},
   "source": [
    "### 2.3 For non-technical variables, redo the analysis with adjustment for the confounding technical variables"
   ]
  },
  {
   "cell_type": "markdown",
   "id": "16a566eb-9da3-4b58-84d8-7ebc0c3b0abc",
   "metadata": {},
   "source": [
    "As a reminder, we obtained in question 1 the following cofounded variables : \n",
    "\n",
    "Clinical variables (demographic/health variables) : \n",
    "\n",
    "- `AGE` is cofounded by `TRISCHD`, `COHORT` and `DTHHRDY`\n",
    "- `SEX` is cofounded by `DTHHRDY`\n",
    "- `HGHT` is cofounded by `TRISCHD`, `COHORT` and `DTHHRDY`\n",
    "- `WGHT` is cofounded by `TRISCHD` and `COHORT`\n",
    "- `BMI` is not cofounded by any technical variable."
   ]
  },
  {
   "cell_type": "markdown",
   "id": "b62f785e-a76e-4ef8-8947-2cca390be0f2",
   "metadata": {},
   "source": [
    "Let's define another function `DME_cofounding` that allows to take into account the cofounded variables for each health variables."
   ]
  },
  {
   "cell_type": "code",
   "execution_count": 108,
   "id": "c44090d9-389d-45db-875c-ebb70036b8e3",
   "metadata": {},
   "outputs": [],
   "source": [
    "DME_cofounding <- function(clinical_variable, formula_cofounded){\n",
    "\n",
    "    # Create the differential expression data structure used by edgeR (DGEList)\n",
    "    DGE_list <- DGEList(counts = morphological_counts, group = clinical_data[[clinical_variable]])\n",
    "    \n",
    "    # Filter lowly expressed morphological clusters\n",
    "    keep <- filterByExpr(DGE_list)\n",
    "    DGE_list <- DGE_list[keep, , keep.lib.sizes=FALSE]\n",
    "    # Normalize the data\n",
    "    DGE_list <- normLibSizes(DGE_list)\n",
    "\n",
    "    # Create a design matrix\n",
    "    formula <- as.formula(formula_cofounded)\n",
    "    design <- model.matrix(formula)\n",
    "    \n",
    "    #Estimate the dispersion\n",
    "    DGE_list <- estimateDisp(DGE_list, design)\n",
    "\n",
    "    # Fit the model and test for differential expression\n",
    "    fit <- glmQLFit(DGE_list,design)\n",
    "    qlf <- glmQLFTest(fit,coef=2)\n",
    "\n",
    "    # We take the top 10 most significant differentially expressed morphological counts. We also remove the logCPM just to have a clearer print for the results.\n",
    "    return (topTags(qlf, n = 10)$table[ ,-2])\n",
    "}"
   ]
  },
  {
   "cell_type": "code",
   "execution_count": 109,
   "id": "234f7d1a-b834-4c51-b0b4-29764158bdf0",
   "metadata": {},
   "outputs": [],
   "source": [
    "non_technical_variables = c(\"AGE\", \"SEX\", \"HGHT\", \"WGHT\", \"BMI\")\n",
    "formulas_cofounding = c(\"~clinical_data$AGE + clinical_data$TRISCHD + clinical_data$COHORT + clinical_data$DTHHRDY\", \n",
    "                      \"~clinical_data$SEX + clinical_data$DTHHRDY\",\n",
    "                      \"~clinical_data$HGHT + clinical_data$TRISCHD + clinical_data$COHORT + clinical_data$DTHHRDY\",\n",
    "                      \"~clinical_data$WGHT + clinical_data$TRISCHD + clinical_data$COHORT\",\n",
    "                       \"~clinical_data$BMI\")"
   ]
  },
  {
   "cell_type": "code",
   "execution_count": 110,
   "id": "535ab5b4-eeb3-4dfa-a268-0af305cb9b17",
   "metadata": {},
   "outputs": [
    {
     "name": "stdout",
     "output_type": "stream",
     "text": [
      "$AGE\n",
      "                                 logFC        F       PValue          FDR\n",
      "Mophological.cluster.G4_29  0.07647763 35.82758 6.665918e-09 1.952955e-07\n",
      "Mophological.cluster.G4_11 -0.06307568 34.49961 1.220597e-08 1.952955e-07\n",
      "Mophological.cluster.G4_26 -0.04833630 33.16163 2.252480e-08 2.402645e-07\n",
      "Mophological.cluster.G4_12  0.08851100 30.50832 7.666814e-08 6.133451e-07\n",
      "Mophological.cluster.G4_15 -0.03189881 24.25589 1.453075e-06 9.299681e-06\n",
      "Mophological.cluster.G4_8   0.06417482 23.52885 2.056993e-06 1.097063e-05\n",
      "Mophological.cluster.G4_0   0.06500400 20.98498 7.008911e-06 3.204073e-05\n",
      "Mophological.cluster.G4_27  0.03234288 11.71807 7.126279e-04 2.850512e-03\n",
      "Mophological.cluster.G4_18 -0.03484179 11.04806 1.007549e-03 3.582398e-03\n",
      "Mophological.cluster.G4_22  0.03205024  9.57265 2.177208e-03 6.967065e-03\n",
      "\n",
      "$SEX\n",
      "                                logFC         F       PValue         FDR\n",
      "Mophological.cluster.G4_3   1.1635289 17.528836 3.801187e-05 0.001178368\n",
      "Mophological.cluster.G4_6   1.1143880  7.935158 5.195708e-03 0.080533474\n",
      "Mophological.cluster.G4_26  0.3830453  3.639211 5.746366e-02 0.425145799\n",
      "Mophological.cluster.G4_29 -0.5928922  3.552818 6.048707e-02 0.425145799\n",
      "Mophological.cluster.G4_10 -0.5223388  3.214194 7.408886e-02 0.425145799\n",
      "Mophological.cluster.G4_7  -0.7028123  2.667972 1.035181e-01 0.425145799\n",
      "Mophological.cluster.G4_18 -0.4973299  2.418929 1.210142e-01 0.425145799\n",
      "Mophological.cluster.G4_28 -0.1382313  2.295613 1.308758e-01 0.425145799\n",
      "Mophological.cluster.G4_9   0.2102639  2.239004 1.357017e-01 0.425145799\n",
      "Mophological.cluster.G4_13 -0.4736186  2.123422 1.461904e-01 0.425145799\n",
      "\n",
      "$HGHT\n",
      "                                 logFC        F      PValue       FDR\n",
      "Mophological.cluster.G4_3  -0.09330993 6.788615 0.009670878 0.2982225\n",
      "Mophological.cluster.G4_6  -0.10761690 5.010030 0.025996810 0.2982225\n",
      "Mophological.cluster.G4_29  0.08337256 4.881955 0.027958357 0.2982225\n",
      "Mophological.cluster.G4_26 -0.04707385 3.763250 0.053407272 0.3522626\n",
      "Mophological.cluster.G4_7   0.09745449 3.581678 0.059464433 0.3522626\n",
      "Mophological.cluster.G4_13  0.06685905 3.405479 0.066049234 0.3522626\n",
      "Mophological.cluster.G4_18  0.05823592 2.692555 0.101954867 0.4660794\n",
      "Mophological.cluster.G4_28  0.01533016 1.718080 0.191027896 0.6577685\n",
      "Mophological.cluster.G4_30 -0.02546929 1.598039 0.207245820 0.6577685\n",
      "Mophological.cluster.G4_5  -0.03044930 1.506548 0.220710421 0.6577685\n",
      "\n",
      "$WGHT\n",
      "                                  logFC         F       PValue        FDR\n",
      "Mophological.cluster.G4_21  0.011021248 12.919579 0.0003839989 0.01228797\n",
      "Mophological.cluster.G4_22  0.007469662  4.593033 0.0329623232 0.52739717\n",
      "Mophological.cluster.G4_3  -0.007790005  3.111080 0.0788498944 0.61261365\n",
      "Mophological.cluster.G4_9  -0.003166672  2.373493 0.1245378860 0.61261365\n",
      "Mophological.cluster.G4_30  0.003647533  2.158108 0.1429397203 0.61261365\n",
      "Mophological.cluster.G4_31 -0.008105886  2.000279 0.1583791677 0.61261365\n",
      "Mophological.cluster.G4_17 -0.007238301  1.855571 0.1742295551 0.61261365\n",
      "Mophological.cluster.G4_6  -0.007347410  1.759391 0.1857793046 0.61261365\n",
      "Mophological.cluster.G4_18  0.005284826  1.618940 0.2042933074 0.61261365\n",
      "Mophological.cluster.G4_19  0.002016452  1.548013 0.2144676137 0.61261365\n",
      "\n",
      "$BMI\n",
      "                                 logFC         F       PValue          FDR\n",
      "Mophological.cluster.G4_21  0.09739343 19.817390 0.0000122779 0.0003928929\n",
      "Mophological.cluster.G4_30  0.07155407 12.444125 0.0004891948 0.0078271175\n",
      "Mophological.cluster.G4_17 -0.13233209  7.700928 0.0058874225 0.0627991733\n",
      "Mophological.cluster.G4_22  0.05994071  4.947025 0.0269259275 0.2154074203\n",
      "Mophological.cluster.G4_0   0.06190719  3.602325 0.0587179807 0.3757950764\n",
      "Mophological.cluster.G4_18  0.05851722  2.584508 0.1090308449 0.5051667991\n",
      "Mophological.cluster.G4_31 -0.06919199  2.563045 0.1105052373 0.5051667991\n",
      "Mophological.cluster.G4_12  0.05722002  2.074005 0.1509348266 0.6037393062\n",
      "Mophological.cluster.G4_7  -0.05451842  1.403646 0.2371096711 0.7303437528\n",
      "Mophological.cluster.G4_10  0.04002419  1.363373 0.2439382484 0.7303437528\n",
      "\n"
     ]
    }
   ],
   "source": [
    "# Create a list DME that will contain the results of differential morphological expression\n",
    "DME_cofounded_non_technical_variable <- list()\n",
    "\n",
    "# Iterate through each clinical variables and apply the function DME on them\n",
    "for (i in 1:length(non_technical_variables)){\n",
    "    var = non_technical_variables[i]\n",
    "    formula = formulas_cofounding[i]\n",
    "    DME_cofounded_non_technical_variable[[var]] <- DME_cofounding(var, formula)\n",
    "}\n",
    "# Print the final results of the 5 DME considering cofounded variables\n",
    "print(DME_cofounded_non_technical_variable)"
   ]
  },
  {
   "cell_type": "markdown",
   "id": "0aad9041-6963-471f-9b94-ed444f5929d4",
   "metadata": {},
   "source": [
    "For `question 2.3`, the interpretation of the differentially expression results for the 5 clinical variables is exactly the same as for the technical variables in `question 2.2`. So we will not talk about these results to avoid too much ouputs."
   ]
  },
  {
   "cell_type": "markdown",
   "id": "a2ee3667-412b-4a69-a481-2ee0703eb7de",
   "metadata": {},
   "source": [
    "However, we can compare the results that we obtained for the differentially expression of the clinical variables when the cofounded variables are include or not in the model formula. We only provided an example with `AGE` as the observations are very similar for the other clinical variables."
   ]
  },
  {
   "cell_type": "code",
   "execution_count": 124,
   "id": "8000a8da-bda1-452e-9289-2cc30aa5115d",
   "metadata": {},
   "outputs": [
    {
     "name": "stdout",
     "output_type": "stream",
     "text": [
      "                                 logFC        F       PValue          FDR\n",
      "Mophological.cluster.G4_26 -0.04961342 49.94846 1.235350e-11 2.807475e-10\n",
      "Mophological.cluster.G4_12  0.10782144 49.13921 1.754672e-11 2.807475e-10\n",
      "Mophological.cluster.G4_29  0.08340457 47.95910 2.932231e-11 3.127713e-10\n",
      "Mophological.cluster.G4_15 -0.03239720 34.02733 1.484359e-08 1.187487e-07\n",
      "Mophological.cluster.G4_0   0.07894091 33.05408 2.321471e-08 1.485742e-07\n",
      "Mophological.cluster.G4_11 -0.04726054 27.66473 2.852787e-07 1.521486e-06\n",
      "Mophological.cluster.G4_8   0.05287568 19.29719 1.583575e-05 7.239199e-05\n",
      "Mophological.cluster.G4_30  0.02906564 17.96298 3.052835e-05 1.221134e-04\n",
      "Mophological.cluster.G4_27  0.03286669 15.30982 1.143687e-04 4.066444e-04\n",
      "Mophological.cluster.G4_20 -0.02704695 10.49634 1.338995e-03 4.284783e-03\n"
     ]
    }
   ],
   "source": [
    "# No cofounding variables\n",
    "print(DME_clinical_variable$AGE[1:10,])"
   ]
  },
  {
   "cell_type": "code",
   "execution_count": 123,
   "id": "5d40ef37-f84f-4d1f-8f88-cb0235ecc1e5",
   "metadata": {},
   "outputs": [
    {
     "name": "stdout",
     "output_type": "stream",
     "text": [
      "                                 logFC        F       PValue          FDR\n",
      "Mophological.cluster.G4_29  0.07647763 35.82758 6.665918e-09 1.952955e-07\n",
      "Mophological.cluster.G4_11 -0.06307568 34.49961 1.220597e-08 1.952955e-07\n",
      "Mophological.cluster.G4_26 -0.04833630 33.16163 2.252480e-08 2.402645e-07\n",
      "Mophological.cluster.G4_12  0.08851100 30.50832 7.666814e-08 6.133451e-07\n",
      "Mophological.cluster.G4_15 -0.03189881 24.25589 1.453075e-06 9.299681e-06\n",
      "Mophological.cluster.G4_8   0.06417482 23.52885 2.056993e-06 1.097063e-05\n",
      "Mophological.cluster.G4_0   0.06500400 20.98498 7.008911e-06 3.204073e-05\n",
      "Mophological.cluster.G4_27  0.03234288 11.71807 7.126279e-04 2.850512e-03\n",
      "Mophological.cluster.G4_18 -0.03484179 11.04806 1.007549e-03 3.582398e-03\n",
      "Mophological.cluster.G4_22  0.03205024  9.57265 2.177208e-03 6.967065e-03\n"
     ]
    }
   ],
   "source": [
    "# Cofounding variables\n",
    "print(DME_cofounded_non_technical_variable$AGE)"
   ]
  },
  {
   "cell_type": "markdown",
   "id": "4fd04d26-d40c-45d3-b48d-e30f8c3b0bea",
   "metadata": {},
   "source": [
    "We can see that the overall top 10 is quite similar when the cofounded variables are included in the model or when they are not. Also, the values of logFC for each pair of cluster are very close to each other. However, FDR are lower when no cofounding variables are taken in the model which is not what we expected at first sight. Indeed, we thought that false discovery rate would be lower when including coufounding variables as it should increase the fiability of the results. "
   ]
  },
  {
   "cell_type": "markdown",
   "id": "4511dedf-c190-4720-8933-0484fcc1c41f",
   "metadata": {},
   "source": [
    "## Question 3. Morphology vs gene expression"
   ]
  },
  {
   "cell_type": "code",
   "execution_count": 125,
   "id": "7544694d",
   "metadata": {},
   "outputs": [
    {
     "data": {
      "text/html": [
       "<style>\n",
       ".list-inline {list-style: none; margin:0; padding: 0}\n",
       ".list-inline>li {display: inline-block}\n",
       ".list-inline>li:not(:last-child)::after {content: \"\\00b7\"; padding: 0 .5ex}\n",
       "</style>\n",
       "<ol class=list-inline><li>56200</li><li>282</li></ol>\n"
      ],
      "text/latex": [
       "\\begin{enumerate*}\n",
       "\\item 56200\n",
       "\\item 282\n",
       "\\end{enumerate*}\n"
      ],
      "text/markdown": [
       "1. 56200\n",
       "2. 282\n",
       "\n",
       "\n"
      ],
      "text/plain": [
       "[1] 56200   282"
      ]
     },
     "metadata": {},
     "output_type": "display_data"
    },
    {
     "data": {
      "text/html": [
       "<table class=\"dataframe\">\n",
       "<caption>A data.frame: 6 × 282</caption>\n",
       "<thead>\n",
       "\t<tr><th></th><th scope=col>Name</th><th scope=col>Description</th><th scope=col>GTEX.111YS.0526</th><th scope=col>GTEX.1122O.1126</th><th scope=col>GTEX.1128S.0326</th><th scope=col>GTEX.117XS.0426</th><th scope=col>GTEX.117YW.0226</th><th scope=col>GTEX.11DXX.0426</th><th scope=col>GTEX.11DXZ.0426</th><th scope=col>GTEX.11DYG.1226</th><th scope=col>⋯</th><th scope=col>GTEX.1R9K5.1426</th><th scope=col>GTEX.1R9PM.0326</th><th scope=col>GTEX.1R9PN.0226</th><th scope=col>GTEX.1R9PO.0226</th><th scope=col>GTEX.1RAZA.1126</th><th scope=col>GTEX.1RAZR.0626</th><th scope=col>GTEX.1RNTQ.0726</th><th scope=col>GTEX.1RQED.1126</th><th scope=col>GTEX.1S3DN.0626</th><th scope=col>GTEX.1S5ZA.1126</th></tr>\n",
       "\t<tr><th></th><th scope=col>&lt;chr&gt;</th><th scope=col>&lt;chr&gt;</th><th scope=col>&lt;int&gt;</th><th scope=col>&lt;int&gt;</th><th scope=col>&lt;int&gt;</th><th scope=col>&lt;int&gt;</th><th scope=col>&lt;int&gt;</th><th scope=col>&lt;int&gt;</th><th scope=col>&lt;int&gt;</th><th scope=col>&lt;int&gt;</th><th scope=col>⋯</th><th scope=col>&lt;int&gt;</th><th scope=col>&lt;int&gt;</th><th scope=col>&lt;int&gt;</th><th scope=col>&lt;int&gt;</th><th scope=col>&lt;int&gt;</th><th scope=col>&lt;int&gt;</th><th scope=col>&lt;int&gt;</th><th scope=col>&lt;int&gt;</th><th scope=col>&lt;int&gt;</th><th scope=col>&lt;int&gt;</th></tr>\n",
       "</thead>\n",
       "<tbody>\n",
       "\t<tr><th scope=row>1</th><td>ENSG00000223972.5</td><td>DDX11L1    </td><td> 0</td><td> 0</td><td>  0</td><td> 0</td><td>  0</td><td> 5</td><td>  0</td><td>  0</td><td>⋯</td><td>  1</td><td>  0</td><td>  0</td><td> 3</td><td>  0</td><td> 0</td><td>  0</td><td>  0</td><td> 0</td><td> 1</td></tr>\n",
       "\t<tr><th scope=row>2</th><td>ENSG00000227232.5</td><td>WASH7P     </td><td>78</td><td>70</td><td>180</td><td>78</td><td>152</td><td>76</td><td>132</td><td>143</td><td>⋯</td><td>134</td><td>142</td><td>140</td><td>69</td><td>183</td><td>61</td><td>157</td><td>103</td><td>57</td><td>70</td></tr>\n",
       "\t<tr><th scope=row>3</th><td>ENSG00000278267.1</td><td>MIR6859-1  </td><td> 0</td><td> 0</td><td>  0</td><td> 0</td><td>  0</td><td> 1</td><td>  0</td><td>  0</td><td>⋯</td><td>  0</td><td>  0</td><td>  0</td><td> 0</td><td>  0</td><td> 0</td><td>  1</td><td>  0</td><td> 0</td><td> 0</td></tr>\n",
       "\t<tr><th scope=row>4</th><td>ENSG00000243485.5</td><td>MIR1302-2HG</td><td> 0</td><td> 0</td><td>  1</td><td> 0</td><td>  0</td><td> 0</td><td>  0</td><td>  0</td><td>⋯</td><td>  0</td><td>  0</td><td>  0</td><td> 1</td><td>  0</td><td> 0</td><td>  1</td><td>  0</td><td> 0</td><td> 0</td></tr>\n",
       "\t<tr><th scope=row>5</th><td>ENSG00000237613.2</td><td>FAM138A    </td><td> 1</td><td> 0</td><td>  0</td><td> 1</td><td>  0</td><td> 0</td><td>  0</td><td>  0</td><td>⋯</td><td>  0</td><td>  0</td><td>  0</td><td> 0</td><td>  1</td><td> 0</td><td>  0</td><td>  0</td><td> 0</td><td> 0</td></tr>\n",
       "\t<tr><th scope=row>6</th><td>ENSG00000268020.3</td><td>OR4G4P     </td><td> 1</td><td> 0</td><td>  0</td><td> 1</td><td>  0</td><td> 0</td><td>  2</td><td>  0</td><td>⋯</td><td>  0</td><td>  0</td><td>  0</td><td> 0</td><td>  0</td><td> 0</td><td>  0</td><td>  0</td><td> 0</td><td> 0</td></tr>\n",
       "</tbody>\n",
       "</table>\n"
      ],
      "text/latex": [
       "A data.frame: 6 × 282\n",
       "\\begin{tabular}{r|lllllllllllllllllllll}\n",
       "  & Name & Description & GTEX.111YS.0526 & GTEX.1122O.1126 & GTEX.1128S.0326 & GTEX.117XS.0426 & GTEX.117YW.0226 & GTEX.11DXX.0426 & GTEX.11DXZ.0426 & GTEX.11DYG.1226 & ⋯ & GTEX.1R9K5.1426 & GTEX.1R9PM.0326 & GTEX.1R9PN.0226 & GTEX.1R9PO.0226 & GTEX.1RAZA.1126 & GTEX.1RAZR.0626 & GTEX.1RNTQ.0726 & GTEX.1RQED.1126 & GTEX.1S3DN.0626 & GTEX.1S5ZA.1126\\\\\n",
       "  & <chr> & <chr> & <int> & <int> & <int> & <int> & <int> & <int> & <int> & <int> & ⋯ & <int> & <int> & <int> & <int> & <int> & <int> & <int> & <int> & <int> & <int>\\\\\n",
       "\\hline\n",
       "\t1 & ENSG00000223972.5 & DDX11L1     &  0 &  0 &   0 &  0 &   0 &  5 &   0 &   0 & ⋯ &   1 &   0 &   0 &  3 &   0 &  0 &   0 &   0 &  0 &  1\\\\\n",
       "\t2 & ENSG00000227232.5 & WASH7P      & 78 & 70 & 180 & 78 & 152 & 76 & 132 & 143 & ⋯ & 134 & 142 & 140 & 69 & 183 & 61 & 157 & 103 & 57 & 70\\\\\n",
       "\t3 & ENSG00000278267.1 & MIR6859-1   &  0 &  0 &   0 &  0 &   0 &  1 &   0 &   0 & ⋯ &   0 &   0 &   0 &  0 &   0 &  0 &   1 &   0 &  0 &  0\\\\\n",
       "\t4 & ENSG00000243485.5 & MIR1302-2HG &  0 &  0 &   1 &  0 &   0 &  0 &   0 &   0 & ⋯ &   0 &   0 &   0 &  1 &   0 &  0 &   1 &   0 &  0 &  0\\\\\n",
       "\t5 & ENSG00000237613.2 & FAM138A     &  1 &  0 &   0 &  1 &   0 &  0 &   0 &   0 & ⋯ &   0 &   0 &   0 &  0 &   1 &  0 &   0 &   0 &  0 &  0\\\\\n",
       "\t6 & ENSG00000268020.3 & OR4G4P      &  1 &  0 &   0 &  1 &   0 &  0 &   2 &   0 & ⋯ &   0 &   0 &   0 &  0 &   0 &  0 &   0 &   0 &  0 &  0\\\\\n",
       "\\end{tabular}\n"
      ],
      "text/markdown": [
       "\n",
       "A data.frame: 6 × 282\n",
       "\n",
       "| <!--/--> | Name &lt;chr&gt; | Description &lt;chr&gt; | GTEX.111YS.0526 &lt;int&gt; | GTEX.1122O.1126 &lt;int&gt; | GTEX.1128S.0326 &lt;int&gt; | GTEX.117XS.0426 &lt;int&gt; | GTEX.117YW.0226 &lt;int&gt; | GTEX.11DXX.0426 &lt;int&gt; | GTEX.11DXZ.0426 &lt;int&gt; | GTEX.11DYG.1226 &lt;int&gt; | ⋯ ⋯ | GTEX.1R9K5.1426 &lt;int&gt; | GTEX.1R9PM.0326 &lt;int&gt; | GTEX.1R9PN.0226 &lt;int&gt; | GTEX.1R9PO.0226 &lt;int&gt; | GTEX.1RAZA.1126 &lt;int&gt; | GTEX.1RAZR.0626 &lt;int&gt; | GTEX.1RNTQ.0726 &lt;int&gt; | GTEX.1RQED.1126 &lt;int&gt; | GTEX.1S3DN.0626 &lt;int&gt; | GTEX.1S5ZA.1126 &lt;int&gt; |\n",
       "|---|---|---|---|---|---|---|---|---|---|---|---|---|---|---|---|---|---|---|---|---|---|\n",
       "| 1 | ENSG00000223972.5 | DDX11L1     |  0 |  0 |   0 |  0 |   0 |  5 |   0 |   0 | ⋯ |   1 |   0 |   0 |  3 |   0 |  0 |   0 |   0 |  0 |  1 |\n",
       "| 2 | ENSG00000227232.5 | WASH7P      | 78 | 70 | 180 | 78 | 152 | 76 | 132 | 143 | ⋯ | 134 | 142 | 140 | 69 | 183 | 61 | 157 | 103 | 57 | 70 |\n",
       "| 3 | ENSG00000278267.1 | MIR6859-1   |  0 |  0 |   0 |  0 |   0 |  1 |   0 |   0 | ⋯ |   0 |   0 |   0 |  0 |   0 |  0 |   1 |   0 |  0 |  0 |\n",
       "| 4 | ENSG00000243485.5 | MIR1302-2HG |  0 |  0 |   1 |  0 |   0 |  0 |   0 |   0 | ⋯ |   0 |   0 |   0 |  1 |   0 |  0 |   1 |   0 |  0 |  0 |\n",
       "| 5 | ENSG00000237613.2 | FAM138A     |  1 |  0 |   0 |  1 |   0 |  0 |   0 |   0 | ⋯ |   0 |   0 |   0 |  0 |   1 |  0 |   0 |   0 |  0 |  0 |\n",
       "| 6 | ENSG00000268020.3 | OR4G4P      |  1 |  0 |   0 |  1 |   0 |  0 |   2 |   0 | ⋯ |   0 |   0 |   0 |  0 |   0 |  0 |   0 |   0 |  0 |  0 |\n",
       "\n"
      ],
      "text/plain": [
       "  Name              Description GTEX.111YS.0526 GTEX.1122O.1126 GTEX.1128S.0326\n",
       "1 ENSG00000223972.5 DDX11L1      0               0                0            \n",
       "2 ENSG00000227232.5 WASH7P      78              70              180            \n",
       "3 ENSG00000278267.1 MIR6859-1    0               0                0            \n",
       "4 ENSG00000243485.5 MIR1302-2HG  0               0                1            \n",
       "5 ENSG00000237613.2 FAM138A      1               0                0            \n",
       "6 ENSG00000268020.3 OR4G4P       1               0                0            \n",
       "  GTEX.117XS.0426 GTEX.117YW.0226 GTEX.11DXX.0426 GTEX.11DXZ.0426\n",
       "1  0                0              5                0            \n",
       "2 78              152             76              132            \n",
       "3  0                0              1                0            \n",
       "4  0                0              0                0            \n",
       "5  1                0              0                0            \n",
       "6  1                0              0                2            \n",
       "  GTEX.11DYG.1226 ⋯ GTEX.1R9K5.1426 GTEX.1R9PM.0326 GTEX.1R9PN.0226\n",
       "1   0             ⋯   1               0               0            \n",
       "2 143             ⋯ 134             142             140            \n",
       "3   0             ⋯   0               0               0            \n",
       "4   0             ⋯   0               0               0            \n",
       "5   0             ⋯   0               0               0            \n",
       "6   0             ⋯   0               0               0            \n",
       "  GTEX.1R9PO.0226 GTEX.1RAZA.1126 GTEX.1RAZR.0626 GTEX.1RNTQ.0726\n",
       "1  3                0              0                0            \n",
       "2 69              183             61              157            \n",
       "3  0                0              0                1            \n",
       "4  1                0              0                1            \n",
       "5  0                1              0                0            \n",
       "6  0                0              0                0            \n",
       "  GTEX.1RQED.1126 GTEX.1S3DN.0626 GTEX.1S5ZA.1126\n",
       "1   0              0               1             \n",
       "2 103             57              70             \n",
       "3   0              0               0             \n",
       "4   0              0               0             \n",
       "5   0              0               0             \n",
       "6   0              0               0             "
      ]
     },
     "metadata": {},
     "output_type": "display_data"
    }
   ],
   "source": [
    "# Read the TSV file into a data frame\n",
    "RNA_read_counts_init <- read.table(\"RNA_read_counts.tsv\", header = TRUE, sep = \"\\t\")\n",
    "\n",
    "# Display the first few rows of the data frame to verify it was read correctly\n",
    "#head(RNA_read_counts)\n",
    "dim(RNA_read_counts_init)\n",
    "head(RNA_read_counts_init)"
   ]
  },
  {
   "cell_type": "code",
   "execution_count": 129,
   "id": "7e15c6ca-f4b7-40d7-81b1-cf5e5f211901",
   "metadata": {},
   "outputs": [
    {
     "data": {
      "text/html": [
       "<table class=\"dataframe\">\n",
       "<caption>A matrix: 6 × 280 of type int</caption>\n",
       "<thead>\n",
       "\t<tr><th></th><th scope=col>GTEX.111YS.0526</th><th scope=col>GTEX.1122O.1126</th><th scope=col>GTEX.1128S.0326</th><th scope=col>GTEX.117XS.0426</th><th scope=col>GTEX.117YW.0226</th><th scope=col>GTEX.11DXX.0426</th><th scope=col>GTEX.11DXZ.0426</th><th scope=col>GTEX.11DYG.1226</th><th scope=col>GTEX.11EM3.0226</th><th scope=col>GTEX.11EMC.0926</th><th scope=col>⋯</th><th scope=col>GTEX.1R9K5.1426</th><th scope=col>GTEX.1R9PM.0326</th><th scope=col>GTEX.1R9PN.0226</th><th scope=col>GTEX.1R9PO.0226</th><th scope=col>GTEX.1RAZA.1126</th><th scope=col>GTEX.1RAZR.0626</th><th scope=col>GTEX.1RNTQ.0726</th><th scope=col>GTEX.1RQED.1126</th><th scope=col>GTEX.1S3DN.0626</th><th scope=col>GTEX.1S5ZA.1126</th></tr>\n",
       "</thead>\n",
       "<tbody>\n",
       "\t<tr><th scope=row>ENSG00000223972.5</th><td> 0</td><td> 0</td><td>  0</td><td> 0</td><td>  0</td><td> 5</td><td>  0</td><td>  0</td><td> 0</td><td>  0</td><td>⋯</td><td>  1</td><td>  0</td><td>  0</td><td> 3</td><td>  0</td><td> 0</td><td>  0</td><td>  0</td><td> 0</td><td> 1</td></tr>\n",
       "\t<tr><th scope=row>ENSG00000227232.5</th><td>78</td><td>70</td><td>180</td><td>78</td><td>152</td><td>76</td><td>132</td><td>143</td><td>88</td><td>143</td><td>⋯</td><td>134</td><td>142</td><td>140</td><td>69</td><td>183</td><td>61</td><td>157</td><td>103</td><td>57</td><td>70</td></tr>\n",
       "\t<tr><th scope=row>ENSG00000278267.1</th><td> 0</td><td> 0</td><td>  0</td><td> 0</td><td>  0</td><td> 1</td><td>  0</td><td>  0</td><td> 0</td><td>  1</td><td>⋯</td><td>  0</td><td>  0</td><td>  0</td><td> 0</td><td>  0</td><td> 0</td><td>  1</td><td>  0</td><td> 0</td><td> 0</td></tr>\n",
       "\t<tr><th scope=row>ENSG00000243485.5</th><td> 0</td><td> 0</td><td>  1</td><td> 0</td><td>  0</td><td> 0</td><td>  0</td><td>  0</td><td> 0</td><td>  0</td><td>⋯</td><td>  0</td><td>  0</td><td>  0</td><td> 1</td><td>  0</td><td> 0</td><td>  1</td><td>  0</td><td> 0</td><td> 0</td></tr>\n",
       "\t<tr><th scope=row>ENSG00000237613.2</th><td> 1</td><td> 0</td><td>  0</td><td> 1</td><td>  0</td><td> 0</td><td>  0</td><td>  0</td><td> 0</td><td>  0</td><td>⋯</td><td>  0</td><td>  0</td><td>  0</td><td> 0</td><td>  1</td><td> 0</td><td>  0</td><td>  0</td><td> 0</td><td> 0</td></tr>\n",
       "\t<tr><th scope=row>ENSG00000268020.3</th><td> 1</td><td> 0</td><td>  0</td><td> 1</td><td>  0</td><td> 0</td><td>  2</td><td>  0</td><td> 4</td><td>  1</td><td>⋯</td><td>  0</td><td>  0</td><td>  0</td><td> 0</td><td>  0</td><td> 0</td><td>  0</td><td>  0</td><td> 0</td><td> 0</td></tr>\n",
       "</tbody>\n",
       "</table>\n"
      ],
      "text/latex": [
       "A matrix: 6 × 280 of type int\n",
       "\\begin{tabular}{r|lllllllllllllllllllll}\n",
       "  & GTEX.111YS.0526 & GTEX.1122O.1126 & GTEX.1128S.0326 & GTEX.117XS.0426 & GTEX.117YW.0226 & GTEX.11DXX.0426 & GTEX.11DXZ.0426 & GTEX.11DYG.1226 & GTEX.11EM3.0226 & GTEX.11EMC.0926 & ⋯ & GTEX.1R9K5.1426 & GTEX.1R9PM.0326 & GTEX.1R9PN.0226 & GTEX.1R9PO.0226 & GTEX.1RAZA.1126 & GTEX.1RAZR.0626 & GTEX.1RNTQ.0726 & GTEX.1RQED.1126 & GTEX.1S3DN.0626 & GTEX.1S5ZA.1126\\\\\n",
       "\\hline\n",
       "\tENSG00000223972.5 &  0 &  0 &   0 &  0 &   0 &  5 &   0 &   0 &  0 &   0 & ⋯ &   1 &   0 &   0 &  3 &   0 &  0 &   0 &   0 &  0 &  1\\\\\n",
       "\tENSG00000227232.5 & 78 & 70 & 180 & 78 & 152 & 76 & 132 & 143 & 88 & 143 & ⋯ & 134 & 142 & 140 & 69 & 183 & 61 & 157 & 103 & 57 & 70\\\\\n",
       "\tENSG00000278267.1 &  0 &  0 &   0 &  0 &   0 &  1 &   0 &   0 &  0 &   1 & ⋯ &   0 &   0 &   0 &  0 &   0 &  0 &   1 &   0 &  0 &  0\\\\\n",
       "\tENSG00000243485.5 &  0 &  0 &   1 &  0 &   0 &  0 &   0 &   0 &  0 &   0 & ⋯ &   0 &   0 &   0 &  1 &   0 &  0 &   1 &   0 &  0 &  0\\\\\n",
       "\tENSG00000237613.2 &  1 &  0 &   0 &  1 &   0 &  0 &   0 &   0 &  0 &   0 & ⋯ &   0 &   0 &   0 &  0 &   1 &  0 &   0 &   0 &  0 &  0\\\\\n",
       "\tENSG00000268020.3 &  1 &  0 &   0 &  1 &   0 &  0 &   2 &   0 &  4 &   1 & ⋯ &   0 &   0 &   0 &  0 &   0 &  0 &   0 &   0 &  0 &  0\\\\\n",
       "\\end{tabular}\n"
      ],
      "text/markdown": [
       "\n",
       "A matrix: 6 × 280 of type int\n",
       "\n",
       "| <!--/--> | GTEX.111YS.0526 | GTEX.1122O.1126 | GTEX.1128S.0326 | GTEX.117XS.0426 | GTEX.117YW.0226 | GTEX.11DXX.0426 | GTEX.11DXZ.0426 | GTEX.11DYG.1226 | GTEX.11EM3.0226 | GTEX.11EMC.0926 | ⋯ | GTEX.1R9K5.1426 | GTEX.1R9PM.0326 | GTEX.1R9PN.0226 | GTEX.1R9PO.0226 | GTEX.1RAZA.1126 | GTEX.1RAZR.0626 | GTEX.1RNTQ.0726 | GTEX.1RQED.1126 | GTEX.1S3DN.0626 | GTEX.1S5ZA.1126 |\n",
       "|---|---|---|---|---|---|---|---|---|---|---|---|---|---|---|---|---|---|---|---|---|---|\n",
       "| ENSG00000223972.5 |  0 |  0 |   0 |  0 |   0 |  5 |   0 |   0 |  0 |   0 | ⋯ |   1 |   0 |   0 |  3 |   0 |  0 |   0 |   0 |  0 |  1 |\n",
       "| ENSG00000227232.5 | 78 | 70 | 180 | 78 | 152 | 76 | 132 | 143 | 88 | 143 | ⋯ | 134 | 142 | 140 | 69 | 183 | 61 | 157 | 103 | 57 | 70 |\n",
       "| ENSG00000278267.1 |  0 |  0 |   0 |  0 |   0 |  1 |   0 |   0 |  0 |   1 | ⋯ |   0 |   0 |   0 |  0 |   0 |  0 |   1 |   0 |  0 |  0 |\n",
       "| ENSG00000243485.5 |  0 |  0 |   1 |  0 |   0 |  0 |   0 |   0 |  0 |   0 | ⋯ |   0 |   0 |   0 |  1 |   0 |  0 |   1 |   0 |  0 |  0 |\n",
       "| ENSG00000237613.2 |  1 |  0 |   0 |  1 |   0 |  0 |   0 |   0 |  0 |   0 | ⋯ |   0 |   0 |   0 |  0 |   1 |  0 |   0 |   0 |  0 |  0 |\n",
       "| ENSG00000268020.3 |  1 |  0 |   0 |  1 |   0 |  0 |   2 |   0 |  4 |   1 | ⋯ |   0 |   0 |   0 |  0 |   0 |  0 |   0 |   0 |  0 |  0 |\n",
       "\n"
      ],
      "text/plain": [
       "                  GTEX.111YS.0526 GTEX.1122O.1126 GTEX.1128S.0326\n",
       "ENSG00000223972.5  0               0                0            \n",
       "ENSG00000227232.5 78              70              180            \n",
       "ENSG00000278267.1  0               0                0            \n",
       "ENSG00000243485.5  0               0                1            \n",
       "ENSG00000237613.2  1               0                0            \n",
       "ENSG00000268020.3  1               0                0            \n",
       "                  GTEX.117XS.0426 GTEX.117YW.0226 GTEX.11DXX.0426\n",
       "ENSG00000223972.5  0                0              5             \n",
       "ENSG00000227232.5 78              152             76             \n",
       "ENSG00000278267.1  0                0              1             \n",
       "ENSG00000243485.5  0                0              0             \n",
       "ENSG00000237613.2  1                0              0             \n",
       "ENSG00000268020.3  1                0              0             \n",
       "                  GTEX.11DXZ.0426 GTEX.11DYG.1226 GTEX.11EM3.0226\n",
       "ENSG00000223972.5   0               0              0             \n",
       "ENSG00000227232.5 132             143             88             \n",
       "ENSG00000278267.1   0               0              0             \n",
       "ENSG00000243485.5   0               0              0             \n",
       "ENSG00000237613.2   0               0              0             \n",
       "ENSG00000268020.3   2               0              4             \n",
       "                  GTEX.11EMC.0926 ⋯ GTEX.1R9K5.1426 GTEX.1R9PM.0326\n",
       "ENSG00000223972.5   0             ⋯   1               0            \n",
       "ENSG00000227232.5 143             ⋯ 134             142            \n",
       "ENSG00000278267.1   1             ⋯   0               0            \n",
       "ENSG00000243485.5   0             ⋯   0               0            \n",
       "ENSG00000237613.2   0             ⋯   0               0            \n",
       "ENSG00000268020.3   1             ⋯   0               0            \n",
       "                  GTEX.1R9PN.0226 GTEX.1R9PO.0226 GTEX.1RAZA.1126\n",
       "ENSG00000223972.5   0              3                0            \n",
       "ENSG00000227232.5 140             69              183            \n",
       "ENSG00000278267.1   0              0                0            \n",
       "ENSG00000243485.5   0              1                0            \n",
       "ENSG00000237613.2   0              0                1            \n",
       "ENSG00000268020.3   0              0                0            \n",
       "                  GTEX.1RAZR.0626 GTEX.1RNTQ.0726 GTEX.1RQED.1126\n",
       "ENSG00000223972.5  0                0               0            \n",
       "ENSG00000227232.5 61              157             103            \n",
       "ENSG00000278267.1  0                1               0            \n",
       "ENSG00000243485.5  0                1               0            \n",
       "ENSG00000237613.2  0                0               0            \n",
       "ENSG00000268020.3  0                0               0            \n",
       "                  GTEX.1S3DN.0626 GTEX.1S5ZA.1126\n",
       "ENSG00000223972.5  0               1             \n",
       "ENSG00000227232.5 57              70             \n",
       "ENSG00000278267.1  0               0             \n",
       "ENSG00000243485.5  0               0             \n",
       "ENSG00000237613.2  0               0             \n",
       "ENSG00000268020.3  0               0             "
      ]
     },
     "metadata": {},
     "output_type": "display_data"
    }
   ],
   "source": [
    "rownames(RNA_read_counts_init)<-RNA_read_counts_init$Name\n",
    "RNA_read_counts<-as.matrix(RNA_read_counts_init[,-c(1,2)])\n",
    "head(RNA_read_counts)"
   ]
  },
  {
   "cell_type": "markdown",
   "id": "8fe502df-9e17-4e0f-ad91-3d54e6de17b9",
   "metadata": {},
   "source": [
    "Let $X=\\{x_1,\\ldots,x_n\\}$ be a sample of a univariate random variable. The _mean absolute deviation_ of $X$ is defined as the median of the absolute deviations from the sample's median, or in symbolic form\n",
    "\n",
    "\\begin{equation*}\n",
    "\\mathrm{MAD}=\\mathrm{median}(\\{\\vert x_i-\\mathrm{median}(X)\\vert\\,\\vert\\,i=1,\\ldots,n\\})\n",
    "\\end{equation*}"
   ]
  },
  {
   "cell_type": "code",
   "execution_count": 151,
   "id": "09de8449-f3d8-451a-8890-45488716b944",
   "metadata": {},
   "outputs": [],
   "source": [
    "MAD<-numeric(nrow(RNA_read_counts))\n",
    "for (i in 1:nrow(RNA_read_counts)){\n",
    "    MAD[i]<-mad(RNA_read_counts[i,])\n",
    "}\n",
    "#Get the indices of the transcripts which are extremely little expressed\n",
    "rows_to_remove<-which(MAD==0)"
   ]
  },
  {
   "cell_type": "code",
   "execution_count": 221,
   "id": "964935e3-2fc9-45f0-900c-fc36b46acac7",
   "metadata": {},
   "outputs": [
    {
     "data": {
      "text/plain": [
       "    Min.  1st Qu.   Median     Mean  3rd Qu.     Max. \n",
       "     0.0      0.0      0.7    393.5     48.9 394697.8 "
      ]
     },
     "metadata": {},
     "output_type": "display_data"
    }
   ],
   "source": [
    "summary(MAD)"
   ]
  },
  {
   "cell_type": "code",
   "execution_count": 135,
   "id": "1b597186-78ca-4d69-bf13-725e8372150f",
   "metadata": {
    "scrolled": true
   },
   "outputs": [
    {
     "data": {
      "text/html": [
       "<table class=\"dataframe\">\n",
       "<caption>A data.frame: 280 × 32</caption>\n",
       "<thead>\n",
       "\t<tr><th></th><th scope=col>Mophological.cluster.G4_0</th><th scope=col>Mophological.cluster.G4_1</th><th scope=col>Mophological.cluster.G4_2</th><th scope=col>Mophological.cluster.G4_3</th><th scope=col>Mophological.cluster.G4_4</th><th scope=col>Mophological.cluster.G4_5</th><th scope=col>Mophological.cluster.G4_6</th><th scope=col>Mophological.cluster.G4_7</th><th scope=col>Mophological.cluster.G4_8</th><th scope=col>Mophological.cluster.G4_9</th><th scope=col>⋯</th><th scope=col>Mophological.cluster.G4_22</th><th scope=col>Mophological.cluster.G4_23</th><th scope=col>Mophological.cluster.G4_24</th><th scope=col>Mophological.cluster.G4_25</th><th scope=col>Mophological.cluster.G4_26</th><th scope=col>Mophological.cluster.G4_27</th><th scope=col>Mophological.cluster.G4_28</th><th scope=col>Mophological.cluster.G4_29</th><th scope=col>Mophological.cluster.G4_30</th><th scope=col>Mophological.cluster.G4_31</th></tr>\n",
       "\t<tr><th></th><th scope=col>&lt;int&gt;</th><th scope=col>&lt;int&gt;</th><th scope=col>&lt;int&gt;</th><th scope=col>&lt;int&gt;</th><th scope=col>&lt;int&gt;</th><th scope=col>&lt;int&gt;</th><th scope=col>&lt;int&gt;</th><th scope=col>&lt;int&gt;</th><th scope=col>&lt;int&gt;</th><th scope=col>&lt;int&gt;</th><th scope=col>⋯</th><th scope=col>&lt;int&gt;</th><th scope=col>&lt;int&gt;</th><th scope=col>&lt;int&gt;</th><th scope=col>&lt;int&gt;</th><th scope=col>&lt;int&gt;</th><th scope=col>&lt;int&gt;</th><th scope=col>&lt;int&gt;</th><th scope=col>&lt;int&gt;</th><th scope=col>&lt;int&gt;</th><th scope=col>&lt;int&gt;</th></tr>\n",
       "</thead>\n",
       "<tbody>\n",
       "\t<tr><th scope=row>GTEX.111YS.0526</th><td>137</td><td>  88</td><td>417</td><td>   1</td><td>   1</td><td> 32</td><td>  1</td><td>  1</td><td>   1</td><td>167</td><td>⋯</td><td> 262</td><td>233</td><td>  31</td><td> 417</td><td> 80</td><td> 144</td><td>250</td><td>664</td><td> 20</td><td> 0</td></tr>\n",
       "\t<tr><th scope=row>GTEX.1122O.1126</th><td> 96</td><td> 880</td><td>236</td><td> 393</td><td>  21</td><td>214</td><td>  1</td><td> 47</td><td>  39</td><td>291</td><td>⋯</td><td>3350</td><td> 99</td><td> 190</td><td> 495</td><td>278</td><td> 774</td><td>694</td><td>268</td><td>145</td><td> 0</td></tr>\n",
       "\t<tr><th scope=row>GTEX.1128S.0326</th><td>  2</td><td> 552</td><td>211</td><td>1031</td><td> 174</td><td>216</td><td>289</td><td>  0</td><td> 493</td><td>663</td><td>⋯</td><td> 831</td><td>135</td><td> 250</td><td> 161</td><td> 82</td><td> 120</td><td>377</td><td>  2</td><td>500</td><td> 0</td></tr>\n",
       "\t<tr><th scope=row>GTEX.117XS.0426</th><td>339</td><td>   1</td><td>151</td><td> 637</td><td>1844</td><td>473</td><td>260</td><td>  3</td><td> 440</td><td>153</td><td>⋯</td><td> 148</td><td>166</td><td>  43</td><td>  49</td><td>158</td><td> 211</td><td>184</td><td>142</td><td>277</td><td> 3</td></tr>\n",
       "\t<tr><th scope=row>GTEX.117YW.0226</th><td>171</td><td>   0</td><td> 36</td><td> 791</td><td>1011</td><td>234</td><td>162</td><td>  0</td><td>  54</td><td>129</td><td>⋯</td><td> 106</td><td> 68</td><td>   1</td><td>   0</td><td> 76</td><td> 489</td><td> 68</td><td>281</td><td>254</td><td> 6</td></tr>\n",
       "\t<tr><th scope=row>GTEX.11DXX.0426</th><td>  2</td><td>  10</td><td>258</td><td>1558</td><td> 850</td><td> 48</td><td>  0</td><td> 11</td><td>2491</td><td>325</td><td>⋯</td><td>   8</td><td> 89</td><td> 952</td><td>   0</td><td> 26</td><td> 197</td><td>323</td><td>  5</td><td> 70</td><td> 0</td></tr>\n",
       "\t<tr><th scope=row>GTEX.11DXZ.0426</th><td>  1</td><td> 239</td><td>850</td><td> 282</td><td>  41</td><td>206</td><td>  1</td><td>370</td><td> 839</td><td>291</td><td>⋯</td><td> 138</td><td>342</td><td>1459</td><td>  64</td><td>491</td><td>  38</td><td>310</td><td>  3</td><td> 46</td><td> 4</td></tr>\n",
       "\t<tr><th scope=row>GTEX.11DYG.1226</th><td>392</td><td>  18</td><td> 14</td><td>  10</td><td> 316</td><td> 57</td><td>742</td><td>  5</td><td> 232</td><td>123</td><td>⋯</td><td>  12</td><td>124</td><td> 129</td><td>   1</td><td>116</td><td> 254</td><td>238</td><td>483</td><td>185</td><td> 8</td></tr>\n",
       "\t<tr><th scope=row>GTEX.11EM3.0226</th><td> 40</td><td> 424</td><td>605</td><td> 135</td><td>  94</td><td> 58</td><td>861</td><td>  4</td><td>  11</td><td>349</td><td>⋯</td><td> 134</td><td>285</td><td> 637</td><td>  49</td><td>304</td><td> 143</td><td>558</td><td> 27</td><td>542</td><td> 0</td></tr>\n",
       "\t<tr><th scope=row>GTEX.11EMC.0926</th><td>260</td><td> 235</td><td>164</td><td>   2</td><td> 344</td><td>313</td><td>161</td><td>  1</td><td> 369</td><td>583</td><td>⋯</td><td> 674</td><td> 83</td><td> 208</td><td> 183</td><td> 19</td><td> 908</td><td>286</td><td>588</td><td>246</td><td> 8</td></tr>\n",
       "\t<tr><th scope=row>GTEX.11GS4.0326</th><td>252</td><td>  51</td><td>  0</td><td>  17</td><td>   1</td><td>378</td><td>418</td><td>  4</td><td>   2</td><td>  0</td><td>⋯</td><td>1020</td><td> 80</td><td>   1</td><td> 267</td><td>335</td><td> 142</td><td>230</td><td>141</td><td>487</td><td> 2</td></tr>\n",
       "\t<tr><th scope=row>GTEX.11GSP.1126</th><td>151</td><td> 101</td><td>484</td><td>  16</td><td>   4</td><td>301</td><td> 28</td><td>  0</td><td>  17</td><td>410</td><td>⋯</td><td>1510</td><td>230</td><td>  16</td><td> 146</td><td> 36</td><td> 560</td><td>302</td><td>684</td><td>135</td><td> 0</td></tr>\n",
       "\t<tr><th scope=row>GTEX.11I78.0726</th><td>328</td><td>1382</td><td> 45</td><td> 229</td><td>  19</td><td>386</td><td>  0</td><td>  0</td><td> 671</td><td>210</td><td>⋯</td><td> 100</td><td> 55</td><td>1262</td><td>1106</td><td>377</td><td>  13</td><td>415</td><td>  6</td><td>106</td><td> 0</td></tr>\n",
       "\t<tr><th scope=row>GTEX.11LCK.0726</th><td>  0</td><td> 162</td><td> 62</td><td> 160</td><td>   2</td><td>449</td><td>  0</td><td>  4</td><td>   0</td><td>335</td><td>⋯</td><td> 100</td><td> 92</td><td> 136</td><td>1295</td><td>777</td><td>  12</td><td>263</td><td>  2</td><td> 60</td><td> 0</td></tr>\n",
       "\t<tr><th scope=row>GTEX.11NUK.0726</th><td> 41</td><td> 174</td><td>645</td><td> 279</td><td>   9</td><td> 28</td><td> 57</td><td>  1</td><td>   8</td><td>544</td><td>⋯</td><td> 870</td><td> 98</td><td>  35</td><td>1481</td><td>447</td><td> 106</td><td>217</td><td> 30</td><td>114</td><td> 0</td></tr>\n",
       "\t<tr><th scope=row>GTEX.11ONC.0926</th><td>106</td><td> 436</td><td>143</td><td> 205</td><td>  11</td><td>391</td><td>  6</td><td>  0</td><td>   7</td><td>132</td><td>⋯</td><td>1198</td><td>125</td><td>  13</td><td> 903</td><td> 75</td><td> 256</td><td>417</td><td>299</td><td>180</td><td> 1</td></tr>\n",
       "\t<tr><th scope=row>GTEX.11P81.0326</th><td>  6</td><td>  21</td><td> 94</td><td>  21</td><td>   1</td><td>118</td><td>  0</td><td> 12</td><td>  27</td><td>175</td><td>⋯</td><td>  13</td><td>123</td><td> 764</td><td>  25</td><td>602</td><td>  35</td><td>160</td><td> 65</td><td> 13</td><td> 0</td></tr>\n",
       "\t<tr><th scope=row>GTEX.11P82.0126</th><td>  5</td><td> 219</td><td>893</td><td>   0</td><td>   0</td><td>  1</td><td> 17</td><td>  0</td><td>   0</td><td>387</td><td>⋯</td><td> 536</td><td>395</td><td>   0</td><td>1189</td><td>162</td><td>  86</td><td>393</td><td> 56</td><td> 17</td><td> 0</td></tr>\n",
       "\t<tr><th scope=row>GTEX.11TT1.1226</th><td>  4</td><td>  64</td><td>401</td><td>1350</td><td> 150</td><td> 41</td><td>  1</td><td>  1</td><td> 108</td><td>457</td><td>⋯</td><td>  13</td><td>455</td><td>1394</td><td>  23</td><td> 81</td><td> 724</td><td>605</td><td>  1</td><td>168</td><td> 0</td></tr>\n",
       "\t<tr><th scope=row>GTEX.11TUW.0926</th><td> 31</td><td> 106</td><td>328</td><td>  52</td><td> 684</td><td> 54</td><td>  4</td><td>  0</td><td> 907</td><td>193</td><td>⋯</td><td>  82</td><td> 92</td><td> 405</td><td>  11</td><td>285</td><td>1651</td><td>313</td><td>150</td><td> 33</td><td> 2</td></tr>\n",
       "\t<tr><th scope=row>GTEX.11UD2.0826</th><td>  0</td><td>   0</td><td>325</td><td>  90</td><td>1284</td><td>  6</td><td>  4</td><td>  1</td><td> 292</td><td>167</td><td>⋯</td><td>   0</td><td> 54</td><td>  37</td><td>   0</td><td> 10</td><td> 217</td><td> 54</td><td>  1</td><td> 34</td><td> 0</td></tr>\n",
       "\t<tr><th scope=row>GTEX.11WQK.0326</th><td> 80</td><td> 131</td><td>281</td><td>  76</td><td> 440</td><td>410</td><td> 44</td><td> 31</td><td> 875</td><td>209</td><td>⋯</td><td>  26</td><td>100</td><td> 715</td><td>  86</td><td>334</td><td>  58</td><td>203</td><td> 36</td><td> 39</td><td>12</td></tr>\n",
       "\t<tr><th scope=row>GTEX.11ZTS.0826</th><td> 63</td><td>  61</td><td>189</td><td> 231</td><td>  51</td><td>223</td><td> 64</td><td>  1</td><td>   8</td><td>268</td><td>⋯</td><td>1052</td><td>174</td><td>  18</td><td> 246</td><td> 27</td><td> 132</td><td>185</td><td>562</td><td>139</td><td> 0</td></tr>\n",
       "\t<tr><th scope=row>GTEX.11ZVC.0326</th><td> 48</td><td> 620</td><td> 25</td><td>1062</td><td>  61</td><td>549</td><td>  1</td><td>  0</td><td> 349</td><td>186</td><td>⋯</td><td> 464</td><td> 59</td><td> 728</td><td> 357</td><td>162</td><td> 502</td><td>331</td><td>177</td><td> 31</td><td> 0</td></tr>\n",
       "\t<tr><th scope=row>GTEX.1211K.0326</th><td>  2</td><td>  52</td><td> 37</td><td>2660</td><td> 159</td><td>199</td><td>  0</td><td>  0</td><td> 469</td><td>120</td><td>⋯</td><td>  97</td><td> 31</td><td> 218</td><td>   7</td><td> 90</td><td> 733</td><td>444</td><td>  2</td><td>  8</td><td> 0</td></tr>\n",
       "\t<tr><th scope=row>GTEX.1212Z.0826</th><td>150</td><td>   0</td><td>  2</td><td> 130</td><td>1043</td><td>198</td><td>527</td><td>  6</td><td> 980</td><td> 40</td><td>⋯</td><td>   6</td><td> 79</td><td> 189</td><td>   0</td><td> 15</td><td>1412</td><td> 92</td><td>100</td><td>242</td><td>16</td></tr>\n",
       "\t<tr><th scope=row>GTEX.12696.0426</th><td>  3</td><td>  22</td><td>  0</td><td>  21</td><td> 451</td><td> 69</td><td> 30</td><td> 27</td><td> 440</td><td> 65</td><td>⋯</td><td>  14</td><td> 13</td><td> 758</td><td>   3</td><td>141</td><td> 458</td><td>135</td><td>187</td><td> 39</td><td> 3</td></tr>\n",
       "\t<tr><th scope=row>GTEX.12C56.0226</th><td>  2</td><td> 498</td><td>306</td><td>  81</td><td>   6</td><td>  1</td><td>  9</td><td>  0</td><td>  21</td><td>290</td><td>⋯</td><td>1025</td><td> 76</td><td> 283</td><td> 918</td><td>767</td><td> 252</td><td>388</td><td>  7</td><td> 98</td><td> 0</td></tr>\n",
       "\t<tr><th scope=row>GTEX.12KS4.0626</th><td>135</td><td> 413</td><td>121</td><td>  71</td><td>   5</td><td>337</td><td>  1</td><td>  4</td><td>  59</td><td>130</td><td>⋯</td><td>  37</td><td> 37</td><td> 253</td><td> 121</td><td>960</td><td>  49</td><td>204</td><td> 32</td><td>190</td><td>43</td></tr>\n",
       "\t<tr><th scope=row>GTEX.12WSD.1326</th><td>320</td><td> 749</td><td>  4</td><td>  14</td><td>   9</td><td>501</td><td>234</td><td>  1</td><td>  25</td><td>221</td><td>⋯</td><td> 219</td><td> 68</td><td>  18</td><td> 396</td><td>425</td><td>   5</td><td>252</td><td>165</td><td>126</td><td> 0</td></tr>\n",
       "\t<tr><th scope=row>⋮</th><td>⋮</td><td>⋮</td><td>⋮</td><td>⋮</td><td>⋮</td><td>⋮</td><td>⋮</td><td>⋮</td><td>⋮</td><td>⋮</td><td>⋱</td><td>⋮</td><td>⋮</td><td>⋮</td><td>⋮</td><td>⋮</td><td>⋮</td><td>⋮</td><td>⋮</td><td>⋮</td><td>⋮</td></tr>\n",
       "\t<tr><th scope=row>GTEX.1LKK1.1126</th><td>1472</td><td> 30</td><td> 134</td><td>   1</td><td>  8</td><td>369</td><td> 585</td><td>  3</td><td>   3</td><td>199</td><td>⋯</td><td>575</td><td>319</td><td>   6</td><td>  24</td><td> 113</td><td> 154</td><td>291</td><td>609</td><td> 394</td><td>21</td></tr>\n",
       "\t<tr><th scope=row>GTEX.1LNCM.0326</th><td> 678</td><td>  3</td><td> 137</td><td> 291</td><td>153</td><td>377</td><td> 305</td><td>  2</td><td>  90</td><td>254</td><td>⋯</td><td>154</td><td>292</td><td>  47</td><td>   2</td><td> 359</td><td> 312</td><td>146</td><td>509</td><td> 221</td><td>10</td></tr>\n",
       "\t<tr><th scope=row>GTEX.1LVAN.1426</th><td> 189</td><td>666</td><td> 267</td><td> 446</td><td> 36</td><td>726</td><td>   9</td><td> 10</td><td> 103</td><td>251</td><td>⋯</td><td> 23</td><td> 88</td><td> 180</td><td> 572</td><td>1607</td><td>   4</td><td>362</td><td>  2</td><td> 115</td><td> 2</td></tr>\n",
       "\t<tr><th scope=row>GTEX.1LVAO.0826</th><td>  68</td><td>151</td><td>  21</td><td>   8</td><td> 80</td><td>  2</td><td> 173</td><td>  0</td><td> 139</td><td> 88</td><td>⋯</td><td>837</td><td> 54</td><td>  77</td><td> 141</td><td> 191</td><td>1016</td><td>216</td><td>532</td><td> 103</td><td> 0</td></tr>\n",
       "\t<tr><th scope=row>GTEX.1MCC2.0426</th><td>   0</td><td> 49</td><td>   0</td><td> 140</td><td>  8</td><td> 65</td><td>   4</td><td> 22</td><td> 195</td><td> 53</td><td>⋯</td><td> 52</td><td> 28</td><td> 664</td><td>  18</td><td> 996</td><td>  16</td><td>123</td><td> 40</td><td>  96</td><td>16</td></tr>\n",
       "\t<tr><th scope=row>GTEX.1MCYP.0426</th><td>   5</td><td>763</td><td> 763</td><td>  72</td><td> 12</td><td> 53</td><td>   7</td><td>  2</td><td>  71</td><td>248</td><td>⋯</td><td>185</td><td>218</td><td> 333</td><td> 531</td><td>2161</td><td>  41</td><td>456</td><td>  0</td><td>   9</td><td> 4</td></tr>\n",
       "\t<tr><th scope=row>GTEX.1MGNQ.0626</th><td> 212</td><td>262</td><td>2327</td><td> 272</td><td>  3</td><td>662</td><td>  16</td><td>225</td><td>  70</td><td>690</td><td>⋯</td><td>140</td><td>841</td><td> 460</td><td> 131</td><td> 501</td><td>  97</td><td>297</td><td>111</td><td> 140</td><td> 3</td></tr>\n",
       "\t<tr><th scope=row>GTEX.1NSGN.1126</th><td>  15</td><td>204</td><td>  54</td><td> 181</td><td> 12</td><td>326</td><td>   1</td><td> 73</td><td> 171</td><td>199</td><td>⋯</td><td> 18</td><td> 55</td><td>1595</td><td>  12</td><td> 879</td><td> 108</td><td>430</td><td> 24</td><td>  67</td><td> 0</td></tr>\n",
       "\t<tr><th scope=row>GTEX.1PDJ9.0926</th><td>   0</td><td>  0</td><td> 223</td><td>  28</td><td>310</td><td> 93</td><td>   3</td><td>138</td><td> 369</td><td> 97</td><td>⋯</td><td> 14</td><td>216</td><td> 141</td><td>   0</td><td>  49</td><td>  92</td><td>158</td><td>  0</td><td>  35</td><td> 0</td></tr>\n",
       "\t<tr><th scope=row>GTEX.1PFEY.0526</th><td>   0</td><td> 62</td><td> 102</td><td>   2</td><td>  5</td><td>342</td><td>   0</td><td>  4</td><td>  23</td><td>182</td><td>⋯</td><td> 31</td><td>104</td><td> 455</td><td> 500</td><td>2044</td><td>   2</td><td>311</td><td> 33</td><td>   7</td><td> 0</td></tr>\n",
       "\t<tr><th scope=row>GTEX.1POEN.1026</th><td>  93</td><td>  0</td><td> 492</td><td>  57</td><td>698</td><td> 16</td><td>  86</td><td> 25</td><td>   6</td><td>238</td><td>⋯</td><td>372</td><td>368</td><td>   5</td><td>   1</td><td> 104</td><td> 248</td><td>141</td><td>270</td><td> 546</td><td> 3</td></tr>\n",
       "\t<tr><th scope=row>GTEX.1QAET.0526</th><td> 137</td><td>258</td><td> 418</td><td>  30</td><td>260</td><td> 10</td><td>   3</td><td>296</td><td> 906</td><td>244</td><td>⋯</td><td>976</td><td>245</td><td> 586</td><td>  78</td><td>  15</td><td>1091</td><td>854</td><td>939</td><td> 307</td><td> 6</td></tr>\n",
       "\t<tr><th scope=row>GTEX.1QP29.0226</th><td>  46</td><td>631</td><td> 326</td><td>   5</td><td>  3</td><td>353</td><td>  24</td><td>238</td><td> 165</td><td>265</td><td>⋯</td><td> 36</td><td> 98</td><td>1347</td><td> 105</td><td> 439</td><td>   0</td><td>353</td><td> 61</td><td>  93</td><td> 1</td></tr>\n",
       "\t<tr><th scope=row>GTEX.1QP2A.0826</th><td> 270</td><td>449</td><td> 161</td><td> 279</td><td>351</td><td>316</td><td>   0</td><td>322</td><td>1229</td><td>163</td><td>⋯</td><td> 10</td><td> 71</td><td>1228</td><td>   3</td><td> 141</td><td> 393</td><td>514</td><td> 90</td><td>  73</td><td>19</td></tr>\n",
       "\t<tr><th scope=row>GTEX.1QP66.1126</th><td> 178</td><td>316</td><td>1188</td><td>  26</td><td> 65</td><td>760</td><td>   1</td><td>176</td><td> 205</td><td>676</td><td>⋯</td><td> 78</td><td>359</td><td> 247</td><td> 227</td><td> 649</td><td>  81</td><td>355</td><td>473</td><td> 184</td><td>36</td></tr>\n",
       "\t<tr><th scope=row>GTEX.1QP9N.0226</th><td>   0</td><td>825</td><td>   4</td><td>  52</td><td>  0</td><td>104</td><td>   0</td><td> 10</td><td>   0</td><td>119</td><td>⋯</td><td>137</td><td>  6</td><td> 188</td><td>2076</td><td> 342</td><td>   4</td><td>286</td><td>  6</td><td>  12</td><td> 0</td></tr>\n",
       "\t<tr><th scope=row>GTEX.1QPFJ.0726</th><td>   7</td><td>183</td><td>  19</td><td> 227</td><td> 34</td><td> 96</td><td>  17</td><td>  0</td><td> 109</td><td> 51</td><td>⋯</td><td>979</td><td> 77</td><td> 193</td><td> 764</td><td> 598</td><td> 110</td><td>281</td><td> 16</td><td>  83</td><td> 2</td></tr>\n",
       "\t<tr><th scope=row>GTEX.1QW4Y.0326</th><td>  65</td><td>753</td><td> 278</td><td>2040</td><td> 66</td><td>645</td><td>  10</td><td> 21</td><td> 505</td><td>338</td><td>⋯</td><td>429</td><td>178</td><td> 465</td><td> 917</td><td> 286</td><td> 104</td><td>464</td><td> 27</td><td> 127</td><td> 1</td></tr>\n",
       "\t<tr><th scope=row>GTEX.1R46S.0726</th><td> 266</td><td>366</td><td>  50</td><td> 134</td><td>593</td><td> 43</td><td>  26</td><td> 22</td><td> 144</td><td>132</td><td>⋯</td><td>893</td><td> 41</td><td> 232</td><td> 403</td><td>  80</td><td> 453</td><td>501</td><td>524</td><td>  91</td><td> 3</td></tr>\n",
       "\t<tr><th scope=row>GTEX.1R9JW.0726</th><td>   3</td><td>171</td><td> 290</td><td>  42</td><td>  0</td><td> 90</td><td>   0</td><td>  0</td><td>   7</td><td>162</td><td>⋯</td><td>117</td><td>111</td><td> 186</td><td> 499</td><td> 854</td><td>  44</td><td>192</td><td>  1</td><td>  21</td><td> 0</td></tr>\n",
       "\t<tr><th scope=row>GTEX.1R9K5.1426</th><td>   2</td><td>286</td><td> 541</td><td>  35</td><td>  0</td><td>412</td><td>   0</td><td>  4</td><td>  10</td><td>309</td><td>⋯</td><td> 40</td><td>119</td><td> 206</td><td> 819</td><td> 309</td><td>   1</td><td>179</td><td>  1</td><td>   5</td><td> 1</td></tr>\n",
       "\t<tr><th scope=row>GTEX.1R9PM.0326</th><td>  39</td><td> 34</td><td> 634</td><td> 109</td><td> 46</td><td> 28</td><td>  52</td><td> 23</td><td>  41</td><td>268</td><td>⋯</td><td>390</td><td>164</td><td>  30</td><td> 377</td><td> 327</td><td> 102</td><td>158</td><td>114</td><td>  74</td><td> 2</td></tr>\n",
       "\t<tr><th scope=row>GTEX.1R9PN.0226</th><td>   0</td><td>277</td><td> 333</td><td> 339</td><td>260</td><td>248</td><td>1277</td><td> 63</td><td>1328</td><td>410</td><td>⋯</td><td> 42</td><td>430</td><td> 530</td><td>  25</td><td>1249</td><td>  15</td><td>380</td><td>  3</td><td> 368</td><td> 2</td></tr>\n",
       "\t<tr><th scope=row>GTEX.1R9PO.0226</th><td>  77</td><td>271</td><td> 193</td><td> 408</td><td> 63</td><td> 78</td><td> 144</td><td>115</td><td> 524</td><td>425</td><td>⋯</td><td>408</td><td> 69</td><td> 324</td><td> 263</td><td> 728</td><td> 265</td><td>638</td><td> 14</td><td>1487</td><td> 2</td></tr>\n",
       "\t<tr><th scope=row>GTEX.1RAZA.1126</th><td>   6</td><td>537</td><td> 208</td><td>  72</td><td>  3</td><td> 48</td><td>   0</td><td>104</td><td> 100</td><td> 84</td><td>⋯</td><td>153</td><td>124</td><td> 205</td><td> 228</td><td> 679</td><td>   6</td><td>400</td><td>  0</td><td>  85</td><td> 0</td></tr>\n",
       "\t<tr><th scope=row>GTEX.1RAZR.0626</th><td>  32</td><td>  7</td><td>   2</td><td>  24</td><td>184</td><td>200</td><td>   1</td><td>281</td><td> 601</td><td>106</td><td>⋯</td><td> 49</td><td> 59</td><td> 539</td><td>   0</td><td> 180</td><td>  76</td><td>343</td><td>148</td><td>  45</td><td>17</td></tr>\n",
       "\t<tr><th scope=row>GTEX.1RNTQ.0726</th><td>   5</td><td> 18</td><td>  26</td><td> 194</td><td>398</td><td> 10</td><td>   0</td><td>  4</td><td>  12</td><td> 65</td><td>⋯</td><td> 47</td><td> 42</td><td>  64</td><td>   5</td><td> 485</td><td> 140</td><td>152</td><td> 77</td><td>   3</td><td> 1</td></tr>\n",
       "\t<tr><th scope=row>GTEX.1RQED.1126</th><td>  94</td><td>228</td><td>  79</td><td>  83</td><td>158</td><td>219</td><td>  86</td><td>  0</td><td> 112</td><td>154</td><td>⋯</td><td>955</td><td>207</td><td> 149</td><td> 455</td><td> 246</td><td> 283</td><td>247</td><td>354</td><td>  80</td><td> 6</td></tr>\n",
       "\t<tr><th scope=row>GTEX.1S3DN.0626</th><td> 460</td><td>314</td><td>  43</td><td>   7</td><td>  2</td><td>246</td><td>  36</td><td>103</td><td>  79</td><td>113</td><td>⋯</td><td>  6</td><td> 59</td><td> 637</td><td>  84</td><td>  81</td><td>  62</td><td>165</td><td>126</td><td> 219</td><td> 5</td></tr>\n",
       "\t<tr><th scope=row>GTEX.1S5ZA.1126</th><td>   1</td><td>308</td><td> 102</td><td>  73</td><td>  7</td><td> 95</td><td>   0</td><td>118</td><td>   4</td><td>195</td><td>⋯</td><td>476</td><td>151</td><td>  20</td><td> 659</td><td> 869</td><td>   5</td><td>277</td><td>  3</td><td>  15</td><td>46</td></tr>\n",
       "</tbody>\n",
       "</table>\n"
      ],
      "text/latex": [
       "A data.frame: 280 × 32\n",
       "\\begin{tabular}{r|lllllllllllllllllllll}\n",
       "  & Mophological.cluster.G4\\_0 & Mophological.cluster.G4\\_1 & Mophological.cluster.G4\\_2 & Mophological.cluster.G4\\_3 & Mophological.cluster.G4\\_4 & Mophological.cluster.G4\\_5 & Mophological.cluster.G4\\_6 & Mophological.cluster.G4\\_7 & Mophological.cluster.G4\\_8 & Mophological.cluster.G4\\_9 & ⋯ & Mophological.cluster.G4\\_22 & Mophological.cluster.G4\\_23 & Mophological.cluster.G4\\_24 & Mophological.cluster.G4\\_25 & Mophological.cluster.G4\\_26 & Mophological.cluster.G4\\_27 & Mophological.cluster.G4\\_28 & Mophological.cluster.G4\\_29 & Mophological.cluster.G4\\_30 & Mophological.cluster.G4\\_31\\\\\n",
       "  & <int> & <int> & <int> & <int> & <int> & <int> & <int> & <int> & <int> & <int> & ⋯ & <int> & <int> & <int> & <int> & <int> & <int> & <int> & <int> & <int> & <int>\\\\\n",
       "\\hline\n",
       "\tGTEX.111YS.0526 & 137 &   88 & 417 &    1 &    1 &  32 &   1 &   1 &    1 & 167 & ⋯ &  262 & 233 &   31 &  417 &  80 &  144 & 250 & 664 &  20 &  0\\\\\n",
       "\tGTEX.1122O.1126 &  96 &  880 & 236 &  393 &   21 & 214 &   1 &  47 &   39 & 291 & ⋯ & 3350 &  99 &  190 &  495 & 278 &  774 & 694 & 268 & 145 &  0\\\\\n",
       "\tGTEX.1128S.0326 &   2 &  552 & 211 & 1031 &  174 & 216 & 289 &   0 &  493 & 663 & ⋯ &  831 & 135 &  250 &  161 &  82 &  120 & 377 &   2 & 500 &  0\\\\\n",
       "\tGTEX.117XS.0426 & 339 &    1 & 151 &  637 & 1844 & 473 & 260 &   3 &  440 & 153 & ⋯ &  148 & 166 &   43 &   49 & 158 &  211 & 184 & 142 & 277 &  3\\\\\n",
       "\tGTEX.117YW.0226 & 171 &    0 &  36 &  791 & 1011 & 234 & 162 &   0 &   54 & 129 & ⋯ &  106 &  68 &    1 &    0 &  76 &  489 &  68 & 281 & 254 &  6\\\\\n",
       "\tGTEX.11DXX.0426 &   2 &   10 & 258 & 1558 &  850 &  48 &   0 &  11 & 2491 & 325 & ⋯ &    8 &  89 &  952 &    0 &  26 &  197 & 323 &   5 &  70 &  0\\\\\n",
       "\tGTEX.11DXZ.0426 &   1 &  239 & 850 &  282 &   41 & 206 &   1 & 370 &  839 & 291 & ⋯ &  138 & 342 & 1459 &   64 & 491 &   38 & 310 &   3 &  46 &  4\\\\\n",
       "\tGTEX.11DYG.1226 & 392 &   18 &  14 &   10 &  316 &  57 & 742 &   5 &  232 & 123 & ⋯ &   12 & 124 &  129 &    1 & 116 &  254 & 238 & 483 & 185 &  8\\\\\n",
       "\tGTEX.11EM3.0226 &  40 &  424 & 605 &  135 &   94 &  58 & 861 &   4 &   11 & 349 & ⋯ &  134 & 285 &  637 &   49 & 304 &  143 & 558 &  27 & 542 &  0\\\\\n",
       "\tGTEX.11EMC.0926 & 260 &  235 & 164 &    2 &  344 & 313 & 161 &   1 &  369 & 583 & ⋯ &  674 &  83 &  208 &  183 &  19 &  908 & 286 & 588 & 246 &  8\\\\\n",
       "\tGTEX.11GS4.0326 & 252 &   51 &   0 &   17 &    1 & 378 & 418 &   4 &    2 &   0 & ⋯ & 1020 &  80 &    1 &  267 & 335 &  142 & 230 & 141 & 487 &  2\\\\\n",
       "\tGTEX.11GSP.1126 & 151 &  101 & 484 &   16 &    4 & 301 &  28 &   0 &   17 & 410 & ⋯ & 1510 & 230 &   16 &  146 &  36 &  560 & 302 & 684 & 135 &  0\\\\\n",
       "\tGTEX.11I78.0726 & 328 & 1382 &  45 &  229 &   19 & 386 &   0 &   0 &  671 & 210 & ⋯ &  100 &  55 & 1262 & 1106 & 377 &   13 & 415 &   6 & 106 &  0\\\\\n",
       "\tGTEX.11LCK.0726 &   0 &  162 &  62 &  160 &    2 & 449 &   0 &   4 &    0 & 335 & ⋯ &  100 &  92 &  136 & 1295 & 777 &   12 & 263 &   2 &  60 &  0\\\\\n",
       "\tGTEX.11NUK.0726 &  41 &  174 & 645 &  279 &    9 &  28 &  57 &   1 &    8 & 544 & ⋯ &  870 &  98 &   35 & 1481 & 447 &  106 & 217 &  30 & 114 &  0\\\\\n",
       "\tGTEX.11ONC.0926 & 106 &  436 & 143 &  205 &   11 & 391 &   6 &   0 &    7 & 132 & ⋯ & 1198 & 125 &   13 &  903 &  75 &  256 & 417 & 299 & 180 &  1\\\\\n",
       "\tGTEX.11P81.0326 &   6 &   21 &  94 &   21 &    1 & 118 &   0 &  12 &   27 & 175 & ⋯ &   13 & 123 &  764 &   25 & 602 &   35 & 160 &  65 &  13 &  0\\\\\n",
       "\tGTEX.11P82.0126 &   5 &  219 & 893 &    0 &    0 &   1 &  17 &   0 &    0 & 387 & ⋯ &  536 & 395 &    0 & 1189 & 162 &   86 & 393 &  56 &  17 &  0\\\\\n",
       "\tGTEX.11TT1.1226 &   4 &   64 & 401 & 1350 &  150 &  41 &   1 &   1 &  108 & 457 & ⋯ &   13 & 455 & 1394 &   23 &  81 &  724 & 605 &   1 & 168 &  0\\\\\n",
       "\tGTEX.11TUW.0926 &  31 &  106 & 328 &   52 &  684 &  54 &   4 &   0 &  907 & 193 & ⋯ &   82 &  92 &  405 &   11 & 285 & 1651 & 313 & 150 &  33 &  2\\\\\n",
       "\tGTEX.11UD2.0826 &   0 &    0 & 325 &   90 & 1284 &   6 &   4 &   1 &  292 & 167 & ⋯ &    0 &  54 &   37 &    0 &  10 &  217 &  54 &   1 &  34 &  0\\\\\n",
       "\tGTEX.11WQK.0326 &  80 &  131 & 281 &   76 &  440 & 410 &  44 &  31 &  875 & 209 & ⋯ &   26 & 100 &  715 &   86 & 334 &   58 & 203 &  36 &  39 & 12\\\\\n",
       "\tGTEX.11ZTS.0826 &  63 &   61 & 189 &  231 &   51 & 223 &  64 &   1 &    8 & 268 & ⋯ & 1052 & 174 &   18 &  246 &  27 &  132 & 185 & 562 & 139 &  0\\\\\n",
       "\tGTEX.11ZVC.0326 &  48 &  620 &  25 & 1062 &   61 & 549 &   1 &   0 &  349 & 186 & ⋯ &  464 &  59 &  728 &  357 & 162 &  502 & 331 & 177 &  31 &  0\\\\\n",
       "\tGTEX.1211K.0326 &   2 &   52 &  37 & 2660 &  159 & 199 &   0 &   0 &  469 & 120 & ⋯ &   97 &  31 &  218 &    7 &  90 &  733 & 444 &   2 &   8 &  0\\\\\n",
       "\tGTEX.1212Z.0826 & 150 &    0 &   2 &  130 & 1043 & 198 & 527 &   6 &  980 &  40 & ⋯ &    6 &  79 &  189 &    0 &  15 & 1412 &  92 & 100 & 242 & 16\\\\\n",
       "\tGTEX.12696.0426 &   3 &   22 &   0 &   21 &  451 &  69 &  30 &  27 &  440 &  65 & ⋯ &   14 &  13 &  758 &    3 & 141 &  458 & 135 & 187 &  39 &  3\\\\\n",
       "\tGTEX.12C56.0226 &   2 &  498 & 306 &   81 &    6 &   1 &   9 &   0 &   21 & 290 & ⋯ & 1025 &  76 &  283 &  918 & 767 &  252 & 388 &   7 &  98 &  0\\\\\n",
       "\tGTEX.12KS4.0626 & 135 &  413 & 121 &   71 &    5 & 337 &   1 &   4 &   59 & 130 & ⋯ &   37 &  37 &  253 &  121 & 960 &   49 & 204 &  32 & 190 & 43\\\\\n",
       "\tGTEX.12WSD.1326 & 320 &  749 &   4 &   14 &    9 & 501 & 234 &   1 &   25 & 221 & ⋯ &  219 &  68 &   18 &  396 & 425 &    5 & 252 & 165 & 126 &  0\\\\\n",
       "\t⋮ & ⋮ & ⋮ & ⋮ & ⋮ & ⋮ & ⋮ & ⋮ & ⋮ & ⋮ & ⋮ & ⋱ & ⋮ & ⋮ & ⋮ & ⋮ & ⋮ & ⋮ & ⋮ & ⋮ & ⋮ & ⋮\\\\\n",
       "\tGTEX.1LKK1.1126 & 1472 &  30 &  134 &    1 &   8 & 369 &  585 &   3 &    3 & 199 & ⋯ & 575 & 319 &    6 &   24 &  113 &  154 & 291 & 609 &  394 & 21\\\\\n",
       "\tGTEX.1LNCM.0326 &  678 &   3 &  137 &  291 & 153 & 377 &  305 &   2 &   90 & 254 & ⋯ & 154 & 292 &   47 &    2 &  359 &  312 & 146 & 509 &  221 & 10\\\\\n",
       "\tGTEX.1LVAN.1426 &  189 & 666 &  267 &  446 &  36 & 726 &    9 &  10 &  103 & 251 & ⋯ &  23 &  88 &  180 &  572 & 1607 &    4 & 362 &   2 &  115 &  2\\\\\n",
       "\tGTEX.1LVAO.0826 &   68 & 151 &   21 &    8 &  80 &   2 &  173 &   0 &  139 &  88 & ⋯ & 837 &  54 &   77 &  141 &  191 & 1016 & 216 & 532 &  103 &  0\\\\\n",
       "\tGTEX.1MCC2.0426 &    0 &  49 &    0 &  140 &   8 &  65 &    4 &  22 &  195 &  53 & ⋯ &  52 &  28 &  664 &   18 &  996 &   16 & 123 &  40 &   96 & 16\\\\\n",
       "\tGTEX.1MCYP.0426 &    5 & 763 &  763 &   72 &  12 &  53 &    7 &   2 &   71 & 248 & ⋯ & 185 & 218 &  333 &  531 & 2161 &   41 & 456 &   0 &    9 &  4\\\\\n",
       "\tGTEX.1MGNQ.0626 &  212 & 262 & 2327 &  272 &   3 & 662 &   16 & 225 &   70 & 690 & ⋯ & 140 & 841 &  460 &  131 &  501 &   97 & 297 & 111 &  140 &  3\\\\\n",
       "\tGTEX.1NSGN.1126 &   15 & 204 &   54 &  181 &  12 & 326 &    1 &  73 &  171 & 199 & ⋯ &  18 &  55 & 1595 &   12 &  879 &  108 & 430 &  24 &   67 &  0\\\\\n",
       "\tGTEX.1PDJ9.0926 &    0 &   0 &  223 &   28 & 310 &  93 &    3 & 138 &  369 &  97 & ⋯ &  14 & 216 &  141 &    0 &   49 &   92 & 158 &   0 &   35 &  0\\\\\n",
       "\tGTEX.1PFEY.0526 &    0 &  62 &  102 &    2 &   5 & 342 &    0 &   4 &   23 & 182 & ⋯ &  31 & 104 &  455 &  500 & 2044 &    2 & 311 &  33 &    7 &  0\\\\\n",
       "\tGTEX.1POEN.1026 &   93 &   0 &  492 &   57 & 698 &  16 &   86 &  25 &    6 & 238 & ⋯ & 372 & 368 &    5 &    1 &  104 &  248 & 141 & 270 &  546 &  3\\\\\n",
       "\tGTEX.1QAET.0526 &  137 & 258 &  418 &   30 & 260 &  10 &    3 & 296 &  906 & 244 & ⋯ & 976 & 245 &  586 &   78 &   15 & 1091 & 854 & 939 &  307 &  6\\\\\n",
       "\tGTEX.1QP29.0226 &   46 & 631 &  326 &    5 &   3 & 353 &   24 & 238 &  165 & 265 & ⋯ &  36 &  98 & 1347 &  105 &  439 &    0 & 353 &  61 &   93 &  1\\\\\n",
       "\tGTEX.1QP2A.0826 &  270 & 449 &  161 &  279 & 351 & 316 &    0 & 322 & 1229 & 163 & ⋯ &  10 &  71 & 1228 &    3 &  141 &  393 & 514 &  90 &   73 & 19\\\\\n",
       "\tGTEX.1QP66.1126 &  178 & 316 & 1188 &   26 &  65 & 760 &    1 & 176 &  205 & 676 & ⋯ &  78 & 359 &  247 &  227 &  649 &   81 & 355 & 473 &  184 & 36\\\\\n",
       "\tGTEX.1QP9N.0226 &    0 & 825 &    4 &   52 &   0 & 104 &    0 &  10 &    0 & 119 & ⋯ & 137 &   6 &  188 & 2076 &  342 &    4 & 286 &   6 &   12 &  0\\\\\n",
       "\tGTEX.1QPFJ.0726 &    7 & 183 &   19 &  227 &  34 &  96 &   17 &   0 &  109 &  51 & ⋯ & 979 &  77 &  193 &  764 &  598 &  110 & 281 &  16 &   83 &  2\\\\\n",
       "\tGTEX.1QW4Y.0326 &   65 & 753 &  278 & 2040 &  66 & 645 &   10 &  21 &  505 & 338 & ⋯ & 429 & 178 &  465 &  917 &  286 &  104 & 464 &  27 &  127 &  1\\\\\n",
       "\tGTEX.1R46S.0726 &  266 & 366 &   50 &  134 & 593 &  43 &   26 &  22 &  144 & 132 & ⋯ & 893 &  41 &  232 &  403 &   80 &  453 & 501 & 524 &   91 &  3\\\\\n",
       "\tGTEX.1R9JW.0726 &    3 & 171 &  290 &   42 &   0 &  90 &    0 &   0 &    7 & 162 & ⋯ & 117 & 111 &  186 &  499 &  854 &   44 & 192 &   1 &   21 &  0\\\\\n",
       "\tGTEX.1R9K5.1426 &    2 & 286 &  541 &   35 &   0 & 412 &    0 &   4 &   10 & 309 & ⋯ &  40 & 119 &  206 &  819 &  309 &    1 & 179 &   1 &    5 &  1\\\\\n",
       "\tGTEX.1R9PM.0326 &   39 &  34 &  634 &  109 &  46 &  28 &   52 &  23 &   41 & 268 & ⋯ & 390 & 164 &   30 &  377 &  327 &  102 & 158 & 114 &   74 &  2\\\\\n",
       "\tGTEX.1R9PN.0226 &    0 & 277 &  333 &  339 & 260 & 248 & 1277 &  63 & 1328 & 410 & ⋯ &  42 & 430 &  530 &   25 & 1249 &   15 & 380 &   3 &  368 &  2\\\\\n",
       "\tGTEX.1R9PO.0226 &   77 & 271 &  193 &  408 &  63 &  78 &  144 & 115 &  524 & 425 & ⋯ & 408 &  69 &  324 &  263 &  728 &  265 & 638 &  14 & 1487 &  2\\\\\n",
       "\tGTEX.1RAZA.1126 &    6 & 537 &  208 &   72 &   3 &  48 &    0 & 104 &  100 &  84 & ⋯ & 153 & 124 &  205 &  228 &  679 &    6 & 400 &   0 &   85 &  0\\\\\n",
       "\tGTEX.1RAZR.0626 &   32 &   7 &    2 &   24 & 184 & 200 &    1 & 281 &  601 & 106 & ⋯ &  49 &  59 &  539 &    0 &  180 &   76 & 343 & 148 &   45 & 17\\\\\n",
       "\tGTEX.1RNTQ.0726 &    5 &  18 &   26 &  194 & 398 &  10 &    0 &   4 &   12 &  65 & ⋯ &  47 &  42 &   64 &    5 &  485 &  140 & 152 &  77 &    3 &  1\\\\\n",
       "\tGTEX.1RQED.1126 &   94 & 228 &   79 &   83 & 158 & 219 &   86 &   0 &  112 & 154 & ⋯ & 955 & 207 &  149 &  455 &  246 &  283 & 247 & 354 &   80 &  6\\\\\n",
       "\tGTEX.1S3DN.0626 &  460 & 314 &   43 &    7 &   2 & 246 &   36 & 103 &   79 & 113 & ⋯ &   6 &  59 &  637 &   84 &   81 &   62 & 165 & 126 &  219 &  5\\\\\n",
       "\tGTEX.1S5ZA.1126 &    1 & 308 &  102 &   73 &   7 &  95 &    0 & 118 &    4 & 195 & ⋯ & 476 & 151 &   20 &  659 &  869 &    5 & 277 &   3 &   15 & 46\\\\\n",
       "\\end{tabular}\n"
      ],
      "text/markdown": [
       "\n",
       "A data.frame: 280 × 32\n",
       "\n",
       "| <!--/--> | Mophological.cluster.G4_0 &lt;int&gt; | Mophological.cluster.G4_1 &lt;int&gt; | Mophological.cluster.G4_2 &lt;int&gt; | Mophological.cluster.G4_3 &lt;int&gt; | Mophological.cluster.G4_4 &lt;int&gt; | Mophological.cluster.G4_5 &lt;int&gt; | Mophological.cluster.G4_6 &lt;int&gt; | Mophological.cluster.G4_7 &lt;int&gt; | Mophological.cluster.G4_8 &lt;int&gt; | Mophological.cluster.G4_9 &lt;int&gt; | ⋯ ⋯ | Mophological.cluster.G4_22 &lt;int&gt; | Mophological.cluster.G4_23 &lt;int&gt; | Mophological.cluster.G4_24 &lt;int&gt; | Mophological.cluster.G4_25 &lt;int&gt; | Mophological.cluster.G4_26 &lt;int&gt; | Mophological.cluster.G4_27 &lt;int&gt; | Mophological.cluster.G4_28 &lt;int&gt; | Mophological.cluster.G4_29 &lt;int&gt; | Mophological.cluster.G4_30 &lt;int&gt; | Mophological.cluster.G4_31 &lt;int&gt; |\n",
       "|---|---|---|---|---|---|---|---|---|---|---|---|---|---|---|---|---|---|---|---|---|---|\n",
       "| GTEX.111YS.0526 | 137 |   88 | 417 |    1 |    1 |  32 |   1 |   1 |    1 | 167 | ⋯ |  262 | 233 |   31 |  417 |  80 |  144 | 250 | 664 |  20 |  0 |\n",
       "| GTEX.1122O.1126 |  96 |  880 | 236 |  393 |   21 | 214 |   1 |  47 |   39 | 291 | ⋯ | 3350 |  99 |  190 |  495 | 278 |  774 | 694 | 268 | 145 |  0 |\n",
       "| GTEX.1128S.0326 |   2 |  552 | 211 | 1031 |  174 | 216 | 289 |   0 |  493 | 663 | ⋯ |  831 | 135 |  250 |  161 |  82 |  120 | 377 |   2 | 500 |  0 |\n",
       "| GTEX.117XS.0426 | 339 |    1 | 151 |  637 | 1844 | 473 | 260 |   3 |  440 | 153 | ⋯ |  148 | 166 |   43 |   49 | 158 |  211 | 184 | 142 | 277 |  3 |\n",
       "| GTEX.117YW.0226 | 171 |    0 |  36 |  791 | 1011 | 234 | 162 |   0 |   54 | 129 | ⋯ |  106 |  68 |    1 |    0 |  76 |  489 |  68 | 281 | 254 |  6 |\n",
       "| GTEX.11DXX.0426 |   2 |   10 | 258 | 1558 |  850 |  48 |   0 |  11 | 2491 | 325 | ⋯ |    8 |  89 |  952 |    0 |  26 |  197 | 323 |   5 |  70 |  0 |\n",
       "| GTEX.11DXZ.0426 |   1 |  239 | 850 |  282 |   41 | 206 |   1 | 370 |  839 | 291 | ⋯ |  138 | 342 | 1459 |   64 | 491 |   38 | 310 |   3 |  46 |  4 |\n",
       "| GTEX.11DYG.1226 | 392 |   18 |  14 |   10 |  316 |  57 | 742 |   5 |  232 | 123 | ⋯ |   12 | 124 |  129 |    1 | 116 |  254 | 238 | 483 | 185 |  8 |\n",
       "| GTEX.11EM3.0226 |  40 |  424 | 605 |  135 |   94 |  58 | 861 |   4 |   11 | 349 | ⋯ |  134 | 285 |  637 |   49 | 304 |  143 | 558 |  27 | 542 |  0 |\n",
       "| GTEX.11EMC.0926 | 260 |  235 | 164 |    2 |  344 | 313 | 161 |   1 |  369 | 583 | ⋯ |  674 |  83 |  208 |  183 |  19 |  908 | 286 | 588 | 246 |  8 |\n",
       "| GTEX.11GS4.0326 | 252 |   51 |   0 |   17 |    1 | 378 | 418 |   4 |    2 |   0 | ⋯ | 1020 |  80 |    1 |  267 | 335 |  142 | 230 | 141 | 487 |  2 |\n",
       "| GTEX.11GSP.1126 | 151 |  101 | 484 |   16 |    4 | 301 |  28 |   0 |   17 | 410 | ⋯ | 1510 | 230 |   16 |  146 |  36 |  560 | 302 | 684 | 135 |  0 |\n",
       "| GTEX.11I78.0726 | 328 | 1382 |  45 |  229 |   19 | 386 |   0 |   0 |  671 | 210 | ⋯ |  100 |  55 | 1262 | 1106 | 377 |   13 | 415 |   6 | 106 |  0 |\n",
       "| GTEX.11LCK.0726 |   0 |  162 |  62 |  160 |    2 | 449 |   0 |   4 |    0 | 335 | ⋯ |  100 |  92 |  136 | 1295 | 777 |   12 | 263 |   2 |  60 |  0 |\n",
       "| GTEX.11NUK.0726 |  41 |  174 | 645 |  279 |    9 |  28 |  57 |   1 |    8 | 544 | ⋯ |  870 |  98 |   35 | 1481 | 447 |  106 | 217 |  30 | 114 |  0 |\n",
       "| GTEX.11ONC.0926 | 106 |  436 | 143 |  205 |   11 | 391 |   6 |   0 |    7 | 132 | ⋯ | 1198 | 125 |   13 |  903 |  75 |  256 | 417 | 299 | 180 |  1 |\n",
       "| GTEX.11P81.0326 |   6 |   21 |  94 |   21 |    1 | 118 |   0 |  12 |   27 | 175 | ⋯ |   13 | 123 |  764 |   25 | 602 |   35 | 160 |  65 |  13 |  0 |\n",
       "| GTEX.11P82.0126 |   5 |  219 | 893 |    0 |    0 |   1 |  17 |   0 |    0 | 387 | ⋯ |  536 | 395 |    0 | 1189 | 162 |   86 | 393 |  56 |  17 |  0 |\n",
       "| GTEX.11TT1.1226 |   4 |   64 | 401 | 1350 |  150 |  41 |   1 |   1 |  108 | 457 | ⋯ |   13 | 455 | 1394 |   23 |  81 |  724 | 605 |   1 | 168 |  0 |\n",
       "| GTEX.11TUW.0926 |  31 |  106 | 328 |   52 |  684 |  54 |   4 |   0 |  907 | 193 | ⋯ |   82 |  92 |  405 |   11 | 285 | 1651 | 313 | 150 |  33 |  2 |\n",
       "| GTEX.11UD2.0826 |   0 |    0 | 325 |   90 | 1284 |   6 |   4 |   1 |  292 | 167 | ⋯ |    0 |  54 |   37 |    0 |  10 |  217 |  54 |   1 |  34 |  0 |\n",
       "| GTEX.11WQK.0326 |  80 |  131 | 281 |   76 |  440 | 410 |  44 |  31 |  875 | 209 | ⋯ |   26 | 100 |  715 |   86 | 334 |   58 | 203 |  36 |  39 | 12 |\n",
       "| GTEX.11ZTS.0826 |  63 |   61 | 189 |  231 |   51 | 223 |  64 |   1 |    8 | 268 | ⋯ | 1052 | 174 |   18 |  246 |  27 |  132 | 185 | 562 | 139 |  0 |\n",
       "| GTEX.11ZVC.0326 |  48 |  620 |  25 | 1062 |   61 | 549 |   1 |   0 |  349 | 186 | ⋯ |  464 |  59 |  728 |  357 | 162 |  502 | 331 | 177 |  31 |  0 |\n",
       "| GTEX.1211K.0326 |   2 |   52 |  37 | 2660 |  159 | 199 |   0 |   0 |  469 | 120 | ⋯ |   97 |  31 |  218 |    7 |  90 |  733 | 444 |   2 |   8 |  0 |\n",
       "| GTEX.1212Z.0826 | 150 |    0 |   2 |  130 | 1043 | 198 | 527 |   6 |  980 |  40 | ⋯ |    6 |  79 |  189 |    0 |  15 | 1412 |  92 | 100 | 242 | 16 |\n",
       "| GTEX.12696.0426 |   3 |   22 |   0 |   21 |  451 |  69 |  30 |  27 |  440 |  65 | ⋯ |   14 |  13 |  758 |    3 | 141 |  458 | 135 | 187 |  39 |  3 |\n",
       "| GTEX.12C56.0226 |   2 |  498 | 306 |   81 |    6 |   1 |   9 |   0 |   21 | 290 | ⋯ | 1025 |  76 |  283 |  918 | 767 |  252 | 388 |   7 |  98 |  0 |\n",
       "| GTEX.12KS4.0626 | 135 |  413 | 121 |   71 |    5 | 337 |   1 |   4 |   59 | 130 | ⋯ |   37 |  37 |  253 |  121 | 960 |   49 | 204 |  32 | 190 | 43 |\n",
       "| GTEX.12WSD.1326 | 320 |  749 |   4 |   14 |    9 | 501 | 234 |   1 |   25 | 221 | ⋯ |  219 |  68 |   18 |  396 | 425 |    5 | 252 | 165 | 126 |  0 |\n",
       "| ⋮ | ⋮ | ⋮ | ⋮ | ⋮ | ⋮ | ⋮ | ⋮ | ⋮ | ⋮ | ⋮ | ⋱ | ⋮ | ⋮ | ⋮ | ⋮ | ⋮ | ⋮ | ⋮ | ⋮ | ⋮ | ⋮ |\n",
       "| GTEX.1LKK1.1126 | 1472 |  30 |  134 |    1 |   8 | 369 |  585 |   3 |    3 | 199 | ⋯ | 575 | 319 |    6 |   24 |  113 |  154 | 291 | 609 |  394 | 21 |\n",
       "| GTEX.1LNCM.0326 |  678 |   3 |  137 |  291 | 153 | 377 |  305 |   2 |   90 | 254 | ⋯ | 154 | 292 |   47 |    2 |  359 |  312 | 146 | 509 |  221 | 10 |\n",
       "| GTEX.1LVAN.1426 |  189 | 666 |  267 |  446 |  36 | 726 |    9 |  10 |  103 | 251 | ⋯ |  23 |  88 |  180 |  572 | 1607 |    4 | 362 |   2 |  115 |  2 |\n",
       "| GTEX.1LVAO.0826 |   68 | 151 |   21 |    8 |  80 |   2 |  173 |   0 |  139 |  88 | ⋯ | 837 |  54 |   77 |  141 |  191 | 1016 | 216 | 532 |  103 |  0 |\n",
       "| GTEX.1MCC2.0426 |    0 |  49 |    0 |  140 |   8 |  65 |    4 |  22 |  195 |  53 | ⋯ |  52 |  28 |  664 |   18 |  996 |   16 | 123 |  40 |   96 | 16 |\n",
       "| GTEX.1MCYP.0426 |    5 | 763 |  763 |   72 |  12 |  53 |    7 |   2 |   71 | 248 | ⋯ | 185 | 218 |  333 |  531 | 2161 |   41 | 456 |   0 |    9 |  4 |\n",
       "| GTEX.1MGNQ.0626 |  212 | 262 | 2327 |  272 |   3 | 662 |   16 | 225 |   70 | 690 | ⋯ | 140 | 841 |  460 |  131 |  501 |   97 | 297 | 111 |  140 |  3 |\n",
       "| GTEX.1NSGN.1126 |   15 | 204 |   54 |  181 |  12 | 326 |    1 |  73 |  171 | 199 | ⋯ |  18 |  55 | 1595 |   12 |  879 |  108 | 430 |  24 |   67 |  0 |\n",
       "| GTEX.1PDJ9.0926 |    0 |   0 |  223 |   28 | 310 |  93 |    3 | 138 |  369 |  97 | ⋯ |  14 | 216 |  141 |    0 |   49 |   92 | 158 |   0 |   35 |  0 |\n",
       "| GTEX.1PFEY.0526 |    0 |  62 |  102 |    2 |   5 | 342 |    0 |   4 |   23 | 182 | ⋯ |  31 | 104 |  455 |  500 | 2044 |    2 | 311 |  33 |    7 |  0 |\n",
       "| GTEX.1POEN.1026 |   93 |   0 |  492 |   57 | 698 |  16 |   86 |  25 |    6 | 238 | ⋯ | 372 | 368 |    5 |    1 |  104 |  248 | 141 | 270 |  546 |  3 |\n",
       "| GTEX.1QAET.0526 |  137 | 258 |  418 |   30 | 260 |  10 |    3 | 296 |  906 | 244 | ⋯ | 976 | 245 |  586 |   78 |   15 | 1091 | 854 | 939 |  307 |  6 |\n",
       "| GTEX.1QP29.0226 |   46 | 631 |  326 |    5 |   3 | 353 |   24 | 238 |  165 | 265 | ⋯ |  36 |  98 | 1347 |  105 |  439 |    0 | 353 |  61 |   93 |  1 |\n",
       "| GTEX.1QP2A.0826 |  270 | 449 |  161 |  279 | 351 | 316 |    0 | 322 | 1229 | 163 | ⋯ |  10 |  71 | 1228 |    3 |  141 |  393 | 514 |  90 |   73 | 19 |\n",
       "| GTEX.1QP66.1126 |  178 | 316 | 1188 |   26 |  65 | 760 |    1 | 176 |  205 | 676 | ⋯ |  78 | 359 |  247 |  227 |  649 |   81 | 355 | 473 |  184 | 36 |\n",
       "| GTEX.1QP9N.0226 |    0 | 825 |    4 |   52 |   0 | 104 |    0 |  10 |    0 | 119 | ⋯ | 137 |   6 |  188 | 2076 |  342 |    4 | 286 |   6 |   12 |  0 |\n",
       "| GTEX.1QPFJ.0726 |    7 | 183 |   19 |  227 |  34 |  96 |   17 |   0 |  109 |  51 | ⋯ | 979 |  77 |  193 |  764 |  598 |  110 | 281 |  16 |   83 |  2 |\n",
       "| GTEX.1QW4Y.0326 |   65 | 753 |  278 | 2040 |  66 | 645 |   10 |  21 |  505 | 338 | ⋯ | 429 | 178 |  465 |  917 |  286 |  104 | 464 |  27 |  127 |  1 |\n",
       "| GTEX.1R46S.0726 |  266 | 366 |   50 |  134 | 593 |  43 |   26 |  22 |  144 | 132 | ⋯ | 893 |  41 |  232 |  403 |   80 |  453 | 501 | 524 |   91 |  3 |\n",
       "| GTEX.1R9JW.0726 |    3 | 171 |  290 |   42 |   0 |  90 |    0 |   0 |    7 | 162 | ⋯ | 117 | 111 |  186 |  499 |  854 |   44 | 192 |   1 |   21 |  0 |\n",
       "| GTEX.1R9K5.1426 |    2 | 286 |  541 |   35 |   0 | 412 |    0 |   4 |   10 | 309 | ⋯ |  40 | 119 |  206 |  819 |  309 |    1 | 179 |   1 |    5 |  1 |\n",
       "| GTEX.1R9PM.0326 |   39 |  34 |  634 |  109 |  46 |  28 |   52 |  23 |   41 | 268 | ⋯ | 390 | 164 |   30 |  377 |  327 |  102 | 158 | 114 |   74 |  2 |\n",
       "| GTEX.1R9PN.0226 |    0 | 277 |  333 |  339 | 260 | 248 | 1277 |  63 | 1328 | 410 | ⋯ |  42 | 430 |  530 |   25 | 1249 |   15 | 380 |   3 |  368 |  2 |\n",
       "| GTEX.1R9PO.0226 |   77 | 271 |  193 |  408 |  63 |  78 |  144 | 115 |  524 | 425 | ⋯ | 408 |  69 |  324 |  263 |  728 |  265 | 638 |  14 | 1487 |  2 |\n",
       "| GTEX.1RAZA.1126 |    6 | 537 |  208 |   72 |   3 |  48 |    0 | 104 |  100 |  84 | ⋯ | 153 | 124 |  205 |  228 |  679 |    6 | 400 |   0 |   85 |  0 |\n",
       "| GTEX.1RAZR.0626 |   32 |   7 |    2 |   24 | 184 | 200 |    1 | 281 |  601 | 106 | ⋯ |  49 |  59 |  539 |    0 |  180 |   76 | 343 | 148 |   45 | 17 |\n",
       "| GTEX.1RNTQ.0726 |    5 |  18 |   26 |  194 | 398 |  10 |    0 |   4 |   12 |  65 | ⋯ |  47 |  42 |   64 |    5 |  485 |  140 | 152 |  77 |    3 |  1 |\n",
       "| GTEX.1RQED.1126 |   94 | 228 |   79 |   83 | 158 | 219 |   86 |   0 |  112 | 154 | ⋯ | 955 | 207 |  149 |  455 |  246 |  283 | 247 | 354 |   80 |  6 |\n",
       "| GTEX.1S3DN.0626 |  460 | 314 |   43 |    7 |   2 | 246 |   36 | 103 |   79 | 113 | ⋯ |   6 |  59 |  637 |   84 |   81 |   62 | 165 | 126 |  219 |  5 |\n",
       "| GTEX.1S5ZA.1126 |    1 | 308 |  102 |   73 |   7 |  95 |    0 | 118 |    4 | 195 | ⋯ | 476 | 151 |   20 |  659 |  869 |    5 | 277 |   3 |   15 | 46 |\n",
       "\n"
      ],
      "text/plain": [
       "                Mophological.cluster.G4_0 Mophological.cluster.G4_1\n",
       "GTEX.111YS.0526 137                         88                     \n",
       "GTEX.1122O.1126  96                        880                     \n",
       "GTEX.1128S.0326   2                        552                     \n",
       "GTEX.117XS.0426 339                          1                     \n",
       "GTEX.117YW.0226 171                          0                     \n",
       "GTEX.11DXX.0426   2                         10                     \n",
       "GTEX.11DXZ.0426   1                        239                     \n",
       "GTEX.11DYG.1226 392                         18                     \n",
       "GTEX.11EM3.0226  40                        424                     \n",
       "GTEX.11EMC.0926 260                        235                     \n",
       "GTEX.11GS4.0326 252                         51                     \n",
       "GTEX.11GSP.1126 151                        101                     \n",
       "GTEX.11I78.0726 328                       1382                     \n",
       "GTEX.11LCK.0726   0                        162                     \n",
       "GTEX.11NUK.0726  41                        174                     \n",
       "GTEX.11ONC.0926 106                        436                     \n",
       "GTEX.11P81.0326   6                         21                     \n",
       "GTEX.11P82.0126   5                        219                     \n",
       "GTEX.11TT1.1226   4                         64                     \n",
       "GTEX.11TUW.0926  31                        106                     \n",
       "GTEX.11UD2.0826   0                          0                     \n",
       "GTEX.11WQK.0326  80                        131                     \n",
       "GTEX.11ZTS.0826  63                         61                     \n",
       "GTEX.11ZVC.0326  48                        620                     \n",
       "GTEX.1211K.0326   2                         52                     \n",
       "GTEX.1212Z.0826 150                          0                     \n",
       "GTEX.12696.0426   3                         22                     \n",
       "GTEX.12C56.0226   2                        498                     \n",
       "GTEX.12KS4.0626 135                        413                     \n",
       "GTEX.12WSD.1326 320                        749                     \n",
       "⋮               ⋮                         ⋮                        \n",
       "GTEX.1LKK1.1126 1472                       30                      \n",
       "GTEX.1LNCM.0326  678                        3                      \n",
       "GTEX.1LVAN.1426  189                      666                      \n",
       "GTEX.1LVAO.0826   68                      151                      \n",
       "GTEX.1MCC2.0426    0                       49                      \n",
       "GTEX.1MCYP.0426    5                      763                      \n",
       "GTEX.1MGNQ.0626  212                      262                      \n",
       "GTEX.1NSGN.1126   15                      204                      \n",
       "GTEX.1PDJ9.0926    0                        0                      \n",
       "GTEX.1PFEY.0526    0                       62                      \n",
       "GTEX.1POEN.1026   93                        0                      \n",
       "GTEX.1QAET.0526  137                      258                      \n",
       "GTEX.1QP29.0226   46                      631                      \n",
       "GTEX.1QP2A.0826  270                      449                      \n",
       "GTEX.1QP66.1126  178                      316                      \n",
       "GTEX.1QP9N.0226    0                      825                      \n",
       "GTEX.1QPFJ.0726    7                      183                      \n",
       "GTEX.1QW4Y.0326   65                      753                      \n",
       "GTEX.1R46S.0726  266                      366                      \n",
       "GTEX.1R9JW.0726    3                      171                      \n",
       "GTEX.1R9K5.1426    2                      286                      \n",
       "GTEX.1R9PM.0326   39                       34                      \n",
       "GTEX.1R9PN.0226    0                      277                      \n",
       "GTEX.1R9PO.0226   77                      271                      \n",
       "GTEX.1RAZA.1126    6                      537                      \n",
       "GTEX.1RAZR.0626   32                        7                      \n",
       "GTEX.1RNTQ.0726    5                       18                      \n",
       "GTEX.1RQED.1126   94                      228                      \n",
       "GTEX.1S3DN.0626  460                      314                      \n",
       "GTEX.1S5ZA.1126    1                      308                      \n",
       "                Mophological.cluster.G4_2 Mophological.cluster.G4_3\n",
       "GTEX.111YS.0526 417                          1                     \n",
       "GTEX.1122O.1126 236                        393                     \n",
       "GTEX.1128S.0326 211                       1031                     \n",
       "GTEX.117XS.0426 151                        637                     \n",
       "GTEX.117YW.0226  36                        791                     \n",
       "GTEX.11DXX.0426 258                       1558                     \n",
       "GTEX.11DXZ.0426 850                        282                     \n",
       "GTEX.11DYG.1226  14                         10                     \n",
       "GTEX.11EM3.0226 605                        135                     \n",
       "GTEX.11EMC.0926 164                          2                     \n",
       "GTEX.11GS4.0326   0                         17                     \n",
       "GTEX.11GSP.1126 484                         16                     \n",
       "GTEX.11I78.0726  45                        229                     \n",
       "GTEX.11LCK.0726  62                        160                     \n",
       "GTEX.11NUK.0726 645                        279                     \n",
       "GTEX.11ONC.0926 143                        205                     \n",
       "GTEX.11P81.0326  94                         21                     \n",
       "GTEX.11P82.0126 893                          0                     \n",
       "GTEX.11TT1.1226 401                       1350                     \n",
       "GTEX.11TUW.0926 328                         52                     \n",
       "GTEX.11UD2.0826 325                         90                     \n",
       "GTEX.11WQK.0326 281                         76                     \n",
       "GTEX.11ZTS.0826 189                        231                     \n",
       "GTEX.11ZVC.0326  25                       1062                     \n",
       "GTEX.1211K.0326  37                       2660                     \n",
       "GTEX.1212Z.0826   2                        130                     \n",
       "GTEX.12696.0426   0                         21                     \n",
       "GTEX.12C56.0226 306                         81                     \n",
       "GTEX.12KS4.0626 121                         71                     \n",
       "GTEX.12WSD.1326   4                         14                     \n",
       "⋮               ⋮                         ⋮                        \n",
       "GTEX.1LKK1.1126  134                         1                     \n",
       "GTEX.1LNCM.0326  137                       291                     \n",
       "GTEX.1LVAN.1426  267                       446                     \n",
       "GTEX.1LVAO.0826   21                         8                     \n",
       "GTEX.1MCC2.0426    0                       140                     \n",
       "GTEX.1MCYP.0426  763                        72                     \n",
       "GTEX.1MGNQ.0626 2327                       272                     \n",
       "GTEX.1NSGN.1126   54                       181                     \n",
       "GTEX.1PDJ9.0926  223                        28                     \n",
       "GTEX.1PFEY.0526  102                         2                     \n",
       "GTEX.1POEN.1026  492                        57                     \n",
       "GTEX.1QAET.0526  418                        30                     \n",
       "GTEX.1QP29.0226  326                         5                     \n",
       "GTEX.1QP2A.0826  161                       279                     \n",
       "GTEX.1QP66.1126 1188                        26                     \n",
       "GTEX.1QP9N.0226    4                        52                     \n",
       "GTEX.1QPFJ.0726   19                       227                     \n",
       "GTEX.1QW4Y.0326  278                      2040                     \n",
       "GTEX.1R46S.0726   50                       134                     \n",
       "GTEX.1R9JW.0726  290                        42                     \n",
       "GTEX.1R9K5.1426  541                        35                     \n",
       "GTEX.1R9PM.0326  634                       109                     \n",
       "GTEX.1R9PN.0226  333                       339                     \n",
       "GTEX.1R9PO.0226  193                       408                     \n",
       "GTEX.1RAZA.1126  208                        72                     \n",
       "GTEX.1RAZR.0626    2                        24                     \n",
       "GTEX.1RNTQ.0726   26                       194                     \n",
       "GTEX.1RQED.1126   79                        83                     \n",
       "GTEX.1S3DN.0626   43                         7                     \n",
       "GTEX.1S5ZA.1126  102                        73                     \n",
       "                Mophological.cluster.G4_4 Mophological.cluster.G4_5\n",
       "GTEX.111YS.0526    1                       32                      \n",
       "GTEX.1122O.1126   21                      214                      \n",
       "GTEX.1128S.0326  174                      216                      \n",
       "GTEX.117XS.0426 1844                      473                      \n",
       "GTEX.117YW.0226 1011                      234                      \n",
       "GTEX.11DXX.0426  850                       48                      \n",
       "GTEX.11DXZ.0426   41                      206                      \n",
       "GTEX.11DYG.1226  316                       57                      \n",
       "GTEX.11EM3.0226   94                       58                      \n",
       "GTEX.11EMC.0926  344                      313                      \n",
       "GTEX.11GS4.0326    1                      378                      \n",
       "GTEX.11GSP.1126    4                      301                      \n",
       "GTEX.11I78.0726   19                      386                      \n",
       "GTEX.11LCK.0726    2                      449                      \n",
       "GTEX.11NUK.0726    9                       28                      \n",
       "GTEX.11ONC.0926   11                      391                      \n",
       "GTEX.11P81.0326    1                      118                      \n",
       "GTEX.11P82.0126    0                        1                      \n",
       "GTEX.11TT1.1226  150                       41                      \n",
       "GTEX.11TUW.0926  684                       54                      \n",
       "GTEX.11UD2.0826 1284                        6                      \n",
       "GTEX.11WQK.0326  440                      410                      \n",
       "GTEX.11ZTS.0826   51                      223                      \n",
       "GTEX.11ZVC.0326   61                      549                      \n",
       "GTEX.1211K.0326  159                      199                      \n",
       "GTEX.1212Z.0826 1043                      198                      \n",
       "GTEX.12696.0426  451                       69                      \n",
       "GTEX.12C56.0226    6                        1                      \n",
       "GTEX.12KS4.0626    5                      337                      \n",
       "GTEX.12WSD.1326    9                      501                      \n",
       "⋮               ⋮                         ⋮                        \n",
       "GTEX.1LKK1.1126   8                       369                      \n",
       "GTEX.1LNCM.0326 153                       377                      \n",
       "GTEX.1LVAN.1426  36                       726                      \n",
       "GTEX.1LVAO.0826  80                         2                      \n",
       "GTEX.1MCC2.0426   8                        65                      \n",
       "GTEX.1MCYP.0426  12                        53                      \n",
       "GTEX.1MGNQ.0626   3                       662                      \n",
       "GTEX.1NSGN.1126  12                       326                      \n",
       "GTEX.1PDJ9.0926 310                        93                      \n",
       "GTEX.1PFEY.0526   5                       342                      \n",
       "GTEX.1POEN.1026 698                        16                      \n",
       "GTEX.1QAET.0526 260                        10                      \n",
       "GTEX.1QP29.0226   3                       353                      \n",
       "GTEX.1QP2A.0826 351                       316                      \n",
       "GTEX.1QP66.1126  65                       760                      \n",
       "GTEX.1QP9N.0226   0                       104                      \n",
       "GTEX.1QPFJ.0726  34                        96                      \n",
       "GTEX.1QW4Y.0326  66                       645                      \n",
       "GTEX.1R46S.0726 593                        43                      \n",
       "GTEX.1R9JW.0726   0                        90                      \n",
       "GTEX.1R9K5.1426   0                       412                      \n",
       "GTEX.1R9PM.0326  46                        28                      \n",
       "GTEX.1R9PN.0226 260                       248                      \n",
       "GTEX.1R9PO.0226  63                        78                      \n",
       "GTEX.1RAZA.1126   3                        48                      \n",
       "GTEX.1RAZR.0626 184                       200                      \n",
       "GTEX.1RNTQ.0726 398                        10                      \n",
       "GTEX.1RQED.1126 158                       219                      \n",
       "GTEX.1S3DN.0626   2                       246                      \n",
       "GTEX.1S5ZA.1126   7                        95                      \n",
       "                Mophological.cluster.G4_6 Mophological.cluster.G4_7\n",
       "GTEX.111YS.0526   1                         1                      \n",
       "GTEX.1122O.1126   1                        47                      \n",
       "GTEX.1128S.0326 289                         0                      \n",
       "GTEX.117XS.0426 260                         3                      \n",
       "GTEX.117YW.0226 162                         0                      \n",
       "GTEX.11DXX.0426   0                        11                      \n",
       "GTEX.11DXZ.0426   1                       370                      \n",
       "GTEX.11DYG.1226 742                         5                      \n",
       "GTEX.11EM3.0226 861                         4                      \n",
       "GTEX.11EMC.0926 161                         1                      \n",
       "GTEX.11GS4.0326 418                         4                      \n",
       "GTEX.11GSP.1126  28                         0                      \n",
       "GTEX.11I78.0726   0                         0                      \n",
       "GTEX.11LCK.0726   0                         4                      \n",
       "GTEX.11NUK.0726  57                         1                      \n",
       "GTEX.11ONC.0926   6                         0                      \n",
       "GTEX.11P81.0326   0                        12                      \n",
       "GTEX.11P82.0126  17                         0                      \n",
       "GTEX.11TT1.1226   1                         1                      \n",
       "GTEX.11TUW.0926   4                         0                      \n",
       "GTEX.11UD2.0826   4                         1                      \n",
       "GTEX.11WQK.0326  44                        31                      \n",
       "GTEX.11ZTS.0826  64                         1                      \n",
       "GTEX.11ZVC.0326   1                         0                      \n",
       "GTEX.1211K.0326   0                         0                      \n",
       "GTEX.1212Z.0826 527                         6                      \n",
       "GTEX.12696.0426  30                        27                      \n",
       "GTEX.12C56.0226   9                         0                      \n",
       "GTEX.12KS4.0626   1                         4                      \n",
       "GTEX.12WSD.1326 234                         1                      \n",
       "⋮               ⋮                         ⋮                        \n",
       "GTEX.1LKK1.1126  585                        3                      \n",
       "GTEX.1LNCM.0326  305                        2                      \n",
       "GTEX.1LVAN.1426    9                       10                      \n",
       "GTEX.1LVAO.0826  173                        0                      \n",
       "GTEX.1MCC2.0426    4                       22                      \n",
       "GTEX.1MCYP.0426    7                        2                      \n",
       "GTEX.1MGNQ.0626   16                      225                      \n",
       "GTEX.1NSGN.1126    1                       73                      \n",
       "GTEX.1PDJ9.0926    3                      138                      \n",
       "GTEX.1PFEY.0526    0                        4                      \n",
       "GTEX.1POEN.1026   86                       25                      \n",
       "GTEX.1QAET.0526    3                      296                      \n",
       "GTEX.1QP29.0226   24                      238                      \n",
       "GTEX.1QP2A.0826    0                      322                      \n",
       "GTEX.1QP66.1126    1                      176                      \n",
       "GTEX.1QP9N.0226    0                       10                      \n",
       "GTEX.1QPFJ.0726   17                        0                      \n",
       "GTEX.1QW4Y.0326   10                       21                      \n",
       "GTEX.1R46S.0726   26                       22                      \n",
       "GTEX.1R9JW.0726    0                        0                      \n",
       "GTEX.1R9K5.1426    0                        4                      \n",
       "GTEX.1R9PM.0326   52                       23                      \n",
       "GTEX.1R9PN.0226 1277                       63                      \n",
       "GTEX.1R9PO.0226  144                      115                      \n",
       "GTEX.1RAZA.1126    0                      104                      \n",
       "GTEX.1RAZR.0626    1                      281                      \n",
       "GTEX.1RNTQ.0726    0                        4                      \n",
       "GTEX.1RQED.1126   86                        0                      \n",
       "GTEX.1S3DN.0626   36                      103                      \n",
       "GTEX.1S5ZA.1126    0                      118                      \n",
       "                Mophological.cluster.G4_8 Mophological.cluster.G4_9 ⋯\n",
       "GTEX.111YS.0526    1                      167                       ⋯\n",
       "GTEX.1122O.1126   39                      291                       ⋯\n",
       "GTEX.1128S.0326  493                      663                       ⋯\n",
       "GTEX.117XS.0426  440                      153                       ⋯\n",
       "GTEX.117YW.0226   54                      129                       ⋯\n",
       "GTEX.11DXX.0426 2491                      325                       ⋯\n",
       "GTEX.11DXZ.0426  839                      291                       ⋯\n",
       "GTEX.11DYG.1226  232                      123                       ⋯\n",
       "GTEX.11EM3.0226   11                      349                       ⋯\n",
       "GTEX.11EMC.0926  369                      583                       ⋯\n",
       "GTEX.11GS4.0326    2                        0                       ⋯\n",
       "GTEX.11GSP.1126   17                      410                       ⋯\n",
       "GTEX.11I78.0726  671                      210                       ⋯\n",
       "GTEX.11LCK.0726    0                      335                       ⋯\n",
       "GTEX.11NUK.0726    8                      544                       ⋯\n",
       "GTEX.11ONC.0926    7                      132                       ⋯\n",
       "GTEX.11P81.0326   27                      175                       ⋯\n",
       "GTEX.11P82.0126    0                      387                       ⋯\n",
       "GTEX.11TT1.1226  108                      457                       ⋯\n",
       "GTEX.11TUW.0926  907                      193                       ⋯\n",
       "GTEX.11UD2.0826  292                      167                       ⋯\n",
       "GTEX.11WQK.0326  875                      209                       ⋯\n",
       "GTEX.11ZTS.0826    8                      268                       ⋯\n",
       "GTEX.11ZVC.0326  349                      186                       ⋯\n",
       "GTEX.1211K.0326  469                      120                       ⋯\n",
       "GTEX.1212Z.0826  980                       40                       ⋯\n",
       "GTEX.12696.0426  440                       65                       ⋯\n",
       "GTEX.12C56.0226   21                      290                       ⋯\n",
       "GTEX.12KS4.0626   59                      130                       ⋯\n",
       "GTEX.12WSD.1326   25                      221                       ⋯\n",
       "⋮               ⋮                         ⋮                         ⋱\n",
       "GTEX.1LKK1.1126    3                      199                       ⋯\n",
       "GTEX.1LNCM.0326   90                      254                       ⋯\n",
       "GTEX.1LVAN.1426  103                      251                       ⋯\n",
       "GTEX.1LVAO.0826  139                       88                       ⋯\n",
       "GTEX.1MCC2.0426  195                       53                       ⋯\n",
       "GTEX.1MCYP.0426   71                      248                       ⋯\n",
       "GTEX.1MGNQ.0626   70                      690                       ⋯\n",
       "GTEX.1NSGN.1126  171                      199                       ⋯\n",
       "GTEX.1PDJ9.0926  369                       97                       ⋯\n",
       "GTEX.1PFEY.0526   23                      182                       ⋯\n",
       "GTEX.1POEN.1026    6                      238                       ⋯\n",
       "GTEX.1QAET.0526  906                      244                       ⋯\n",
       "GTEX.1QP29.0226  165                      265                       ⋯\n",
       "GTEX.1QP2A.0826 1229                      163                       ⋯\n",
       "GTEX.1QP66.1126  205                      676                       ⋯\n",
       "GTEX.1QP9N.0226    0                      119                       ⋯\n",
       "GTEX.1QPFJ.0726  109                       51                       ⋯\n",
       "GTEX.1QW4Y.0326  505                      338                       ⋯\n",
       "GTEX.1R46S.0726  144                      132                       ⋯\n",
       "GTEX.1R9JW.0726    7                      162                       ⋯\n",
       "GTEX.1R9K5.1426   10                      309                       ⋯\n",
       "GTEX.1R9PM.0326   41                      268                       ⋯\n",
       "GTEX.1R9PN.0226 1328                      410                       ⋯\n",
       "GTEX.1R9PO.0226  524                      425                       ⋯\n",
       "GTEX.1RAZA.1126  100                       84                       ⋯\n",
       "GTEX.1RAZR.0626  601                      106                       ⋯\n",
       "GTEX.1RNTQ.0726   12                       65                       ⋯\n",
       "GTEX.1RQED.1126  112                      154                       ⋯\n",
       "GTEX.1S3DN.0626   79                      113                       ⋯\n",
       "GTEX.1S5ZA.1126    4                      195                       ⋯\n",
       "                Mophological.cluster.G4_22 Mophological.cluster.G4_23\n",
       "GTEX.111YS.0526  262                       233                       \n",
       "GTEX.1122O.1126 3350                        99                       \n",
       "GTEX.1128S.0326  831                       135                       \n",
       "GTEX.117XS.0426  148                       166                       \n",
       "GTEX.117YW.0226  106                        68                       \n",
       "GTEX.11DXX.0426    8                        89                       \n",
       "GTEX.11DXZ.0426  138                       342                       \n",
       "GTEX.11DYG.1226   12                       124                       \n",
       "GTEX.11EM3.0226  134                       285                       \n",
       "GTEX.11EMC.0926  674                        83                       \n",
       "GTEX.11GS4.0326 1020                        80                       \n",
       "GTEX.11GSP.1126 1510                       230                       \n",
       "GTEX.11I78.0726  100                        55                       \n",
       "GTEX.11LCK.0726  100                        92                       \n",
       "GTEX.11NUK.0726  870                        98                       \n",
       "GTEX.11ONC.0926 1198                       125                       \n",
       "GTEX.11P81.0326   13                       123                       \n",
       "GTEX.11P82.0126  536                       395                       \n",
       "GTEX.11TT1.1226   13                       455                       \n",
       "GTEX.11TUW.0926   82                        92                       \n",
       "GTEX.11UD2.0826    0                        54                       \n",
       "GTEX.11WQK.0326   26                       100                       \n",
       "GTEX.11ZTS.0826 1052                       174                       \n",
       "GTEX.11ZVC.0326  464                        59                       \n",
       "GTEX.1211K.0326   97                        31                       \n",
       "GTEX.1212Z.0826    6                        79                       \n",
       "GTEX.12696.0426   14                        13                       \n",
       "GTEX.12C56.0226 1025                        76                       \n",
       "GTEX.12KS4.0626   37                        37                       \n",
       "GTEX.12WSD.1326  219                        68                       \n",
       "⋮               ⋮                          ⋮                         \n",
       "GTEX.1LKK1.1126 575                        319                       \n",
       "GTEX.1LNCM.0326 154                        292                       \n",
       "GTEX.1LVAN.1426  23                         88                       \n",
       "GTEX.1LVAO.0826 837                         54                       \n",
       "GTEX.1MCC2.0426  52                         28                       \n",
       "GTEX.1MCYP.0426 185                        218                       \n",
       "GTEX.1MGNQ.0626 140                        841                       \n",
       "GTEX.1NSGN.1126  18                         55                       \n",
       "GTEX.1PDJ9.0926  14                        216                       \n",
       "GTEX.1PFEY.0526  31                        104                       \n",
       "GTEX.1POEN.1026 372                        368                       \n",
       "GTEX.1QAET.0526 976                        245                       \n",
       "GTEX.1QP29.0226  36                         98                       \n",
       "GTEX.1QP2A.0826  10                         71                       \n",
       "GTEX.1QP66.1126  78                        359                       \n",
       "GTEX.1QP9N.0226 137                          6                       \n",
       "GTEX.1QPFJ.0726 979                         77                       \n",
       "GTEX.1QW4Y.0326 429                        178                       \n",
       "GTEX.1R46S.0726 893                         41                       \n",
       "GTEX.1R9JW.0726 117                        111                       \n",
       "GTEX.1R9K5.1426  40                        119                       \n",
       "GTEX.1R9PM.0326 390                        164                       \n",
       "GTEX.1R9PN.0226  42                        430                       \n",
       "GTEX.1R9PO.0226 408                         69                       \n",
       "GTEX.1RAZA.1126 153                        124                       \n",
       "GTEX.1RAZR.0626  49                         59                       \n",
       "GTEX.1RNTQ.0726  47                         42                       \n",
       "GTEX.1RQED.1126 955                        207                       \n",
       "GTEX.1S3DN.0626   6                         59                       \n",
       "GTEX.1S5ZA.1126 476                        151                       \n",
       "                Mophological.cluster.G4_24 Mophological.cluster.G4_25\n",
       "GTEX.111YS.0526   31                        417                      \n",
       "GTEX.1122O.1126  190                        495                      \n",
       "GTEX.1128S.0326  250                        161                      \n",
       "GTEX.117XS.0426   43                         49                      \n",
       "GTEX.117YW.0226    1                          0                      \n",
       "GTEX.11DXX.0426  952                          0                      \n",
       "GTEX.11DXZ.0426 1459                         64                      \n",
       "GTEX.11DYG.1226  129                          1                      \n",
       "GTEX.11EM3.0226  637                         49                      \n",
       "GTEX.11EMC.0926  208                        183                      \n",
       "GTEX.11GS4.0326    1                        267                      \n",
       "GTEX.11GSP.1126   16                        146                      \n",
       "GTEX.11I78.0726 1262                       1106                      \n",
       "GTEX.11LCK.0726  136                       1295                      \n",
       "GTEX.11NUK.0726   35                       1481                      \n",
       "GTEX.11ONC.0926   13                        903                      \n",
       "GTEX.11P81.0326  764                         25                      \n",
       "GTEX.11P82.0126    0                       1189                      \n",
       "GTEX.11TT1.1226 1394                         23                      \n",
       "GTEX.11TUW.0926  405                         11                      \n",
       "GTEX.11UD2.0826   37                          0                      \n",
       "GTEX.11WQK.0326  715                         86                      \n",
       "GTEX.11ZTS.0826   18                        246                      \n",
       "GTEX.11ZVC.0326  728                        357                      \n",
       "GTEX.1211K.0326  218                          7                      \n",
       "GTEX.1212Z.0826  189                          0                      \n",
       "GTEX.12696.0426  758                          3                      \n",
       "GTEX.12C56.0226  283                        918                      \n",
       "GTEX.12KS4.0626  253                        121                      \n",
       "GTEX.12WSD.1326   18                        396                      \n",
       "⋮               ⋮                          ⋮                         \n",
       "GTEX.1LKK1.1126    6                         24                      \n",
       "GTEX.1LNCM.0326   47                          2                      \n",
       "GTEX.1LVAN.1426  180                        572                      \n",
       "GTEX.1LVAO.0826   77                        141                      \n",
       "GTEX.1MCC2.0426  664                         18                      \n",
       "GTEX.1MCYP.0426  333                        531                      \n",
       "GTEX.1MGNQ.0626  460                        131                      \n",
       "GTEX.1NSGN.1126 1595                         12                      \n",
       "GTEX.1PDJ9.0926  141                          0                      \n",
       "GTEX.1PFEY.0526  455                        500                      \n",
       "GTEX.1POEN.1026    5                          1                      \n",
       "GTEX.1QAET.0526  586                         78                      \n",
       "GTEX.1QP29.0226 1347                        105                      \n",
       "GTEX.1QP2A.0826 1228                          3                      \n",
       "GTEX.1QP66.1126  247                        227                      \n",
       "GTEX.1QP9N.0226  188                       2076                      \n",
       "GTEX.1QPFJ.0726  193                        764                      \n",
       "GTEX.1QW4Y.0326  465                        917                      \n",
       "GTEX.1R46S.0726  232                        403                      \n",
       "GTEX.1R9JW.0726  186                        499                      \n",
       "GTEX.1R9K5.1426  206                        819                      \n",
       "GTEX.1R9PM.0326   30                        377                      \n",
       "GTEX.1R9PN.0226  530                         25                      \n",
       "GTEX.1R9PO.0226  324                        263                      \n",
       "GTEX.1RAZA.1126  205                        228                      \n",
       "GTEX.1RAZR.0626  539                          0                      \n",
       "GTEX.1RNTQ.0726   64                          5                      \n",
       "GTEX.1RQED.1126  149                        455                      \n",
       "GTEX.1S3DN.0626  637                         84                      \n",
       "GTEX.1S5ZA.1126   20                        659                      \n",
       "                Mophological.cluster.G4_26 Mophological.cluster.G4_27\n",
       "GTEX.111YS.0526  80                         144                      \n",
       "GTEX.1122O.1126 278                         774                      \n",
       "GTEX.1128S.0326  82                         120                      \n",
       "GTEX.117XS.0426 158                         211                      \n",
       "GTEX.117YW.0226  76                         489                      \n",
       "GTEX.11DXX.0426  26                         197                      \n",
       "GTEX.11DXZ.0426 491                          38                      \n",
       "GTEX.11DYG.1226 116                         254                      \n",
       "GTEX.11EM3.0226 304                         143                      \n",
       "GTEX.11EMC.0926  19                         908                      \n",
       "GTEX.11GS4.0326 335                         142                      \n",
       "GTEX.11GSP.1126  36                         560                      \n",
       "GTEX.11I78.0726 377                          13                      \n",
       "GTEX.11LCK.0726 777                          12                      \n",
       "GTEX.11NUK.0726 447                         106                      \n",
       "GTEX.11ONC.0926  75                         256                      \n",
       "GTEX.11P81.0326 602                          35                      \n",
       "GTEX.11P82.0126 162                          86                      \n",
       "GTEX.11TT1.1226  81                         724                      \n",
       "GTEX.11TUW.0926 285                        1651                      \n",
       "GTEX.11UD2.0826  10                         217                      \n",
       "GTEX.11WQK.0326 334                          58                      \n",
       "GTEX.11ZTS.0826  27                         132                      \n",
       "GTEX.11ZVC.0326 162                         502                      \n",
       "GTEX.1211K.0326  90                         733                      \n",
       "GTEX.1212Z.0826  15                        1412                      \n",
       "GTEX.12696.0426 141                         458                      \n",
       "GTEX.12C56.0226 767                         252                      \n",
       "GTEX.12KS4.0626 960                          49                      \n",
       "GTEX.12WSD.1326 425                           5                      \n",
       "⋮               ⋮                          ⋮                         \n",
       "GTEX.1LKK1.1126  113                        154                      \n",
       "GTEX.1LNCM.0326  359                        312                      \n",
       "GTEX.1LVAN.1426 1607                          4                      \n",
       "GTEX.1LVAO.0826  191                       1016                      \n",
       "GTEX.1MCC2.0426  996                         16                      \n",
       "GTEX.1MCYP.0426 2161                         41                      \n",
       "GTEX.1MGNQ.0626  501                         97                      \n",
       "GTEX.1NSGN.1126  879                        108                      \n",
       "GTEX.1PDJ9.0926   49                         92                      \n",
       "GTEX.1PFEY.0526 2044                          2                      \n",
       "GTEX.1POEN.1026  104                        248                      \n",
       "GTEX.1QAET.0526   15                       1091                      \n",
       "GTEX.1QP29.0226  439                          0                      \n",
       "GTEX.1QP2A.0826  141                        393                      \n",
       "GTEX.1QP66.1126  649                         81                      \n",
       "GTEX.1QP9N.0226  342                          4                      \n",
       "GTEX.1QPFJ.0726  598                        110                      \n",
       "GTEX.1QW4Y.0326  286                        104                      \n",
       "GTEX.1R46S.0726   80                        453                      \n",
       "GTEX.1R9JW.0726  854                         44                      \n",
       "GTEX.1R9K5.1426  309                          1                      \n",
       "GTEX.1R9PM.0326  327                        102                      \n",
       "GTEX.1R9PN.0226 1249                         15                      \n",
       "GTEX.1R9PO.0226  728                        265                      \n",
       "GTEX.1RAZA.1126  679                          6                      \n",
       "GTEX.1RAZR.0626  180                         76                      \n",
       "GTEX.1RNTQ.0726  485                        140                      \n",
       "GTEX.1RQED.1126  246                        283                      \n",
       "GTEX.1S3DN.0626   81                         62                      \n",
       "GTEX.1S5ZA.1126  869                          5                      \n",
       "                Mophological.cluster.G4_28 Mophological.cluster.G4_29\n",
       "GTEX.111YS.0526 250                        664                       \n",
       "GTEX.1122O.1126 694                        268                       \n",
       "GTEX.1128S.0326 377                          2                       \n",
       "GTEX.117XS.0426 184                        142                       \n",
       "GTEX.117YW.0226  68                        281                       \n",
       "GTEX.11DXX.0426 323                          5                       \n",
       "GTEX.11DXZ.0426 310                          3                       \n",
       "GTEX.11DYG.1226 238                        483                       \n",
       "GTEX.11EM3.0226 558                         27                       \n",
       "GTEX.11EMC.0926 286                        588                       \n",
       "GTEX.11GS4.0326 230                        141                       \n",
       "GTEX.11GSP.1126 302                        684                       \n",
       "GTEX.11I78.0726 415                          6                       \n",
       "GTEX.11LCK.0726 263                          2                       \n",
       "GTEX.11NUK.0726 217                         30                       \n",
       "GTEX.11ONC.0926 417                        299                       \n",
       "GTEX.11P81.0326 160                         65                       \n",
       "GTEX.11P82.0126 393                         56                       \n",
       "GTEX.11TT1.1226 605                          1                       \n",
       "GTEX.11TUW.0926 313                        150                       \n",
       "GTEX.11UD2.0826  54                          1                       \n",
       "GTEX.11WQK.0326 203                         36                       \n",
       "GTEX.11ZTS.0826 185                        562                       \n",
       "GTEX.11ZVC.0326 331                        177                       \n",
       "GTEX.1211K.0326 444                          2                       \n",
       "GTEX.1212Z.0826  92                        100                       \n",
       "GTEX.12696.0426 135                        187                       \n",
       "GTEX.12C56.0226 388                          7                       \n",
       "GTEX.12KS4.0626 204                         32                       \n",
       "GTEX.12WSD.1326 252                        165                       \n",
       "⋮               ⋮                          ⋮                         \n",
       "GTEX.1LKK1.1126 291                        609                       \n",
       "GTEX.1LNCM.0326 146                        509                       \n",
       "GTEX.1LVAN.1426 362                          2                       \n",
       "GTEX.1LVAO.0826 216                        532                       \n",
       "GTEX.1MCC2.0426 123                         40                       \n",
       "GTEX.1MCYP.0426 456                          0                       \n",
       "GTEX.1MGNQ.0626 297                        111                       \n",
       "GTEX.1NSGN.1126 430                         24                       \n",
       "GTEX.1PDJ9.0926 158                          0                       \n",
       "GTEX.1PFEY.0526 311                         33                       \n",
       "GTEX.1POEN.1026 141                        270                       \n",
       "GTEX.1QAET.0526 854                        939                       \n",
       "GTEX.1QP29.0226 353                         61                       \n",
       "GTEX.1QP2A.0826 514                         90                       \n",
       "GTEX.1QP66.1126 355                        473                       \n",
       "GTEX.1QP9N.0226 286                          6                       \n",
       "GTEX.1QPFJ.0726 281                         16                       \n",
       "GTEX.1QW4Y.0326 464                         27                       \n",
       "GTEX.1R46S.0726 501                        524                       \n",
       "GTEX.1R9JW.0726 192                          1                       \n",
       "GTEX.1R9K5.1426 179                          1                       \n",
       "GTEX.1R9PM.0326 158                        114                       \n",
       "GTEX.1R9PN.0226 380                          3                       \n",
       "GTEX.1R9PO.0226 638                         14                       \n",
       "GTEX.1RAZA.1126 400                          0                       \n",
       "GTEX.1RAZR.0626 343                        148                       \n",
       "GTEX.1RNTQ.0726 152                         77                       \n",
       "GTEX.1RQED.1126 247                        354                       \n",
       "GTEX.1S3DN.0626 165                        126                       \n",
       "GTEX.1S5ZA.1126 277                          3                       \n",
       "                Mophological.cluster.G4_30 Mophological.cluster.G4_31\n",
       "GTEX.111YS.0526  20                         0                        \n",
       "GTEX.1122O.1126 145                         0                        \n",
       "GTEX.1128S.0326 500                         0                        \n",
       "GTEX.117XS.0426 277                         3                        \n",
       "GTEX.117YW.0226 254                         6                        \n",
       "GTEX.11DXX.0426  70                         0                        \n",
       "GTEX.11DXZ.0426  46                         4                        \n",
       "GTEX.11DYG.1226 185                         8                        \n",
       "GTEX.11EM3.0226 542                         0                        \n",
       "GTEX.11EMC.0926 246                         8                        \n",
       "GTEX.11GS4.0326 487                         2                        \n",
       "GTEX.11GSP.1126 135                         0                        \n",
       "GTEX.11I78.0726 106                         0                        \n",
       "GTEX.11LCK.0726  60                         0                        \n",
       "GTEX.11NUK.0726 114                         0                        \n",
       "GTEX.11ONC.0926 180                         1                        \n",
       "GTEX.11P81.0326  13                         0                        \n",
       "GTEX.11P82.0126  17                         0                        \n",
       "GTEX.11TT1.1226 168                         0                        \n",
       "GTEX.11TUW.0926  33                         2                        \n",
       "GTEX.11UD2.0826  34                         0                        \n",
       "GTEX.11WQK.0326  39                        12                        \n",
       "GTEX.11ZTS.0826 139                         0                        \n",
       "GTEX.11ZVC.0326  31                         0                        \n",
       "GTEX.1211K.0326   8                         0                        \n",
       "GTEX.1212Z.0826 242                        16                        \n",
       "GTEX.12696.0426  39                         3                        \n",
       "GTEX.12C56.0226  98                         0                        \n",
       "GTEX.12KS4.0626 190                        43                        \n",
       "GTEX.12WSD.1326 126                         0                        \n",
       "⋮               ⋮                          ⋮                         \n",
       "GTEX.1LKK1.1126  394                       21                        \n",
       "GTEX.1LNCM.0326  221                       10                        \n",
       "GTEX.1LVAN.1426  115                        2                        \n",
       "GTEX.1LVAO.0826  103                        0                        \n",
       "GTEX.1MCC2.0426   96                       16                        \n",
       "GTEX.1MCYP.0426    9                        4                        \n",
       "GTEX.1MGNQ.0626  140                        3                        \n",
       "GTEX.1NSGN.1126   67                        0                        \n",
       "GTEX.1PDJ9.0926   35                        0                        \n",
       "GTEX.1PFEY.0526    7                        0                        \n",
       "GTEX.1POEN.1026  546                        3                        \n",
       "GTEX.1QAET.0526  307                        6                        \n",
       "GTEX.1QP29.0226   93                        1                        \n",
       "GTEX.1QP2A.0826   73                       19                        \n",
       "GTEX.1QP66.1126  184                       36                        \n",
       "GTEX.1QP9N.0226   12                        0                        \n",
       "GTEX.1QPFJ.0726   83                        2                        \n",
       "GTEX.1QW4Y.0326  127                        1                        \n",
       "GTEX.1R46S.0726   91                        3                        \n",
       "GTEX.1R9JW.0726   21                        0                        \n",
       "GTEX.1R9K5.1426    5                        1                        \n",
       "GTEX.1R9PM.0326   74                        2                        \n",
       "GTEX.1R9PN.0226  368                        2                        \n",
       "GTEX.1R9PO.0226 1487                        2                        \n",
       "GTEX.1RAZA.1126   85                        0                        \n",
       "GTEX.1RAZR.0626   45                       17                        \n",
       "GTEX.1RNTQ.0726    3                        1                        \n",
       "GTEX.1RQED.1126   80                        6                        \n",
       "GTEX.1S3DN.0626  219                        5                        \n",
       "GTEX.1S5ZA.1126   15                       46                        "
      ]
     },
     "metadata": {},
     "output_type": "display_data"
    }
   ],
   "source": [
    "morphological_counts_init[-1]"
   ]
  },
  {
   "cell_type": "code",
   "execution_count": 130,
   "id": "f7ab8245",
   "metadata": {},
   "outputs": [
    {
     "data": {
      "image/png": "[encoded data removed]",
      "text/plain": [
       "plot without title"
      ]
     },
     "metadata": {
      "image/png": {
       "height": 480,
       "width": 480
      }
     },
     "output_type": "display_data"
    }
   ],
   "source": [
    "pr = prcomp(t(RNA_read_counts))\n",
    "plot(pr$x[,1],pr$x[,2])"
   ]
  },
  {
   "cell_type": "code",
   "execution_count": 10,
   "id": "b0f97c91-d73c-4dba-b361-bd313ab86ff3",
   "metadata": {
    "scrolled": true
   },
   "outputs": [
    {
     "data": {
      "text/plain": [
       "Importance of components:\n",
       "                             PC1       PC2       PC3       PC4       PC5\n",
       "Standard deviation     7.238e+05 4.303e+05 4.107e+05 2.172e+05 1.806e+05\n",
       "Proportion of Variance 4.182e-01 1.478e-01 1.346e-01 3.765e-02 2.604e-02\n",
       "Cumulative Proportion  4.182e-01 5.660e-01 7.006e-01 7.383e-01 7.643e-01\n",
       "                             PC6       PC7       PC8       PC9      PC10\n",
       "Standard deviation     1.717e+05 1.547e+05 1.394e+05 1.382e+05 1.288e+05\n",
       "Proportion of Variance 2.352e-02 1.911e-02 1.552e-02 1.525e-02 1.325e-02\n",
       "Cumulative Proportion  7.879e-01 8.070e-01 8.225e-01 8.377e-01 8.510e-01\n",
       "                            PC11      PC12      PC13      PC14      PC15\n",
       "Standard deviation     1.230e+05 1.141e+05 1.126e+05 1.054e+05 9.733e+04\n",
       "Proportion of Variance 1.207e-02 1.040e-02 1.012e-02 8.870e-03 7.560e-03\n",
       "Cumulative Proportion  8.630e-01 8.734e-01 8.836e-01 8.924e-01 9.000e-01\n",
       "                            PC16      PC17      PC18      PC19      PC20\n",
       "Standard deviation     9.310e+04 8.411e+04 8.098e+04 7.881e+04 7.219e+04\n",
       "Proportion of Variance 6.920e-03 5.650e-03 5.230e-03 4.960e-03 4.160e-03\n",
       "Cumulative Proportion  9.069e-01 9.125e-01 9.178e-01 9.227e-01 9.269e-01\n",
       "                            PC21      PC22      PC23      PC24      PC25\n",
       "Standard deviation     6.674e+04 6.396e+04 6.129e+04 5.941e+04 5.703e+04\n",
       "Proportion of Variance 3.560e-03 3.270e-03 3.000e-03 2.820e-03 2.600e-03\n",
       "Cumulative Proportion  9.305e-01 9.337e-01 9.367e-01 9.395e-01 9.421e-01\n",
       "                            PC26      PC27      PC28      PC29      PC30\n",
       "Standard deviation     5.597e+04 5.351e+04 5.305e+04 4.936e+04 4.781e+04\n",
       "Proportion of Variance 2.500e-03 2.290e-03 2.250e-03 1.940e-03 1.820e-03\n",
       "Cumulative Proportion  9.446e-01 9.469e-01 9.492e-01 9.511e-01 9.529e-01\n",
       "                            PC31      PC32      PC33      PC34      PC35\n",
       "Standard deviation     4.666e+04 4.550e+04 4.497e+04 4.433e+04 4.281e+04\n",
       "Proportion of Variance 1.740e-03 1.650e-03 1.610e-03 1.570e-03 1.460e-03\n",
       "Cumulative Proportion  9.547e-01 9.563e-01 9.579e-01 9.595e-01 9.610e-01\n",
       "                            PC36      PC37      PC38     PC39      PC40\n",
       "Standard deviation     4.037e+04 4.024e+04 3.965e+04 3.85e+04 3.683e+04\n",
       "Proportion of Variance 1.300e-03 1.290e-03 1.260e-03 1.18e-03 1.080e-03\n",
       "Cumulative Proportion  9.623e-01 9.636e-01 9.648e-01 9.66e-01 9.671e-01\n",
       "                            PC41      PC42      PC43      PC44      PC45\n",
       "Standard deviation     3.611e+04 3.553e+04 3.533e+04 3.417e+04 3.319e+04\n",
       "Proportion of Variance 1.040e-03 1.010e-03 1.000e-03 9.300e-04 8.800e-04\n",
       "Cumulative Proportion  9.681e-01 9.691e-01 9.701e-01 9.711e-01 9.719e-01\n",
       "                            PC46      PC47      PC48      PC49      PC50\n",
       "Standard deviation     3.265e+04 3.218e+04 3.177e+04 3.054e+04 3.026e+04\n",
       "Proportion of Variance 8.500e-04 8.300e-04 8.100e-04 7.400e-04 7.300e-04\n",
       "Cumulative Proportion  9.728e-01 9.736e-01 9.744e-01 9.752e-01 9.759e-01\n",
       "                            PC51      PC52     PC53      PC54      PC55\n",
       "Standard deviation     2.970e+04 2.938e+04 2.88e+04 2.868e+04 2.749e+04\n",
       "Proportion of Variance 7.000e-04 6.900e-04 6.60e-04 6.600e-04 6.000e-04\n",
       "Cumulative Proportion  9.766e-01 9.773e-01 9.78e-01 9.786e-01 9.792e-01\n",
       "                            PC56      PC57      PC58      PC59      PC60\n",
       "Standard deviation     2.675e+04 2.605e+04 2.592e+04 2.550e+04 2.484e+04\n",
       "Proportion of Variance 5.700e-04 5.400e-04 5.400e-04 5.200e-04 4.900e-04\n",
       "Cumulative Proportion  9.798e-01 9.803e-01 9.809e-01 9.814e-01 9.819e-01\n",
       "                            PC61      PC62      PC63      PC64      PC65\n",
       "Standard deviation     2.428e+04 2.380e+04 2.364e+04 2.315e+04 2.289e+04\n",
       "Proportion of Variance 4.700e-04 4.500e-04 4.500e-04 4.300e-04 4.200e-04\n",
       "Cumulative Proportion  9.824e-01 9.828e-01 9.832e-01 9.837e-01 9.841e-01\n",
       "                            PC66      PC67      PC68      PC69      PC70\n",
       "Standard deviation     2.224e+04 2.196e+04 2.166e+04 2.087e+04 2.079e+04\n",
       "Proportion of Variance 3.900e-04 3.800e-04 3.700e-04 3.500e-04 3.400e-04\n",
       "Cumulative Proportion  9.845e-01 9.849e-01 9.852e-01 9.856e-01 9.859e-01\n",
       "                            PC71      PC72      PC73      PC74      PC75\n",
       "Standard deviation     2.054e+04 2.039e+04 1.987e+04 1.972e+04 1.909e+04\n",
       "Proportion of Variance 3.400e-04 3.300e-04 3.200e-04 3.100e-04 2.900e-04\n",
       "Cumulative Proportion  9.863e-01 9.866e-01 9.869e-01 9.872e-01 9.875e-01\n",
       "                            PC76      PC77      PC78      PC79      PC80\n",
       "Standard deviation     1.894e+04 1.858e+04 1.830e+04 1.820e+04 1.803e+04\n",
       "Proportion of Variance 2.900e-04 2.800e-04 2.700e-04 2.600e-04 2.600e-04\n",
       "Cumulative Proportion  9.878e-01 9.881e-01 9.884e-01 9.886e-01 9.889e-01\n",
       "                            PC81      PC82      PC83      PC84      PC85\n",
       "Standard deviation     1.775e+04 1.773e+04 1.718e+04 1.707e+04 1.668e+04\n",
       "Proportion of Variance 2.500e-04 2.500e-04 2.400e-04 2.300e-04 2.200e-04\n",
       "Cumulative Proportion  9.891e-01 9.894e-01 9.896e-01 9.899e-01 9.901e-01\n",
       "                            PC86      PC87      PC88      PC89      PC90\n",
       "Standard deviation     1.639e+04 1.634e+04 1.620e+04 1.565e+04 1.559e+04\n",
       "Proportion of Variance 2.100e-04 2.100e-04 2.100e-04 2.000e-04 1.900e-04\n",
       "Cumulative Proportion  9.903e-01 9.905e-01 9.907e-01 9.909e-01 9.911e-01\n",
       "                            PC91      PC92      PC93      PC94      PC95\n",
       "Standard deviation     1.541e+04 1.516e+04 1.510e+04 1.493e+04 1.484e+04\n",
       "Proportion of Variance 1.900e-04 1.800e-04 1.800e-04 1.800e-04 1.800e-04\n",
       "Cumulative Proportion  9.913e-01 9.915e-01 9.917e-01 9.918e-01 9.920e-01\n",
       "                            PC96      PC97      PC98      PC99     PC100\n",
       "Standard deviation     1.441e+04 1.436e+04 1.418e+04 1.402e+04 1.397e+04\n",
       "Proportion of Variance 1.700e-04 1.600e-04 1.600e-04 1.600e-04 1.600e-04\n",
       "Cumulative Proportion  9.922e-01 9.923e-01 9.925e-01 9.927e-01 9.928e-01\n",
       "                           PC101     PC102     PC103     PC104     PC105\n",
       "Standard deviation     1.377e+04 1.362e+04 1.335e+04 1.324e+04 1.316e+04\n",
       "Proportion of Variance 1.500e-04 1.500e-04 1.400e-04 1.400e-04 1.400e-04\n",
       "Cumulative Proportion  9.930e-01 9.931e-01 9.933e-01 9.934e-01 9.935e-01\n",
       "                           PC106     PC107     PC108     PC109     PC110\n",
       "Standard deviation     1.275e+04 1.266e+04 1.256e+04 1.241e+04 1.229e+04\n",
       "Proportion of Variance 1.300e-04 1.300e-04 1.300e-04 1.200e-04 1.200e-04\n",
       "Cumulative Proportion  9.937e-01 9.938e-01 9.939e-01 9.940e-01 9.942e-01\n",
       "                           PC111     PC112     PC113     PC114     PC115\n",
       "Standard deviation     1.217e+04 1.200e+04 1.185e+04 1.167e+04 1.163e+04\n",
       "Proportion of Variance 1.200e-04 1.100e-04 1.100e-04 1.100e-04 1.100e-04\n",
       "Cumulative Proportion  9.943e-01 9.944e-01 9.945e-01 9.946e-01 9.947e-01\n",
       "                           PC116     PC117     PC118     PC119     PC120\n",
       "Standard deviation     1.143e+04 1.127e+04 1.114e+04 1.107e+04 1.081e+04\n",
       "Proportion of Variance 1.000e-04 1.000e-04 1.000e-04 1.000e-04 9.000e-05\n",
       "Cumulative Proportion  9.948e-01 9.949e-01 9.950e-01 9.951e-01 9.952e-01\n",
       "                           PC121     PC122     PC123     PC124     PC125\n",
       "Standard deviation     1.075e+04 1.068e+04 1.065e+04 1.040e+04 1.036e+04\n",
       "Proportion of Variance 9.000e-05 9.000e-05 9.000e-05 9.000e-05 9.000e-05\n",
       "Cumulative Proportion  9.953e-01 9.954e-01 9.955e-01 9.956e-01 9.957e-01\n",
       "                           PC126     PC127     PC128     PC129     PC130\n",
       "Standard deviation     1.026e+04 1.022e+04 1.009e+04 1.006e+04 9.929e+03\n",
       "Proportion of Variance 8.000e-05 8.000e-05 8.000e-05 8.000e-05 8.000e-05\n",
       "Cumulative Proportion  9.958e-01 9.958e-01 9.959e-01 9.960e-01 9.961e-01\n",
       "                           PC131     PC132     PC133     PC134     PC135\n",
       "Standard deviation     9.843e+03 9.637e+03 9.521e+03 9.474e+03 9.377e+03\n",
       "Proportion of Variance 8.000e-05 7.000e-05 7.000e-05 7.000e-05 7.000e-05\n",
       "Cumulative Proportion  9.961e-01 9.962e-01 9.963e-01 9.964e-01 9.964e-01\n",
       "                           PC136     PC137     PC138     PC139     PC140\n",
       "Standard deviation     9.243e+03 9.103e+03 9.025e+03 8.956e+03 8.869e+03\n",
       "Proportion of Variance 7.000e-05 7.000e-05 7.000e-05 6.000e-05 6.000e-05\n",
       "Cumulative Proportion  9.965e-01 9.966e-01 9.966e-01 9.967e-01 9.968e-01\n",
       "                           PC141     PC142     PC143     PC144     PC145\n",
       "Standard deviation     8.742e+03 8.723e+03 8.524e+03 8.431e+03 8.402e+03\n",
       "Proportion of Variance 6.000e-05 6.000e-05 6.000e-05 6.000e-05 6.000e-05\n",
       "Cumulative Proportion  9.968e-01 9.969e-01 9.970e-01 9.970e-01 9.971e-01\n",
       "                           PC146     PC147     PC148     PC149     PC150\n",
       "Standard deviation     8.293e+03 8.244e+03 8.231e+03 8.135e+03 8.072e+03\n",
       "Proportion of Variance 5.000e-05 5.000e-05 5.000e-05 5.000e-05 5.000e-05\n",
       "Cumulative Proportion  9.971e-01 9.972e-01 9.972e-01 9.973e-01 9.973e-01\n",
       "                           PC151     PC152     PC153     PC154     PC155\n",
       "Standard deviation     7.918e+03 7.861e+03 7.824e+03 7.726e+03 7.722e+03\n",
       "Proportion of Variance 5.000e-05 5.000e-05 5.000e-05 5.000e-05 5.000e-05\n",
       "Cumulative Proportion  9.974e-01 9.974e-01 9.975e-01 9.975e-01 9.976e-01\n",
       "                           PC156     PC157     PC158     PC159     PC160\n",
       "Standard deviation     7.643e+03 7.577e+03 7.543e+03 7.457e+03 7.416e+03\n",
       "Proportion of Variance 5.000e-05 5.000e-05 5.000e-05 4.000e-05 4.000e-05\n",
       "Cumulative Proportion  9.976e-01 9.977e-01 9.977e-01 9.978e-01 9.978e-01\n",
       "                           PC161     PC162     PC163     PC164     PC165\n",
       "Standard deviation     7.341e+03 7.270e+03 7.206e+03 7.148e+03 7.084e+03\n",
       "Proportion of Variance 4.000e-05 4.000e-05 4.000e-05 4.000e-05 4.000e-05\n",
       "Cumulative Proportion  9.978e-01 9.979e-01 9.979e-01 9.980e-01 9.980e-01\n",
       "                           PC166     PC167     PC168     PC169     PC170\n",
       "Standard deviation     7.009e+03 6.918e+03 6.893e+03 6.873e+03 6.805e+03\n",
       "Proportion of Variance 4.000e-05 4.000e-05 4.000e-05 4.000e-05 4.000e-05\n",
       "Cumulative Proportion  9.980e-01 9.981e-01 9.981e-01 9.982e-01 9.982e-01\n",
       "                           PC171     PC172     PC173     PC174     PC175\n",
       "Standard deviation     6.743e+03 6.672e+03 6.651e+03 6.548e+03 6.452e+03\n",
       "Proportion of Variance 4.000e-05 4.000e-05 4.000e-05 3.000e-05 3.000e-05\n",
       "Cumulative Proportion  9.982e-01 9.983e-01 9.983e-01 9.983e-01 9.984e-01\n",
       "                           PC176     PC177     PC178     PC179     PC180\n",
       "Standard deviation     6.401e+03 6.366e+03 6.312e+03 6.262e+03 6.186e+03\n",
       "Proportion of Variance 3.000e-05 3.000e-05 3.000e-05 3.000e-05 3.000e-05\n",
       "Cumulative Proportion  9.984e-01 9.984e-01 9.985e-01 9.985e-01 9.985e-01\n",
       "                           PC181     PC182     PC183     PC184     PC185\n",
       "Standard deviation     6.176e+03 6.060e+03 6.054e+03 6.018e+03 5.952e+03\n",
       "Proportion of Variance 3.000e-05 3.000e-05 3.000e-05 3.000e-05 3.000e-05\n",
       "Cumulative Proportion  9.986e-01 9.986e-01 9.986e-01 9.987e-01 9.987e-01\n",
       "                           PC186     PC187     PC188     PC189     PC190\n",
       "Standard deviation     5.894e+03 5.791e+03 5.762e+03 5.725e+03 5.656e+03\n",
       "Proportion of Variance 3.000e-05 3.000e-05 3.000e-05 3.000e-05 3.000e-05\n",
       "Cumulative Proportion  9.987e-01 9.987e-01 9.988e-01 9.988e-01 9.988e-01\n",
       "                           PC191     PC192     PC193     PC194     PC195\n",
       "Standard deviation     5.606e+03 5.589e+03 5.567e+03 5.528e+03 5.498e+03\n",
       "Proportion of Variance 3.000e-05 2.000e-05 2.000e-05 2.000e-05 2.000e-05\n",
       "Cumulative Proportion  9.988e-01 9.989e-01 9.989e-01 9.989e-01 9.989e-01\n",
       "                           PC196     PC197     PC198     PC199     PC200\n",
       "Standard deviation     5.411e+03 5.379e+03 5.345e+03 5.317e+03 5.294e+03\n",
       "Proportion of Variance 2.000e-05 2.000e-05 2.000e-05 2.000e-05 2.000e-05\n",
       "Cumulative Proportion  9.990e-01 9.990e-01 9.990e-01 9.990e-01 9.990e-01\n",
       "                           PC201     PC202     PC203     PC204     PC205\n",
       "Standard deviation     5.226e+03 5.205e+03 5.173e+03 5.100e+03 5.040e+03\n",
       "Proportion of Variance 2.000e-05 2.000e-05 2.000e-05 2.000e-05 2.000e-05\n",
       "Cumulative Proportion  9.991e-01 9.991e-01 9.991e-01 9.991e-01 9.991e-01\n",
       "                           PC206     PC207     PC208     PC209     PC210\n",
       "Standard deviation     4.979e+03 4.925e+03 4.921e+03 4.824e+03 4.807e+03\n",
       "Proportion of Variance 2.000e-05 2.000e-05 2.000e-05 2.000e-05 2.000e-05\n",
       "Cumulative Proportion  9.992e-01 9.992e-01 9.992e-01 9.992e-01 9.992e-01\n",
       "                           PC211     PC212     PC213     PC214     PC215\n",
       "Standard deviation     4.775e+03 4.758e+03 4.748e+03 4.713e+03 4.636e+03\n",
       "Proportion of Variance 2.000e-05 2.000e-05 2.000e-05 2.000e-05 2.000e-05\n",
       "Cumulative Proportion  9.993e-01 9.993e-01 9.993e-01 9.993e-01 9.993e-01\n",
       "                           PC216     PC217     PC218     PC219     PC220\n",
       "Standard deviation     4.600e+03 4.567e+03 4.542e+03 4.508e+03 4.497e+03\n",
       "Proportion of Variance 2.000e-05 2.000e-05 2.000e-05 2.000e-05 2.000e-05\n",
       "Cumulative Proportion  9.993e-01 9.994e-01 9.994e-01 9.994e-01 9.994e-01\n",
       "                           PC221     PC222     PC223     PC224     PC225\n",
       "Standard deviation     4.425e+03 4.381e+03 4.336e+03 4.313e+03 4.281e+03\n",
       "Proportion of Variance 2.000e-05 2.000e-05 2.000e-05 1.000e-05 1.000e-05\n",
       "Cumulative Proportion  9.994e-01 9.994e-01 9.995e-01 9.995e-01 9.995e-01\n",
       "                           PC226     PC227     PC228     PC229     PC230\n",
       "Standard deviation     4.228e+03 4.209e+03 4.186e+03 4.156e+03 4.126e+03\n",
       "Proportion of Variance 1.000e-05 1.000e-05 1.000e-05 1.000e-05 1.000e-05\n",
       "Cumulative Proportion  9.995e-01 9.995e-01 9.995e-01 9.996e-01 9.996e-01\n",
       "                           PC231     PC232     PC233     PC234     PC235\n",
       "Standard deviation     4.096e+03 4.090e+03 4.058e+03 3.984e+03 3.967e+03\n",
       "Proportion of Variance 1.000e-05 1.000e-05 1.000e-05 1.000e-05 1.000e-05\n",
       "Cumulative Proportion  9.996e-01 9.996e-01 9.996e-01 9.996e-01 9.996e-01\n",
       "                           PC236     PC237     PC238     PC239     PC240\n",
       "Standard deviation     3.962e+03 3.931e+03 3.901e+03 3.895e+03 3.817e+03\n",
       "Proportion of Variance 1.000e-05 1.000e-05 1.000e-05 1.000e-05 1.000e-05\n",
       "Cumulative Proportion  9.996e-01 9.997e-01 9.997e-01 9.997e-01 9.997e-01\n",
       "                           PC241     PC242     PC243     PC244     PC245\n",
       "Standard deviation     3.807e+03 3.782e+03 3.754e+03 3.718e+03 3.702e+03\n",
       "Proportion of Variance 1.000e-05 1.000e-05 1.000e-05 1.000e-05 1.000e-05\n",
       "Cumulative Proportion  9.997e-01 9.997e-01 9.997e-01 9.997e-01 9.998e-01\n",
       "                           PC246     PC247     PC248     PC249     PC250\n",
       "Standard deviation     3.666e+03 3.632e+03 3.583e+03 3.534e+03 3.506e+03\n",
       "Proportion of Variance 1.000e-05 1.000e-05 1.000e-05 1.000e-05 1.000e-05\n",
       "Cumulative Proportion  9.998e-01 9.998e-01 9.998e-01 9.998e-01 9.998e-01\n",
       "                           PC251     PC252     PC253     PC254     PC255\n",
       "Standard deviation     3.486e+03 3.460e+03 3.406e+03 3.384e+03 3.343e+03\n",
       "Proportion of Variance 1.000e-05 1.000e-05 1.000e-05 1.000e-05 1.000e-05\n",
       "Cumulative Proportion  9.998e-01 9.998e-01 9.998e-01 9.998e-01 9.998e-01\n",
       "                           PC256     PC257     PC258     PC259     PC260\n",
       "Standard deviation     3.321e+03 3.273e+03 3.242e+03 3.237e+03 3.184e+03\n",
       "Proportion of Variance 1.000e-05 1.000e-05 1.000e-05 1.000e-05 1.000e-05\n",
       "Cumulative Proportion  9.999e-01 9.999e-01 9.999e-01 9.999e-01 9.999e-01\n",
       "                           PC261     PC262     PC263     PC264     PC265\n",
       "Standard deviation     3.174e+03 3.138e+03 3.075e+03 3.061e+03 3.023e+03\n",
       "Proportion of Variance 1.000e-05 1.000e-05 1.000e-05 1.000e-05 1.000e-05\n",
       "Cumulative Proportion  9.999e-01 9.999e-01 9.999e-01 9.999e-01 9.999e-01\n",
       "                           PC266     PC267     PC268     PC269     PC270\n",
       "Standard deviation     3.010e+03 2.946e+03 2.895e+03 2.887e+03 2.866e+03\n",
       "Proportion of Variance 1.000e-05 1.000e-05 1.000e-05 1.000e-05 1.000e-05\n",
       "Cumulative Proportion  9.999e-01 9.999e-01 1.000e+00 1.000e+00 1.000e+00\n",
       "                           PC271     PC272     PC273    PC274     PC275\n",
       "Standard deviation     2.834e+03 2.823e+03 2.746e+03 2.71e+03 2.644e+03\n",
       "Proportion of Variance 1.000e-05 1.000e-05 1.000e-05 1.00e-05 1.000e-05\n",
       "Cumulative Proportion  1.000e+00 1.000e+00 1.000e+00 1.00e+00 1.000e+00\n",
       "                           PC276    PC277     PC278\n",
       "Standard deviation     2.625e+03 2.55e+03 1.169e-08\n",
       "Proportion of Variance 1.000e-05 1.00e-05 0.000e+00\n",
       "Cumulative Proportion  1.000e+00 1.00e+00 1.000e+00"
      ]
     },
     "metadata": {},
     "output_type": "display_data"
    }
   ],
   "source": [
    "summary(pr)"
   ]
  },
  {
   "cell_type": "code",
   "execution_count": 11,
   "id": "9478a974-5ec8-472b-8a9d-bfe3f4b7c108",
   "metadata": {},
   "outputs": [
    {
     "data": {
      "image/png": "[encoded data removed]",
      "text/plain": [
       "Plot with title “pr”"
      ]
     },
     "metadata": {
      "image/png": {
       "height": 480,
       "width": 480
      }
     },
     "output_type": "display_data"
    }
   ],
   "source": [
    "plot(pr)"
   ]
  },
  {
   "cell_type": "code",
   "execution_count": 14,
   "id": "e5a9efeb-eca2-4017-b7de-8ebb306bae7f",
   "metadata": {
    "scrolled": true
   },
   "outputs": [
    {
     "name": "stderr",
     "output_type": "stream",
     "text": [
      "Bioconductor version '3.18' is out-of-date; the current release version '3.19'\n",
      "  is available with R version '4.4'; see https://bioconductor.org/install\n",
      "\n",
      "'getOption(\"repos\")' replaces Bioconductor standard repositories, see\n",
      "'help(\"repositories\", package = \"BiocManager\")' for details.\n",
      "Replacement repositories:\n",
      "    CRAN: https://cran.r-project.org\n",
      "\n",
      "Bioconductor version 3.18 (BiocManager 1.30.22), R 4.3.1 (2023-06-16)\n",
      "\n",
      "Installing package(s) 'DESeq2'\n",
      "\n"
     ]
    },
    {
     "name": "stdout",
     "output_type": "stream",
     "text": [
      "\n",
      "Les packages binaires téléchargés sont dans\n",
      "\t/var/folders/df/d1fmsmr16731rc5wzhnmrp6c0000gn/T//Rtmp9zount/downloaded_packages\n"
     ]
    },
    {
     "name": "stderr",
     "output_type": "stream",
     "text": [
      "Old packages: 'BH', 'BiocFileCache', 'BiocManager', 'biomaRt', 'Biostrings',\n",
      "  'boot', 'brew', 'brio', 'broom', 'broom.helpers', 'BSgenome', 'bslib',\n",
      "  'cachem', 'callr', 'codetools', 'commonmark', 'curl', 'data.table', 'DBI',\n",
      "  'dbplyr', 'deldir', 'digest', 'edgeR', 'farver', 'fastmap', 'forecast', 'fs',\n",
      "  'GenomeInfoDb', 'GenomicAlignments', 'GenomicFeatures', 'ggplot2', 'ggstats',\n",
      "  'gh', 'glue', 'gtable', 'htmltools', 'httpuv', 'httr2', 'interp',\n",
      "  'KernSmooth', 'knitr', 'labelled', 'lattice', 'lda', 'locfit', 'matrixStats',\n",
      "  'mboost', 'mgcv', 'munsell', 'openssl', 'pbdZMQ', 'pixmap', 'pkgbuild',\n",
      "  'pkgdown', 'pkgload', 'processx', 'promises', 'ps', 'R.oo', 'ragg', 'Rcpp',\n",
      "  'RcppArmadillo', 'RcppEigen', 'RCurl', 'readr', 'remotes', 'repr', 'Rhtslib',\n",
      "  'rlang', 'rmarkdown', 'roxygen2', 'RSQLite', 'rstudioapi', 'Rsubread',\n",
      "  'rvest', 'S4Arrays', 'sass', 'segmented', 'shiny', 'sm', 'sp', 'SparseArray',\n",
      "  'stringi', 'survival', 'systemfonts', 'testthat', 'tidyr', 'tidyselect',\n",
      "  'tinytex', 'tseries', 'usethis', 'uuid', 'vegan', 'withr', 'xfun', 'XML',\n",
      "  'xopen', 'zip', 'zlibbioc'\n",
      "\n"
     ]
    }
   ],
   "source": [
    "if (!require(\"BiocManager\", quietly = TRUE))\n",
    "    install.packages(\"BiocManager\")\n",
    "\n",
    "BiocManager::install(\"DESeq2\")"
   ]
  },
  {
   "cell_type": "code",
   "execution_count": 16,
   "id": "c5e58b47-0160-4840-8478-8c9fde98f168",
   "metadata": {
    "scrolled": true
   },
   "outputs": [
    {
     "name": "stderr",
     "output_type": "stream",
     "text": [
      "Warning message:\n",
      "“le package ‘DESeq2’ a été compilé avec la version R 4.3.3”\n",
      "Le chargement a nécessité le package : S4Vectors\n",
      "\n",
      "Warning message:\n",
      "“le package ‘S4Vectors’ a été compilé avec la version R 4.3.2”\n",
      "Le chargement a nécessité le package : stats4\n",
      "\n",
      "Le chargement a nécessité le package : BiocGenerics\n",
      "\n",
      "\n",
      "Attachement du package : ‘BiocGenerics’\n",
      "\n",
      "\n",
      "Les objets suivants sont masqués depuis ‘package:stats’:\n",
      "\n",
      "    IQR, mad, sd, var, xtabs\n",
      "\n",
      "\n",
      "Les objets suivants sont masqués depuis ‘package:base’:\n",
      "\n",
      "    anyDuplicated, aperm, append, as.data.frame, basename, cbind,\n",
      "    colnames, dirname, do.call, duplicated, eval, evalq, Filter, Find,\n",
      "    get, grep, grepl, intersect, is.unsorted, lapply, Map, mapply,\n",
      "    match, mget, order, paste, pmax, pmax.int, pmin, pmin.int,\n",
      "    Position, rank, rbind, Reduce, rownames, sapply, setdiff, sort,\n",
      "    table, tapply, union, unique, unsplit, which.max, which.min\n",
      "\n",
      "\n",
      "\n",
      "Attachement du package : ‘S4Vectors’\n",
      "\n",
      "\n",
      "L'objet suivant est masqué depuis ‘package:utils’:\n",
      "\n",
      "    findMatches\n",
      "\n",
      "\n",
      "Les objets suivants sont masqués depuis ‘package:base’:\n",
      "\n",
      "    expand.grid, I, unname\n",
      "\n",
      "\n",
      "Le chargement a nécessité le package : IRanges\n",
      "\n",
      "Le chargement a nécessité le package : GenomicRanges\n",
      "\n",
      "Le chargement a nécessité le package : GenomeInfoDb\n",
      "\n",
      "Warning message:\n",
      "“le package ‘GenomeInfoDb’ a été compilé avec la version R 4.3.2”\n",
      "Le chargement a nécessité le package : SummarizedExperiment\n",
      "\n",
      "Le chargement a nécessité le package : MatrixGenerics\n",
      "\n",
      "Le chargement a nécessité le package : matrixStats\n",
      "\n",
      "\n",
      "Attachement du package : ‘MatrixGenerics’\n",
      "\n",
      "\n",
      "Les objets suivants sont masqués depuis ‘package:matrixStats’:\n",
      "\n",
      "    colAlls, colAnyNAs, colAnys, colAvgsPerRowSet, colCollapse,\n",
      "    colCounts, colCummaxs, colCummins, colCumprods, colCumsums,\n",
      "    colDiffs, colIQRDiffs, colIQRs, colLogSumExps, colMadDiffs,\n",
      "    colMads, colMaxs, colMeans2, colMedians, colMins, colOrderStats,\n",
      "    colProds, colQuantiles, colRanges, colRanks, colSdDiffs, colSds,\n",
      "    colSums2, colTabulates, colVarDiffs, colVars, colWeightedMads,\n",
      "    colWeightedMeans, colWeightedMedians, colWeightedSds,\n",
      "    colWeightedVars, rowAlls, rowAnyNAs, rowAnys, rowAvgsPerColSet,\n",
      "    rowCollapse, rowCounts, rowCummaxs, rowCummins, rowCumprods,\n",
      "    rowCumsums, rowDiffs, rowIQRDiffs, rowIQRs, rowLogSumExps,\n",
      "    rowMadDiffs, rowMads, rowMaxs, rowMeans2, rowMedians, rowMins,\n",
      "    rowOrderStats, rowProds, rowQuantiles, rowRanges, rowRanks,\n",
      "    rowSdDiffs, rowSds, rowSums2, rowTabulates, rowVarDiffs, rowVars,\n",
      "    rowWeightedMads, rowWeightedMeans, rowWeightedMedians,\n",
      "    rowWeightedSds, rowWeightedVars\n",
      "\n",
      "\n",
      "Le chargement a nécessité le package : Biobase\n",
      "\n",
      "Welcome to Bioconductor\n",
      "\n",
      "    Vignettes contain introductory material; view with\n",
      "    'browseVignettes()'. To cite Bioconductor, see\n",
      "    'citation(\"Biobase\")', and for packages 'citation(\"pkgname\")'.\n",
      "\n",
      "\n",
      "\n",
      "Attachement du package : ‘Biobase’\n",
      "\n",
      "\n",
      "L'objet suivant est masqué depuis ‘package:MatrixGenerics’:\n",
      "\n",
      "    rowMedians\n",
      "\n",
      "\n",
      "Les objets suivants sont masqués depuis ‘package:matrixStats’:\n",
      "\n",
      "    anyMissing, rowMedians\n",
      "\n",
      "\n"
     ]
    }
   ],
   "source": [
    "library(DESeq2)"
   ]
  },
  {
   "cell_type": "code",
   "execution_count": 222,
   "id": "54be1704",
   "metadata": {},
   "outputs": [
    {
     "name": "stdout",
     "output_type": "stream",
     "text": [
      "\n",
      "Les packages binaires téléchargés sont dans\n",
      "\t/var/folders/df/d1fmsmr16731rc5wzhnmrp6c0000gn/T//Rtmp9zount/downloaded_packages\n"
     ]
    }
   ],
   "source": [
    "install.packages(\"pheatmap\")\n",
    "library(pheatmap)\n",
    "pheatmap(RNA_read_counts, scale = 'row', show_rownames = FALSE)"
   ]
  },
  {
   "cell_type": "markdown",
   "id": "a8ebff88-e36d-4fe0-adbc-cce97041dd43",
   "metadata": {},
   "source": [
    "## The theory behind DESeq2"
   ]
  },
  {
   "cell_type": "markdown",
   "id": "6e6d8932-9f48-42cd-ae5a-e77be1e421ad",
   "metadata": {},
   "source": []
  }
 ],
 "metadata": {
  "kernelspec": {
   "display_name": "R",
   "language": "R",
   "name": "ir"
  },
  "language_info": {
   "codemirror_mode": "r",
   "file_extension": ".r",
   "mimetype": "text/x-r-source",
   "name": "R",
   "pygments_lexer": "r",
   "version": "4.3.3"
  }
 },
 "nbformat": 4,
 "nbformat_minor": 5
}
